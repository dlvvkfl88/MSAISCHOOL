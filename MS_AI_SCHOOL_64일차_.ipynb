{
  "nbformat": 4,
  "nbformat_minor": 0,
  "metadata": {
    "colab": {
      "provenance": [],
      "authorship_tag": "ABX9TyOBofykzoaNvrLAnLM1NFB0",
      "include_colab_link": true
    },
    "kernelspec": {
      "name": "python3",
      "display_name": "Python 3"
    },
    "language_info": {
      "name": "python"
    }
  },
  "cells": [
    {
      "cell_type": "markdown",
      "metadata": {
        "id": "view-in-github",
        "colab_type": "text"
      },
      "source": [
        "<a href=\"https://colab.research.google.com/github/dlvvkfl88/MSAISCHOOL/blob/main/MS_AI_SCHOOL_64%EC%9D%BC%EC%B0%A8_.ipynb\" target=\"_parent\"><img src=\"https://colab.research.google.com/assets/colab-badge.svg\" alt=\"Open In Colab\"/></a>"
      ]
    },
    {
      "cell_type": "markdown",
      "source": [
        "## 딥러닝 학습법  부적합 , 과적합"
      ],
      "metadata": {
        "id": "Gix0D3WinZqD"
      }
    },
    {
      "cell_type": "markdown",
      "source": [
        "## 드롭아웃 - 노드 갯수를 무작위로 어느정도 없애 학습 시간을 빠르게 함"
      ],
      "metadata": {
        "id": "k5Rs_RE5Uo-F"
      }
    },
    {
      "cell_type": "code",
      "source": [
        "import torch\n",
        "import torch.nn as nn\n",
        "import torch.optim as optim\n",
        "import torchvision.datasets as datasets\n",
        "import torchvision.transforms as transforms"
      ],
      "metadata": {
        "id": "CxfuQMVwnZaH"
      },
      "execution_count": 21,
      "outputs": []
    },
    {
      "cell_type": "markdown",
      "source": [
        "# 드롭아웃 적용한 신경망 모델 정의"
      ],
      "metadata": {
        "id": "vaFli6GIVA7O"
      }
    },
    {
      "cell_type": "code",
      "source": [
        "class DropoutNet(nn.Module) :\n",
        "    def __init__(self) :\n",
        "        super(DropoutNet, self).__init__()\n",
        "        ### 사용할 데이터 크기가 28x28 -> 784 1차원\n",
        "        self.fc1 = nn.Linear(784, 500)\n",
        "        self.dropout = nn.Dropout(p=0.5) # p=0.5 50%\n",
        "        self.fc2 = nn.Linear(500, 10)\n",
        "\n",
        "    def forward(self, x) :\n",
        "        x = x.view(x.size(0), -1) # 입력 데이터 크기 조절 -> 1차원 으로 펼침\n",
        "        x = torch.relu(self.fc1(x)) # self.fc1(x) -> relu 적용\n",
        "        x = self.dropout(x)\n",
        "        x = self.fc2(x)\n",
        "\n",
        "        return x"
      ],
      "metadata": {
        "id": "mQlyBOWknZYF"
      },
      "execution_count": 22,
      "outputs": []
    },
    {
      "cell_type": "markdown",
      "source": [
        "## 드롭아웃 적용x 신경망 모델 정의"
      ],
      "metadata": {
        "id": "uCJNEpNJVaHi"
      }
    },
    {
      "cell_type": "code",
      "source": [
        "class NonDropoutNet(nn.Module) :\n",
        "    def __init__(self) :\n",
        "        super(NonDropoutNet, self).__init__()\n",
        "        self.fc1 = nn.Linear(784, 500)\n",
        "        self.fc2 = nn.Linear(500, 10)\n",
        "\n",
        "    def forward(self, x) :\n",
        "        x = x.view(x.size(0), -1) # 입력 데이터 크기 조절 -> 1차원 으로 펼침\n",
        "        x = torch.relu(self.fc1(x)) # self.fc1(x) -> relu 적용\n",
        "        x = self.fc2(x)\n",
        "\n",
        "        return x"
      ],
      "metadata": {
        "id": "H1vLtIcQnZV9"
      },
      "execution_count": 23,
      "outputs": []
    },
    {
      "cell_type": "markdown",
      "source": [
        "## MNIST 데이터셋 로드 및 전처리"
      ],
      "metadata": {
        "id": "NXqYLiHKYOr2"
      }
    },
    {
      "cell_type": "code",
      "source": [
        "train_transform = transforms.Compose([\n",
        "#     transforms.AutoAugment(),\n",
        "    transforms.ToTensor(),\n",
        "    ### transforms.Normalize((0.485, 0.456, 0.406), (0.229, 0.224, 0.225))\n",
        "    transforms.Normalize((0.5,),(0.3,))\n",
        "])\n",
        "\n",
        "test_transform = transforms.Compose([\n",
        "    transforms.ToTensor(),\n",
        "    transforms.Normalize((0.5,),(0.3,))\n",
        "])\n",
        "\n",
        "train_dataset = datasets.MNIST(root='./data', train=True, download=True, transform=train_transform)\n",
        "test_dataset = datasets.MNIST(root=\"./data\", train=False, download=True, transform=test_transform)\n",
        "\n",
        "train_loader = torch.utils.data.DataLoader(train_dataset, batch_size=64, shuffle=True)\n",
        "test_loader = torch.utils.data.DataLoader(test_dataset, batch_size=64, shuffle=False)"
      ],
      "metadata": {
        "id": "i-wsux-pnZTx"
      },
      "execution_count": 24,
      "outputs": []
    },
    {
      "cell_type": "code",
      "source": [
        "train_loader = torch.utils.data.DataLoader(train_dataset, batch_size=64, shuffle=True)\n",
        "test_loader = torch.utils.data.DataLoader(test_dataset, batch_size=64, shuffle=False)"
      ],
      "metadata": {
        "id": "9ndMVQzCZeRV"
      },
      "execution_count": 25,
      "outputs": []
    },
    {
      "cell_type": "markdown",
      "source": [
        "# 드롭아웃 적용모델 초기화, loss 옵티마이저 정의"
      ],
      "metadata": {
        "id": "Y1_3rQ3ZZaU2"
      }
    },
    {
      "cell_type": "code",
      "source": [
        "# 드롭아웃 적용 모델 초기화\n",
        "dropout_model = DropoutNet()\n",
        "print(dropout_model)\n",
        "\n",
        "# loss 함수, 옵티마이저 설정\n",
        "dropout_criterion = nn.CrossEntropyLoss()\n",
        "dropout_optimizer = optim.SGD(dropout_model.parameters(), lr=0.001)"
      ],
      "metadata": {
        "colab": {
          "base_uri": "https://localhost:8080/"
        },
        "id": "xovApSuKnZRw",
        "outputId": "a73b0f06-97b6-4530-c7d4-2e14c02fd52e"
      },
      "execution_count": 26,
      "outputs": [
        {
          "output_type": "stream",
          "name": "stdout",
          "text": [
            "DropoutNet(\n",
            "  (fc1): Linear(in_features=784, out_features=500, bias=True)\n",
            "  (dropout): Dropout(p=0.5, inplace=False)\n",
            "  (fc2): Linear(in_features=500, out_features=10, bias=True)\n",
            ")\n"
          ]
        }
      ]
    },
    {
      "cell_type": "markdown",
      "source": [
        "# 드롭아웃 적용모델 학습, 평가 정의"
      ],
      "metadata": {
        "id": "a7nlmPf8aJN2"
      }
    },
    {
      "cell_type": "code",
      "source": [
        "# 드롭아웃 적용 모델 학습 코드\n",
        "for epoch in range(10) :\n",
        "    dropout_model.train() #### -> train 모드 선언\n",
        "    for images, labels in train_loader :\n",
        "        dropout_optimizer.zero_grad()\n",
        "        dropout_output = dropout_model(images)\n",
        "        dropout_loss = dropout_criterion(dropout_output, labels)\n",
        "        dropout_loss.backward()\n",
        "        dropout_optimizer.step()\n",
        "\n",
        "# 드롭아웃 적용 모델 평가 코드\n",
        "dropout_model.eval()\n",
        "with torch.no_grad() :\n",
        "    dropout_correct = 0\n",
        "    dropout_total = 0\n",
        "\n",
        "    for images, labels in test_loader :\n",
        "        test_out = dropout_model(images)\n",
        "        _, dropout_pre = torch.max(test_out.data, 1)\n",
        "        dropout_total += images.size(0)\n",
        "        dropout_correct += (dropout_pre == labels).sum().item()\n",
        "\n",
        "    print(\"드롭아웃 적용 모델 정확도 >> {:.2f}%\".format(100 * dropout_correct / dropout_total))"
      ],
      "metadata": {
        "colab": {
          "base_uri": "https://localhost:8080/"
        },
        "id": "UgAcX_aInZPp",
        "outputId": "e906e9d4-426d-4f22-b084-306624d4f8dc"
      },
      "execution_count": 27,
      "outputs": [
        {
          "output_type": "stream",
          "name": "stdout",
          "text": [
            "드롭아웃 적용 모델 정확도 >> 91.07%\n"
          ]
        }
      ]
    },
    {
      "cell_type": "markdown",
      "source": [
        "## 드롭아웃 비적용"
      ],
      "metadata": {
        "id": "8PcX3U4jcoXP"
      }
    },
    {
      "cell_type": "code",
      "source": [
        "# 모델 호출\n",
        "non_dropout_model = NonDropoutNet()\n",
        "\n",
        "# 옵티마이저 loss function 정의\n",
        "non_dropout_criterion = nn.CrossEntropyLoss()\n",
        "non_dropout_optimizer = optim.SGD(non_dropout_model.parameters(), lr=0.001)\n",
        "\n",
        "# 드롭아웃 적용되지 않은 모델 학습\n",
        "# 시작 시간 구하시고\n",
        "for epoch in range(10) :\n",
        "    non_dropout_model.train()\n",
        "    for images, labels in train_loader :\n",
        "        non_dropout_optimizer.zero_grad()\n",
        "        no_output = non_dropout_model(images)\n",
        "        no_losss = non_dropout_criterion(no_output, labels)\n",
        "        no_losss.backward()\n",
        "        non_dropout_optimizer.step()\n",
        "\n",
        "# 현재시간 - 시작 시간\n",
        "# 드롭아웃 적용하지 않은 모델 평가\n",
        "non_dropout_model.eval()\n",
        "with torch.no_grad()  :\n",
        "    no_correct = 0\n",
        "    no_total = 0\n",
        "\n",
        "    for images, labels in test_loader :\n",
        "        ouput = non_dropout_model(images)\n",
        "        _, pred = torch.max(ouput.data, 1)\n",
        "        no_total += labels.size(0)\n",
        "        no_correct += (pred == labels).sum().item()\n",
        "\n",
        "    print(\"드롭아웃 적용하지 않은 모델 정확도 >> {:.2f}%\".format(100 * no_correct / no_total))"
      ],
      "metadata": {
        "colab": {
          "base_uri": "https://localhost:8080/"
        },
        "id": "MGfX93BcnZNz",
        "outputId": "89c57f19-8091-4bda-85db-b11313f361f5"
      },
      "execution_count": 28,
      "outputs": [
        {
          "output_type": "stream",
          "name": "stdout",
          "text": [
            "드롭아웃 적용하지 않은 모델 정확도 >> 91.11%\n"
          ]
        }
      ]
    },
    {
      "cell_type": "markdown",
      "source": [
        "## 라벨 스무딩 - 오버피팅 해결방법 중 하나\n"
      ],
      "metadata": {
        "id": "BIpK-h54c3F8"
      }
    },
    {
      "cell_type": "code",
      "source": [
        "import torch\n",
        "import torch.nn as nn\n",
        "import torch.optim as optim\n",
        "import torchvision\n",
        "import matplotlib.pyplot as plt\n",
        "\n",
        "from torchvision.transforms import ToTensor"
      ],
      "metadata": {
        "id": "VoNw54KAnZLm"
      },
      "execution_count": 30,
      "outputs": []
    },
    {
      "cell_type": "markdown",
      "source": [
        "### 사용자 정의 손실함수 (라벨 스무딩 적용 크로스 엔트로피)"
      ],
      "metadata": {
        "id": "TZpPrV7UgN7U"
      }
    },
    {
      "cell_type": "code",
      "source": [
        "class LabelSmothingLoss(nn.Module) : ### 사용자 정의 손실 함수\n",
        "    def __init__(self, num_classes, smothing=0.0) :\n",
        "        super(LabelSmothingLoss, self).__init__()\n",
        "        self.num_classes = num_classes  #### -> 분류 문제 : 클래스 개수\n",
        "        self.smothing = smothing        #### -> 라벨 적용되는 스무딩 정도 제어 값 -> 기본 0.0 스무딩 적용 x\n",
        "        self.confidence = 1.0 - smothing  #### -> smothing 보정값 (정답에 대한 신뢰도 점수)\n",
        "\n",
        "    def forward(self, pred, target) : # pred : 예측값 , target : 정답지\n",
        "        one_hot = torch.zeros_like(pred).scatter(1, target.unsqueeze(1),1) # 원-핫 인코딩 텐서 생성\n",
        "        smoth_label = one_hot * self.confidence + (1 - one_hot) * self.smothing / (self.num_classes - 1)\n",
        "        #### 원-핫 인코딩 텐서에서 라벨 스무딩을 적용 -> 신뢰도 점수\n",
        "        loss = torch.sum(-smoth_label * torch.log_softmax(pred, dim=1), dim=1)\n",
        "        #### 스무딩 처리된 라벨과 예측 확률간 교차 엔트로피 사용해서 loss 계산 -> log_softmax 확률 과 라벨스무딩 요소 곱을 통해 수행\n",
        "\n",
        "        return torch.mean(loss) # 평균 손실 구해 주고 반환"
      ],
      "metadata": {
        "id": "nJMY8Z_0nZJq"
      },
      "execution_count": 31,
      "outputs": []
    },
    {
      "cell_type": "markdown",
      "source": [
        "# Mix up training\n",
        "- Data Augmentation 기법의 일종이다\n",
        "두 데이터 라벨을 일정비율로 섞어 새로운 데이터 생성"
      ],
      "metadata": {
        "id": "QCBmlUUAjcYk"
      }
    },
    {
      "cell_type": "code",
      "source": [],
      "metadata": {
        "id": "7CoaKNycnZHV"
      },
      "execution_count": null,
      "outputs": []
    },
    {
      "cell_type": "code",
      "source": [],
      "metadata": {
        "id": "YAjqJyTvnZFV"
      },
      "execution_count": null,
      "outputs": []
    },
    {
      "cell_type": "code",
      "source": [],
      "metadata": {
        "id": "2ObNqpZdnZDP"
      },
      "execution_count": null,
      "outputs": []
    },
    {
      "cell_type": "code",
      "source": [],
      "metadata": {
        "id": "G9rhCLednZBW"
      },
      "execution_count": null,
      "outputs": []
    },
    {
      "cell_type": "code",
      "source": [],
      "metadata": {
        "id": "l-xJtVernY_b"
      },
      "execution_count": null,
      "outputs": []
    },
    {
      "cell_type": "code",
      "execution_count": null,
      "metadata": {
        "id": "atPRezOHnOd6"
      },
      "outputs": [],
      "source": []
    }
  ]
}