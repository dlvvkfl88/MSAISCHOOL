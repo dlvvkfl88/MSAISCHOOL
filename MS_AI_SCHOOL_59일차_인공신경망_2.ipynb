{
  "nbformat": 4,
  "nbformat_minor": 0,
  "metadata": {
    "colab": {
      "provenance": [],
      "authorship_tag": "ABX9TyOpnXO0AdnsU9crQRHYaNzN",
      "include_colab_link": true
    },
    "kernelspec": {
      "name": "python3",
      "display_name": "Python 3"
    },
    "language_info": {
      "name": "python"
    }
  },
  "cells": [
    {
      "cell_type": "markdown",
      "metadata": {
        "id": "view-in-github",
        "colab_type": "text"
      },
      "source": [
        "<a href=\"https://colab.research.google.com/github/dlvvkfl88/MSAISCHOOL/blob/main/MS_AI_SCHOOL_59%EC%9D%BC%EC%B0%A8_%EC%9D%B8%EA%B3%B5%EC%8B%A0%EA%B2%BD%EB%A7%9D_2.ipynb\" target=\"_parent\"><img src=\"https://colab.research.google.com/assets/colab-badge.svg\" alt=\"Open In Colab\"/></a>"
      ]
    },
    {
      "cell_type": "markdown",
      "source": [
        "## 인공신경망 - 경사 하강법을 이용한 선형 회귀모델 학습"
      ],
      "metadata": {
        "id": "nbVOVdypRil0"
      }
    },
    {
      "cell_type": "code",
      "execution_count": null,
      "metadata": {
        "id": "gBScK0fXG2z-"
      },
      "outputs": [],
      "source": [
        "import numpy as np\n",
        "import matplotlib.pyplot as plt"
      ]
    },
    {
      "cell_type": "markdown",
      "source": [
        "### 데이터 , 타겟 데이터 생성 ,y=2x + 1 관계를 따르는 데이터 생성"
      ],
      "metadata": {
        "id": "XRdQnqDURrOz"
      }
    },
    {
      "cell_type": "code",
      "source": [
        "x = np.array([1,2,3,4,5])\n",
        "y = np.array([3,5,7,8,11])\n",
        "\n"
      ],
      "metadata": {
        "id": "4O7as8yYG4sb"
      },
      "execution_count": null,
      "outputs": []
    },
    {
      "cell_type": "markdown",
      "source": [
        "### 모델 예측갑ㄳ과 실제값 사이 오차를 계산하는 함수를 정의"
      ],
      "metadata": {
        "id": "LcuE8mplR3WU"
      }
    },
    {
      "cell_type": "code",
      "source": [
        "def compute_error(w0, w1, x,y):\n",
        "  y_pred = w0 + w1 * x\n",
        "  error = y - y_pred\n",
        "\n",
        "  return error"
      ],
      "metadata": {
        "id": "TilRTexkG4uq"
      },
      "execution_count": null,
      "outputs": []
    },
    {
      "cell_type": "markdown",
      "source": [
        "### 경사 하강법을 수행하는 함수 정의"
      ],
      "metadata": {
        "id": "RLlXAsyaTOVC"
      }
    },
    {
      "cell_type": "code",
      "source": [
        "def gradient_descent(x,y, lr=0.05, iterations=1000):\n",
        "  n = len(x)\n",
        "  w0,w1 =0,0\n",
        "\n",
        "  for i in range(iterations):\n",
        "    error = compute_error(w0,w1,x,y)\n",
        "    w0 -= lr *(-2.0/n) * np.sum(error)\n",
        "    w1 -= lr *(-2.0/n) * np.sum(error*x)\n",
        "\n",
        "  return w0,w1"
      ],
      "metadata": {
        "id": "yfKtHDOoG4wk"
      },
      "execution_count": null,
      "outputs": []
    },
    {
      "cell_type": "markdown",
      "source": [
        "### 경사 하강법 이용한 선형 회귀 모델 구현"
      ],
      "metadata": {
        "id": "OMbqzVYLaP-L"
      }
    },
    {
      "cell_type": "code",
      "source": [
        "w0 ,w1 = gradient_descent(x,y)\n",
        "print(w0,w1)"
      ],
      "metadata": {
        "colab": {
          "base_uri": "https://localhost:8080/"
        },
        "id": "TIcCf17HG4yk",
        "outputId": "701cb9de-4cab-41f0-9fef-15af27cb810e"
      },
      "execution_count": null,
      "outputs": [
        {
          "output_type": "stream",
          "name": "stdout",
          "text": [
            "1.099999979002089 1.9000000058160846\n"
          ]
        }
      ]
    },
    {
      "cell_type": "code",
      "source": [
        "plt.scatter(x,y)\n",
        "plt.plot(x, w0+w1*x , color='red')\n",
        "plt.show()"
      ],
      "metadata": {
        "colab": {
          "base_uri": "https://localhost:8080/",
          "height": 430
        },
        "id": "xtxTTPyhG40j",
        "outputId": "a14498e8-0015-4adb-9bb6-92d98be2df8e"
      },
      "execution_count": null,
      "outputs": [
        {
          "output_type": "display_data",
          "data": {
            "text/plain": [
              "<Figure size 640x480 with 1 Axes>"
            ],
            "image/png": "[encoded data removed]"
          },
          "metadata": {}
        }
      ]
    },
    {
      "cell_type": "markdown",
      "source": [
        "# 다중 선형 - 실습 : 경사 하강법을 이용한 다중 선형회귀"
      ],
      "metadata": {
        "id": "tlgv8C6pbH_T"
      }
    },
    {
      "cell_type": "code",
      "source": [
        "import numpy as np"
      ],
      "metadata": {
        "id": "IkRpqeQ_G42k"
      },
      "execution_count": null,
      "outputs": []
    },
    {
      "cell_type": "markdown",
      "source": [
        "## 데이터 생성"
      ],
      "metadata": {
        "id": "k4jnFakabMcz"
      }
    },
    {
      "cell_type": "code",
      "source": [
        "x1 = np.array([1,2,3,4,5])\n",
        "x2 = np.array([0,1,0,1,0])\n",
        "\n",
        "y = np.array([3,5,7,9,11])\n"
      ],
      "metadata": {
        "id": "l3jEA07PG44i"
      },
      "execution_count": null,
      "outputs": []
    },
    {
      "cell_type": "code",
      "source": [
        "def gradient_descent(x1,x2,y,lr,iterations):\n",
        "  # 초기값 생성\n",
        "  n = len(y)\n",
        "  beta_0 = 0\n",
        "  beta_1 = 0\n",
        "  beta_2 = 0\n",
        "\n",
        "  # 경사하강ㅂ접 수행\n",
        "  for i in range(iterations):\n",
        "    y_pred = beta_0 + beta_1*x1 + beta_2*x2\n",
        "    error = y_pred -y\n",
        "\n",
        "    # 업데이트\n",
        "    beta_0 -= lr * (1/n) *np.sum(error)\n",
        "    beta_1 -= lr * (1/n) *np.sum(error * x1)\n",
        "    beta_2 -= lr * (1/n) *np.sum(error * x2)\n",
        "\n",
        "  return beta_0 , beta_1 , beta_2"
      ],
      "metadata": {
        "id": "_smaaNuaG48e"
      },
      "execution_count": null,
      "outputs": []
    },
    {
      "cell_type": "code",
      "source": [
        "beta_0 , beta_1 , beta_2 = gradient_descent(x1,x2,y,0.01, 1000)\n",
        "\n",
        "print(\"beta_0 \", beta_0)\n",
        "print(\"beta_1 \", beta_1)\n",
        "print(\"beta_2 \", beta_2)"
      ],
      "metadata": {
        "colab": {
          "base_uri": "https://localhost:8080/"
        },
        "id": "tMgLvSTpG4-V",
        "outputId": "97037e1f-90a3-4c60-8ecd-9ad401dbb22d"
      },
      "execution_count": null,
      "outputs": [
        {
          "output_type": "stream",
          "name": "stdout",
          "text": [
            "beta_0  0.8907546215358821\n",
            "beta_1  2.0237699271134932\n",
            "beta_2  0.057888309859129156\n"
          ]
        }
      ]
    },
    {
      "cell_type": "code",
      "source": [
        "x1_new = 2\n",
        "x2_new = 1\n",
        "\n",
        "y_pred_temp  = beta_0 + beta_1*x1_new + beta_2*x2_new\n",
        "\n",
        "print(\"예측 y값\" , y_pred_temp)"
      ],
      "metadata": {
        "colab": {
          "base_uri": "https://localhost:8080/"
        },
        "id": "rZA9J0ZDG5Ae",
        "outputId": "aa57898a-0225-41f9-996c-f1728d00caca"
      },
      "execution_count": null,
      "outputs": [
        {
          "output_type": "stream",
          "name": "stdout",
          "text": [
            "예측 y값 4.996182785621997\n"
          ]
        }
      ]
    },
    {
      "cell_type": "markdown",
      "source": [
        "## 선형 회귀 모델 실제 활용 사례\n",
        "\n",
        "# 보스턴 주택 집값 데이터셋"
      ],
      "metadata": {
        "id": "t_wmrvRqpBXi"
      }
    },
    {
      "cell_type": "code",
      "source": [],
      "metadata": {
        "id": "gGnopOdvqYFL"
      },
      "execution_count": null,
      "outputs": []
    },
    {
      "cell_type": "code",
      "source": [
        "import pandas as pd\n",
        "import matplotlib.pyplot as plt\n",
        "import numpy as np"
      ],
      "metadata": {
        "id": "wJ_sJeZopBB8"
      },
      "execution_count": null,
      "outputs": []
    },
    {
      "cell_type": "code",
      "source": [
        "boston = pd.read_csv('/content/boston_house_prices.csv')\n",
        "print(boston)"
      ],
      "metadata": {
        "colab": {
          "base_uri": "https://localhost:8080/"
        },
        "id": "MMnrvVGVqmrn",
        "outputId": "14010e89-c51c-445b-fb0e-b7156909204e"
      },
      "execution_count": null,
      "outputs": [
        {
          "output_type": "stream",
          "name": "stdout",
          "text": [
            "         506  13 Unnamed: 2 Unnamed: 3 Unnamed: 4 Unnamed: 5 Unnamed: 6  \\\n",
            "0       CRIM  ZN      INDUS       CHAS        NOX         RM        AGE   \n",
            "1    0.00632  18       2.31          0      0.538      6.575       65.2   \n",
            "2    0.02731   0       7.07          0      0.469      6.421       78.9   \n",
            "3    0.02729   0       7.07          0      0.469      7.185       61.1   \n",
            "4    0.03237   0       2.18          0      0.458      6.998       45.8   \n",
            "..       ...  ..        ...        ...        ...        ...        ...   \n",
            "502  0.06263   0      11.93          0      0.573      6.593       69.1   \n",
            "503  0.04527   0      11.93          0      0.573       6.12       76.7   \n",
            "504  0.06076   0      11.93          0      0.573      6.976         91   \n",
            "505  0.10959   0      11.93          0      0.573      6.794       89.3   \n",
            "506  0.04741   0      11.93          0      0.573       6.03       80.8   \n",
            "\n",
            "    Unnamed: 7 Unnamed: 8 Unnamed: 9 Unnamed: 10 Unnamed: 11 Unnamed: 12  \\\n",
            "0          DIS        RAD        TAX     PTRATIO           B       LSTAT   \n",
            "1         4.09          1        296        15.3       396.9        4.98   \n",
            "2       4.9671          2        242        17.8       396.9        9.14   \n",
            "3       4.9671          2        242        17.8      392.83        4.03   \n",
            "4       6.0622          3        222        18.7      394.63        2.94   \n",
            "..         ...        ...        ...         ...         ...         ...   \n",
            "502     2.4786          1        273          21      391.99        9.67   \n",
            "503     2.2875          1        273          21       396.9        9.08   \n",
            "504     2.1675          1        273          21       396.9        5.64   \n",
            "505     2.3889          1        273          21      393.45        6.48   \n",
            "506      2.505          1        273          21       396.9        7.88   \n",
            "\n",
            "    Unnamed: 13  \n",
            "0          MEDV  \n",
            "1            24  \n",
            "2          21.6  \n",
            "3          34.7  \n",
            "4          33.4  \n",
            "..          ...  \n",
            "502        22.4  \n",
            "503        20.6  \n",
            "504        23.9  \n",
            "505          22  \n",
            "506        11.9  \n",
            "\n",
            "[507 rows x 14 columns]\n"
          ]
        }
      ]
    },
    {
      "cell_type": "code",
      "source": [
        "df = boston.rename(columns=boston.iloc[0]) # 첫번째 행을 컬럼으로 rename으로\n",
        "df = df.drop(df.index[0]) # 그후 컬럼과 중복되는 첫행 삭제\n",
        "print(df)"
      ],
      "metadata": {
        "colab": {
          "base_uri": "https://localhost:8080/"
        },
        "id": "5eLSg6tprjP6",
        "outputId": "1541f311-6a0e-4e64-a03d-5c5ab8b10690"
      },
      "execution_count": null,
      "outputs": [
        {
          "output_type": "stream",
          "name": "stdout",
          "text": [
            "        CRIM  ZN  INDUS CHAS    NOX     RM   AGE     DIS RAD  TAX PTRATIO  \\\n",
            "1    0.00632  18   2.31    0  0.538  6.575  65.2    4.09   1  296    15.3   \n",
            "2    0.02731   0   7.07    0  0.469  6.421  78.9  4.9671   2  242    17.8   \n",
            "3    0.02729   0   7.07    0  0.469  7.185  61.1  4.9671   2  242    17.8   \n",
            "4    0.03237   0   2.18    0  0.458  6.998  45.8  6.0622   3  222    18.7   \n",
            "5    0.06905   0   2.18    0  0.458  7.147  54.2  6.0622   3  222    18.7   \n",
            "..       ...  ..    ...  ...    ...    ...   ...     ...  ..  ...     ...   \n",
            "502  0.06263   0  11.93    0  0.573  6.593  69.1  2.4786   1  273      21   \n",
            "503  0.04527   0  11.93    0  0.573   6.12  76.7  2.2875   1  273      21   \n",
            "504  0.06076   0  11.93    0  0.573  6.976    91  2.1675   1  273      21   \n",
            "505  0.10959   0  11.93    0  0.573  6.794  89.3  2.3889   1  273      21   \n",
            "506  0.04741   0  11.93    0  0.573   6.03  80.8   2.505   1  273      21   \n",
            "\n",
            "          B LSTAT  MEDV  \n",
            "1     396.9  4.98    24  \n",
            "2     396.9  9.14  21.6  \n",
            "3    392.83  4.03  34.7  \n",
            "4    394.63  2.94  33.4  \n",
            "5     396.9  5.33  36.2  \n",
            "..      ...   ...   ...  \n",
            "502  391.99  9.67  22.4  \n",
            "503   396.9  9.08  20.6  \n",
            "504   396.9  5.64  23.9  \n",
            "505  393.45  6.48    22  \n",
            "506   396.9  7.88  11.9  \n",
            "\n",
            "[506 rows x 14 columns]\n"
          ]
        }
      ]
    },
    {
      "cell_type": "code",
      "source": [
        "df['target'] = df['MEDV']\n",
        "df = df.drop(['MEDV'],axis=1)"
      ],
      "metadata": {
        "id": "TJ2QPqEjqmpb"
      },
      "execution_count": null,
      "outputs": []
    },
    {
      "cell_type": "code",
      "source": [
        "df = df.astype('float') # 자료형 변환 되었는지 꼭확인\n",
        "df.info()"
      ],
      "metadata": {
        "colab": {
          "base_uri": "https://localhost:8080/"
        },
        "id": "MFDCCjcIwdLL",
        "outputId": "c228c91f-21b3-4300-9782-79b8ce24225a"
      },
      "execution_count": null,
      "outputs": [
        {
          "output_type": "stream",
          "name": "stdout",
          "text": [
            "<class 'pandas.core.frame.DataFrame'>\n",
            "RangeIndex: 506 entries, 1 to 506\n",
            "Data columns (total 14 columns):\n",
            " #   Column   Non-Null Count  Dtype  \n",
            "---  ------   --------------  -----  \n",
            " 0   CRIM     506 non-null    float64\n",
            " 1   ZN       506 non-null    float64\n",
            " 2   INDUS    506 non-null    float64\n",
            " 3   CHAS     506 non-null    float64\n",
            " 4   NOX      506 non-null    float64\n",
            " 5   RM       506 non-null    float64\n",
            " 6   AGE      506 non-null    float64\n",
            " 7   DIS      506 non-null    float64\n",
            " 8   RAD      506 non-null    float64\n",
            " 9   TAX      506 non-null    float64\n",
            " 10  PTRATIO  506 non-null    float64\n",
            " 11  B        506 non-null    float64\n",
            " 12  LSTAT    506 non-null    float64\n",
            " 13  target   506 non-null    float64\n",
            "dtypes: float64(14)\n",
            "memory usage: 55.5 KB\n"
          ]
        }
      ]
    },
    {
      "cell_type": "code",
      "source": [
        "# 주택 가격과 다른 변수들 간의 상관관계 시각화\n",
        "pd.plotting.scatter_matrix(df[['target','CRIM','RM','LSTAT']], figsize=(8,8), diagonal='hist')\n",
        "plt.show()\n"
      ],
      "metadata": {
        "colab": {
          "base_uri": "https://localhost:8080/",
          "height": 696
        },
        "id": "yhdSMWWJt8CU",
        "outputId": "00ed8520-28c6-471a-b527-7299b0807edb"
      },
      "execution_count": null,
      "outputs": [
        {
          "output_type": "display_data",
          "data": {
            "text/plain": [
              "<Figure size 800x800 with 16 Axes>"
            ],
            "image/png": "[encoded data removed]"
          },
          "metadata": {}
        }
      ]
    },
    {
      "cell_type": "code",
      "source": [
        "from sklearn.model_selection import train_test_split\n",
        "from sklearn.preprocessing import StandardScaler\n",
        "\n",
        "#  데이터 로드\n",
        "\n",
        "x = df.loc[:, [col for col in df.columns if col != \"target\"]] # target 제외 모든변수\n",
        "\n",
        "y = df['target']\n",
        "y = y.to_numpy()\n",
        "\n",
        "# 데이터 전처리\n",
        "scaler = StandardScaler()\n",
        "x =scaler.fit_transform(x)\n",
        "y = y.reshape(-1,1)\n",
        "\n",
        "# 데이터셋 분리\n",
        "x_train , x_test , y_train , y_test = train_test_split(x,y, test_size=0.2, random_state=1)\n",
        "\n",
        "#print(len(x_train), len(x_test) , len(y_train), len(y_test))\n",
        "#print(x_train , y_train)"
      ],
      "metadata": {
        "id": "bvoOjEuLqmnK"
      },
      "execution_count": null,
      "outputs": []
    },
    {
      "cell_type": "markdown",
      "source": [
        "# 선형회귀 모델 정의"
      ],
      "metadata": {
        "id": "nh2tOsIy0zVX"
      }
    },
    {
      "cell_type": "code",
      "source": [],
      "metadata": {
        "id": "rg23T8sd1ERr"
      },
      "execution_count": null,
      "outputs": []
    },
    {
      "cell_type": "code",
      "source": [
        "x_train.shape[1] # 입력변수 확인"
      ],
      "metadata": {
        "colab": {
          "base_uri": "https://localhost:8080/"
        },
        "id": "oBdRLzLB1A_8",
        "outputId": "25c9f8f0-5b45-4699-dbff-fc8bf2102d90"
      },
      "execution_count": null,
      "outputs": [
        {
          "output_type": "execute_result",
          "data": {
            "text/plain": [
              "13"
            ]
          },
          "metadata": {},
          "execution_count": 38
        }
      ]
    },
    {
      "cell_type": "code",
      "source": [
        "import torch\n",
        "class LinearRegression(torch.nn.Module):\n",
        "  def __init__(self):\n",
        "    super(LinearRegression,self).__init__()\n",
        "    self.linear = torch.nn.Linear(x_train.shape[1], 1 ) # 예측변수 13개 결과 아웃풋1개\n",
        "\n",
        "  def forward(self, x ):\n",
        "    out = self.linear(x)\n",
        "    return out"
      ],
      "metadata": {
        "id": "PzW7QAuJx_Vl"
      },
      "execution_count": null,
      "outputs": []
    },
    {
      "cell_type": "markdown",
      "source": [
        "## 모델학습"
      ],
      "metadata": {
        "id": "5UALbomn1puk"
      }
    },
    {
      "cell_type": "code",
      "source": [
        "model = LinearRegression()\n",
        "\n",
        "# loss 함수 지정\n",
        "criterion = torch.nn.MSELoss()\n",
        "\n",
        "# 옵티마이저 지정\n",
        "optimizer = torch.optim.SGD(model.parameters(), lr=0.00025)\n",
        "\n",
        "for epoch in range(10000):\n",
        "  inputs = torch.autograd.Variable(torch.from_numpy(x_train).float())\n",
        "  labels = torch.autograd.Variable(torch.from_numpy(y_train).float())\n",
        "\n",
        "  optimizer.zero_grad()\n",
        "  outputs = model(inputs)\n",
        "  loss= criterion(outputs, labels)\n",
        "  loss.backward()\n",
        "  optimizer.step()\n",
        "\n",
        "  if epoch % 100 == 0:\n",
        "    print(\"epoch {}, loss {}\".format(epoch, loss.item()))"
      ],
      "metadata": {
        "colab": {
          "base_uri": "https://localhost:8080/"
        },
        "id": "QwMEcMOZqmlO",
        "outputId": "27f91609-9382-44fa-fb38-fb97cd250af6"
      },
      "execution_count": null,
      "outputs": [
        {
          "output_type": "stream",
          "name": "stdout",
          "text": [
            "epoch 0, loss 602.8065185546875\n",
            "epoch 100, loss 533.205078125\n",
            "epoch 200, loss 477.00457763671875\n",
            "epoch 300, loss 429.7921447753906\n",
            "epoch 400, loss 389.0305480957031\n",
            "epoch 500, loss 353.20294189453125\n",
            "epoch 600, loss 321.35491943359375\n",
            "epoch 700, loss 292.8460693359375\n",
            "epoch 800, loss 267.2174987792969\n",
            "epoch 900, loss 244.11827087402344\n",
            "epoch 1000, loss 223.26560974121094\n",
            "epoch 1100, loss 204.4222869873047\n",
            "epoch 1200, loss 187.3842315673828\n",
            "epoch 1300, loss 171.97174072265625\n",
            "epoch 1400, loss 158.02584838867188\n",
            "epoch 1500, loss 145.40438842773438\n",
            "epoch 1600, loss 133.97950744628906\n",
            "epoch 1700, loss 123.63622283935547\n",
            "epoch 1800, loss 114.27084350585938\n",
            "epoch 1900, loss 105.78995513916016\n",
            "epoch 2000, loss 98.10909271240234\n",
            "epoch 2100, loss 91.15191650390625\n",
            "epoch 2200, loss 84.849609375\n",
            "epoch 2300, loss 79.13951873779297\n",
            "epoch 2400, loss 73.96552276611328\n",
            "epoch 2500, loss 69.27671813964844\n",
            "epoch 2600, loss 65.02696990966797\n",
            "epoch 2700, loss 61.1746826171875\n",
            "epoch 2800, loss 57.682186126708984\n",
            "epoch 2900, loss 54.5153923034668\n",
            "epoch 3000, loss 51.64353942871094\n",
            "epoch 3100, loss 49.0386962890625\n",
            "epoch 3200, loss 46.67567825317383\n",
            "epoch 3300, loss 44.53167724609375\n",
            "epoch 3400, loss 42.58604431152344\n",
            "epoch 3500, loss 40.820091247558594\n",
            "epoch 3600, loss 39.21698760986328\n",
            "epoch 3700, loss 37.76127243041992\n",
            "epoch 3800, loss 36.43920135498047\n",
            "epoch 3900, loss 35.23823928833008\n",
            "epoch 4000, loss 34.14701461791992\n",
            "epoch 4100, loss 33.1552619934082\n",
            "epoch 4200, loss 32.25370407104492\n",
            "epoch 4300, loss 31.433881759643555\n",
            "epoch 4400, loss 30.68821144104004\n",
            "epoch 4500, loss 30.00971794128418\n",
            "epoch 4600, loss 29.39217758178711\n",
            "epoch 4700, loss 28.82991600036621\n",
            "epoch 4800, loss 28.317792892456055\n",
            "epoch 4900, loss 27.851177215576172\n",
            "epoch 5000, loss 27.425853729248047\n",
            "epoch 5100, loss 27.037992477416992\n",
            "epoch 5200, loss 26.68413543701172\n",
            "epoch 5300, loss 26.361146926879883\n",
            "epoch 5400, loss 26.06618309020996\n",
            "epoch 5500, loss 25.796661376953125\n",
            "epoch 5600, loss 25.55027198791504\n",
            "epoch 5700, loss 25.324878692626953\n",
            "epoch 5800, loss 25.118568420410156\n",
            "epoch 5900, loss 24.929590225219727\n",
            "epoch 6000, loss 24.756372451782227\n",
            "epoch 6100, loss 24.597476959228516\n",
            "epoch 6200, loss 24.45160675048828\n",
            "epoch 6300, loss 24.31759262084961\n",
            "epoch 6400, loss 24.194351196289062\n",
            "epoch 6500, loss 24.080928802490234\n",
            "epoch 6600, loss 23.9764347076416\n",
            "epoch 6700, loss 23.88007354736328\n",
            "epoch 6800, loss 23.791126251220703\n",
            "epoch 6900, loss 23.708927154541016\n",
            "epoch 7000, loss 23.632883071899414\n",
            "epoch 7100, loss 23.56244659423828\n",
            "epoch 7200, loss 23.497135162353516\n",
            "epoch 7300, loss 23.436487197875977\n",
            "epoch 7400, loss 23.380098342895508\n",
            "epoch 7500, loss 23.32761001586914\n",
            "epoch 7600, loss 23.2786808013916\n",
            "epoch 7700, loss 23.23299789428711\n",
            "epoch 7800, loss 23.19029426574707\n",
            "epoch 7900, loss 23.150318145751953\n",
            "epoch 8000, loss 23.112831115722656\n",
            "epoch 8100, loss 23.0776424407959\n",
            "epoch 8200, loss 23.044536590576172\n",
            "epoch 8300, loss 23.013362884521484\n",
            "epoch 8400, loss 22.983949661254883\n",
            "epoch 8500, loss 22.95616912841797\n",
            "epoch 8600, loss 22.92987060546875\n",
            "epoch 8700, loss 22.90495491027832\n",
            "epoch 8800, loss 22.881303787231445\n",
            "epoch 8900, loss 22.858823776245117\n",
            "epoch 9000, loss 22.837419509887695\n",
            "epoch 9100, loss 22.817012786865234\n",
            "epoch 9200, loss 22.797529220581055\n",
            "epoch 9300, loss 22.77889633178711\n",
            "epoch 9400, loss 22.761056900024414\n",
            "epoch 9500, loss 22.74394989013672\n",
            "epoch 9600, loss 22.72753143310547\n",
            "epoch 9700, loss 22.71173667907715\n",
            "epoch 9800, loss 22.696548461914062\n",
            "epoch 9900, loss 22.68190574645996\n"
          ]
        }
      ]
    },
    {
      "cell_type": "markdown",
      "source": [
        "## 모델 평가"
      ],
      "metadata": {
        "id": "LFYdGfLX4VcT"
      }
    },
    {
      "cell_type": "code",
      "source": [
        "import numpy as np\n",
        "import torch\n",
        "\n",
        "model.eval() # 평가모드로 진행\n",
        "\n",
        "# 이전버전\n",
        "#x_test = torch.autograd.Variable(torch.from_numpy(x_test).float())\n",
        "#y_test = torch.autograd.Variable(torch.from_numpy(y_test).float())\n",
        "\n",
        "\n",
        "#최신버전 변경된 버전\n",
        "x_test = torch.from_numpy(x_test).float()\n",
        "y_test = torch.from_numpy(y_test).float()\n",
        "y_pred = model(x_test)\n",
        "\n",
        "mse = criterion(y_pred, y_test)\n",
        "rmse = np.sqrt(mse.item())\n",
        "print(\"RMSE >>\", rmse)"
      ],
      "metadata": {
        "colab": {
          "base_uri": "https://localhost:8080/"
        },
        "id": "AHp11uy2qmjE",
        "outputId": "eaf933a9-3f6a-4154-9577-5bfa049729cb"
      },
      "execution_count": null,
      "outputs": [
        {
          "output_type": "stream",
          "name": "stdout",
          "text": [
            "RMSE >> 4.802586438792663\n"
          ]
        }
      ]
    },
    {
      "cell_type": "markdown",
      "source": [
        "# 실제 집값과 예측한 집값 차이 비교"
      ],
      "metadata": {
        "id": "NYkRG1SB_eyj"
      }
    },
    {
      "cell_type": "code",
      "source": [
        "with torch.no_grad(): # 자동 미분방지 ->비활성화 ->모델추론\n",
        "  x_sample = x_test[0]\n",
        "  y_true = y_test[0].item()\n",
        "  y_pred = model(x_sample).item()\n",
        "\n",
        "  print(f\"실제집값 : {y_true}, 예측집값 : {y_pred:.2f}\")"
      ],
      "metadata": {
        "colab": {
          "base_uri": "https://localhost:8080/"
        },
        "id": "Tm1Oy4WBqmg-",
        "outputId": "8bcd7367-1346-40c8-9052-918d120391e0"
      },
      "execution_count": null,
      "outputs": [
        {
          "output_type": "stream",
          "name": "stdout",
          "text": [
            "실제집값 : 28.200000762939453, 예측집값 : 30.40\n"
          ]
        }
      ]
    },
    {
      "cell_type": "markdown",
      "source": [
        "## 선형 회귀 모델 학습에서 다양한 옵티마이저 해보기"
      ],
      "metadata": {
        "id": "ZFyF6FNpYISy"
      }
    },
    {
      "cell_type": "code",
      "source": [
        "import torch\n",
        "import torch.nn as nn\n",
        "import torch.optim as optim\n",
        "import pandas as pd\n",
        "\n",
        "from sklearn.preprocessing import StandardScaler\n",
        "from sklearn.model_selection import train_test_split"
      ],
      "metadata": {
        "id": "TRvQhH4B_847"
      },
      "execution_count": 3,
      "outputs": []
    },
    {
      "cell_type": "markdown",
      "source": [
        "### Boston data loader"
      ],
      "metadata": {
        "id": "rolVD3X2Yp2J"
      }
    },
    {
      "cell_type": "code",
      "source": [
        "boston = pd.read_csv('/content/boston_house_prices.csv')\n",
        "print(boston)"
      ],
      "metadata": {
        "id": "NOPJlxA8_83F",
        "colab": {
          "base_uri": "https://localhost:8080/"
        },
        "outputId": "01c17f72-f16d-4b00-d797-91f2aadf62b5"
      },
      "execution_count": 4,
      "outputs": [
        {
          "output_type": "stream",
          "name": "stdout",
          "text": [
            "         506  13 Unnamed: 2 Unnamed: 3 Unnamed: 4 Unnamed: 5 Unnamed: 6  \\\n",
            "0       CRIM  ZN      INDUS       CHAS        NOX         RM        AGE   \n",
            "1    0.00632  18       2.31          0      0.538      6.575       65.2   \n",
            "2    0.02731   0       7.07          0      0.469      6.421       78.9   \n",
            "3    0.02729   0       7.07          0      0.469      7.185       61.1   \n",
            "4    0.03237   0       2.18          0      0.458      6.998       45.8   \n",
            "..       ...  ..        ...        ...        ...        ...        ...   \n",
            "502  0.06263   0      11.93          0      0.573      6.593       69.1   \n",
            "503  0.04527   0      11.93          0      0.573       6.12       76.7   \n",
            "504  0.06076   0      11.93          0      0.573      6.976         91   \n",
            "505  0.10959   0      11.93          0      0.573      6.794       89.3   \n",
            "506  0.04741   0      11.93          0      0.573       6.03       80.8   \n",
            "\n",
            "    Unnamed: 7 Unnamed: 8 Unnamed: 9 Unnamed: 10 Unnamed: 11 Unnamed: 12  \\\n",
            "0          DIS        RAD        TAX     PTRATIO           B       LSTAT   \n",
            "1         4.09          1        296        15.3       396.9        4.98   \n",
            "2       4.9671          2        242        17.8       396.9        9.14   \n",
            "3       4.9671          2        242        17.8      392.83        4.03   \n",
            "4       6.0622          3        222        18.7      394.63        2.94   \n",
            "..         ...        ...        ...         ...         ...         ...   \n",
            "502     2.4786          1        273          21      391.99        9.67   \n",
            "503     2.2875          1        273          21       396.9        9.08   \n",
            "504     2.1675          1        273          21       396.9        5.64   \n",
            "505     2.3889          1        273          21      393.45        6.48   \n",
            "506      2.505          1        273          21       396.9        7.88   \n",
            "\n",
            "    Unnamed: 13  \n",
            "0          MEDV  \n",
            "1            24  \n",
            "2          21.6  \n",
            "3          34.7  \n",
            "4          33.4  \n",
            "..          ...  \n",
            "502        22.4  \n",
            "503        20.6  \n",
            "504        23.9  \n",
            "505          22  \n",
            "506        11.9  \n",
            "\n",
            "[507 rows x 14 columns]\n"
          ]
        }
      ]
    },
    {
      "cell_type": "code",
      "source": [
        "df = boston.rename(columns=boston.iloc[0]) # 첫번째 행을 컬럼으로 rename으로\n",
        "df = df.drop(df.index[0]) # 그후 컬럼과 중복되는 첫행 삭제\n",
        "print(df)"
      ],
      "metadata": {
        "id": "fHB4CPUi_81G",
        "colab": {
          "base_uri": "https://localhost:8080/"
        },
        "outputId": "dbebb571-3ed1-43d5-a457-a9a44016f711"
      },
      "execution_count": 5,
      "outputs": [
        {
          "output_type": "stream",
          "name": "stdout",
          "text": [
            "        CRIM  ZN  INDUS CHAS    NOX     RM   AGE     DIS RAD  TAX PTRATIO  \\\n",
            "1    0.00632  18   2.31    0  0.538  6.575  65.2    4.09   1  296    15.3   \n",
            "2    0.02731   0   7.07    0  0.469  6.421  78.9  4.9671   2  242    17.8   \n",
            "3    0.02729   0   7.07    0  0.469  7.185  61.1  4.9671   2  242    17.8   \n",
            "4    0.03237   0   2.18    0  0.458  6.998  45.8  6.0622   3  222    18.7   \n",
            "5    0.06905   0   2.18    0  0.458  7.147  54.2  6.0622   3  222    18.7   \n",
            "..       ...  ..    ...  ...    ...    ...   ...     ...  ..  ...     ...   \n",
            "502  0.06263   0  11.93    0  0.573  6.593  69.1  2.4786   1  273      21   \n",
            "503  0.04527   0  11.93    0  0.573   6.12  76.7  2.2875   1  273      21   \n",
            "504  0.06076   0  11.93    0  0.573  6.976    91  2.1675   1  273      21   \n",
            "505  0.10959   0  11.93    0  0.573  6.794  89.3  2.3889   1  273      21   \n",
            "506  0.04741   0  11.93    0  0.573   6.03  80.8   2.505   1  273      21   \n",
            "\n",
            "          B LSTAT  MEDV  \n",
            "1     396.9  4.98    24  \n",
            "2     396.9  9.14  21.6  \n",
            "3    392.83  4.03  34.7  \n",
            "4    394.63  2.94  33.4  \n",
            "5     396.9  5.33  36.2  \n",
            "..      ...   ...   ...  \n",
            "502  391.99  9.67  22.4  \n",
            "503   396.9  9.08  20.6  \n",
            "504   396.9  5.64  23.9  \n",
            "505  393.45  6.48    22  \n",
            "506   396.9  7.88  11.9  \n",
            "\n",
            "[506 rows x 14 columns]\n"
          ]
        }
      ]
    },
    {
      "cell_type": "code",
      "source": [
        "df['target'] = df['MEDV']\n",
        "df = df.drop(['MEDV'],axis=1)"
      ],
      "metadata": {
        "id": "hydNkO9y_8zK"
      },
      "execution_count": 6,
      "outputs": []
    },
    {
      "cell_type": "code",
      "source": [
        "df = df.astype('float') # 자료형 변환 되었는지 꼭확인\n",
        "df.info()"
      ],
      "metadata": {
        "id": "ffRqW4KdqmXE",
        "colab": {
          "base_uri": "https://localhost:8080/"
        },
        "outputId": "277523a0-4058-4805-ebab-9e8475d36775"
      },
      "execution_count": 7,
      "outputs": [
        {
          "output_type": "stream",
          "name": "stdout",
          "text": [
            "<class 'pandas.core.frame.DataFrame'>\n",
            "RangeIndex: 506 entries, 1 to 506\n",
            "Data columns (total 14 columns):\n",
            " #   Column   Non-Null Count  Dtype  \n",
            "---  ------   --------------  -----  \n",
            " 0   CRIM     506 non-null    float64\n",
            " 1   ZN       506 non-null    float64\n",
            " 2   INDUS    506 non-null    float64\n",
            " 3   CHAS     506 non-null    float64\n",
            " 4   NOX      506 non-null    float64\n",
            " 5   RM       506 non-null    float64\n",
            " 6   AGE      506 non-null    float64\n",
            " 7   DIS      506 non-null    float64\n",
            " 8   RAD      506 non-null    float64\n",
            " 9   TAX      506 non-null    float64\n",
            " 10  PTRATIO  506 non-null    float64\n",
            " 11  B        506 non-null    float64\n",
            " 12  LSTAT    506 non-null    float64\n",
            " 13  target   506 non-null    float64\n",
            "dtypes: float64(14)\n",
            "memory usage: 55.5 KB\n"
          ]
        }
      ]
    },
    {
      "cell_type": "code",
      "source": [
        "from sklearn.model_selection import train_test_split\n",
        "from sklearn.preprocessing import StandardScaler\n",
        "\n",
        "#  데이터 로드\n",
        "\n",
        "x = df.loc[:, [col for col in df.columns if col != \"target\"]] # target 제외 모든변수\n",
        "\n",
        "y = df['target']\n",
        "y = y.to_numpy()\n",
        "\n",
        "# 데이터 전처리\n",
        "scaler = StandardScaler()\n",
        "x =scaler.fit_transform(x)\n",
        "y = y.reshape(-1,1)\n",
        "\n",
        "# 데이터셋 분리\n",
        "x_train , x_test , y_train , y_test = train_test_split(x,y, test_size=0.1, random_state=1)\n",
        "\n"
      ],
      "metadata": {
        "id": "9aSGEu1JqmVE"
      },
      "execution_count": 10,
      "outputs": []
    },
    {
      "cell_type": "code",
      "source": [
        "#print(len(x_train), len(x_test) , len(y_train), len(y_test))\n",
        "#print(x_train , y_train)"
      ],
      "metadata": {
        "id": "akFuCJ9IqmRP"
      },
      "execution_count": 12,
      "outputs": []
    },
    {
      "cell_type": "markdown",
      "source": [
        "## 모델 생성 및 하이퍼파라미터 설정"
      ],
      "metadata": {
        "id": "lcf_QQl_ZfuV"
      }
    },
    {
      "cell_type": "code",
      "source": [
        "print(x.shape)\n",
        "# 하이퍼 파라미터 생성\n",
        "input_dim = x.shape[1] # 13\n",
        "output_dim = 1\n",
        "lr = 0.0001\n",
        "epochs = 1000\n",
        "\n",
        "# 모델 생성\n",
        "model = nn.Linear(input_dim , output_dim)"
      ],
      "metadata": {
        "id": "aePfMK1RqmPe",
        "colab": {
          "base_uri": "https://localhost:8080/"
        },
        "outputId": "1aaa2848-145a-4c47-b031-59ffb8760466"
      },
      "execution_count": 17,
      "outputs": [
        {
          "output_type": "stream",
          "name": "stdout",
          "text": [
            "(506, 13)\n"
          ]
        }
      ]
    },
    {
      "cell_type": "markdown",
      "source": [
        "# 다양한 옵티마이저 설정"
      ],
      "metadata": {
        "id": "s5pjkXetaBKq"
      }
    },
    {
      "cell_type": "code",
      "source": [
        "optimizers = {\"SGD\":optim.SGD(model.parameters(), lr=lr),\n",
        "              \"Momentum\" : optim.SGD(model.parameters(), lr=lr, momentum=0.9),\n",
        "              \"Adagrad\": optim.Adagrad(model.parameters(), lr=lr),\n",
        "              \"RMSprop\": optim.RMSprop(model.parameters(), lr=lr),\n",
        "              \"Adam\" : optim.Adam(model.parameters(), lr=lr)}"
      ],
      "metadata": {
        "id": "LLTvoZFVqmNL"
      },
      "execution_count": 18,
      "outputs": []
    },
    {
      "cell_type": "markdown",
      "source": [
        "### 모델 학습|"
      ],
      "metadata": {
        "id": "bcPbdL9CbnZy"
      }
    },
    {
      "cell_type": "code",
      "source": [
        "for optimizer_name , optimizer in optimizers.items():\n",
        "  #print(optimizer_name,optimizer)\n",
        "  criterion = nn.MSELoss()\n",
        "  optimizer.zero_grad()\n",
        "\n",
        "  for epoch in range(epochs):\n",
        "    inputs = torch.tensor(x_train, dtype=torch.float32)\n",
        "    labels = torch.tensor(y_train, dtype=torch.float32)\n",
        "\n",
        "    # forward pass\n",
        "    outputs = model(inputs)\n",
        "    loss = criterion(outputs, labels)\n",
        "\n",
        "    # backward and optimizer\n",
        "    loss.backward()\n",
        "    optimizer.step()\n",
        "\n",
        "    # print progress\n",
        "    if (epoch + 1) % 100 == 0 :\n",
        "      print(f\"{optimizer_name} - epoch [{epoch+1}/{epochs}, :pss :{loss.item():.4f}]\")\n",
        "\n"
      ],
      "metadata": {
        "id": "4JSzOOlNqmLO",
        "colab": {
          "base_uri": "https://localhost:8080/"
        },
        "outputId": "baf61cce-22f9-4700-85a2-a5390cfed757"
      },
      "execution_count": 22,
      "outputs": [
        {
          "output_type": "stream",
          "name": "stdout",
          "text": [
            "SGD - epoch [100/1000, :pss :49030675632383707840512.0000]\n",
            "SGD - epoch [200/1000, :pss :31643952810167604609024.0000]\n",
            "SGD - epoch [300/1000, :pss :12262645385684171358208.0000]\n",
            "SGD - epoch [400/1000, :pss :834579005815373430784.0000]\n",
            "SGD - epoch [500/1000, :pss :3225424291402197499904.0000]\n",
            "SGD - epoch [600/1000, :pss :18208038656760126373888.0000]\n",
            "SGD - epoch [700/1000, :pss :38092301332228855562240.0000]\n",
            "SGD - epoch [800/1000, :pss :52672241255079217201152.0000]\n",
            "SGD - epoch [900/1000, :pss :54464408194394659749888.0000]\n",
            "SGD - epoch [1000/1000, :pss :42548977955081778364416.0000]\n",
            "Momentum - epoch [100/1000, :pss :1673368718530451410518016.0000]\n",
            "Momentum - epoch [200/1000, :pss :36269128118285283679535104.0000]\n",
            "Momentum - epoch [300/1000, :pss :4931775102186016761052135424.0000]\n",
            "Momentum - epoch [400/1000, :pss :5026094587937985418290830245888.0000]\n",
            "Momentum - epoch [500/1000, :pss :1122627858907258485698950332416000.0000]\n",
            "Momentum - epoch [600/1000, :pss :107480331055632143396869771446190080.0000]\n",
            "Momentum - epoch [700/1000, :pss :inf]\n",
            "Momentum - epoch [800/1000, :pss :inf]\n",
            "Momentum - epoch [900/1000, :pss :inf]\n",
            "Momentum - epoch [1000/1000, :pss :inf]\n",
            "Adagrad - epoch [100/1000, :pss :inf]\n",
            "Adagrad - epoch [200/1000, :pss :inf]\n",
            "Adagrad - epoch [300/1000, :pss :inf]\n",
            "Adagrad - epoch [400/1000, :pss :inf]\n",
            "Adagrad - epoch [500/1000, :pss :inf]\n",
            "Adagrad - epoch [600/1000, :pss :inf]\n",
            "Adagrad - epoch [700/1000, :pss :inf]\n",
            "Adagrad - epoch [800/1000, :pss :inf]\n",
            "Adagrad - epoch [900/1000, :pss :inf]\n",
            "Adagrad - epoch [1000/1000, :pss :inf]\n",
            "RMSprop - epoch [100/1000, :pss :inf]\n",
            "RMSprop - epoch [200/1000, :pss :inf]\n",
            "RMSprop - epoch [300/1000, :pss :inf]\n",
            "RMSprop - epoch [400/1000, :pss :inf]\n",
            "RMSprop - epoch [500/1000, :pss :inf]\n",
            "RMSprop - epoch [600/1000, :pss :inf]\n",
            "RMSprop - epoch [700/1000, :pss :inf]\n",
            "RMSprop - epoch [800/1000, :pss :inf]\n",
            "RMSprop - epoch [900/1000, :pss :inf]\n",
            "RMSprop - epoch [1000/1000, :pss :inf]\n",
            "Adam - epoch [100/1000, :pss :inf]\n",
            "Adam - epoch [200/1000, :pss :inf]\n",
            "Adam - epoch [300/1000, :pss :inf]\n",
            "Adam - epoch [400/1000, :pss :inf]\n",
            "Adam - epoch [500/1000, :pss :inf]\n",
            "Adam - epoch [600/1000, :pss :inf]\n",
            "Adam - epoch [700/1000, :pss :inf]\n",
            "Adam - epoch [800/1000, :pss :inf]\n",
            "Adam - epoch [900/1000, :pss :inf]\n",
            "Adam - epoch [1000/1000, :pss :inf]\n"
          ]
        }
      ]
    },
    {
      "cell_type": "markdown",
      "source": [
        "## 선형분류 - 로지스틱 회귀"
      ],
      "metadata": {
        "id": "bzosEuLG4zyi"
      }
    },
    {
      "cell_type": "code",
      "source": [
        "import torch\n",
        "import torch.nn as nn\n",
        "import torch.optim as optim\n",
        "\n",
        "from sklearn.datasets import make_classification\n",
        "from sklearn.model_selection import train_test_split\n",
        "\n",
        "from torch.utils.data import Dataset , DataLoader"
      ],
      "metadata": {
        "id": "3Bgy2jgpqmJE"
      },
      "execution_count": 23,
      "outputs": []
    },
    {
      "cell_type": "markdown",
      "source": [
        "### 데이터셋을 만들기 make_classification 함수를 사용하여 무작위 데이터셋 만들기"
      ],
      "metadata": {
        "id": "BjpAUuA05RTz"
      }
    },
    {
      "cell_type": "code",
      "source": [
        "x,y = make_classification(\n",
        "    n_samples=3000,\n",
        "    n_features=5,\n",
        "    n_informative=2,\n",
        "    n_redundant=0,\n",
        "    n_clusters_per_class=1,\n",
        "    random_state=42\n",
        "\n",
        ")\n",
        "\n",
        "print(x,y)"
      ],
      "metadata": {
        "id": "p-O9Q4I4qmHE",
        "colab": {
          "base_uri": "https://localhost:8080/"
        },
        "outputId": "868e5ef3-352f-4f7f-fdd6-cf2c8c1baa31"
      },
      "execution_count": 24,
      "outputs": [
        {
          "output_type": "stream",
          "name": "stdout",
          "text": [
            "[[-0.02439857 -0.57540077  1.26796049 -1.42222965 -0.9629849 ]\n",
            " [-1.07638119  0.3872175   1.08299994 -0.67379011 -2.65098736]\n",
            " [-1.12984986 -0.26922916  1.12735009 -0.82383687 -1.70574586]\n",
            " ...\n",
            " [-0.53797853  0.26401859 -0.48915618  0.4664446  -1.57451325]\n",
            " [ 0.01920342  0.9761859  -0.14717165 -1.51725386  2.31873002]\n",
            " [-0.37051336  0.93603022 -0.62133172 -0.23084897  1.66473405]] [0 0 0 ... 0 1 1]\n"
          ]
        }
      ]
    },
    {
      "cell_type": "code",
      "source": [],
      "metadata": {
        "id": "JJczUJ5-6REf"
      },
      "execution_count": null,
      "outputs": []
    },
    {
      "cell_type": "markdown",
      "source": [
        "## 데이터셋 트레인 ,테스트 로 나누기"
      ],
      "metadata": {
        "id": "7g7ZnrmX6MGD"
      }
    },
    {
      "cell_type": "code",
      "source": [
        "x_train, x_test, y_train, y_test = train_test_split(x,y,test_size=0.2, random_state=42)\n",
        "\n",
        "print(\"x_train >>\", len(x_train))\n",
        "print(\"x_test >>\", len(x_test))\n",
        "print(\"y_train >>\", len(y_train))\n",
        "print(\"y_test >>\", len(y_test))"
      ],
      "metadata": {
        "id": "TyPIIJ1qqmFW",
        "colab": {
          "base_uri": "https://localhost:8080/"
        },
        "outputId": "0b58c577-4de6-47e5-ffda-9a49d217a81e"
      },
      "execution_count": 25,
      "outputs": [
        {
          "output_type": "stream",
          "name": "stdout",
          "text": [
            "x_train >> 2400\n",
            "x_test >> 600\n",
            "y_train >> 2400\n",
            "y_test >> 600\n"
          ]
        }
      ]
    },
    {
      "cell_type": "markdown",
      "source": [
        "### Pytorch의 데이터셋 데이터 로더 사용 위한 커스텀데이터셋 구현"
      ],
      "metadata": {
        "id": "3Kv5hvTf6jeB"
      }
    },
    {
      "cell_type": "code",
      "source": [
        "class MyCustomDataset(Dataset):\n",
        "\n",
        "  def __init__(self, x,y):\n",
        "    # 학습위해 텐서로 변환\n",
        "    self.x = torch.tensor(x, dtype=torch.float32)\n",
        "    self.y = torch.tensor(y, dtype=torch.float32)\n",
        "    print(self.x, self.y)\n",
        "\n",
        "\n",
        "  def __getitem__(self,index):\n",
        "\n",
        "    return self.x[index], self.y[index]\n",
        "\n",
        "    pass\n",
        "  def __len__(self):\n",
        "    return len(self.x)\n",
        "\n",
        "# 데이타셋 정의\n",
        "train_dataset = MyCustomDataset(x_train , y_train)\n",
        "test_dataset = MyCustomDataset(x_test, y_test)\n",
        "\n",
        "# 데이터 로드 정의\n",
        "train_loader = DataLoader(train_dataset, batch_size=32 , shuffle=True)\n",
        "test_loader = DataLoader(test_dataset, batch_size=32 , shuffle=False)\n",
        "# 디버깅 코드###\n",
        "# test = MyCustomDataset(x_test, y_test)\n",
        "\n",
        "# for i in test:\n",
        "#   print(i)\n",
        "for index, (datas, labels) in enumerate(test_loader):\n",
        "  print(index, datas, labels)\n"
      ],
      "metadata": {
        "id": "dPz7fRQKqmDT",
        "colab": {
          "base_uri": "https://localhost:8080/"
        },
        "outputId": "1d4fd268-e069-4332-c013-edf2f6f72d68"
      },
      "execution_count": 39,
      "outputs": [
        {
          "output_type": "stream",
          "name": "stdout",
          "text": [
            "tensor([[ 0.7075,  1.2127, -0.6756,  0.3749,  0.7775],\n",
            "        [-0.1092,  0.8279,  0.4622,  1.1346,  0.0994],\n",
            "        [-1.8629,  0.1843,  0.8259, -0.5348,  1.6433],\n",
            "        ...,\n",
            "        [ 1.6923,  0.9449, -1.3617, -0.2597,  0.3556],\n",
            "        [-0.8839,  1.9900,  1.6815,  0.1473, -0.2362],\n",
            "        [-0.1104,  0.1290,  0.3199, -0.1956,  0.9334]]) tensor([1., 1., 1.,  ..., 1., 0., 1.])\n",
            "tensor([[-0.1814,  0.9541, -0.8362,  0.9478,  1.1666],\n",
            "        [-1.0747, -0.5975, -0.0673, -0.7824, -1.8099],\n",
            "        [ 2.0192,  1.4252,  0.7749,  0.9027,  0.9276],\n",
            "        ...,\n",
            "        [ 1.1968,  1.1594,  1.5280,  0.4321,  0.3262],\n",
            "        [-0.0243,  0.9452,  1.2092,  1.6390, -0.5826],\n",
            "        [ 0.5011,  1.5814,  1.5891, -0.4866, -0.2943]]) tensor([1., 0., 1., 1., 0., 1., 1., 0., 1., 1., 0., 1., 0., 1., 0., 0., 1., 1.,\n",
            "        1., 0., 1., 0., 1., 0., 0., 0., 1., 1., 0., 0., 1., 1., 0., 0., 1., 0.,\n",
            "        1., 1., 0., 0., 1., 0., 0., 0., 1., 1., 1., 0., 1., 0., 1., 0., 1., 0.,\n",
            "        1., 0., 1., 0., 1., 0., 0., 1., 0., 0., 1., 0., 1., 0., 0., 1., 1., 1.,\n",
            "        0., 1., 1., 0., 0., 1., 1., 0., 1., 1., 1., 1., 1., 0., 1., 0., 0., 1.,\n",
            "        1., 1., 0., 1., 0., 1., 1., 1., 1., 0., 1., 1., 1., 1., 1., 1., 0., 1.,\n",
            "        1., 0., 1., 0., 0., 0., 0., 1., 0., 1., 0., 1., 0., 1., 1., 1., 1., 0.,\n",
            "        0., 0., 0., 1., 0., 0., 1., 1., 0., 1., 1., 0., 1., 0., 1., 0., 1., 1.,\n",
            "        1., 0., 1., 0., 0., 1., 0., 0., 1., 0., 0., 1., 1., 0., 0., 1., 0., 0.,\n",
            "        1., 1., 0., 0., 1., 0., 1., 0., 0., 1., 0., 1., 0., 0., 0., 1., 1., 1.,\n",
            "        1., 1., 1., 0., 1., 0., 1., 0., 0., 0., 0., 0., 0., 1., 1., 0., 0., 1.,\n",
            "        1., 1., 0., 1., 1., 1., 0., 1., 1., 1., 1., 1., 1., 1., 0., 1., 1., 1.,\n",
            "        0., 0., 0., 0., 1., 0., 0., 0., 1., 0., 1., 1., 0., 1., 0., 1., 0., 0.,\n",
            "        0., 0., 0., 0., 0., 0., 1., 0., 1., 0., 0., 0., 0., 1., 1., 1., 0., 0.,\n",
            "        0., 1., 0., 0., 0., 1., 0., 1., 0., 0., 0., 0., 0., 0., 1., 0., 1., 0.,\n",
            "        0., 1., 1., 1., 1., 1., 0., 1., 0., 0., 1., 1., 1., 0., 1., 1., 0., 1.,\n",
            "        1., 1., 0., 1., 0., 0., 0., 0., 1., 1., 0., 0., 1., 1., 0., 1., 0., 1.,\n",
            "        1., 0., 1., 0., 1., 1., 0., 1., 1., 1., 1., 0., 1., 0., 0., 1., 0., 0.,\n",
            "        1., 0., 1., 0., 1., 1., 0., 1., 0., 0., 1., 0., 1., 1., 0., 1., 1., 1.,\n",
            "        0., 1., 0., 0., 1., 0., 0., 0., 1., 0., 0., 0., 0., 1., 1., 0., 1., 1.,\n",
            "        1., 1., 0., 1., 1., 1., 1., 0., 0., 0., 0., 1., 0., 0., 1., 0., 0., 0.,\n",
            "        1., 0., 1., 1., 0., 0., 1., 0., 0., 1., 0., 0., 1., 1., 1., 1., 0., 1.,\n",
            "        0., 1., 1., 0., 0., 0., 1., 0., 1., 1., 1., 0., 1., 0., 0., 0., 0., 1.,\n",
            "        1., 1., 0., 0., 1., 0., 0., 0., 1., 0., 1., 1., 0., 0., 0., 1., 1., 0.,\n",
            "        0., 0., 1., 1., 1., 0., 0., 0., 0., 1., 1., 1., 1., 0., 1., 0., 1., 0.,\n",
            "        1., 0., 0., 1., 0., 1., 0., 1., 1., 1., 0., 0., 1., 1., 1., 1., 1., 0.,\n",
            "        0., 1., 1., 1., 1., 0., 0., 0., 0., 1., 1., 0., 1., 1., 1., 1., 0., 0.,\n",
            "        0., 0., 1., 0., 0., 1., 0., 1., 0., 1., 0., 0., 1., 0., 0., 0., 1., 1.,\n",
            "        1., 0., 0., 1., 1., 1., 1., 0., 0., 0., 1., 0., 0., 1., 1., 0., 0., 1.,\n",
            "        1., 0., 0., 0., 1., 1., 0., 1., 1., 0., 0., 0., 0., 0., 1., 1., 1., 0.,\n",
            "        1., 0., 1., 0., 1., 0., 1., 1., 1., 0., 1., 1., 0., 1., 0., 1., 0., 1.,\n",
            "        1., 1., 1., 0., 1., 1., 1., 0., 0., 0., 0., 1., 0., 0., 0., 1., 1., 0.,\n",
            "        1., 1., 1., 1., 0., 1., 1., 1., 0., 0., 1., 0., 1., 1., 1., 1., 0., 1.,\n",
            "        1., 0., 1., 1., 1., 0.])\n",
            "0 tensor([[-0.1814,  0.9541, -0.8362,  0.9478,  1.1666],\n",
            "        [-1.0747, -0.5975, -0.0673, -0.7824, -1.8099],\n",
            "        [ 2.0192,  1.4252,  0.7749,  0.9027,  0.9276],\n",
            "        [ 0.4525,  0.4803,  0.6397,  0.7536,  2.2430],\n",
            "        [ 1.3994,  0.5470, -0.7957, -0.2365, -1.8805],\n",
            "        [-0.5218,  1.1701, -1.8481, -1.2085,  1.2183],\n",
            "        [-0.3237,  0.8182, -0.7245, -0.2665,  1.0007],\n",
            "        [ 1.8711,  1.4021, -0.5651, -0.8509, -1.1655],\n",
            "        [ 0.7552,  0.1501,  1.1108,  1.0845,  1.0893],\n",
            "        [ 0.3990,  2.0237, -0.6619,  1.7075, -0.4431],\n",
            "        [-0.2678,  0.3786,  1.6651,  1.3227, -0.5773],\n",
            "        [ 0.4529,  1.2332, -0.6631, -0.2662,  0.8212],\n",
            "        [ 0.4259, -0.3123,  0.6507, -1.0707, -0.7738],\n",
            "        [-1.3319,  0.8085, -0.7474,  1.3080,  0.7274],\n",
            "        [-1.4163,  0.0362,  0.1478, -0.6428, -2.0718],\n",
            "        [-1.0560,  0.7615,  1.0216, -1.0501,  0.1911],\n",
            "        [ 1.5948,  0.7361,  1.6070, -1.0155,  1.2248],\n",
            "        [-0.3499,  1.8803, -0.8156,  0.6496,  0.7292],\n",
            "        [ 0.6699,  1.0799,  0.5800, -0.9440,  1.5828],\n",
            "        [-0.8973,  0.9578,  0.0305, -0.6530, -1.8925],\n",
            "        [ 0.1184,  0.0391, -0.6911, -0.8034,  0.3574],\n",
            "        [-1.8483, -0.0271,  0.0064, -2.0446, -1.9665],\n",
            "        [ 0.2042,  1.4925, -1.5793, -0.1827, -0.1523],\n",
            "        [ 0.7173,  0.8892, -0.3593, -0.8594, -0.8315],\n",
            "        [-0.8608,  0.8399,  2.3378,  0.5342, -0.1664],\n",
            "        [-0.6141,  0.4281, -0.6783,  1.5245, -0.8560],\n",
            "        [-0.0603,  1.5134,  1.8576, -1.0109,  1.3960],\n",
            "        [-1.7711,  1.1878, -0.4178, -0.7037,  0.4343],\n",
            "        [-0.8776,  0.9586, -0.7268,  0.3327, -0.1338],\n",
            "        [ 1.3610,  1.0972,  0.6041,  0.0648, -2.3885],\n",
            "        [-0.4895,  0.8071,  0.0389,  0.1670,  1.2227],\n",
            "        [ 0.1183,  1.6002, -2.0138, -1.1161, -0.0640]]) tensor([1., 0., 1., 1., 0., 1., 1., 0., 1., 1., 0., 1., 0., 1., 0., 0., 1., 1.,\n",
            "        1., 0., 1., 0., 1., 0., 0., 0., 1., 1., 0., 0., 1., 1.])\n",
            "1 tensor([[-0.0450,  1.0123,  0.2079, -0.6567, -0.1027],\n",
            "        [ 0.1540,  1.0135, -2.0724, -0.0827,  0.6941],\n",
            "        [-0.1808,  0.9182, -0.3499, -0.7147, -0.0258],\n",
            "        [ 0.7740,  0.9045,  1.3469, -0.0075, -0.7994],\n",
            "        [-0.3874,  0.6824, -1.3100,  0.7532,  1.1685],\n",
            "        [-0.1270,  1.0916, -1.1715, -0.8320,  0.7609],\n",
            "        [-0.5942,  0.9967,  1.0189, -0.6161, -0.3426],\n",
            "        [-0.7932,  1.5570,  0.4556,  0.9157, -1.6516],\n",
            "        [-1.1546,  1.1227, -0.5125, -0.8806,  0.4304],\n",
            "        [ 0.0972,  1.9904,  2.6669,  1.1167, -1.9521],\n",
            "        [-0.3153,  1.5479, -0.5498,  0.2681, -1.6594],\n",
            "        [ 1.0725,  1.4592, -0.2905,  1.4288, -1.2646],\n",
            "        [-0.2019,  1.0094,  0.5508, -1.2500,  0.9446],\n",
            "        [ 0.1415,  0.2922,  0.4945, -0.1258,  0.2997],\n",
            "        [ 0.5031,  0.9204, -0.7546,  0.2751,  0.2579],\n",
            "        [ 0.3975,  0.6278,  1.0563,  0.0134, -1.3924],\n",
            "        [-0.1139,  1.7807,  1.0894,  0.0150,  1.3030],\n",
            "        [ 0.0913,  1.2251,  2.1591, -0.3805,  0.0471],\n",
            "        [-0.0859,  1.6935, -0.6904, -0.0759,  0.6630],\n",
            "        [ 0.3057,  1.4630, -0.8491, -0.7313, -1.7646],\n",
            "        [-0.7350,  0.0341,  0.3711, -0.8464,  1.6889],\n",
            "        [ 0.0324,  0.4497, -0.4134,  1.4623, -0.6206],\n",
            "        [ 0.2774,  1.0375, -1.9863, -0.7730,  0.7984],\n",
            "        [ 1.2663,  1.5131,  1.3832,  0.7099,  0.3952],\n",
            "        [-0.4020,  0.6536,  0.4562,  0.7452,  0.9290],\n",
            "        [ 1.4917,  1.5304,  0.5734,  0.7248, -1.0694],\n",
            "        [-1.5908,  1.5559,  0.5081,  0.5237,  0.4300],\n",
            "        [ 0.1140,  0.8458,  1.1278, -0.7935, -1.9839],\n",
            "        [ 1.8116,  1.3085, -0.4119,  0.5791, -0.1326],\n",
            "        [-0.1138,  0.9935, -0.9849,  0.4330,  0.7541],\n",
            "        [-1.4214,  1.0748,  1.1378,  1.7523, -1.2364],\n",
            "        [ 1.2889, -0.2252,  0.2184, -0.1330, -2.4213]]) tensor([0., 0., 1., 0., 1., 1., 0., 0., 1., 0., 0., 0., 1., 1., 1., 0., 1., 0.,\n",
            "        1., 0., 1., 0., 1., 0., 1., 0., 1., 0., 0., 1., 0., 0.])\n",
            "2 tensor([[-0.1948,  0.4828, -1.5252, -0.3053,  0.7890],\n",
            "        [ 1.7945,  2.0514, -0.7148,  1.5448, -2.2008],\n",
            "        [-0.5338,  1.2247,  0.9949, -0.1496,  1.5843],\n",
            "        [ 0.1424,  1.2814,  1.3887,  0.3814, -0.4880],\n",
            "        [-0.7756,  1.7595,  0.9877, -0.7798, -1.3263],\n",
            "        [ 1.1045,  0.4761,  1.1120, -0.1272,  1.3541],\n",
            "        [-0.0779,  0.2876, -0.9391,  0.9437,  1.6344],\n",
            "        [ 0.0340,  0.7940, -0.3932, -0.3614,  1.3697],\n",
            "        [ 0.0386,  0.9235,  1.0852, -0.4837, -2.4945],\n",
            "        [-1.5051,  1.3903,  0.1051, -1.0080, -0.1846],\n",
            "        [ 1.1707,  0.7926, -0.7989, -1.0510,  1.8736],\n",
            "        [ 0.4892,  1.5819, -0.2396, -1.1798, -2.5119],\n",
            "        [ 0.1235,  0.3880,  1.9857, -0.2167, -0.7904],\n",
            "        [-0.0391,  1.5145,  1.9669,  1.2497, -1.2137],\n",
            "        [ 0.6255,  0.8472, -0.5863, -1.6048,  0.9324],\n",
            "        [-0.4516,  2.4879,  2.5054,  1.8951, -0.6958],\n",
            "        [-1.2255,  1.1729,  1.9529,  0.1348,  1.1071],\n",
            "        [ 0.1739,  1.9702, -0.6585, -0.8484,  0.8031],\n",
            "        [ 0.1436,  0.5295, -0.9128, -0.8131,  1.5320],\n",
            "        [-0.6691,  0.9292,  1.0902,  0.8040,  1.8599],\n",
            "        [ 0.1488,  0.5847, -0.5562,  1.5401,  2.2196],\n",
            "        [ 1.7184,  1.5262, -0.5186, -0.1892, -0.6970],\n",
            "        [ 0.4027,  1.0480, -0.5696, -0.0705,  1.8484],\n",
            "        [-0.5077,  0.8368, -1.8583, -2.1268,  0.5629],\n",
            "        [ 0.3866,  0.2094,  0.0119,  1.3593, -2.3818],\n",
            "        [ 0.0055,  1.3215,  0.8209, -1.5276,  1.0999],\n",
            "        [ 0.2639,  0.8451,  0.0394, -1.4546,  0.1817],\n",
            "        [ 0.1008,  1.3262, -0.4414, -0.1877,  0.7819],\n",
            "        [ 0.3051,  0.0745,  0.6731, -0.4001, -0.2996],\n",
            "        [ 0.6085,  0.1089, -0.2096,  0.3672,  2.0594],\n",
            "        [ 1.1568,  0.9873, -0.0162,  0.3974, -0.6365],\n",
            "        [-0.2477,  0.3454, -0.3599,  0.0399,  1.2993]]) tensor([1., 0., 1., 0., 0., 1., 1., 1., 0., 1., 1., 0., 0., 1., 1., 0., 1., 1.,\n",
            "        1., 1., 1., 0., 1., 0., 0., 1., 1., 1., 0., 1., 0., 1.])\n",
            "3 tensor([[ 0.9386,  1.1459,  1.3351,  0.5041,  1.6647],\n",
            "        [-1.6840,  1.4327,  0.8560, -0.7090,  0.9355],\n",
            "        [ 0.6248,  0.5378, -0.1787,  0.8049,  1.2246],\n",
            "        [-0.8574,  1.3387, -1.4194,  0.1982, -1.3683],\n",
            "        [ 0.0430,  1.3873, -0.8670,  1.0675,  0.3385],\n",
            "        [ 0.1697,  1.1391,  1.1490,  0.2004,  0.2958],\n",
            "        [-1.8770,  2.0036,  1.4919, -1.6065,  1.0530],\n",
            "        [-0.4802,  0.9941, -0.5155,  0.0301,  0.6295],\n",
            "        [ 0.1902,  1.0586,  0.0144, -0.2434,  0.5529],\n",
            "        [ 0.1363,  0.9257, -1.2733, -0.9022,  0.5287],\n",
            "        [ 0.0745,  1.2262,  1.5003,  1.0256, -1.8452],\n",
            "        [-1.0563,  1.8293,  0.7734, -0.7058,  0.7467],\n",
            "        [-2.2244,  0.1755, -0.0666,  0.3369,  0.8297],\n",
            "        [ 0.7891,  1.9122,  0.9532, -0.6292, -0.3000],\n",
            "        [ 0.3363,  0.8361, -0.8197,  0.2900,  0.4229],\n",
            "        [-0.3574,  1.1579, -1.1629,  0.9530, -1.0479],\n",
            "        [-0.2278,  0.5982, -1.0189, -0.9400,  0.0517],\n",
            "        [-0.6336,  0.0960, -1.0238, -1.9062, -0.9883],\n",
            "        [ 0.6856,  1.7544,  0.0849,  0.3129, -0.7596],\n",
            "        [ 1.1843,  1.0180,  0.0774,  0.2567,  0.6760],\n",
            "        [-0.0244, -0.5754,  1.2680, -1.4222, -0.9630],\n",
            "        [ 1.3435,  0.9311,  0.5550, -0.6237,  1.6073],\n",
            "        [-1.6147,  1.6789,  0.0968, -1.4455, -0.0469],\n",
            "        [-0.0298,  0.7428,  0.4733,  0.5246,  1.7045],\n",
            "        [ 1.4195, -0.0212, -0.9004, -0.9155, -0.9950],\n",
            "        [-0.2680,  1.0216, -0.1055,  1.6630,  0.0223],\n",
            "        [ 0.5569,  1.5149,  0.6273, -0.8130,  1.2675],\n",
            "        [-0.6300,  0.6741, -0.7697,  2.2741,  0.9931],\n",
            "        [-0.0850,  1.5569, -0.4970, -1.3321,  0.4412],\n",
            "        [-0.2180,  0.5169,  1.5143, -0.0313, -1.6696],\n",
            "        [-1.1718,  1.6641,  1.0154,  1.0271,  0.1525],\n",
            "        [-0.0323,  1.9945,  1.1993, -0.0871, -0.2510]]) tensor([1., 1., 1., 0., 1., 1., 1., 1., 1., 1., 0., 1., 1., 0., 1., 0., 0., 0.,\n",
            "        0., 1., 0., 1., 0., 1., 0., 1., 1., 1., 1., 0., 0., 0.])\n",
            "4 tensor([[-1.0553,  0.4475, -1.7448, -0.3239, -1.7200],\n",
            "        [-0.8963,  0.9129,  1.3385, -0.4856,  1.9088],\n",
            "        [ 0.0140,  1.3427, -0.4070,  0.5638, -1.0862],\n",
            "        [ 0.2928,  2.5300, -0.1308, -1.8804, -0.7741],\n",
            "        [-0.0124,  0.2826, -1.3370, -0.3283,  0.9372],\n",
            "        [-0.9380,  0.3495,  1.0450,  1.5986,  1.1715],\n",
            "        [ 0.6751,  0.9281,  1.1913, -1.7160, -1.2117],\n",
            "        [-0.7892,  0.6330,  0.0840,  0.4419,  0.5907],\n",
            "        [-0.5833, -0.2725, -0.8484,  0.1030,  2.3114],\n",
            "        [ 0.5382,  1.4997, -1.0157, -1.3695, -1.7529],\n",
            "        [-0.6296,  0.8558, -1.0136, -1.2326,  0.9554],\n",
            "        [-0.5330,  0.4593, -1.7794, -0.7664,  1.6342],\n",
            "        [ 3.0407,  1.6220, -0.5842, -0.9680,  1.9012],\n",
            "        [ 1.0380,  0.8677, -0.5553,  0.7642, -1.0341],\n",
            "        [-1.6139,  0.6988,  1.3212,  1.4923,  1.1870],\n",
            "        [ 1.7151,  2.0500, -0.0413,  0.0822,  0.4899],\n",
            "        [ 1.0438, -0.1955, -0.7626, -1.6521,  2.1769],\n",
            "        [ 0.3363,  1.3278, -1.4711, -0.7370, -1.0695],\n",
            "        [ 0.9761,  0.9849, -0.7012, -1.5763,  1.3330],\n",
            "        [-1.3499,  0.6902,  0.6666, -0.4552, -0.4684],\n",
            "        [ 0.2991,  0.0198, -0.1113,  0.8332, -1.5018],\n",
            "        [-0.2253,  1.0075, -1.1301,  0.1378,  1.6010],\n",
            "        [ 0.4987,  1.1984,  1.0734, -1.9425, -1.6990],\n",
            "        [ 0.3328,  0.9765,  0.1848,  0.5598, -0.7500],\n",
            "        [ 1.3467,  0.6007, -0.0383,  0.3731,  0.4493],\n",
            "        [-1.3324,  0.7392,  0.7025,  1.1712, -0.1413],\n",
            "        [-0.1132,  0.6209, -0.9711, -0.5553, -0.0038],\n",
            "        [ 0.3776,  0.8181,  0.4747, -0.1820,  0.1029],\n",
            "        [-0.6047,  0.5776,  0.1462,  0.6296,  1.5935],\n",
            "        [-1.1709,  2.1221, -0.3265,  0.2024, -0.9862],\n",
            "        [ 0.0397,  0.9792, -1.5570, -1.4229, -0.7874],\n",
            "        [ 0.1841,  1.6065, -1.3938,  0.0691,  0.7954]]) tensor([0., 1., 0., 0., 1., 1., 0., 1., 1., 0., 1., 0., 1., 0., 1., 1., 1., 0.,\n",
            "        1., 0., 0., 1., 0., 0., 1., 0., 0., 1., 1., 0., 0., 1.])\n",
            "5 tensor([[-1.9133e+00,  1.4266e+00, -1.1213e-01, -9.6505e-01, -2.3921e+00],\n",
            "        [-3.2415e+00,  2.0025e-01, -2.5262e-01,  2.9716e-01, -1.4456e+00],\n",
            "        [ 1.6009e+00,  1.3949e+00, -3.1983e-01,  1.5564e+00,  1.2635e+00],\n",
            "        [-4.0603e-01,  5.2537e-01,  2.9967e-01,  5.3718e-01,  1.3800e+00],\n",
            "        [-2.0020e-01,  1.8614e+00, -6.0726e-01,  1.3992e+00, -2.1656e+00],\n",
            "        [ 3.3505e-01,  1.2183e+00,  7.8316e-01,  5.6479e-01,  2.6843e-01],\n",
            "        [ 1.3667e+00,  1.5433e+00,  7.3335e-01,  3.1314e-01,  7.7971e-01],\n",
            "        [-8.0989e-01,  4.3619e-01,  3.8571e-01,  1.4190e+00, -1.6279e+00],\n",
            "        [-2.2268e+00,  2.4491e-01, -1.3880e-01, -3.7887e-02,  1.5538e+00],\n",
            "        [-3.1710e-01,  1.4630e+00, -3.3578e-01, -8.0343e-01,  4.1056e-01],\n",
            "        [-7.9597e-01,  8.9901e-01, -6.7989e-01,  1.9189e-01, -5.4855e-01],\n",
            "        [-1.3183e+00,  1.2093e+00,  2.2964e-01,  4.9891e-01,  6.3540e-01],\n",
            "        [ 4.5625e-01,  1.4733e+00,  3.3899e-01, -3.0447e+00, -1.0827e+00],\n",
            "        [ 5.4340e-02,  5.5410e-01,  3.6202e-01,  7.6296e-01, -4.8574e-01],\n",
            "        [ 1.5329e+00,  1.6621e+00,  1.9768e-03, -1.3450e+00, -2.6795e-01],\n",
            "        [ 4.1687e-01,  3.4814e-01, -5.1598e-01,  6.5863e-01, -1.4492e+00],\n",
            "        [-6.7131e-01,  1.1449e+00,  1.8642e+00,  8.9198e-02, -5.9960e-01],\n",
            "        [-1.0515e+00,  1.0631e+00,  1.1738e+00, -9.7775e-01,  1.7089e+00],\n",
            "        [-9.1832e-01,  6.2721e-01,  2.4618e-01, -1.4899e+00,  5.3921e-01],\n",
            "        [ 6.4909e-01,  7.1229e-01,  1.0281e-01,  9.2051e-01,  9.0312e-01],\n",
            "        [ 6.2810e-01,  1.5015e+00,  5.3384e-02, -6.8078e-01,  4.9770e-01],\n",
            "        [-1.7017e-01,  1.1591e+00,  1.2841e+00, -9.5487e-01,  2.0663e+00],\n",
            "        [-1.1579e+00,  7.5116e-01,  6.8029e-01, -6.4398e-02,  9.5180e-01],\n",
            "        [ 5.0250e-01,  1.5859e+00, -4.2483e-01, -8.9075e-01, -3.6897e-01],\n",
            "        [ 7.0768e-01,  4.3272e-01,  7.9989e-01,  5.0653e-01,  1.2365e+00],\n",
            "        [ 1.8299e-01,  8.9301e-01,  7.8439e-02, -8.3427e-01, -4.3908e-01],\n",
            "        [-5.8958e-01,  1.1070e+00,  4.5005e-01,  4.8684e-01,  1.1624e+00],\n",
            "        [ 3.3238e-01,  9.6970e-02, -1.9899e+00, -3.7642e-01, -1.7757e+00],\n",
            "        [-3.5386e-01,  2.4053e+00, -4.5534e-01,  2.1655e+00, -1.9186e+00],\n",
            "        [ 1.0500e+00,  1.0478e+00,  3.9899e-01,  3.2466e-01, -2.1275e+00],\n",
            "        [-1.2666e+00,  2.1139e+00,  1.6776e+00, -9.8965e-01, -1.0268e-01],\n",
            "        [-8.4555e-01,  1.2121e+00,  4.0504e-01, -1.6103e+00, -6.3629e-01]]) tensor([0., 0., 1., 1., 0., 0., 1., 0., 1., 0., 0., 1., 0., 1., 0., 0., 0., 1.,\n",
            "        1., 1., 1., 1., 1., 0., 1., 0., 1., 0., 0., 0., 0., 0.])\n",
            "6 tensor([[-0.3863,  0.2963,  0.3019, -2.2053, -1.0281],\n",
            "        [ 1.4330,  1.8176,  0.7665,  0.7986,  0.4991],\n",
            "        [-0.6809,  1.5896, -0.8387,  0.6820,  2.3272],\n",
            "        [-1.1557,  1.2579, -0.1554, -0.2026, -1.5378],\n",
            "        [-0.2058,  1.6385, -0.1843, -1.3645, -1.3768],\n",
            "        [-0.9023,  0.7457, -0.0551, -0.3330,  0.5000],\n",
            "        [ 1.9222,  0.5386,  0.5135,  0.4092,  1.6049],\n",
            "        [ 0.2425,  0.9058,  0.4138,  0.0682,  1.6369],\n",
            "        [-0.2154, -0.1338,  0.7812,  0.1411,  1.9661],\n",
            "        [ 0.4307,  1.4216, -0.5996,  0.3498,  1.0799],\n",
            "        [ 0.7834,  1.1468,  0.7516, -0.5804,  1.6812],\n",
            "        [ 0.5157,  1.1741,  3.3778, -0.0783,  1.9490],\n",
            "        [-0.1540, -0.2474,  1.1359, -0.1620, -1.5644],\n",
            "        [-0.9205,  1.3959,  0.7682,  0.8500,  1.5131],\n",
            "        [ 0.8742,  0.8531,  1.3597, -0.0116,  0.9351],\n",
            "        [-0.0773,  0.9210,  0.7727,  2.3745,  0.7695],\n",
            "        [ 1.2355, -0.5415, -1.1367,  0.6371,  2.1792],\n",
            "        [-0.4222,  0.3304, -0.9082, -0.2180,  0.9832],\n",
            "        [-1.3807,  0.6784, -0.2803,  0.4121,  0.5107],\n",
            "        [-0.6579,  1.2522, -0.0267,  1.0406,  1.0405],\n",
            "        [ 0.9954,  0.7897,  0.2322,  0.5756, -2.1121],\n",
            "        [ 0.8027,  1.4992, -0.0938, -0.6678,  1.0668],\n",
            "        [-1.1561,  0.6931,  0.9901, -1.1088,  0.5585],\n",
            "        [ 1.5899,  1.5700, -1.8664, -0.7202,  1.2376],\n",
            "        [-1.4874,  0.9974, -0.2606,  0.0872, -1.1975],\n",
            "        [ 0.4336,  0.2824, -0.1529,  1.7630, -1.3269],\n",
            "        [ 1.8481, -0.1043,  0.4205,  0.5400, -0.7871],\n",
            "        [-0.4527,  1.7663, -0.1118, -1.1679, -1.9521],\n",
            "        [ 0.4637,  0.7930,  1.1123, -1.1675,  1.7324],\n",
            "        [-0.8142,  1.3784,  0.4061, -1.1652, -2.5526],\n",
            "        [-1.5594, -0.1538,  0.6123, -1.0777, -1.3067],\n",
            "        [ 1.5246,  0.8526,  0.8572, -2.8019, -1.0217]]) tensor([0., 1., 1., 0., 0., 1., 1., 1., 0., 1., 1., 1., 0., 1., 1., 1., 1., 1.,\n",
            "        1., 1., 0., 1., 1., 1., 0., 0., 0., 0., 1., 0., 0., 0.])\n",
            "7 tensor([[ 0.1353,  1.1392,  0.0924, -1.4472,  0.2152],\n",
            "        [-0.1835,  0.5901, -0.6903, -0.1150, -0.7717],\n",
            "        [-0.4281,  1.7316,  0.1460, -1.4330, -0.0385],\n",
            "        [-0.3723,  1.5339, -0.5845, -0.3236,  0.6969],\n",
            "        [-0.2151, -0.5319, -0.8055,  1.5423, -1.9443],\n",
            "        [ 1.5207,  2.0572,  0.3398, -0.2630,  0.4454],\n",
            "        [ 0.4643,  0.5155,  1.9723,  0.6091,  0.1748],\n",
            "        [ 1.0330,  0.1498, -0.1088, -1.3100,  2.0924],\n",
            "        [ 0.1858,  1.5886,  0.1135,  0.9199, -0.2120],\n",
            "        [-1.4992, -0.5074, -1.9820,  0.8984, -1.2915],\n",
            "        [-1.6158,  2.0003, -1.2856,  0.3726, -1.7480],\n",
            "        [ 1.3535,  0.8545,  1.6079,  1.3466,  0.3042],\n",
            "        [ 1.0865,  1.2417,  1.5746,  0.4458, -0.4126],\n",
            "        [-0.3811, -0.1053,  0.9886,  0.6037, -2.6288],\n",
            "        [ 1.0525,  0.4461, -1.7048, -1.8429, -0.7757],\n",
            "        [ 1.1765,  0.0127, -1.2250, -0.5837, -1.9980],\n",
            "        [-0.6144,  1.3972,  0.5541,  0.0964,  0.8365],\n",
            "        [ 0.6054,  0.4968,  2.0541,  0.4726, -1.5093],\n",
            "        [-0.8588,  1.3095,  0.7566, -1.0822, -0.0745],\n",
            "        [ 0.3421,  0.8162,  1.6797,  1.9173, -2.0514],\n",
            "        [-0.9218,  0.9753,  0.9499,  0.1000, -0.3969],\n",
            "        [-0.1570,  0.4548, -0.2633, -1.2102,  0.9575],\n",
            "        [-0.0406,  1.1952,  0.3812, -0.0962, -0.6554],\n",
            "        [-0.6236,  1.1098,  0.2992,  0.0833,  1.7966],\n",
            "        [ 2.3017,  0.6260, -0.5517, -0.7631,  1.2242],\n",
            "        [ 1.1290, -0.4399,  0.6544, -0.2003,  2.6982],\n",
            "        [ 1.5427,  0.1500,  0.1665,  0.2435, -2.2766],\n",
            "        [-0.3612,  1.1165, -1.9911,  0.1225, -1.3240],\n",
            "        [-0.7323,  0.8913,  0.7778,  0.7814, -2.4513],\n",
            "        [-0.5484,  1.0753, -0.8726,  0.2662,  0.2536],\n",
            "        [-0.2812,  0.9765, -1.3453,  0.5053, -0.4704],\n",
            "        [-0.0450,  0.3616,  0.2093, -0.4327,  0.1750]]) tensor([1., 0., 1., 1., 0., 1., 0., 1., 0., 0., 0., 0., 0., 0., 0., 0., 1., 0.,\n",
            "        1., 0., 0., 0., 0., 1., 1., 1., 0., 0., 0., 1., 0., 0.])\n",
            "8 tensor([[-0.2600,  0.3947,  1.4312, -0.8800,  0.3804],\n",
            "        [-0.9448,  1.8866, -0.4760,  0.1650,  0.6029],\n",
            "        [ 1.5942,  1.4567, -1.5435,  0.1035, -0.5955],\n",
            "        [ 0.8428,  0.7093, -0.7537, -0.5387,  1.6711],\n",
            "        [ 0.5446,  1.1792, -2.8500,  2.0542,  0.6179],\n",
            "        [ 1.0481,  1.1781, -0.4363, -1.0685, -0.1502],\n",
            "        [ 0.8202,  0.1050, -1.6950,  0.8173, -1.7291],\n",
            "        [-0.8938,  0.6145, -1.1975, -1.1040, -0.8837],\n",
            "        [-0.1841,  0.9698, -0.1099, -0.7722,  0.7196],\n",
            "        [ 0.8919,  0.1578,  0.1822, -1.2270, -0.0697],\n",
            "        [ 0.9459,  0.5252, -0.3688,  0.1981,  1.1448],\n",
            "        [ 1.1288,  0.0287, -0.6343, -0.2336, -1.8627],\n",
            "        [ 0.0358,  1.0567,  0.5657,  0.2663,  1.0877],\n",
            "        [-0.1224, -0.0862, -1.5303, -0.9085, -1.1629],\n",
            "        [ 0.8722,  1.3401,  0.8221,  0.3240, -1.6402],\n",
            "        [-0.0816,  1.2832,  1.1523, -0.3666,  0.1896],\n",
            "        [ 1.3219,  1.3883, -2.0982, -0.0471,  1.0900],\n",
            "        [-1.3332,  1.1165, -0.6216,  3.2841,  0.4170],\n",
            "        [-0.4028,  0.8982,  1.1128, -0.1693,  0.7691],\n",
            "        [ 0.9118,  1.0213,  0.7159, -0.9618,  1.1446],\n",
            "        [ 0.1420, -0.3127,  1.3723, -0.6729, -1.8925],\n",
            "        [ 0.2230,  0.3112,  0.7184,  0.0105,  1.0069],\n",
            "        [ 0.4304,  1.2057, -2.0614,  1.2747, -1.4673],\n",
            "        [-0.1897,  1.7786,  1.3602,  0.8496, -1.7764],\n",
            "        [-1.1222,  0.1443,  1.4503, -0.7270,  2.2018],\n",
            "        [-0.1928,  1.2278, -0.5432, -1.3395,  0.5451],\n",
            "        [ 1.3618,  1.3653,  1.1601, -0.5867,  1.6585],\n",
            "        [-0.5553,  0.5757, -0.1606,  0.4280,  0.0129],\n",
            "        [-0.2247, -0.0487, -1.1330,  1.0750,  1.7240],\n",
            "        [-1.4384,  0.7397, -0.7894, -1.2699,  1.1928],\n",
            "        [-0.7974,  0.5262,  0.3619,  1.0745, -1.6931],\n",
            "        [-1.4679,  0.9823,  0.1633,  0.4592,  1.0718]]) tensor([0., 1., 0., 1., 0., 0., 0., 0., 0., 0., 1., 0., 1., 0., 0., 1., 1., 1.,\n",
            "        1., 1., 0., 1., 0., 0., 1., 1., 1., 0., 1., 1., 0., 1.])\n",
            "9 tensor([[ 9.9553e-01,  9.4002e-01,  1.6772e+00, -8.1456e-02,  1.3100e+00],\n",
            "        [-3.7915e-02,  8.9969e-01,  2.8727e-01,  9.8526e-02,  5.0266e-01],\n",
            "        [ 5.1616e-01,  2.8737e+00,  4.9811e-01,  1.0654e+00, -1.8684e+00],\n",
            "        [-1.2382e+00,  1.9624e+00,  1.0387e+00,  9.9639e-01, -4.3498e-01],\n",
            "        [ 1.4364e+00,  7.4761e-01,  1.0216e+00, -1.0502e+00, -8.3796e-01],\n",
            "        [ 5.7893e-01,  1.5054e+00, -8.0243e-01,  4.6004e-01, -9.0314e-01],\n",
            "        [-2.2303e-01,  7.4085e-01, -8.2033e-01,  2.8204e-01, -7.1886e-01],\n",
            "        [-1.3405e+00,  1.3205e+00,  1.1936e+00, -3.1983e-01, -5.1826e-01],\n",
            "        [ 1.3459e+00,  1.1410e+00, -1.4825e+00,  6.1846e-01,  9.6355e-01],\n",
            "        [-6.9629e-01,  5.3919e-01,  3.6732e-01,  8.6527e-01,  3.5909e-01],\n",
            "        [-1.1173e+00,  1.3462e+00,  3.6993e-01, -4.1491e-02, -6.0348e-01],\n",
            "        [ 1.0528e-01,  1.4667e+00, -9.9153e-01,  1.5060e-01, -1.5456e+00],\n",
            "        [-6.2937e-01,  6.1772e-01,  1.8628e+00,  7.0188e-01,  1.7466e+00],\n",
            "        [ 7.9274e-01,  3.3194e-01,  4.8731e-01,  2.3429e+00,  1.2384e+00],\n",
            "        [ 7.7005e-01, -1.5120e-01, -1.3818e+00,  1.5061e+00, -2.1367e+00],\n",
            "        [-2.2618e-01,  1.1760e+00, -5.0942e-02, -4.6749e-02,  7.1138e-01],\n",
            "        [ 1.0618e+00,  2.0779e+00,  2.3226e+00,  1.4140e+00,  1.9929e-01],\n",
            "        [ 1.1763e+00,  9.1024e-01,  8.1608e-01, -1.2722e+00,  1.2399e+00],\n",
            "        [ 4.0609e-01,  1.5878e+00,  3.4739e-01, -1.2665e+00,  4.2785e-01],\n",
            "        [-1.0893e+00,  1.7146e+00,  1.8035e-03,  1.1084e+00, -1.7465e+00],\n",
            "        [ 7.0911e-01,  1.0591e+00, -6.0190e-01,  1.6222e-01,  5.1773e-01],\n",
            "        [ 1.1013e+00,  2.0777e+00,  6.0784e-01,  7.1634e-01, -1.2391e+00],\n",
            "        [ 1.7832e-02,  1.4230e+00,  1.0660e+00,  3.7567e-02, -4.8991e-01],\n",
            "        [ 1.3711e+00,  1.3496e+00, -8.2577e-01,  1.7970e-02,  1.5276e+00],\n",
            "        [ 5.3639e-01,  9.3915e-01, -1.3125e+00, -1.6711e+00, -8.2236e-01],\n",
            "        [ 4.6020e-01,  1.3524e+00,  6.9843e-01,  6.9849e-03,  1.0972e+00],\n",
            "        [-8.2579e-01,  2.1495e+00, -5.9699e-01,  7.5944e-01,  4.3289e-02],\n",
            "        [-6.5456e-01,  1.2841e+00,  4.2698e-01,  1.1034e-01,  9.0476e-01],\n",
            "        [-6.1076e-01, -3.0946e-03,  1.4607e+00,  1.0667e-01,  1.4520e+00],\n",
            "        [-3.9947e-01,  1.5850e+00,  1.5821e+00,  1.2919e-01, -2.2240e-01],\n",
            "        [-6.5950e-01,  7.7407e-01,  7.0779e-01,  1.7048e-01,  2.0438e+00],\n",
            "        [ 1.6640e+00,  6.2345e-01,  7.9643e-01, -3.2486e-01,  3.4625e-01]]) tensor([1., 1., 0., 1., 0., 0., 0., 0., 1., 1., 0., 0., 1., 1., 0., 1., 0., 1.,\n",
            "        1., 0., 1., 0., 1., 1., 0., 1., 1., 1., 1., 0., 1., 0.])\n",
            "10 tensor([[-0.2164,  0.2992, -0.3632, -0.1364, -1.8299],\n",
            "        [ 1.0034,  0.7391, -1.0415,  0.5485,  1.2663],\n",
            "        [-0.7347,  1.1672, -1.7006, -0.1945, -1.6573],\n",
            "        [ 0.4449,  0.2378, -1.4439,  0.4116,  0.8588],\n",
            "        [-0.4135,  0.8254,  0.4827, -0.8526,  1.2662],\n",
            "        [ 0.4000,  0.6999,  1.5874,  0.1659, -1.4100],\n",
            "        [-2.1331,  1.3839,  0.3068, -1.0267,  0.7216],\n",
            "        [ 0.7986,  1.7483,  0.3850,  1.1209, -1.7837],\n",
            "        [-0.1165, -0.2828, -0.3828,  0.4892,  1.6868],\n",
            "        [-0.9764,  1.5755, -2.0344,  0.9753,  0.8628],\n",
            "        [ 0.3045,  2.6841,  0.5303, -1.0575, -0.2845],\n",
            "        [ 0.4730,  0.2430,  0.6320,  0.1013,  1.9051],\n",
            "        [-0.0320,  1.1397, -0.6292,  0.0335, -1.6861],\n",
            "        [-0.2494,  1.1176, -1.3997, -1.1630, -1.1357],\n",
            "        [-2.2083,  0.5295,  0.8392, -0.6526,  0.5388],\n",
            "        [-1.6172,  0.4337,  0.6041,  0.3463, -0.3390],\n",
            "        [-0.6336,  1.5166, -0.9627, -2.2567,  1.4329],\n",
            "        [ 1.2588,  1.7001,  0.5425,  0.4829,  1.1383],\n",
            "        [ 0.5615,  1.2810, -1.0887,  0.5629, -2.3159],\n",
            "        [ 0.3366,  0.9058, -0.8348, -0.5430,  1.5831],\n",
            "        [ 0.9137,  1.3553,  0.2754,  0.1861,  0.4270],\n",
            "        [ 0.2379,  0.7738, -1.7960, -0.2546,  1.6529],\n",
            "        [-1.0630,  1.0143,  0.1300,  0.4212, -1.6030],\n",
            "        [-1.8256,  2.0566,  0.1732,  0.4551,  0.1280],\n",
            "        [ 2.3654,  1.7150,  1.0895, -1.4387, -0.7155],\n",
            "        [ 0.2589,  1.7888, -0.0662, -1.0658, -1.8165],\n",
            "        [ 0.1016,  0.5692,  1.5209,  0.1440,  1.4479],\n",
            "        [ 0.4498,  1.0523, -1.2445, -0.7076, -1.4107],\n",
            "        [-0.5694,  1.6590, -0.6418,  0.5917, -0.9935],\n",
            "        [-1.0820,  1.8159,  0.7532, -0.3387, -1.4093],\n",
            "        [ 1.2725,  0.1935, -1.1283, -1.5602,  1.3078],\n",
            "        [-0.6735, -0.1371, -2.1026, -0.8582, -0.1054]]) tensor([0., 1., 0., 0., 1., 0., 1., 0., 1., 1., 0., 1., 0., 0., 1., 0., 1., 1.,\n",
            "        0., 1., 1., 1., 0., 1., 0., 0., 1., 0., 0., 0., 1., 0.])\n",
            "11 tensor([[-1.3662e+00,  2.2470e+00,  8.8361e-01, -1.0814e+00, -1.0188e+00],\n",
            "        [ 7.5496e-01,  2.0755e+00,  8.4251e-01, -1.9419e+00, -8.2155e-01],\n",
            "        [-5.6535e-01,  1.2701e+00,  3.3061e-01,  1.4341e-01, -5.1184e-01],\n",
            "        [ 1.9726e+00,  8.3661e-01, -1.4944e-02, -7.9629e-01,  1.4648e+00],\n",
            "        [ 2.1321e+00,  8.8449e-01,  1.9192e-01,  2.4635e-01,  8.5637e-01],\n",
            "        [ 1.7949e-03,  2.0796e+00, -4.0416e-01,  1.1771e-01, -2.3605e+00],\n",
            "        [ 1.1652e-02,  1.3438e+00,  3.6892e-01,  1.2077e-01,  1.4977e-01],\n",
            "        [-1.5535e+00,  9.1438e-01, -2.0239e+00,  1.0048e+00,  2.5618e-01],\n",
            "        [ 5.5630e-02,  3.7903e-01, -8.9070e-01,  1.8168e+00,  1.6521e+00],\n",
            "        [ 2.2360e-01,  7.7566e-01, -7.7364e-01, -6.9450e-01,  1.0569e+00],\n",
            "        [-2.0684e+00,  1.2068e+00, -1.8284e+00,  8.9395e-02, -1.0610e+00],\n",
            "        [-1.0153e+00,  3.6702e-01,  4.2136e-01,  6.2324e-01,  4.8802e-01],\n",
            "        [-6.6427e-01,  1.9714e-01,  6.3320e-01,  5.0415e-01,  1.1961e+00],\n",
            "        [-5.9662e-01,  4.6653e-01, -4.7734e-01, -2.3776e+00,  1.4995e+00],\n",
            "        [-6.0451e-01,  1.4838e+00,  2.6796e+00,  1.7445e+00,  1.4436e+00],\n",
            "        [-4.4326e-01,  1.5451e+00, -1.3582e+00, -2.8858e-01, -9.0161e-01],\n",
            "        [-1.5901e+00,  3.3176e-01, -3.8041e-03, -6.6465e-01, -2.0422e+00],\n",
            "        [ 6.0676e-01,  1.2472e+00,  2.2527e-01,  1.4107e+00, -6.1065e-01],\n",
            "        [-1.1647e+00,  1.0500e+00,  1.1835e+00, -1.2039e+00,  6.6851e-01],\n",
            "        [ 1.6349e+00,  4.6693e-01, -1.2078e+00,  9.0176e-01,  1.6921e+00],\n",
            "        [ 1.1210e+00,  8.3148e-01, -9.4140e-01,  8.0557e-01, -3.2373e-01],\n",
            "        [-7.6182e-01,  1.0056e+00,  1.4776e-01,  2.1037e-01, -1.2729e+00],\n",
            "        [-1.4293e+00,  1.2889e+00,  2.6529e-01,  1.2863e+00,  8.5505e-01],\n",
            "        [ 3.9591e-01,  1.5139e+00, -1.2534e+00, -1.1717e-01, -6.2154e-01],\n",
            "        [ 1.5894e+00,  8.5921e-01, -1.0264e+00,  2.8391e-01, -1.2984e+00],\n",
            "        [-8.1401e-01,  3.2926e+00,  3.3011e-01, -3.6568e-01, -6.1238e-01],\n",
            "        [ 1.4589e+00,  8.2330e-01, -1.2949e+00,  1.2151e+00,  1.6275e+00],\n",
            "        [ 1.6729e+00,  9.3147e-01, -2.3505e+00, -8.6398e-01, -2.5742e+00],\n",
            "        [-5.8441e-01,  6.2937e-01,  1.2456e+00,  1.0581e+00,  8.6956e-01],\n",
            "        [ 1.1829e+00,  6.8295e-01,  7.7937e-02,  5.0698e-01,  9.6104e-01],\n",
            "        [ 1.0561e+00,  6.6392e-01, -5.7898e-01,  7.8829e-01, -3.3430e-01],\n",
            "        [ 1.4716e+00,  8.8186e-01, -1.9330e-01, -2.1857e-02, -6.0885e-01]]) tensor([0., 0., 0., 1., 1., 0., 1., 1., 1., 1., 0., 1., 1., 1., 1., 0., 0., 0.,\n",
            "        0., 1., 0., 0., 1., 0., 0., 0., 1., 0., 1., 1., 0., 0.])\n",
            "12 tensor([[ 0.2705,  0.3705,  1.4198, -1.6066,  1.8638],\n",
            "        [ 0.7245,  1.0997,  2.9430,  2.3693,  0.0222],\n",
            "        [-0.3403,  1.6547, -1.0509, -0.2257, -1.1811],\n",
            "        [ 0.0160,  1.1273, -0.3184,  0.8996,  1.4958],\n",
            "        [ 2.1934,  0.5846,  0.7705,  0.9557, -1.5015],\n",
            "        [ 0.2421,  0.7796,  2.6983, -0.8510, -1.6201],\n",
            "        [-2.7076,  1.0570,  0.3851,  0.2626,  0.7500],\n",
            "        [ 1.3510,  0.5021,  0.7178,  0.8836,  0.8927],\n",
            "        [-1.0447,  0.7009, -1.5032,  0.4549,  0.6740],\n",
            "        [-0.7228,  0.8957,  1.4316,  0.1937,  2.1423],\n",
            "        [ 0.6544,  1.4390,  0.7959,  0.2899, -0.9150],\n",
            "        [ 0.5982,  1.4006,  0.1045, -0.9755,  0.6222],\n",
            "        [ 1.1068,  1.5621,  0.8188,  0.4148, -0.1775],\n",
            "        [ 0.4955,  0.7793, -0.6749, -0.8330,  0.8975],\n",
            "        [ 1.4717,  1.4394, -0.0501,  0.1777,  0.5693],\n",
            "        [ 0.7691,  2.3421,  0.8639, -0.1877, -2.8717],\n",
            "        [ 0.1881, -0.4253, -1.3115, -0.8512, -0.8318],\n",
            "        [-0.0637,  0.9167,  2.7108, -0.8775, -0.7275],\n",
            "        [-0.7726,  1.2584, -0.8853, -2.0210,  0.9129],\n",
            "        [-0.8889,  0.5158, -1.2690, -0.1597, -1.9805],\n",
            "        [ 0.5085,  0.7948,  0.4301,  0.4226,  0.6046],\n",
            "        [ 0.1655,  0.2897, -1.4121,  0.9661,  1.1958],\n",
            "        [-0.0579,  1.1648, -0.8072, -0.8048,  1.3109],\n",
            "        [ 0.9926,  1.4825,  1.5579, -1.3449, -0.6843],\n",
            "        [ 0.4011,  1.1322, -0.6362,  1.8550,  0.6632],\n",
            "        [ 0.6069,  1.0510,  1.3050, -1.8419, -1.1314],\n",
            "        [ 0.9361,  1.7002,  0.1243,  0.7769,  0.0257],\n",
            "        [ 0.4465,  0.2708, -0.0587,  0.1996, -0.0177],\n",
            "        [-1.0084,  0.8731,  0.3465, -1.5297, -0.5686],\n",
            "        [-0.6874, -0.0631, -0.0517,  1.0982,  1.1717],\n",
            "        [-2.3360,  0.3781,  1.9852, -0.8153,  1.2469],\n",
            "        [ 0.2273,  0.9294, -0.3537,  1.2973,  1.2432]]) tensor([1., 0., 0., 1., 0., 0., 1., 1., 1., 1., 0., 1., 0., 1., 1., 0., 0., 0.,\n",
            "        1., 0., 1., 1., 1., 0., 1., 0., 0., 0., 0., 1., 1., 1.])\n",
            "13 tensor([[ 0.8878,  0.4623, -0.6734,  1.3985, -1.1139],\n",
            "        [-0.1136,  1.4562,  0.4310, -0.0559, -1.0139],\n",
            "        [ 0.6209,  0.1853,  0.1893,  1.2095,  1.4782],\n",
            "        [-0.2469,  1.1742,  0.6735, -1.9260, -0.7585],\n",
            "        [ 0.1977,  2.1054,  0.7020, -2.5216,  1.0591],\n",
            "        [ 0.4920,  2.4023, -1.8825, -1.1311, -0.9788],\n",
            "        [-0.8191,  1.0285, -1.8438,  1.4382,  0.8615],\n",
            "        [ 0.0200,  1.3245, -1.3496, -0.3998, -0.6408],\n",
            "        [-0.8654, -0.2257, -0.0964, -0.0158,  1.9411],\n",
            "        [ 1.1389,  0.9283,  0.4676, -2.2259,  1.7477],\n",
            "        [ 0.9957,  0.7591, -1.5030, -0.8814,  0.4405],\n",
            "        [ 0.0929,  0.5871, -0.0648, -0.5499,  0.2601],\n",
            "        [-0.9241,  2.1055, -0.7200, -1.2535, -0.4082],\n",
            "        [-0.3225,  2.0083,  1.8657,  0.8411,  1.5438],\n",
            "        [-0.7846,  1.7920, -1.0373,  1.2083,  1.1306],\n",
            "        [ 1.4538,  1.5442,  1.0327, -0.4800, -1.7173],\n",
            "        [ 2.6324,  0.8909, -0.5319, -0.4299, -1.5902],\n",
            "        [-0.7635,  0.0621, -0.2997,  0.3835, -1.0306],\n",
            "        [ 0.9713,  0.5220, -1.5705,  1.3951,  0.9980],\n",
            "        [-0.1681,  1.2630,  1.1321,  0.1500,  1.2814],\n",
            "        [ 0.6728,  1.4912, -0.8866, -1.1786,  1.0530],\n",
            "        [ 1.1422,  0.3651, -0.3433,  1.1572, -2.1692],\n",
            "        [-1.1512,  1.3830,  0.6312,  1.1050, -0.9276],\n",
            "        [-0.9728,  2.0949, -0.4514, -0.0376, -0.9634],\n",
            "        [-0.2386,  0.5994, -0.4310,  0.2684, -0.3795],\n",
            "        [ 0.4414,  1.3905,  0.0547,  0.8530,  0.9530],\n",
            "        [-0.5892,  1.0059,  0.3030,  0.1926,  1.2071],\n",
            "        [-1.8008,  1.5910,  0.4457, -0.3412, -0.0796],\n",
            "        [-0.5443,  0.5824,  1.2369, -0.0781,  1.1626],\n",
            "        [ 0.6845, -0.3895,  0.5648, -0.8796, -3.1962],\n",
            "        [-0.0801,  1.5506, -0.2239,  0.2798,  1.8243],\n",
            "        [-0.2285,  1.2234,  0.2568,  0.6671, -3.5854]]) tensor([0., 0., 1., 0., 0., 0., 1., 0., 1., 1., 0., 0., 0., 1., 1., 0., 0., 0.,\n",
            "        1., 1., 1., 0., 0., 0., 0., 1., 1., 1., 1., 0., 1., 0.])\n",
            "14 tensor([[ 0.6710,  0.4012, -0.9581,  0.3301,  2.2584],\n",
            "        [-1.3240,  0.0269, -2.0102,  1.8076, -1.9881],\n",
            "        [-2.5525,  1.3708,  1.2741, -0.4023,  0.6989],\n",
            "        [ 0.7298,  2.1343,  0.2934,  1.3919,  1.7754],\n",
            "        [-1.7152,  0.8827, -0.5077,  0.8259, -1.4299],\n",
            "        [-0.7769,  1.1797,  0.3276, -0.2483,  1.3240],\n",
            "        [-0.3310, -0.1753, -1.2847,  0.4547,  0.4993],\n",
            "        [-0.2134,  1.5302, -2.2832,  0.4685,  0.8407],\n",
            "        [-1.0392,  0.6291, -0.8229,  0.8180, -0.9750],\n",
            "        [-1.6545,  1.1888, -0.0614,  0.4828,  0.5577],\n",
            "        [ 1.5678,  1.2206, -0.2842,  0.6456,  1.6516],\n",
            "        [-1.2464,  1.0699, -0.0488, -1.1420,  0.8567],\n",
            "        [ 0.6184,  0.1865, -0.1601,  1.4556, -2.5318],\n",
            "        [ 0.5569,  0.6339, -0.2659,  1.8640, -1.6151],\n",
            "        [-0.6073,  0.8321,  0.5210,  0.4277,  0.9233],\n",
            "        [ 0.9341,  0.8066, -0.9033,  0.4335,  1.1985],\n",
            "        [ 1.6688,  1.2611,  0.2186, -1.5286,  1.3228],\n",
            "        [ 0.3737,  1.7768,  0.2944, -0.2626,  0.3112],\n",
            "        [ 0.9276,  0.9775,  1.6777, -0.6304,  0.0429],\n",
            "        [ 1.7303,  1.8610, -0.0953, -2.2456,  0.2030],\n",
            "        [-0.4802,  0.5575,  1.1952,  0.2689, -0.5381],\n",
            "        [ 0.2819,  0.8825, -0.5488,  0.4565,  0.5273],\n",
            "        [-2.9118,  1.4655, -0.3997, -1.4446,  1.3603],\n",
            "        [ 0.4154,  1.5857,  0.3595, -2.3831,  1.9951],\n",
            "        [-1.3212,  1.5729,  0.7471,  3.0966,  1.7792],\n",
            "        [-0.7598, -0.0199, -0.9949, -0.7100, -2.8521],\n",
            "        [-0.8374,  1.6317, -1.4337, -2.1069, -0.9876],\n",
            "        [-1.8083,  1.0664, -0.9396,  0.6181, -1.2041],\n",
            "        [-0.2995,  0.9082,  1.1784, -1.2357,  0.2170],\n",
            "        [ 1.7561,  1.1997,  1.1891, -0.7822,  1.3779],\n",
            "        [-0.2033,  1.3154, -0.6719,  1.1222,  0.6366],\n",
            "        [-0.0729,  1.7469, -0.5041,  1.8893, -0.8474]]) tensor([1., 0., 1., 0., 0., 1., 0., 1., 0., 1., 1., 1., 0., 0., 1., 1., 1., 1.,\n",
            "        1., 0., 0., 1., 1., 1., 1., 0., 0., 0., 0., 1., 1., 0.])\n",
            "15 tensor([[ 1.8893, -0.0310,  0.7757,  0.0114,  0.7551],\n",
            "        [ 0.6984,  0.6878,  0.8223,  1.1170,  0.9260],\n",
            "        [ 0.3271,  0.6308,  0.2914,  0.1546,  0.7977],\n",
            "        [-1.1122,  0.5899,  0.7590,  1.5592,  1.1283],\n",
            "        [ 0.6400,  1.2142,  0.9100,  0.3564, -1.0984],\n",
            "        [ 0.9466,  0.9988,  0.6823,  0.6041, -2.6267],\n",
            "        [-1.5515,  0.9175,  0.1525,  2.2143, -0.1377],\n",
            "        [ 0.8715,  1.3851,  0.1434, -1.2512, -1.5168],\n",
            "        [ 0.3998,  1.2113, -1.3639, -0.6808,  1.0892],\n",
            "        [ 1.3664,  1.3447, -2.6518, -0.7377, -0.6868],\n",
            "        [-0.0588,  1.2774,  1.1656, -0.2209, -0.0122],\n",
            "        [-1.0457,  1.1036, -0.5029, -0.2089,  1.4282],\n",
            "        [-0.3778,  1.0333,  2.3674, -1.2909, -1.4075],\n",
            "        [ 2.0699,  1.4323,  1.2362,  0.8544,  1.2895],\n",
            "        [-0.2900,  1.0778,  0.3343, -0.8385, -0.7540],\n",
            "        [-0.0922,  0.9136, -1.3583,  0.9669,  0.8362],\n",
            "        [ 0.4940,  0.6522,  0.9672, -0.3623, -0.4385],\n",
            "        [ 0.3862,  1.7210,  0.0147, -0.1547, -1.3994],\n",
            "        [-1.0817,  0.6453,  1.0686, -1.5023,  1.5389],\n",
            "        [-0.6794,  0.5071,  0.2952, -0.0120, -1.4657],\n",
            "        [ 0.4335,  0.3272, -1.1045, -0.2226, -0.1642],\n",
            "        [-0.9906,  0.9494,  1.3781, -0.3432, -1.5676],\n",
            "        [-0.3876,  1.1778,  0.2349, -1.6654,  0.2599],\n",
            "        [ 0.2265, -0.0207,  0.1805,  1.2979,  1.7452],\n",
            "        [ 0.5715,  1.6420,  0.5858,  1.3878, -0.4599],\n",
            "        [ 0.9648, -0.4855, -0.4290,  1.3000, -0.6217],\n",
            "        [ 2.3176, -0.0051, -0.9561, -1.4073, -1.0639],\n",
            "        [-0.0106,  0.9496,  1.3535,  0.9362,  1.0486],\n",
            "        [-0.8818,  0.6611, -0.4486, -0.5912,  0.8598],\n",
            "        [-0.6133,  0.8524,  1.1961, -0.3389,  1.3097],\n",
            "        [ 0.7997,  1.3069, -1.0513, -0.5869,  0.4941],\n",
            "        [ 0.1902,  1.7986,  1.2687, -0.3796, -1.4626]]) tensor([1., 1., 1., 1., 0., 0., 0., 0., 1., 0., 0., 1., 0., 1., 0., 1., 0., 0.,\n",
            "        1., 0., 0., 0., 1., 1., 1., 0., 0., 1., 1., 1., 1., 0.])\n",
            "16 tensor([[ 0.6691,  1.1328, -0.4995,  1.8691, -1.2644],\n",
            "        [ 0.9679,  1.6527,  0.2183, -0.7179, -1.7189],\n",
            "        [-1.9838,  0.7791,  0.2252, -0.5202,  0.8284],\n",
            "        [ 1.0455,  0.5295,  0.0524, -0.2014, -2.1953],\n",
            "        [ 0.9390,  1.4262,  1.0680, -0.0639,  0.7648],\n",
            "        [-0.5050,  0.7648, -0.9437, -0.1639, -0.2888],\n",
            "        [-0.2395,  0.0449,  0.0850, -0.2731,  0.4763],\n",
            "        [-0.7348,  0.9292,  1.4837, -1.3992, -0.2252],\n",
            "        [-0.0684,  0.6549,  0.8570,  0.0288, -0.6829],\n",
            "        [-0.4565,  0.5511,  1.1975, -1.7951,  1.1246],\n",
            "        [ 1.4714,  1.5626,  0.6962,  0.9075,  1.5130],\n",
            "        [ 1.1077,  2.4839, -0.3284,  0.5666, -1.5997],\n",
            "        [-0.6223,  1.4759,  1.4698, -1.8403, -0.2689],\n",
            "        [ 1.8675,  1.9819,  2.2919, -1.1621, -0.3655],\n",
            "        [-0.3705,  0.9360, -0.6213, -0.2308,  1.6647],\n",
            "        [ 0.5737,  0.0844,  1.3175,  0.0578,  2.2624],\n",
            "        [ 0.4310,  1.3625, -2.2558,  0.1739, -0.8728],\n",
            "        [ 1.5380,  1.3561,  1.3493, -1.6100,  0.0601],\n",
            "        [ 1.2212,  1.3951,  0.4439, -0.1205,  1.1424],\n",
            "        [-0.6566,  0.4118, -0.1471,  0.8740, -1.5398],\n",
            "        [-0.1166, -0.1099,  0.6233,  0.2142,  0.1628],\n",
            "        [-0.6710,  0.5750,  0.6369, -1.0958, -2.4590],\n",
            "        [-0.2645,  1.7054, -0.7663,  0.3658, -0.7654],\n",
            "        [ 0.1176,  0.9603, -0.3983,  0.1514, -0.9856],\n",
            "        [ 0.3619,  0.1768,  0.1361, -1.2224,  1.2477],\n",
            "        [ 0.0520,  1.7370, -0.0723,  0.1272,  0.0967],\n",
            "        [-0.2105,  1.4305, -0.0381, -0.1591, -0.0530],\n",
            "        [ 0.6765, -0.4030,  3.3774, -0.4093,  0.0364],\n",
            "        [ 0.7903,  0.8742,  0.7642,  0.1696,  0.3386],\n",
            "        [ 1.3138,  0.6105,  0.2643, -0.0155, -0.6289],\n",
            "        [ 0.5107,  0.6282, -1.1577, -1.0179,  0.2785],\n",
            "        [-0.8964,  1.5872, -0.5790, -0.4487, -1.2706]]) tensor([0., 0., 1., 0., 0., 1., 1., 0., 0., 1., 1., 0., 0., 0., 1., 1., 0., 1.,\n",
            "        1., 0., 0., 0., 0., 0., 1., 1., 1., 0., 1., 0., 1., 0.])\n",
            "17 tensor([[ 1.5083e+00,  1.1167e+00, -3.2326e+00, -1.0003e+00,  2.6155e+00],\n",
            "        [-5.1542e-02,  1.4758e+00, -1.0660e+00,  1.9120e+00, -2.1113e+00],\n",
            "        [-1.1782e+00,  1.5208e+00, -2.8480e-01,  4.3285e-01,  1.2568e+00],\n",
            "        [ 1.3303e+00,  9.6031e-01,  4.4971e-01,  1.8879e+00,  9.4963e-01],\n",
            "        [-2.1583e-01,  3.1443e-01,  1.2885e-01,  1.1379e+00,  2.0444e+00],\n",
            "        [ 8.9186e-01,  9.7360e-01,  8.5072e-01, -1.1133e+00, -7.1177e-01],\n",
            "        [ 4.4104e-01,  6.2764e-01,  1.6350e+00, -8.3858e-01,  1.8501e+00],\n",
            "        [-8.7554e-02,  1.1785e+00, -1.4512e+00, -2.3308e-01,  1.2625e+00],\n",
            "        [ 1.9825e+00,  7.9213e-01,  1.0296e+00,  9.5376e-01, -1.6067e+00],\n",
            "        [-3.9125e-03,  3.2400e-01,  1.8680e+00,  7.0050e-01,  1.4759e+00],\n",
            "        [-2.2381e-03,  9.3196e-01,  1.5715e-01, -1.0674e+00, -1.8849e-01],\n",
            "        [ 2.7820e-01,  1.2265e+00, -5.4955e-01,  1.5558e-01,  1.8561e+00],\n",
            "        [ 1.2727e+00,  1.1803e+00, -4.3230e-01, -1.1695e+00, -1.8903e+00],\n",
            "        [ 4.7730e-01,  4.8385e-01, -9.3117e-01,  2.1751e-01,  1.2191e+00],\n",
            "        [-2.1272e-01,  1.1380e+00,  3.0928e-01,  2.3046e-01,  1.1665e+00],\n",
            "        [ 3.1427e-01,  8.7260e-01,  6.5732e-01,  1.0608e+00,  1.4885e+00],\n",
            "        [ 1.0454e-01,  1.4381e+00, -9.5111e-01, -1.4469e-01,  1.9371e-01],\n",
            "        [-1.0010e+00,  1.9946e+00,  1.2784e+00,  1.0332e+00, -2.5082e-01],\n",
            "        [-1.8224e-01,  1.5418e+00, -1.7460e+00,  6.8844e-01,  8.4270e-01],\n",
            "        [ 5.5212e-01,  6.3561e-01, -1.5256e+00, -7.8040e-01,  9.9073e-01],\n",
            "        [ 3.6604e-02,  1.3759e+00,  2.1572e+00,  1.8143e+00,  1.0387e+00],\n",
            "        [-5.3878e-01,  1.8420e+00,  1.3160e+00, -1.8706e-01, -2.5470e+00],\n",
            "        [-5.1061e-01,  8.4792e-01, -6.5477e-01,  7.9915e-02, -3.3330e-01],\n",
            "        [ 1.0064e+00,  1.5792e+00, -1.4648e-01, -1.0578e+00, -1.4011e+00],\n",
            "        [ 2.1210e+00,  8.9623e-01, -7.4023e-01,  9.7785e-01, -1.0575e+00],\n",
            "        [-5.8834e-01,  7.2960e-01, -1.3592e+00,  9.0798e-01,  1.1126e+00],\n",
            "        [ 1.4930e+00,  1.0919e+00,  5.3370e-01, -3.9102e-01, -1.3053e+00],\n",
            "        [-1.2844e+00,  2.5077e-01, -6.8017e-01,  1.4759e+00, -1.4264e+00],\n",
            "        [ 4.7963e-01,  1.2289e+00,  2.3783e-01, -4.3230e-01, -1.2056e+00],\n",
            "        [-3.8556e-01,  1.1599e+00,  4.1666e-01,  1.9092e-01,  1.1856e+00],\n",
            "        [ 4.3984e-01,  2.3036e+00, -1.0939e-02,  1.6764e+00, -3.6722e-01],\n",
            "        [-3.4942e-02,  1.3406e+00,  1.3558e+00, -9.0733e-01, -8.7715e-01]]) tensor([1., 0., 1., 1., 1., 0., 1., 1., 0., 1., 0., 1., 0., 1., 1., 1., 1., 0.,\n",
            "        1., 1., 1., 0., 0., 0., 0., 1., 0., 0., 0., 1., 1., 0.])\n",
            "18 tensor([[ 4.4230e-01,  1.1690e+00,  1.4062e+00, -1.7890e+00,  1.4574e+00],\n",
            "        [ 1.7097e+00,  2.2155e+00,  8.7006e-01,  1.2099e+00,  1.3393e+00],\n",
            "        [ 3.2857e+00,  7.0552e-01,  3.4901e-01,  6.9517e-01,  2.0918e+00],\n",
            "        [ 3.8034e-01,  4.3630e-01,  1.6940e-01,  1.5351e+00,  6.4119e-01],\n",
            "        [ 3.6850e-01,  1.0132e+00,  8.3699e-01, -4.5768e-01, -6.8957e-01],\n",
            "        [-5.6105e-01,  9.1457e-01,  2.8457e-01, -2.5083e-01,  2.0322e+00],\n",
            "        [ 1.1350e+00,  1.1385e+00, -4.3968e-01, -7.4126e-01,  1.1230e+00],\n",
            "        [-6.0468e-01,  1.2125e-01, -8.6051e-01, -2.0871e+00,  1.3531e+00],\n",
            "        [ 2.3850e-01, -5.0302e-01,  1.3982e-01,  8.8558e-01, -9.2897e-01],\n",
            "        [-8.5961e-01,  7.0339e-01, -3.5799e-01, -8.9057e-01, -2.0241e+00],\n",
            "        [-9.1664e-01,  1.3170e+00, -9.8966e-01, -1.1135e-01,  5.1462e-01],\n",
            "        [-4.4891e-01,  1.2012e+00, -1.0982e+00, -4.0611e-01, -8.8360e-01],\n",
            "        [-6.1531e-01,  1.3341e+00,  6.1288e-01,  1.8579e+00,  7.3627e-01],\n",
            "        [ 1.4707e+00,  1.1605e+00, -1.1654e+00, -1.3253e+00,  6.3295e-01],\n",
            "        [-9.8039e-01,  1.1875e+00,  4.2616e-01,  2.1353e+00,  6.0786e-01],\n",
            "        [-3.7893e-02,  1.1702e+00, -2.3952e-01,  1.2815e+00,  1.3518e+00],\n",
            "        [-2.6814e-01,  4.6018e-01,  5.8452e-01,  1.6664e-01, -2.4310e+00],\n",
            "        [-1.4872e+00,  9.7833e-01,  1.6829e+00,  7.1833e-01,  1.3106e+00],\n",
            "        [ 2.0614e-01,  1.4697e+00, -5.1340e-01, -2.1117e-03,  1.0745e+00],\n",
            "        [ 1.1665e+00,  1.5420e+00,  6.9382e-01,  8.9134e-01, -9.4391e-01],\n",
            "        [-1.1151e+00,  5.5737e-01, -1.6188e+00,  7.3219e-02,  1.4887e+00],\n",
            "        [ 1.1968e+00,  1.1594e+00,  1.5280e+00,  4.3212e-01,  3.2625e-01],\n",
            "        [-2.4286e-02,  9.4525e-01,  1.2092e+00,  1.6390e+00, -5.8259e-01],\n",
            "        [ 5.0113e-01,  1.5814e+00,  1.5891e+00, -4.8663e-01, -2.9435e-01]]) tensor([1., 1., 1., 1., 0., 1., 1., 1., 0., 0., 1., 0., 1., 1., 1., 1., 0., 1.,\n",
            "        1., 0., 1., 1., 1., 0.])\n"
          ]
        }
      ]
    },
    {
      "cell_type": "markdown",
      "source": [
        "## 모델 정의"
      ],
      "metadata": {
        "id": "Beyg4fDuBO9y"
      }
    },
    {
      "cell_type": "code",
      "source": [
        "class LogisticRegression(nn.Module):\n",
        "  def __init__(self, input_dim):\n",
        "    super(LogisticRegression, self).__init__()\n",
        "    self.linear = nn.Linear(input_dim,1)\n",
        "\n",
        "  def forward(self, x):\n",
        "    out = self.linear(x)\n",
        "    out = torch.sigmoid(out)\n",
        "\n",
        "    return out\n",
        "\n",
        "model = LogisticRegression(input_dim=5)\n",
        "\n",
        "print(model)\n"
      ],
      "metadata": {
        "id": "K-f40s8kql9S",
        "colab": {
          "base_uri": "https://localhost:8080/"
        },
        "outputId": "694ffe8e-a395-4b75-f216-6850162b93d6"
      },
      "execution_count": 53,
      "outputs": [
        {
          "output_type": "stream",
          "name": "stdout",
          "text": [
            "LogisticRegression(\n",
            "  (linear): Linear(in_features=5, out_features=1, bias=True)\n",
            ")\n"
          ]
        }
      ]
    },
    {
      "cell_type": "markdown",
      "source": [
        "## 모델을 학습시키기 전 학습에 필요한 Loss Function , optimizer 선언"
      ],
      "metadata": {
        "id": "vTVt78itEAfR"
      }
    },
    {
      "cell_type": "code",
      "source": [
        "pip install adamp"
      ],
      "metadata": {
        "colab": {
          "base_uri": "https://localhost:8080/"
        },
        "id": "lYRghxZOFG36",
        "outputId": "24d03c0e-6928-490d-b032-1fab5bd49a27"
      },
      "execution_count": 55,
      "outputs": [
        {
          "output_type": "stream",
          "name": "stdout",
          "text": [
            "Collecting adamp\n",
            "  Downloading adamp-0.3.0.tar.gz (5.1 kB)\n",
            "  Preparing metadata (setup.py) ... \u001b[?25l\u001b[?25hdone\n",
            "Building wheels for collected packages: adamp\n",
            "  Building wheel for adamp (setup.py) ... \u001b[?25l\u001b[?25hdone\n",
            "  Created wheel for adamp: filename=adamp-0.3.0-py3-none-any.whl size=5980 sha256=155294a97e35cc2e1e2b656f8119d949b444644e92be7222a27f29ed01c2a311\n",
            "  Stored in directory: /root/.cache/pip/wheels/c7/ad/0f/b41b1c45b18c66e5eef5d2254415af8055c7e2b0934145157d\n",
            "Successfully built adamp\n",
            "Installing collected packages: adamp\n",
            "Successfully installed adamp-0.3.0\n"
          ]
        }
      ]
    },
    {
      "cell_type": "code",
      "source": [
        "from adamp import SGDP\n",
        "\n",
        "criterion = nn.BCELoss() # 사용한 이유는 0과 1 분류 이진분류 하기 때문입니다.\n",
        "optimizer = SGDP(model.parameters(), lr=0.01, weight_decay = 1e-5 , momentum=0.9 , nesterov=True)\n",
        "optimizer_1 = optim.SGD(model.parameters(), lr=0.01, weight_decay = 1e-5 , momentum=0.9 , nesterov=True)\n",
        "print(optimizer)"
      ],
      "metadata": {
        "colab": {
          "base_uri": "https://localhost:8080/"
        },
        "id": "nWLBfuzf6kmc",
        "outputId": "54b19f4b-437e-45c4-f7cc-dfbe0b81a0be"
      },
      "execution_count": 61,
      "outputs": [
        {
          "output_type": "stream",
          "name": "stdout",
          "text": [
            "SGDP (\n",
            "Parameter Group 0\n",
            "    dampening: 0\n",
            "    delta: 0.1\n",
            "    eps: 1e-08\n",
            "    lr: 0.01\n",
            "    momentum: 0.9\n",
            "    nesterov: True\n",
            "    wd_ratio: 0.1\n",
            "    weight_decay: 1e-05\n",
            ")\n"
          ]
        }
      ]
    },
    {
      "cell_type": "markdown",
      "source": [
        "### Train loop 구현"
      ],
      "metadata": {
        "id": "wb5Sp9LiFidS"
      }
    },
    {
      "cell_type": "code",
      "source": [
        "# 얼마만큼 돌릴꺼냐\n",
        "num_epochs = 100\n",
        "for epoch in range(num_epochs):\n",
        "  for inputs, targets in train_loader:\n",
        "    # print(targets)\n",
        "    # print(\"unsqueeze>> \", targets.unsqueeze(1))\n",
        "    # 옵티마이저 초기화 진행\n",
        "    optimizer_1.zero_grad()\n",
        "\n",
        "    outputs = model(inputs)\n",
        "    loss = criterion(outputs, targets.unsqueeze(1))\n",
        "    loss.backward()\n",
        "\n",
        "    optimizer_1.step()\n",
        "    #loss = criterion(outputs, targets.unsqueeze(1))\n",
        "\n",
        "  if epoch % 10 ==0:\n",
        "    print(f\"epoch:{epoch+1}/{num_epochs}, Loss : {loss.item():.4f}\")\n",
        "\n",
        "\"\"\" SGDP로 돌릴때\n",
        "epoch:1/100, Loss : 0.1353\n",
        "epoch:11/100, Loss : 0.1972\n",
        "epoch:21/100, Loss : 0.3054\n",
        "epoch:31/100, Loss : 0.2681\n",
        "epoch:41/100, Loss : 0.1706\n",
        "epoch:51/100, Loss : 0.2328\n",
        "epoch:61/100, Loss : 0.3620\n",
        "epoch:71/100, Loss : 0.2956\n",
        "epoch:81/100, Loss : 0.1078\n",
        "epoch:91/100, Loss : 0.0980\n",
        "\"\"\"\n",
        "\"\"\" optim.sgd로 돌릴떄\n",
        "epoch:1/100, Loss : 0.1484\n",
        "epoch:11/100, Loss : 0.3042\n",
        "epoch:21/100, Loss : 0.1279\n",
        "epoch:31/100, Loss : 0.2043\n",
        "epoch:41/100, Loss : 0.2385\n",
        "epoch:51/100, Loss : 0.4871\n",
        "epoch:61/100, Loss : 0.2587\n",
        "epoch:71/100, Loss : 0.1924\n",
        "epoch:81/100, Loss : 0.1691\n",
        "epoch:91/100, Loss : 0.2521\n",
        "\n",
        "\"\"\"\n",
        "\n"
      ],
      "metadata": {
        "colab": {
          "base_uri": "https://localhost:8080/",
          "height": 236
        },
        "id": "3AvFM__x6kjp",
        "outputId": "ec7a112a-877b-4f81-fab3-191c7dcaee54"
      },
      "execution_count": 62,
      "outputs": [
        {
          "output_type": "stream",
          "name": "stdout",
          "text": [
            "epoch:1/100, Loss : 0.1484\n",
            "epoch:11/100, Loss : 0.3042\n",
            "epoch:21/100, Loss : 0.1279\n",
            "epoch:31/100, Loss : 0.2043\n",
            "epoch:41/100, Loss : 0.2385\n",
            "epoch:51/100, Loss : 0.4871\n",
            "epoch:61/100, Loss : 0.2587\n",
            "epoch:71/100, Loss : 0.1924\n",
            "epoch:81/100, Loss : 0.1691\n",
            "epoch:91/100, Loss : 0.2521\n"
          ]
        },
        {
          "output_type": "execute_result",
          "data": {
            "text/plain": [
              "' SGDP로 돌릴때\\nepoch:1/100, Loss : 0.1353\\nepoch:11/100, Loss : 0.1972\\nepoch:21/100, Loss : 0.3054\\nepoch:31/100, Loss : 0.2681\\nepoch:41/100, Loss : 0.1706\\nepoch:51/100, Loss : 0.2328\\nepoch:61/100, Loss : 0.3620\\nepoch:71/100, Loss : 0.2956\\nepoch:81/100, Loss : 0.1078\\nepoch:91/100, Loss : 0.0980\\n'"
            ],
            "application/vnd.google.colaboratory.intrinsic+json": {
              "type": "string"
            }
          },
          "metadata": {},
          "execution_count": 62
        }
      ]
    },
    {
      "cell_type": "markdown",
      "source": [
        "## 선형 분류 - 로지스틱 회귀\n",
        "패션 mnist\n",
        "각 이미지 크기는 28*28 흑백 총 10개 클래스"
      ],
      "metadata": {
        "id": "TDzJPHtFIbdR"
      }
    },
    {
      "cell_type": "code",
      "source": [
        "\"\"\"\n",
        "0티셔츠\n",
        "1바지\n",
        "2스웨터\n",
        "3드레스\n",
        "4코트\n",
        "5샌들\n",
        "6셔츠\n",
        "7운동화\n",
        "8가방\n",
        "9앵글 부추\n",
        "\"\"\""
      ],
      "metadata": {
        "colab": {
          "base_uri": "https://localhost:8080/",
          "height": 35
        },
        "id": "01YoPKgW6kg7",
        "outputId": "2b3ba223-10a8-40a7-df5c-1e8ba90ca770"
      },
      "execution_count": 63,
      "outputs": [
        {
          "output_type": "execute_result",
          "data": {
            "text/plain": [
              "'\\n0티셔츠\\n1바지\\n2스웨터\\n3드레스\\n4코트\\n5샌들\\n6셔츠\\n7운동화\\n8가방\\n9앵글 부추\\n'"
            ],
            "application/vnd.google.colaboratory.intrinsic+json": {
              "type": "string"
            }
          },
          "metadata": {},
          "execution_count": 63
        }
      ]
    },
    {
      "cell_type": "code",
      "source": [
        "import torch\n",
        "import torch.nn as nn\n",
        "import torch.optim as optim\n",
        "import torchvision.datasets as dataset\n",
        "import torchvision.transforms as transforms\n",
        "import matplotlib.pyplot as plt"
      ],
      "metadata": {
        "id": "hLBgfPaA6ked"
      },
      "execution_count": 65,
      "outputs": []
    },
    {
      "cell_type": "markdown",
      "source": [
        "## 데이터셋 다운로드 하고 DATALOAER 생성하기"
      ],
      "metadata": {
        "id": "OTmCyPjnbohZ"
      }
    },
    {
      "cell_type": "code",
      "source": [
        "#train_dataset = dataset.FashionMNIST(root=\"/content/\",train=True,transform=transforms.ToTensor(), download=True)\n",
        "#test_dataset = dataset.FashionMNIST(root=\"/content/\",train=False,transform=transforms.ToTensor(), download=True)"
      ],
      "metadata": {
        "colab": {
          "base_uri": "https://localhost:8080/"
        },
        "id": "BlToIEzo6kcV",
        "outputId": "e3dae63b-6c4a-4a8c-9518-b2744614d291"
      },
      "execution_count": 66,
      "outputs": [
        {
          "output_type": "stream",
          "name": "stdout",
          "text": [
            "Downloading http://fashion-mnist.s3-website.eu-central-1.amazonaws.com/train-images-idx3-ubyte.gz\n",
            "Downloading http://fashion-mnist.s3-website.eu-central-1.amazonaws.com/train-images-idx3-ubyte.gz to /content/FashionMNIST/raw/train-images-idx3-ubyte.gz\n"
          ]
        },
        {
          "output_type": "stream",
          "name": "stderr",
          "text": [
            "100%|██████████| 26421880/26421880 [00:02<00:00, 11241942.79it/s]\n"
          ]
        },
        {
          "output_type": "stream",
          "name": "stdout",
          "text": [
            "Extracting /content/FashionMNIST/raw/train-images-idx3-ubyte.gz to /content/FashionMNIST/raw\n",
            "\n",
            "Downloading http://fashion-mnist.s3-website.eu-central-1.amazonaws.com/train-labels-idx1-ubyte.gz\n",
            "Downloading http://fashion-mnist.s3-website.eu-central-1.amazonaws.com/train-labels-idx1-ubyte.gz to /content/FashionMNIST/raw/train-labels-idx1-ubyte.gz\n"
          ]
        },
        {
          "output_type": "stream",
          "name": "stderr",
          "text": [
            "100%|██████████| 29515/29515 [00:00<00:00, 199109.09it/s]\n"
          ]
        },
        {
          "output_type": "stream",
          "name": "stdout",
          "text": [
            "Extracting /content/FashionMNIST/raw/train-labels-idx1-ubyte.gz to /content/FashionMNIST/raw\n",
            "\n",
            "Downloading http://fashion-mnist.s3-website.eu-central-1.amazonaws.com/t10k-images-idx3-ubyte.gz\n",
            "Downloading http://fashion-mnist.s3-website.eu-central-1.amazonaws.com/t10k-images-idx3-ubyte.gz to /content/FashionMNIST/raw/t10k-images-idx3-ubyte.gz\n"
          ]
        },
        {
          "output_type": "stream",
          "name": "stderr",
          "text": [
            "100%|██████████| 4422102/4422102 [00:01<00:00, 3727275.82it/s]\n"
          ]
        },
        {
          "output_type": "stream",
          "name": "stdout",
          "text": [
            "Extracting /content/FashionMNIST/raw/t10k-images-idx3-ubyte.gz to /content/FashionMNIST/raw\n",
            "\n",
            "Downloading http://fashion-mnist.s3-website.eu-central-1.amazonaws.com/t10k-labels-idx1-ubyte.gz\n",
            "Downloading http://fashion-mnist.s3-website.eu-central-1.amazonaws.com/t10k-labels-idx1-ubyte.gz to /content/FashionMNIST/raw/t10k-labels-idx1-ubyte.gz\n"
          ]
        },
        {
          "output_type": "stream",
          "name": "stderr",
          "text": [
            "100%|██████████| 5148/5148 [00:00<00:00, 12860200.71it/s]"
          ]
        },
        {
          "output_type": "stream",
          "name": "stdout",
          "text": [
            "Extracting /content/FashionMNIST/raw/t10k-labels-idx1-ubyte.gz to /content/FashionMNIST/raw\n",
            "\n"
          ]
        },
        {
          "output_type": "stream",
          "name": "stderr",
          "text": [
            "\n"
          ]
        }
      ]
    },
    {
      "cell_type": "code",
      "source": [
        "# train Loader test Loaer 설정\n",
        "train_loader = torch.utils.data.DataLoader(dataset=train_dataset, batch_size=100, shuffle=True)\n",
        "test_loader = torch.utils.data.DataLoader(dataset=test_dataset, batch_size=100, shuffle=True)\n"
      ],
      "metadata": {
        "id": "jRm1xV9lfXeM"
      },
      "execution_count": 67,
      "outputs": []
    },
    {
      "cell_type": "code",
      "source": [
        "class LogisticRegression(nn.Module):\n",
        "  def __init__(self, input_size, num_classes):\n",
        "    super(LogisticRegression, self).__init__()\n",
        "    self.linear = nn.Linear(input_size, num_classes)\n",
        "\n",
        "  def forward(self, x):\n",
        "    out = self.linear(x)\n",
        "    return out\n",
        "\n",
        "\n",
        "\n"
      ],
      "metadata": {
        "id": "wHDSmbGwfXbr"
      },
      "execution_count": 69,
      "outputs": []
    },
    {
      "cell_type": "markdown",
      "source": [
        "### 하이퍼 파라미터 설정"
      ],
      "metadata": {
        "id": "t1EnQEMxnFKV"
      }
    },
    {
      "cell_type": "code",
      "source": [
        "input_size = 28*28\n",
        "num_classes = 10\n",
        "num_epochs = 10\n",
        "lr = 0.001\n",
        "\n",
        "total_step = len(train_loader)"
      ],
      "metadata": {
        "id": "K-iEKMoTfXZY"
      },
      "execution_count": 68,
      "outputs": []
    },
    {
      "cell_type": "markdown",
      "source": [
        "### 모델 , Loss , 옵티마이저 정의"
      ],
      "metadata": {
        "id": "Dplyf416naWC"
      }
    },
    {
      "cell_type": "code",
      "source": [
        "model = LogisticRegression(input_size=input_size,num_classes=num_classes )\n",
        "# print(model)\n",
        "\n",
        "criterion = nn.CrossEntropyLoss()\n",
        "optimizer = optim.SGD(model.parameters(), lr=lr, momentum=0.9)\n",
        "\n"
      ],
      "metadata": {
        "id": "H9d5y2qefXXX"
      },
      "execution_count": 71,
      "outputs": []
    },
    {
      "cell_type": "markdown",
      "source": [
        "Train loop"
      ],
      "metadata": {
        "id": "x7ua2_Apn7YC"
      }
    },
    {
      "cell_type": "code",
      "source": [
        "loss_list = []\n",
        "acc_list = []\n",
        "\n",
        "for epoch in range(num_epochs):\n",
        "  correct = 0\n",
        "  total = 0\n",
        "  for i,(images,labels) in enumerate(train_loader):\n",
        "    # 데이터 로드\n",
        "    images = images.reshape(-1, input_size)\n",
        "    labels = labels\n",
        "    # 순전파 및 loss계산\n",
        "    outputs = model(images)\n",
        "    loss = criterion(outputs, labels)\n",
        "\n",
        "    # 역전파 및 가중치 업데이트\n",
        "    loss.backward()\n",
        "    optimizer.step()\n",
        "\n",
        "    # 로그 출력\n",
        "    if (i+1) % 100 ==0:\n",
        "      loss_list.append(loss.item())\n",
        "      _,predicted = torch.max(outputs.data, 1)\n",
        "      total += labels.size(0)\n",
        "      correct += (predicted == labels).sum().item()\n",
        "      acc_list.append(correct/ total)\n",
        "\n",
        "      print(\"Epoch [{}/{}] step [{}/{}], loss : {:.4f}, train_acc:{:.4f}\".format(\n",
        "          epoch+1 , num_epochs, i+1 , total_step, loss.item(), acc_list[-1]\n",
        "      ))\n",
        "\n",
        "# 손실 및 정확도 그래프\n",
        "plt.plot(loss_list, label=\"Train loss\")\n",
        "plt.plot(acc_list, label=\"Train acc\")\n",
        "plt.xlabel(\"Iterations\")\n",
        "plt.ylabel(\"Loss/ACC\")\n",
        "plt.legend()\n",
        "plt.show()"
      ],
      "metadata": {
        "colab": {
          "base_uri": "https://localhost:8080/",
          "height": 1000
        },
        "id": "FOkFQkmPfXU5",
        "outputId": "faf7db3b-d828-4ef3-ef82-49fc4c2c3c64"
      },
      "execution_count": 77,
      "outputs": [
        {
          "output_type": "stream",
          "name": "stdout",
          "text": [
            "Epoch [1/10] step [100/600], loss : 309.9943, train_acc:0.6200\n",
            "Epoch [1/10] step [200/600], loss : 437.0892, train_acc:0.6000\n",
            "Epoch [1/10] step [300/600], loss : 205.8002, train_acc:0.6567\n",
            "Epoch [1/10] step [400/600], loss : 670.2158, train_acc:0.6625\n",
            "Epoch [1/10] step [500/600], loss : 644.1277, train_acc:0.6520\n",
            "Epoch [1/10] step [600/600], loss : 442.1639, train_acc:0.6567\n",
            "Epoch [2/10] step [100/600], loss : 659.7947, train_acc:0.6200\n",
            "Epoch [2/10] step [200/600], loss : 507.4395, train_acc:0.6600\n",
            "Epoch [2/10] step [300/600], loss : 728.0649, train_acc:0.6333\n",
            "Epoch [2/10] step [400/600], loss : 745.2656, train_acc:0.6525\n",
            "Epoch [2/10] step [500/600], loss : 585.5224, train_acc:0.6660\n",
            "Epoch [2/10] step [600/600], loss : 532.1071, train_acc:0.6717\n",
            "Epoch [3/10] step [100/600], loss : 671.3767, train_acc:0.6300\n",
            "Epoch [3/10] step [200/600], loss : 1269.6981, train_acc:0.6050\n",
            "Epoch [3/10] step [300/600], loss : 815.6429, train_acc:0.6233\n",
            "Epoch [3/10] step [400/600], loss : 618.2573, train_acc:0.6525\n",
            "Epoch [3/10] step [500/600], loss : 1058.2627, train_acc:0.6580\n",
            "Epoch [3/10] step [600/600], loss : 949.9958, train_acc:0.6617\n",
            "Epoch [4/10] step [100/600], loss : 504.2642, train_acc:0.7200\n",
            "Epoch [4/10] step [200/600], loss : 593.3176, train_acc:0.7550\n",
            "Epoch [4/10] step [300/600], loss : 891.6891, train_acc:0.7400\n",
            "Epoch [4/10] step [400/600], loss : 1372.0046, train_acc:0.7300\n",
            "Epoch [4/10] step [500/600], loss : 1287.8319, train_acc:0.7300\n",
            "Epoch [4/10] step [600/600], loss : 1038.0503, train_acc:0.7250\n",
            "Epoch [5/10] step [100/600], loss : 860.1191, train_acc:0.7600\n",
            "Epoch [5/10] step [200/600], loss : 718.3928, train_acc:0.7700\n",
            "Epoch [5/10] step [300/600], loss : 1185.6495, train_acc:0.7467\n",
            "Epoch [5/10] step [400/600], loss : 976.4543, train_acc:0.7550\n",
            "Epoch [5/10] step [500/600], loss : 702.2393, train_acc:0.7520\n",
            "Epoch [5/10] step [600/600], loss : 543.4858, train_acc:0.7550\n",
            "Epoch [6/10] step [100/600], loss : 932.7245, train_acc:0.8000\n",
            "Epoch [6/10] step [200/600], loss : 1449.9103, train_acc:0.7450\n",
            "Epoch [6/10] step [300/600], loss : 1666.2556, train_acc:0.7300\n",
            "Epoch [6/10] step [400/600], loss : 1190.6564, train_acc:0.7350\n",
            "Epoch [6/10] step [500/600], loss : 1525.1938, train_acc:0.7280\n",
            "Epoch [6/10] step [600/600], loss : 899.1833, train_acc:0.7283\n",
            "Epoch [7/10] step [100/600], loss : 825.2874, train_acc:0.7700\n",
            "Epoch [7/10] step [200/600], loss : 2022.2233, train_acc:0.7650\n",
            "Epoch [7/10] step [300/600], loss : 2166.9766, train_acc:0.7400\n",
            "Epoch [7/10] step [400/600], loss : 912.8943, train_acc:0.7500\n",
            "Epoch [7/10] step [500/600], loss : 1462.2042, train_acc:0.7420\n",
            "Epoch [7/10] step [600/600], loss : 519.5358, train_acc:0.7567\n",
            "Epoch [8/10] step [100/600], loss : 1612.2533, train_acc:0.7700\n",
            "Epoch [8/10] step [200/600], loss : 2157.7009, train_acc:0.7600\n",
            "Epoch [8/10] step [300/600], loss : 1750.5341, train_acc:0.7433\n",
            "Epoch [8/10] step [400/600], loss : 1264.9265, train_acc:0.7525\n",
            "Epoch [8/10] step [500/600], loss : 1095.7605, train_acc:0.7620\n",
            "Epoch [8/10] step [600/600], loss : 2087.4600, train_acc:0.7467\n",
            "Epoch [9/10] step [100/600], loss : 1080.4071, train_acc:0.7700\n",
            "Epoch [9/10] step [200/600], loss : 1226.8076, train_acc:0.7600\n",
            "Epoch [9/10] step [300/600], loss : 2130.4202, train_acc:0.7533\n",
            "Epoch [9/10] step [400/600], loss : 1117.0626, train_acc:0.7575\n",
            "Epoch [9/10] step [500/600], loss : 1153.5526, train_acc:0.7620\n",
            "Epoch [9/10] step [600/600], loss : 1069.1138, train_acc:0.7733\n",
            "Epoch [10/10] step [100/600], loss : 1210.3994, train_acc:0.7900\n",
            "Epoch [10/10] step [200/600], loss : 1750.0017, train_acc:0.7700\n",
            "Epoch [10/10] step [300/600], loss : 2893.0000, train_acc:0.7567\n",
            "Epoch [10/10] step [400/600], loss : 1151.7214, train_acc:0.7725\n",
            "Epoch [10/10] step [500/600], loss : 2421.3718, train_acc:0.7640\n",
            "Epoch [10/10] step [600/600], loss : 1004.7912, train_acc:0.7783\n"
          ]
        },
        {
          "output_type": "display_data",
          "data": {
            "text/plain": [
              "<Figure size 640x480 with 1 Axes>"
            ],
            "image/png": "[encoded data removed]"
          },
          "metadata": {}
        }
      ]
    },
    {
      "cell_type": "code",
      "source": [
        "\n"
      ],
      "metadata": {
        "id": "3Nfw6es8fXS0"
      },
      "execution_count": null,
      "outputs": []
    },
    {
      "cell_type": "code",
      "source": [],
      "metadata": {
        "id": "92LW8A_bfXQf"
      },
      "execution_count": null,
      "outputs": []
    },
    {
      "cell_type": "code",
      "source": [],
      "metadata": {
        "id": "k4LLPo3_fXOZ"
      },
      "execution_count": null,
      "outputs": []
    },
    {
      "cell_type": "code",
      "source": [],
      "metadata": {
        "id": "naEfiDGG6kaT"
      },
      "execution_count": null,
      "outputs": []
    },
    {
      "cell_type": "code",
      "source": [],
      "metadata": {
        "id": "5vNe3SDY6kYV"
      },
      "execution_count": null,
      "outputs": []
    },
    {
      "cell_type": "code",
      "source": [],
      "metadata": {
        "id": "ekX_srPn6kWX"
      },
      "execution_count": null,
      "outputs": []
    },
    {
      "cell_type": "code",
      "source": [],
      "metadata": {
        "id": "f4AHQM7p6kUR"
      },
      "execution_count": null,
      "outputs": []
    }
  ]
}