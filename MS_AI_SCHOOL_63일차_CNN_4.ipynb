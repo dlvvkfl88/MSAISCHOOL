{
  "nbformat": 4,
  "nbformat_minor": 0,
  "metadata": {
    "colab": {
      "provenance": [],
      "authorship_tag": "ABX9TyOZqI2r7HijLTzmYKb8pdmG",
      "include_colab_link": true
    },
    "kernelspec": {
      "name": "python3",
      "display_name": "Python 3"
    },
    "language_info": {
      "name": "python"
    }
  },
  "cells": [
    {
      "cell_type": "markdown",
      "metadata": {
        "id": "view-in-github",
        "colab_type": "text"
      },
      "source": [
        "<a href=\"https://colab.research.google.com/github/dlvvkfl88/MSAISCHOOL/blob/main/MS_AI_SCHOOL_63%EC%9D%BC%EC%B0%A8_CNN_4.ipynb\" target=\"_parent\"><img src=\"https://colab.research.google.com/assets/colab-badge.svg\" alt=\"Open In Colab\"/></a>"
      ]
    },
    {
      "cell_type": "markdown",
      "source": [
        "# VGG NET 구조소개"
      ],
      "metadata": {
        "id": "NbK-dPkV6TTb"
      }
    },
    {
      "cell_type": "code",
      "execution_count": 1,
      "metadata": {
        "id": "do1ZLNgmwTVR"
      },
      "outputs": [],
      "source": [
        "import torch\n",
        "import torch.nn as nn"
      ]
    },
    {
      "cell_type": "code",
      "source": [
        "class VGG16(nn.Module):\n",
        "    def __init__(self, num_classes=1000):\n",
        "        super(VGG16, self).__init__()\n",
        "\n",
        "        self.features = nn.Sequential(\n",
        "            nn.Conv2d(3, 64, kernel_size=3, padding=1),\n",
        "            nn.ReLU(inplace=True),\n",
        "            nn.Conv2d(64, 64, kernel_size=3, padding=1),\n",
        "            nn.ReLU(inplace=True),\n",
        "            nn.MaxPool2d(kernel_size=2, stride=2),\n",
        "\n",
        "            nn.Conv2d(64, 128, kernel_size=3, padding=1),\n",
        "            nn.ReLU(inplace=True),\n",
        "            nn.Conv2d(128, 128, kernel_size=3, padding=1),\n",
        "            nn.ReLU(inplace=True),\n",
        "            nn.MaxPool2d(kernel_size=2, stride=2),\n",
        "\n",
        "            nn.Conv2d(128, 256, kernel_size=3, padding=1),\n",
        "            nn.ReLU(inplace=True),\n",
        "            nn.Conv2d(256, 256, kernel_size=3, padding=1),\n",
        "            nn.ReLU(inplace=True),\n",
        "            nn.Conv2d(256, 256, kernel_size=3, padding=1),\n",
        "            nn.ReLU(inplace=True),\n",
        "            nn.MaxPool2d(kernel_size=2, stride=2),\n",
        "\n",
        "            nn.Conv2d(256, 512, kernel_size=3, padding=1),\n",
        "            nn.ReLU(inplace=True),\n",
        "            nn.Conv2d(512, 512, kernel_size=3, padding=1),\n",
        "            nn.ReLU(inplace=True),\n",
        "            nn.Conv2d(512, 512, kernel_size=3, padding=1),\n",
        "            nn.ReLU(inplace=True),\n",
        "            nn.MaxPool2d(kernel_size=2, stride=2),\n",
        "\n",
        "            nn.Conv2d(512, 512, kernel_size=3, padding=1),\n",
        "            nn.ReLU(inplace=True),\n",
        "            nn.Conv2d(512, 512, kernel_size=3, padding=1),\n",
        "            nn.ReLU(inplace=True),\n",
        "            nn.Conv2d(512, 512, kernel_size=3, padding=1),\n",
        "            nn.ReLU(inplace=True),\n",
        "            nn.MaxPool2d(kernel_size=2, stride=2)\n",
        "        )\n",
        "\n",
        "        self.avgpool = nn.AdaptiveAvgPool2d(7, 7)\n",
        "        self.classifier = nn.Sequential(\n",
        "            nn.Linear(512 * 7 * 7, 4096),\n",
        "            nn.ReLU(inplace=True),\n",
        "            nn.Dropout(),\n",
        "\n",
        "            nn.Linear(4096, 4096),\n",
        "            nn.ReLU(inplace=True),\n",
        "            nn.Dropout(),\n",
        "\n",
        "            nn.Linear(4096, num_classes)\n",
        "        )\n",
        "\n",
        "    def forward(self, x):\n",
        "        x = self.features(x)\n",
        "        x = self.avgpool(x)\n",
        "        x = torch.flatten(x, 1)\n",
        "        x = self.classifier(x)\n",
        "\n",
        "        return x\n"
      ],
      "metadata": {
        "id": "HyfHynh4wWF3"
      },
      "execution_count": 4,
      "outputs": []
    },
    {
      "cell_type": "code",
      "source": [
        "import torch\n",
        "import torch.nn as nn"
      ],
      "metadata": {
        "id": "qGWk0wg_wWHz"
      },
      "execution_count": 5,
      "outputs": []
    },
    {
      "cell_type": "markdown",
      "source": [
        "### ResNet 기본 블럭 정의"
      ],
      "metadata": {
        "id": "_OvUyv2rmlDc"
      }
    },
    {
      "cell_type": "code",
      "source": [
        "class BasicBlock(nn.Module) :\n",
        "\n",
        "    expansion = 1 # 확장 비율 변수 => ResNet block 채널수를 확장하는 경우에 필요에 의해서 숫자를 늘려주시면됩니다. (기본 1)\n",
        "\n",
        "    def __init__(self, in_channels, out_channels, stride=1) :\n",
        "        super(BasicBlock, self).__init__()\n",
        "        self.conv1 = nn.Conv2d(in_channels, out_channels, kernel_size=3, stride=stride, padding=1, bias=True)\n",
        "        self.bn1 = nn.BatchNorm2d(out_channels)\n",
        "        \"\"\"\n",
        "        BatchNorm2d() -> 딥러닝에서 모델 학습시 안정적인 학습 하기 위한 기법 -> gradient vanishing 문제를 해결 가능\n",
        "        입력의 각 채널에 대해서 평균, 분산 계산하고 정규화된 출력을 생성\n",
        "        \"\"\"\n",
        "        self.relu = nn.ReLU(inplace=True)\n",
        "        \"\"\"\n",
        "        in_channels => 입력 특징 맵의 채널 수\n",
        "        out_channels => 출력 특징 맵의 채널 수\n",
        "        kernel_size => 컨불루션 커널의 크기\n",
        "        stride => 컨불루션 보폭 크기\n",
        "        bias => 편향값을 사용할지에 대한 여부\n",
        "\n",
        "        padding = 1 ===> 입력과 출력의 공간적인 크기를 보존 가능\n",
        "        bias=True -> 편향값을 컨불루션 레이어에 값을 추가 -> 모델 좀더 유연하게 학습 시키기 위함\n",
        "        \"\"\"\n",
        "\n",
        "        \"\"\"\n",
        "        stride 와 in_channels 1이 아닌경우 와 in_channels 와 self.expansion * out_channels 다른 경우 이 조건이 성립\n",
        "        in_channels 와 self.expansion * out_channels 사이의 차이를 보상 하기위해서 1x1 컨불루션 진행\n",
        "        =====> 입력의 공간적인 차원 조정 !!\n",
        "        \"\"\"\n",
        "        self.conv2 = nn.Conv2d(out_channels, out_channels, kernel_size=3, stride=1, padding=1, bias=True)\n",
        "        self.bn2 = nn.BatchNorm2d(out_channels)\n",
        "\n",
        "        self.shortcut = nn.Sequential() ### 전차연결(residual connection) -> 초기화\n",
        "\n",
        "        if stride != 1 or in_channels != self.expansion * out_channels :\n",
        "            self.shortcut = nn.Sequential(\n",
        "                nn.Conv2d(in_channels, self.expansion * out_channels, kernel_size=1, stride=stride, bias=False),\n",
        "                nn.BatchNorm2d(self.expansion * out_channels)\n",
        "            )\n",
        "\n",
        "    def forward(self, x) :\n",
        "        residual = x # 전차 구성 하기 위한 변수\n",
        "        ########################## =====> 기본 블럭 내에서 컨불루션 과 정규화 거치는 일반적인 연산 구간\n",
        "        out = self.conv1(x)\n",
        "        out = self.bn1(out)\n",
        "        out = self.relu(out)\n",
        "        out = self.conv2(out)\n",
        "        out = self.bn2(out)\n",
        "        ########################## =====> 기본 블럭 내에서 컨불루션 과 정규화 거치는 일반적인 연산 구간\n",
        "\n",
        "        out += self.shortcut(residual) #### x + residual -> 전차 수행 -> 입력과 출력 크기 일정하게 만들어주고 -> 정규화\n",
        "        out = self.relu(out)  ###### 정규화 -> relu 적용\n",
        "\n",
        "        return out"
      ],
      "metadata": {
        "id": "MpsA3xxywWKb"
      },
      "execution_count": 6,
      "outputs": []
    },
    {
      "cell_type": "markdown",
      "source": [
        "### ResNet 모델 정의"
      ],
      "metadata": {
        "id": "_YP5fFd4mo4z"
      }
    },
    {
      "cell_type": "code",
      "source": [
        "class ResNet(nn.Module) :\n",
        "    def __init__(self, block, layers, num_classes=1000) :\n",
        "        super(ResNet, self).__init__()\n",
        "\n",
        "        self.in_Channels = 64\n",
        "\n",
        "        \"\"\"\n",
        "        conv -> bn -> 활성함수 -> maxpool\n",
        "        \"\"\"\n",
        "        self.conv1 = nn.Conv2d(3, 64,kernel_size=7, stride=2, padding=3, bias=False)\n",
        "        self.bn1 = nn.BatchNorm2d(64)\n",
        "        self.relu = nn.ReLU(inplace=True)\n",
        "        self.maxpool = nn.MaxPool2d(kernel_size=3, stride=2, padding=1)\n",
        "\n",
        "        self.layer1 = self._make_layer(block, 64, layers[0], stride=1)\n",
        "        self.layer2 = self._make_layer(block, 128, layers[1], stride=2)\n",
        "        self.layer3 = self._make_layer(block, 256, layers[2], stride=2)\n",
        "        self.layer4 = self._make_layer(block, 512, layers[3], stride=2)\n",
        "\n",
        "        self.avgpool = nn.AdaptiveAvgPool2d((1,1))\n",
        "        self.fc = nn.Linear(512 * block.expansion, num_classes)\n",
        "\n",
        "    \"\"\"\n",
        "    _make_layer : 앞에 '_' 시작하는것은 내부 메서드 나타냅니다.\n",
        "    ==> ResNet 내에서 반복적으로 사용되는 레이어 블록 구성 역활을 수행 합니다.\n",
        "    \"\"\"\n",
        "    def _make_layer(self, block, out_channels, blocks, stride=1) :\n",
        "        layers = [] #### ->>>>> 레이어들 담을 리스트\n",
        "        layers.append(block(self.in_Channels, out_channels, stride))\n",
        "\n",
        "        self.in_Channels = out_channels * block.expansion\n",
        "\n",
        "        for _ in range(1, blocks) :\n",
        "            # in_channels -> 이전 설정한 출력 채널 / out_channels -> out_channels\n",
        "            layers.append(block(self.in_Channels, out_channels))\n",
        "\n",
        "        print(layers)\n",
        "        return nn.Sequential(*layers) ### nn.Sequential() -> 모델 구성하기위한 컨테이너 클래스 : 순차적으로 레이어 추가\n",
        "\n",
        "    def forward(self, x) :\n",
        "        x = self.conv1(x)\n",
        "        x = self.bn1(x)\n",
        "        x = self.relu(x)\n",
        "        x = self.maxpool(x)\n",
        "\n",
        "        x = self.layer1(x)\n",
        "        x = self.layer2(x)\n",
        "        x = self.layer3(x)\n",
        "        x = self.layer4(x)\n",
        "\n",
        "        x = self.avgpool(x)\n",
        "        x = torch.flatten(x, 1)\n",
        "        x = self.fc(x)\n",
        "\n",
        "        return x\n",
        ""
      ],
      "metadata": {
        "id": "PX1_z6fkwWMM"
      },
      "execution_count": 7,
      "outputs": []
    },
    {
      "cell_type": "code",
      "source": [
        "def resnet34(num_classes = 1000) :\n",
        "    return ResNet(BasicBlock, [3,4,6,3], num_classes)\n",
        "\n",
        "\n",
        "model = resnet34(num_classes = 1000)\n",
        "inputs = torch.randn(1,3,224,224)\n",
        "output = model(inputs)\n",
        "print(output.shape)"
      ],
      "metadata": {
        "id": "gAlv3NEowWOG",
        "colab": {
          "base_uri": "https://localhost:8080/"
        },
        "outputId": "2ad0b795-bf5e-4397-f151-d4065fc2203b"
      },
      "execution_count": 8,
      "outputs": [
        {
          "output_type": "stream",
          "name": "stdout",
          "text": [
            "[BasicBlock(\n",
            "  (conv1): Conv2d(64, 64, kernel_size=(3, 3), stride=(1, 1), padding=(1, 1))\n",
            "  (bn1): BatchNorm2d(64, eps=1e-05, momentum=0.1, affine=True, track_running_stats=True)\n",
            "  (relu): ReLU(inplace=True)\n",
            "  (conv2): Conv2d(64, 64, kernel_size=(3, 3), stride=(1, 1), padding=(1, 1))\n",
            "  (bn2): BatchNorm2d(64, eps=1e-05, momentum=0.1, affine=True, track_running_stats=True)\n",
            "  (shortcut): Sequential()\n",
            "), BasicBlock(\n",
            "  (conv1): Conv2d(64, 64, kernel_size=(3, 3), stride=(1, 1), padding=(1, 1))\n",
            "  (bn1): BatchNorm2d(64, eps=1e-05, momentum=0.1, affine=True, track_running_stats=True)\n",
            "  (relu): ReLU(inplace=True)\n",
            "  (conv2): Conv2d(64, 64, kernel_size=(3, 3), stride=(1, 1), padding=(1, 1))\n",
            "  (bn2): BatchNorm2d(64, eps=1e-05, momentum=0.1, affine=True, track_running_stats=True)\n",
            "  (shortcut): Sequential()\n",
            "), BasicBlock(\n",
            "  (conv1): Conv2d(64, 64, kernel_size=(3, 3), stride=(1, 1), padding=(1, 1))\n",
            "  (bn1): BatchNorm2d(64, eps=1e-05, momentum=0.1, affine=True, track_running_stats=True)\n",
            "  (relu): ReLU(inplace=True)\n",
            "  (conv2): Conv2d(64, 64, kernel_size=(3, 3), stride=(1, 1), padding=(1, 1))\n",
            "  (bn2): BatchNorm2d(64, eps=1e-05, momentum=0.1, affine=True, track_running_stats=True)\n",
            "  (shortcut): Sequential()\n",
            ")]\n",
            "[BasicBlock(\n",
            "  (conv1): Conv2d(64, 128, kernel_size=(3, 3), stride=(2, 2), padding=(1, 1))\n",
            "  (bn1): BatchNorm2d(128, eps=1e-05, momentum=0.1, affine=True, track_running_stats=True)\n",
            "  (relu): ReLU(inplace=True)\n",
            "  (conv2): Conv2d(128, 128, kernel_size=(3, 3), stride=(1, 1), padding=(1, 1))\n",
            "  (bn2): BatchNorm2d(128, eps=1e-05, momentum=0.1, affine=True, track_running_stats=True)\n",
            "  (shortcut): Sequential(\n",
            "    (0): Conv2d(64, 128, kernel_size=(1, 1), stride=(2, 2), bias=False)\n",
            "    (1): BatchNorm2d(128, eps=1e-05, momentum=0.1, affine=True, track_running_stats=True)\n",
            "  )\n",
            "), BasicBlock(\n",
            "  (conv1): Conv2d(128, 128, kernel_size=(3, 3), stride=(1, 1), padding=(1, 1))\n",
            "  (bn1): BatchNorm2d(128, eps=1e-05, momentum=0.1, affine=True, track_running_stats=True)\n",
            "  (relu): ReLU(inplace=True)\n",
            "  (conv2): Conv2d(128, 128, kernel_size=(3, 3), stride=(1, 1), padding=(1, 1))\n",
            "  (bn2): BatchNorm2d(128, eps=1e-05, momentum=0.1, affine=True, track_running_stats=True)\n",
            "  (shortcut): Sequential()\n",
            "), BasicBlock(\n",
            "  (conv1): Conv2d(128, 128, kernel_size=(3, 3), stride=(1, 1), padding=(1, 1))\n",
            "  (bn1): BatchNorm2d(128, eps=1e-05, momentum=0.1, affine=True, track_running_stats=True)\n",
            "  (relu): ReLU(inplace=True)\n",
            "  (conv2): Conv2d(128, 128, kernel_size=(3, 3), stride=(1, 1), padding=(1, 1))\n",
            "  (bn2): BatchNorm2d(128, eps=1e-05, momentum=0.1, affine=True, track_running_stats=True)\n",
            "  (shortcut): Sequential()\n",
            "), BasicBlock(\n",
            "  (conv1): Conv2d(128, 128, kernel_size=(3, 3), stride=(1, 1), padding=(1, 1))\n",
            "  (bn1): BatchNorm2d(128, eps=1e-05, momentum=0.1, affine=True, track_running_stats=True)\n",
            "  (relu): ReLU(inplace=True)\n",
            "  (conv2): Conv2d(128, 128, kernel_size=(3, 3), stride=(1, 1), padding=(1, 1))\n",
            "  (bn2): BatchNorm2d(128, eps=1e-05, momentum=0.1, affine=True, track_running_stats=True)\n",
            "  (shortcut): Sequential()\n",
            ")]\n",
            "[BasicBlock(\n",
            "  (conv1): Conv2d(128, 256, kernel_size=(3, 3), stride=(2, 2), padding=(1, 1))\n",
            "  (bn1): BatchNorm2d(256, eps=1e-05, momentum=0.1, affine=True, track_running_stats=True)\n",
            "  (relu): ReLU(inplace=True)\n",
            "  (conv2): Conv2d(256, 256, kernel_size=(3, 3), stride=(1, 1), padding=(1, 1))\n",
            "  (bn2): BatchNorm2d(256, eps=1e-05, momentum=0.1, affine=True, track_running_stats=True)\n",
            "  (shortcut): Sequential(\n",
            "    (0): Conv2d(128, 256, kernel_size=(1, 1), stride=(2, 2), bias=False)\n",
            "    (1): BatchNorm2d(256, eps=1e-05, momentum=0.1, affine=True, track_running_stats=True)\n",
            "  )\n",
            "), BasicBlock(\n",
            "  (conv1): Conv2d(256, 256, kernel_size=(3, 3), stride=(1, 1), padding=(1, 1))\n",
            "  (bn1): BatchNorm2d(256, eps=1e-05, momentum=0.1, affine=True, track_running_stats=True)\n",
            "  (relu): ReLU(inplace=True)\n",
            "  (conv2): Conv2d(256, 256, kernel_size=(3, 3), stride=(1, 1), padding=(1, 1))\n",
            "  (bn2): BatchNorm2d(256, eps=1e-05, momentum=0.1, affine=True, track_running_stats=True)\n",
            "  (shortcut): Sequential()\n",
            "), BasicBlock(\n",
            "  (conv1): Conv2d(256, 256, kernel_size=(3, 3), stride=(1, 1), padding=(1, 1))\n",
            "  (bn1): BatchNorm2d(256, eps=1e-05, momentum=0.1, affine=True, track_running_stats=True)\n",
            "  (relu): ReLU(inplace=True)\n",
            "  (conv2): Conv2d(256, 256, kernel_size=(3, 3), stride=(1, 1), padding=(1, 1))\n",
            "  (bn2): BatchNorm2d(256, eps=1e-05, momentum=0.1, affine=True, track_running_stats=True)\n",
            "  (shortcut): Sequential()\n",
            "), BasicBlock(\n",
            "  (conv1): Conv2d(256, 256, kernel_size=(3, 3), stride=(1, 1), padding=(1, 1))\n",
            "  (bn1): BatchNorm2d(256, eps=1e-05, momentum=0.1, affine=True, track_running_stats=True)\n",
            "  (relu): ReLU(inplace=True)\n",
            "  (conv2): Conv2d(256, 256, kernel_size=(3, 3), stride=(1, 1), padding=(1, 1))\n",
            "  (bn2): BatchNorm2d(256, eps=1e-05, momentum=0.1, affine=True, track_running_stats=True)\n",
            "  (shortcut): Sequential()\n",
            "), BasicBlock(\n",
            "  (conv1): Conv2d(256, 256, kernel_size=(3, 3), stride=(1, 1), padding=(1, 1))\n",
            "  (bn1): BatchNorm2d(256, eps=1e-05, momentum=0.1, affine=True, track_running_stats=True)\n",
            "  (relu): ReLU(inplace=True)\n",
            "  (conv2): Conv2d(256, 256, kernel_size=(3, 3), stride=(1, 1), padding=(1, 1))\n",
            "  (bn2): BatchNorm2d(256, eps=1e-05, momentum=0.1, affine=True, track_running_stats=True)\n",
            "  (shortcut): Sequential()\n",
            "), BasicBlock(\n",
            "  (conv1): Conv2d(256, 256, kernel_size=(3, 3), stride=(1, 1), padding=(1, 1))\n",
            "  (bn1): BatchNorm2d(256, eps=1e-05, momentum=0.1, affine=True, track_running_stats=True)\n",
            "  (relu): ReLU(inplace=True)\n",
            "  (conv2): Conv2d(256, 256, kernel_size=(3, 3), stride=(1, 1), padding=(1, 1))\n",
            "  (bn2): BatchNorm2d(256, eps=1e-05, momentum=0.1, affine=True, track_running_stats=True)\n",
            "  (shortcut): Sequential()\n",
            ")]\n",
            "[BasicBlock(\n",
            "  (conv1): Conv2d(256, 512, kernel_size=(3, 3), stride=(2, 2), padding=(1, 1))\n",
            "  (bn1): BatchNorm2d(512, eps=1e-05, momentum=0.1, affine=True, track_running_stats=True)\n",
            "  (relu): ReLU(inplace=True)\n",
            "  (conv2): Conv2d(512, 512, kernel_size=(3, 3), stride=(1, 1), padding=(1, 1))\n",
            "  (bn2): BatchNorm2d(512, eps=1e-05, momentum=0.1, affine=True, track_running_stats=True)\n",
            "  (shortcut): Sequential(\n",
            "    (0): Conv2d(256, 512, kernel_size=(1, 1), stride=(2, 2), bias=False)\n",
            "    (1): BatchNorm2d(512, eps=1e-05, momentum=0.1, affine=True, track_running_stats=True)\n",
            "  )\n",
            "), BasicBlock(\n",
            "  (conv1): Conv2d(512, 512, kernel_size=(3, 3), stride=(1, 1), padding=(1, 1))\n",
            "  (bn1): BatchNorm2d(512, eps=1e-05, momentum=0.1, affine=True, track_running_stats=True)\n",
            "  (relu): ReLU(inplace=True)\n",
            "  (conv2): Conv2d(512, 512, kernel_size=(3, 3), stride=(1, 1), padding=(1, 1))\n",
            "  (bn2): BatchNorm2d(512, eps=1e-05, momentum=0.1, affine=True, track_running_stats=True)\n",
            "  (shortcut): Sequential()\n",
            "), BasicBlock(\n",
            "  (conv1): Conv2d(512, 512, kernel_size=(3, 3), stride=(1, 1), padding=(1, 1))\n",
            "  (bn1): BatchNorm2d(512, eps=1e-05, momentum=0.1, affine=True, track_running_stats=True)\n",
            "  (relu): ReLU(inplace=True)\n",
            "  (conv2): Conv2d(512, 512, kernel_size=(3, 3), stride=(1, 1), padding=(1, 1))\n",
            "  (bn2): BatchNorm2d(512, eps=1e-05, momentum=0.1, affine=True, track_running_stats=True)\n",
            "  (shortcut): Sequential()\n",
            ")]\n",
            "torch.Size([1, 1000])\n"
          ]
        }
      ]
    },
    {
      "cell_type": "code",
      "source": [
        "import torch\n",
        "import torch.nn as nn\n",
        "import torch.optim as optim\n",
        "import matplotlib.pyplot as plt\n",
        "import numpy as np\n",
        "\n",
        "from torch.utils.data import DataLoader\n",
        "from torchvision import datasets, transforms"
      ],
      "metadata": {
        "id": "VES6clqTwWQK"
      },
      "execution_count": 9,
      "outputs": []
    },
    {
      "cell_type": "code",
      "source": [
        "class MyModel(nn.Module) :\n",
        "    def __init__(self) :\n",
        "        super(MyModel, self).__init__()\n",
        "        self.conv1 = nn.Conv2d(3, 16, kernel_size=3, stride=1, padding=1)\n",
        "        self.relu = nn.ReLU()\n",
        "        self.flatten = nn.Flatten()\n",
        "\n",
        "        self.fc1 = nn.Linear(16 * 32 * 32, 128)\n",
        "        self.fc2 = nn.Linear(128, 10)\n",
        "\n",
        "    def forward(self, x) :\n",
        "        x = self.conv1(x)\n",
        "        x = self.relu(x)\n",
        "        x = self.flatten(x)\n",
        "\n",
        "        x = self.fc1(x)\n",
        "        x = self.fc2(x)\n",
        "\n",
        "        return x"
      ],
      "metadata": {
        "id": "jFhP__WIwWSU"
      },
      "execution_count": 10,
      "outputs": []
    },
    {
      "cell_type": "code",
      "source": [
        "train_transform = transforms.Compose([\n",
        "    transforms.RandomCrop(32, padding=4),\n",
        "    transforms.RandomHorizontalFlip(),\n",
        "    transforms.RandomVerticalFlip(),\n",
        "    transforms.AutoAugment(),\n",
        "    transforms.ToTensor(),\n",
        "    transforms.Normalize((0.5,0.5,0.5), (0.3,0.3,0.3))\n",
        "])\n",
        "\n",
        "\n",
        "train_dataset = datasets.CIFAR10(root='./CIFAR10_data', train=True, transform = train_transform, download=True)\n",
        "train_loader = DataLoader(train_dataset, batch_size=64, shuffle=True)"
      ],
      "metadata": {
        "id": "SYj5UVxywWUg",
        "colab": {
          "base_uri": "https://localhost:8080/"
        },
        "outputId": "e2c8d290-8147-426b-8d24-9ab01000b946"
      },
      "execution_count": 11,
      "outputs": [
        {
          "output_type": "stream",
          "name": "stdout",
          "text": [
            "Downloading https://www.cs.toronto.edu/~kriz/cifar-10-python.tar.gz to ./CIFAR10_data/cifar-10-python.tar.gz\n"
          ]
        },
        {
          "output_type": "stream",
          "name": "stderr",
          "text": [
            "100%|██████████| 170498071/170498071 [00:02<00:00, 64954389.39it/s]\n"
          ]
        },
        {
          "output_type": "stream",
          "name": "stdout",
          "text": [
            "Extracting ./CIFAR10_data/cifar-10-python.tar.gz to ./CIFAR10_data\n"
          ]
        }
      ]
    },
    {
      "cell_type": "code",
      "source": [
        "model = MyModel()\n",
        "\n",
        "criterion = nn.CrossEntropyLoss()\n",
        "optimizer = optim.SGD(model.parameters(), lr=0.01)"
      ],
      "metadata": {
        "id": "2zcxNOcjwWWg"
      },
      "execution_count": 12,
      "outputs": []
    },
    {
      "cell_type": "code",
      "source": [
        "def mixup_data(x, y, alpha=1.0) :\n",
        "    batch_size = x.size(0) # 입력 데이터 x 배치 사이즈\n",
        "    lam = torch.rand(batch_size, 1, 1, 1) # 0 과 1사이의 값 (랜덤한) 갖는 lam -> Mixup 비율\n",
        "    lam = torch.max(lam, 1 - lam) # 최소값 0.5 이상 유지  lam, 1 - lam -> 최대값 선택\n",
        "    mixed_x = lam * x + (1 - lam) * x.flip(dims=[0,2,3])\n",
        "    \"\"\"\n",
        "    lam * x : x 값에다가 lam 곱하기 -> x.flip(dims=[0,2,3]) : 배치 차원을 기준으로 뒤집기 -> (1 - lam) 비율을 곱하기\n",
        "    \"\"\"\n",
        "\n",
        "    indices = torch.randperm(batch_size) # batch_size 범위에서 랜덤한 정수 생성\n",
        "    mixed_y = lam.squeeze() * y + ( 1 - lam.squeeze()) * y[indices]\n",
        "    \"\"\"\n",
        "    lam.squeeze() * y -> y 라벨에다가 lam 비율값 곱해준다\n",
        "    ( 1 - lam.squeeze()) * y[indices] -> 랜덤한 라벨 y 에 1 - lam.squeeze())(비율) 곱하기\n",
        "    \"\"\"\n",
        "    mixed_y = mixed_y.type(torch.long) # 타입변환\n",
        "\n",
        "    return mixed_x, mixed_y"
      ],
      "metadata": {
        "id": "hXfmmbRgwWYe"
      },
      "execution_count": 13,
      "outputs": []
    },
    {
      "cell_type": "code",
      "source": [
        "def plot_images(images, labels, title) :\n",
        "    fig, axes = plt.subplots(2, 5 , figsize=(12,6))\n",
        "    fig.suptitle(title, fontsize=16)\n",
        "    labels = labels.numpy()\n",
        "    for i, ax in enumerate(axes.flat) :\n",
        "        image = images[i].squeeze()\n",
        "        ax.imshow(image, cmap='gray')\n",
        "        ax.set_title(f\"Label:{labels[i]}\")\n",
        "        ax.axis('off')\n",
        "\n",
        "    plt.show()"
      ],
      "metadata": {
        "id": "NM2kSCoEwVn3"
      },
      "execution_count": 14,
      "outputs": []
    },
    {
      "cell_type": "code",
      "source": [
        "num_epochs = 10\n",
        "\n",
        "train_losses_no_mixup = []\n",
        "train_losses_with_mixup = []\n",
        "\n",
        "end_idx = 0\n",
        "for epoch in range(num_epochs) :\n",
        "    train_loss_no = 0.0\n",
        "    train_loss = 0.0\n",
        "\n",
        "    for inputs, labels in train_loader :\n",
        "        optimizer.zero_grad()\n",
        "\n",
        "        images_temp, labels_tmep = inputs, labels\n",
        "\n",
        "        inputs, labels = mixup_data(inputs, labels)\n",
        "\n",
        "        mixed_images = inputs.cpu().numpy()\n",
        "        mixed_images = np.transpose(mixed_images, (0,2,3,1))\n",
        "        mixed_images = np.squeeze(mixed_images)\n",
        "\n",
        "        if end_idx == 0 :\n",
        "            plot_images(mixed_images, labels.squeeze(), \"Mixed Image with label smothing\")\n",
        "            end_idx = 1\n",
        "\n",
        "        outputs_no_mixup = model(images_temp)\n",
        "        outputs_mixup = model(inputs)\n",
        "\n",
        "        labels = torch.squeeze(labels) # conver lables to 1D tensor\n",
        "\n",
        "        loss_no_mixup = criterion(outputs_no_mixup, labels)\n",
        "\n",
        "        loss_mixup = criterion(outputs_mixup, labels)\n",
        "\n",
        "        loss_no_mixup.backward()\n",
        "        loss_mixup.backward()\n",
        "\n",
        "        optimizer.step()\n",
        "\n",
        "        train_loss_no += loss_no_mixup.item()\n",
        "        train_loss += loss_mixup.item()\n",
        "\n",
        "    # 에포크 마다 손실 기록\n",
        "    train_losses_no_mixup.append(train_loss_no / len(train_loader))\n",
        "    train_losses_with_mixup.append(train_loss / len(train_loader))"
      ],
      "metadata": {
        "id": "2CAXLp4vwVp3",
        "colab": {
          "base_uri": "https://localhost:8080/",
          "height": 721
        },
        "outputId": "94735a37-ed2b-4f6d-d4b2-567bf69f3f3c"
      },
      "execution_count": null,
      "outputs": [
        {
          "output_type": "stream",
          "name": "stderr",
          "text": [
            "WARNING:matplotlib.image:Clipping input data to the valid range for imshow with RGB data ([0..1] for floats or [0..255] for integers).\n",
            "WARNING:matplotlib.image:Clipping input data to the valid range for imshow with RGB data ([0..1] for floats or [0..255] for integers).\n",
            "WARNING:matplotlib.image:Clipping input data to the valid range for imshow with RGB data ([0..1] for floats or [0..255] for integers).\n",
            "WARNING:matplotlib.image:Clipping input data to the valid range for imshow with RGB data ([0..1] for floats or [0..255] for integers).\n",
            "WARNING:matplotlib.image:Clipping input data to the valid range for imshow with RGB data ([0..1] for floats or [0..255] for integers).\n",
            "WARNING:matplotlib.image:Clipping input data to the valid range for imshow with RGB data ([0..1] for floats or [0..255] for integers).\n",
            "WARNING:matplotlib.image:Clipping input data to the valid range for imshow with RGB data ([0..1] for floats or [0..255] for integers).\n",
            "WARNING:matplotlib.image:Clipping input data to the valid range for imshow with RGB data ([0..1] for floats or [0..255] for integers).\n",
            "WARNING:matplotlib.image:Clipping input data to the valid range for imshow with RGB data ([0..1] for floats or [0..255] for integers).\n",
            "WARNING:matplotlib.image:Clipping input data to the valid range for imshow with RGB data ([0..1] for floats or [0..255] for integers).\n"
          ]
        },
        {
          "output_type": "display_data",
          "data": {
            "text/plain": [
              "<Figure size 1200x600 with 10 Axes>"
            ],
            "image/png": "[encoded data removed]"
          },
          "metadata": {}
        }
      ]
    },
    {
      "cell_type": "code",
      "source": [
        "epochs = range(1, num_epochs +1 )\n",
        "\n",
        "plt.plot(epochs, train_losses_no_mixup, label='No Mixed')\n",
        "plt.plot(epochs, train_losses_with_mixup, label='Mixed')\n",
        "plt.xlabel('Epoch')\n",
        "plt.ylabel('loss')\n",
        "plt.legend()\n",
        "plt.show()"
      ],
      "metadata": {
        "id": "PsxAcYUewVrv"
      },
      "execution_count": null,
      "outputs": []
    },
    {
      "cell_type": "code",
      "source": [],
      "metadata": {
        "id": "fPgu1s-_wVt7"
      },
      "execution_count": null,
      "outputs": []
    },
    {
      "cell_type": "code",
      "source": [],
      "metadata": {
        "id": "xlFJ63nIwVv5"
      },
      "execution_count": null,
      "outputs": []
    },
    {
      "cell_type": "code",
      "source": [],
      "metadata": {
        "id": "wk0t1eXFwVx5"
      },
      "execution_count": null,
      "outputs": []
    },
    {
      "cell_type": "code",
      "source": [],
      "metadata": {
        "id": "1aO89uNtwVz_"
      },
      "execution_count": null,
      "outputs": []
    },
    {
      "cell_type": "code",
      "source": [],
      "metadata": {
        "id": "37j5g4HuwV2J"
      },
      "execution_count": null,
      "outputs": []
    }
  ]
}