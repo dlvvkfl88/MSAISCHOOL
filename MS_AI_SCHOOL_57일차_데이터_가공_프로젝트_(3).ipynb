{
  "nbformat": 4,
  "nbformat_minor": 0,
  "metadata": {
    "colab": {
      "provenance": [],
      "authorship_tag": "ABX9TyPyR/4jZ8JRmHkoA6bgO7oN",
      "include_colab_link": true
    },
    "kernelspec": {
      "name": "python3",
      "display_name": "Python 3"
    },
    "language_info": {
      "name": "python"
    }
  },
  "cells": [
    {
      "cell_type": "markdown",
      "metadata": {
        "id": "view-in-github",
        "colab_type": "text"
      },
      "source": [
        "<a href=\"https://colab.research.google.com/github/dlvvkfl88/MSAISCHOOL/blob/main/MS_AI_SCHOOL_57%EC%9D%BC%EC%B0%A8_%EB%8D%B0%EC%9D%B4%ED%84%B0_%EA%B0%80%EA%B3%B5_%ED%94%84%EB%A1%9C%EC%A0%9D%ED%8A%B8_(3).ipynb\" target=\"_parent\"><img src=\"https://colab.research.google.com/assets/colab-badge.svg\" alt=\"Open In Colab\"/></a>"
      ]
    },
    {
      "cell_type": "markdown",
      "source": [
        "Custom dataset"
      ],
      "metadata": {
        "id": "uRYWyPPKz-9H"
      }
    },
    {
      "cell_type": "code",
      "execution_count": 18,
      "metadata": {
        "id": "K81VP6JmWDpU",
        "colab": {
          "base_uri": "https://localhost:8080/",
          "height": 17
        },
        "outputId": "04c475b6-621e-4662-9e1b-4e4148a2792a"
      },
      "outputs": [
        {
          "output_type": "display_data",
          "data": {
            "text/plain": [
              "<IPython.core.display.HTML object>"
            ],
            "text/html": [
              "\n",
              "  <style>\n",
              "    pre {\n",
              "        white-space: pre-wrap;\n",
              "    }\n",
              "  </style>\n",
              "  "
            ]
          },
          "metadata": {}
        },
        {
          "output_type": "display_data",
          "data": {
            "text/plain": [
              "<IPython.core.display.HTML object>"
            ],
            "text/html": [
              "\n",
              "  <style>\n",
              "    pre {\n",
              "        white-space: pre-wrap;\n",
              "    }\n",
              "  </style>\n",
              "  "
            ]
          },
          "metadata": {}
        }
      ],
      "source": [
        "import os\n",
        "import glob\n",
        "from torch.utils.data import Dataset, DataLoader\n",
        "import albumentations as A\n",
        "import cv2\n"
      ]
    },
    {
      "cell_type": "markdown",
      "source": [
        "## custom dataset with albumentations"
      ],
      "metadata": {
        "id": "Ye-QJihH0Vl3"
      }
    },
    {
      "cell_type": "code",
      "source": [
        "# 코랩에서 결과 라인내려서 보여주는\n",
        "from IPython.display import HTML, display\n",
        "\n",
        "def set_css():\n",
        "  display(HTML('''\n",
        "  <style>\n",
        "    pre {\n",
        "        white-space: pre-wrap;\n",
        "    }\n",
        "  </style>\n",
        "  '''))\n",
        "get_ipython().events.register('pre_run_cell', set_css)"
      ],
      "metadata": {
        "colab": {
          "base_uri": "https://localhost:8080/",
          "height": 17
        },
        "id": "xZHatQFJ33CN",
        "outputId": "088ab524-63b8-4938-f90d-8f1fa86a0884"
      },
      "execution_count": 10,
      "outputs": [
        {
          "output_type": "display_data",
          "data": {
            "text/plain": [
              "<IPython.core.display.HTML object>"
            ],
            "text/html": [
              "\n",
              "  <style>\n",
              "    pre {\n",
              "        white-space: pre-wrap;\n",
              "    }\n",
              "  </style>\n",
              "  "
            ]
          },
          "metadata": {}
        }
      ]
    },
    {
      "cell_type": "code",
      "source": [
        "class mycustomdataset(Dataset):\n",
        "  def __init__(self,image_path,transform):\n",
        "    # 이미지 경로 정의\n",
        "\n",
        "    self.image_path = glob.glob(os.path.join(image_path,\"*.png\"))\n",
        "\n",
        "    # 이미지 변환 aug 정의\n",
        "    self.transform = transform\n",
        "\n",
        "    # 라벨 dict label_temp를 숫자로 바꿔줘야함\n",
        "    self.label_dict = {\"sample_data\":0}\n",
        "\n",
        "\n",
        "\n",
        "  def __getitem__(self, index):\n",
        "    # 이미지 경로 지정하고 이미지 읽기 # 길이가 없으면 무한루프되므로 길이중요\n",
        "    print(\"....\")\n",
        "    image_path = self.image_path[index]\n",
        "\n",
        "    image = cv2.imread(image_path) # 이미지 읽기\n",
        "    image = cv2.cvtColor(image, cv2.COLOR_BGR2RGB)\n",
        "\n",
        "\n",
        "    # 라벨 지정\n",
        "    label_temp = image_path.split(\"/\")[2] # 리스트 형태로\n",
        "    label = self.label_dict[label_temp]\n",
        "    print(label)\n",
        "\n",
        "    # albumentations transform\n",
        "    if self.transform:\n",
        "      image = self.transform(image)['image']\n",
        "\n",
        "      return image,label\n",
        "\n",
        "\n",
        "\n",
        "\n",
        "    # pytorch 용 transform 처리 image aug\n",
        "    #if self.transform:\n",
        "      #image = self.transform['image']\n",
        "\n",
        "      #return image, label\n",
        "\n",
        "    # return : image, label 이 리턴해야함\n",
        "\n",
        "  def __len__(self):\n",
        "\n",
        "    # 전체 길이 변환\n",
        "    return len(self.image_paths)"
      ],
      "metadata": {
        "id": "r2vsxfCGWF-G",
        "colab": {
          "base_uri": "https://localhost:8080/",
          "height": 17
        },
        "outputId": "09237f05-f8a8-4c8a-e045-34c89eb7dc00"
      },
      "execution_count": 31,
      "outputs": [
        {
          "output_type": "display_data",
          "data": {
            "text/plain": [
              "<IPython.core.display.HTML object>"
            ],
            "text/html": [
              "\n",
              "  <style>\n",
              "    pre {\n",
              "        white-space: pre-wrap;\n",
              "    }\n",
              "  </style>\n",
              "  "
            ]
          },
          "metadata": {}
        },
        {
          "output_type": "display_data",
          "data": {
            "text/plain": [
              "<IPython.core.display.HTML object>"
            ],
            "text/html": [
              "\n",
              "  <style>\n",
              "    pre {\n",
              "        white-space: pre-wrap;\n",
              "    }\n",
              "  </style>\n",
              "  "
            ]
          },
          "metadata": {}
        }
      ]
    },
    {
      "cell_type": "code",
      "source": [
        "test = mycustomdataset(\"/content/sample_data\",transform = None)\n",
        "\n",
        "for i in test:\n",
        "  pass"
      ],
      "metadata": {
        "id": "wetFxDFeWGop",
        "colab": {
          "base_uri": "https://localhost:8080/",
          "height": 1000
        },
        "outputId": "0a41062e-449a-41f2-8ffa-534f551b2129"
      },
      "execution_count": 33,
      "outputs": [
        {
          "output_type": "display_data",
          "data": {
            "text/plain": [
              "<IPython.core.display.HTML object>"
            ],
            "text/html": [
              "\n",
              "  <style>\n",
              "    pre {\n",
              "        white-space: pre-wrap;\n",
              "    }\n",
              "  </style>\n",
              "  "
            ]
          },
          "metadata": {}
        },
        {
          "output_type": "display_data",
          "data": {
            "text/plain": [
              "<IPython.core.display.HTML object>"
            ],
            "text/html": [
              "\n",
              "  <style>\n",
              "    pre {\n",
              "        white-space: pre-wrap;\n",
              "    }\n",
              "  </style>\n",
              "  "
            ]
          },
          "metadata": {}
        },
        {
          "output_type": "stream",
          "name": "stdout",
          "text": [
            "....\n",
            "0\n",
            "....\n",
            "0\n",
            "....\n",
            "0\n",
            "....\n",
            "0\n",
            "....\n",
            "0\n",
            "....\n",
            "0\n",
            "....\n",
            "0\n",
            "....\n",
            "0\n",
            "....\n",
            "0\n",
            "....\n",
            "0\n",
            "....\n",
            "0\n",
            "....\n",
            "0\n",
            "....\n",
            "0\n",
            "....\n",
            "0\n",
            "....\n",
            "0\n",
            "....\n",
            "0\n",
            "....\n",
            "0\n",
            "....\n",
            "0\n",
            "....\n",
            "0\n",
            "....\n",
            "0\n",
            "....\n",
            "0\n",
            "....\n",
            "0\n",
            "....\n",
            "0\n",
            "....\n",
            "0\n",
            "....\n",
            "0\n",
            "....\n",
            "0\n",
            "....\n",
            "0\n",
            "....\n",
            "0\n",
            "....\n",
            "0\n",
            "....\n",
            "0\n",
            "....\n",
            "0\n",
            "....\n",
            "0\n",
            "....\n",
            "0\n",
            "....\n",
            "0\n",
            "....\n",
            "0\n",
            "....\n",
            "0\n",
            "....\n",
            "0\n",
            "....\n",
            "0\n",
            "....\n",
            "0\n",
            "....\n",
            "0\n",
            "....\n",
            "0\n",
            "....\n",
            "0\n",
            "....\n",
            "0\n",
            "....\n",
            "0\n",
            "....\n",
            "0\n",
            "....\n",
            "0\n",
            "....\n",
            "0\n",
            "....\n",
            "0\n",
            "....\n",
            "0\n",
            "....\n",
            "0\n",
            "....\n"
          ]
        }
      ]
    },
    {
      "cell_type": "code",
      "source": [],
      "metadata": {
        "id": "8Ddpd3B5WGq4"
      },
      "execution_count": null,
      "outputs": []
    },
    {
      "cell_type": "code",
      "source": [],
      "metadata": {
        "id": "qzHVLy3jWGso"
      },
      "execution_count": null,
      "outputs": []
    },
    {
      "cell_type": "code",
      "source": [],
      "metadata": {
        "id": "_id2_nfuWGuy"
      },
      "execution_count": null,
      "outputs": []
    },
    {
      "cell_type": "code",
      "source": [],
      "metadata": {
        "id": "8Qalqu71WGyy"
      },
      "execution_count": null,
      "outputs": []
    },
    {
      "cell_type": "code",
      "source": [],
      "metadata": {
        "id": "fJHZrUavWG0j"
      },
      "execution_count": null,
      "outputs": []
    }
  ]
}