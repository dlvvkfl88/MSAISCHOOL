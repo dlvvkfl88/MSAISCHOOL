{
  "nbformat": 4,
  "nbformat_minor": 0,
  "metadata": {
    "colab": {
      "provenance": [],
      "authorship_tag": "ABX9TyOfIPp/ewNqvRiZENiQneGo",
      "include_colab_link": true
    },
    "kernelspec": {
      "name": "python3",
      "display_name": "Python 3"
    },
    "language_info": {
      "name": "python"
    }
  },
  "cells": [
    {
      "cell_type": "markdown",
      "metadata": {
        "id": "view-in-github",
        "colab_type": "text"
      },
      "source": [
        "<a href=\"https://colab.research.google.com/github/dlvvkfl88/MSAISCHOOL/blob/main/MS_AI_SCHOOL_45%EC%9D%BC%EC%B0%A8_%EC%9D%B4%EB%AF%B8%EC%A7%80%EB%B6%84%EC%84%9D(1).ipynb\" target=\"_parent\"><img src=\"https://colab.research.google.com/assets/colab-badge.svg\" alt=\"Open In Colab\"/></a>"
      ]
    },
    {
      "cell_type": "markdown",
      "source": [
        "# 싸이킷런 손글씨 데이터를 활용하여 특성 행렬을 표준화 처리 및 주성분 특성 줄이기"
      ],
      "metadata": {
        "id": "pBru4RR1g-F2"
      }
    },
    {
      "cell_type": "code",
      "source": [
        "from sklearn.preprocessing import StandardScaler\n",
        "from sklearn.decomposition import PCA\n",
        "from sklearn import datasets"
      ],
      "metadata": {
        "id": "s8u_k4AKdVX4"
      },
      "execution_count": 7,
      "outputs": []
    },
    {
      "cell_type": "code",
      "source": [
        "digits = datasets.load_digits() # 8x8 크기 손글씨 숫자\n",
        "feature = StandardScaler().fit_transform(digits.data) # 표준화 처리\n",
        "print(feature)"
      ],
      "metadata": {
        "colab": {
          "base_uri": "https://localhost:8080/"
        },
        "id": "8gDDqXm_hPJo",
        "outputId": "0179c3c4-2174-4f41-9d6e-5cdc63a9ea9b"
      },
      "execution_count": 8,
      "outputs": [
        {
          "output_type": "stream",
          "name": "stdout",
          "text": [
            "[[ 0.         -0.33501649 -0.04308102 ... -1.14664746 -0.5056698\n",
            "  -0.19600752]\n",
            " [ 0.         -0.33501649 -1.09493684 ...  0.54856067 -0.5056698\n",
            "  -0.19600752]\n",
            " [ 0.         -0.33501649 -1.09493684 ...  1.56568555  1.6951369\n",
            "  -0.19600752]\n",
            " ...\n",
            " [ 0.         -0.33501649 -0.88456568 ... -0.12952258 -0.5056698\n",
            "  -0.19600752]\n",
            " [ 0.         -0.33501649 -0.67419451 ...  0.8876023  -0.5056698\n",
            "  -0.19600752]\n",
            " [ 0.         -0.33501649  1.00877481 ...  0.8876023  -0.26113572\n",
            "  -0.19600752]]\n"
          ]
        }
      ]
    },
    {
      "cell_type": "markdown",
      "source": [
        "## 99%의 분산을 유지하도록PCA 클래스 객체 생성"
      ],
      "metadata": {
        "id": "Jk0Tu2u5h1nK"
      }
    },
    {
      "cell_type": "code",
      "source": [
        "pca = PCA(n_components=0.99, whiten=True)\n",
        "features_pca = pca.fit_transform(feature) # PCA 수행\n",
        "\n",
        "print(\"원본 특성갯수 >>\", feature.shape[1])\n",
        "print(\"원본 특성갯수 >>\", features_pca.shape[1])\n"
      ],
      "metadata": {
        "id": "tIu7YRARdVWE",
        "colab": {
          "base_uri": "https://localhost:8080/"
        },
        "outputId": "765e943e-20b4-410c-fcfd-e0b18c6ad846"
      },
      "execution_count": 9,
      "outputs": [
        {
          "output_type": "stream",
          "name": "stdout",
          "text": [
            "원본 특성갯수 >> 64\n",
            "원본 특성갯수 >> 54\n"
          ]
        }
      ]
    },
    {
      "cell_type": "markdown",
      "source": [
        "# 사이킷런 손글씨 데이터를 활용하여 주성분 줄이기 차이"
      ],
      "metadata": {
        "id": "yMJVhJ5EqVw8"
      }
    },
    {
      "cell_type": "code",
      "source": [
        "from sklearn.preprocessing import StandardScaler"
      ],
      "metadata": {
        "id": "PcNJIGwCqVbc"
      },
      "execution_count": 10,
      "outputs": []
    },
    {
      "cell_type": "code",
      "source": [
        "# 데이터 정규화 후 분류 모델 확인\n",
        "scaler = StandardScaler()\n",
        "x_train_norm = scaler.fit_transform(x)"
      ],
      "metadata": {
        "id": "BrYtivCWg9h8",
        "colab": {
          "base_uri": "https://localhost:8080/",
          "height": 211
        },
        "outputId": "54bcb6ab-d391-4629-9a77-ef049ee4c7e6"
      },
      "execution_count": 11,
      "outputs": [
        {
          "output_type": "error",
          "ename": "NameError",
          "evalue": "ignored",
          "traceback": [
            "\u001b[0;31m---------------------------------------------------------------------------\u001b[0m",
            "\u001b[0;31mNameError\u001b[0m                                 Traceback (most recent call last)",
            "\u001b[0;32m<ipython-input-11-355701fc5e13>\u001b[0m in \u001b[0;36m<cell line: 3>\u001b[0;34m()\u001b[0m\n\u001b[1;32m      1\u001b[0m \u001b[0;31m# 데이터 정규화 후 분류 모델 확인\u001b[0m\u001b[0;34m\u001b[0m\u001b[0;34m\u001b[0m\u001b[0m\n\u001b[1;32m      2\u001b[0m \u001b[0mscaler\u001b[0m \u001b[0;34m=\u001b[0m \u001b[0mStandardScaler\u001b[0m\u001b[0;34m(\u001b[0m\u001b[0;34m)\u001b[0m\u001b[0;34m\u001b[0m\u001b[0;34m\u001b[0m\u001b[0m\n\u001b[0;32m----> 3\u001b[0;31m \u001b[0mx_train_norm\u001b[0m \u001b[0;34m=\u001b[0m \u001b[0mscaler\u001b[0m\u001b[0;34m.\u001b[0m\u001b[0mfit_transform\u001b[0m\u001b[0;34m(\u001b[0m\u001b[0mx\u001b[0m\u001b[0;34m)\u001b[0m\u001b[0;34m\u001b[0m\u001b[0;34m\u001b[0m\u001b[0m\n\u001b[0m",
            "\u001b[0;31mNameError\u001b[0m: name 'x' is not defined"
          ]
        }
      ]
    },
    {
      "cell_type": "code",
      "source": [
        "from sklearn.datasets import load_digits\n",
        "from sklearn.model_selection import train_test_split\n",
        "from sklearn.linear_model import LogisticRegression\n",
        "from sklearn.metrics import accuracy_score"
      ],
      "metadata": {
        "id": "p_Af7c6vdVUH"
      },
      "execution_count": 13,
      "outputs": []
    },
    {
      "cell_type": "markdown",
      "source": [
        "# 데이터 불러오기"
      ],
      "metadata": {
        "id": "f-EY3FFbq2bd"
      }
    },
    {
      "cell_type": "code",
      "source": [
        "digits= load_digits()\n",
        "\n",
        "# 진짜 차이가 있는지 체크하기 위해 -> 정규화 하지 않은 데이터로 분류 모델 훈련\n",
        "x_train, x_test, y_train, y_test = train_test_split(digits.data, digits.target,test_size=0.2, random_state=777)\n",
        "\n",
        "print(len(x_train), len(x_test))\n",
        "print(len(y_train), len(y_test))"
      ],
      "metadata": {
        "id": "VFnqo8ScdVSe",
        "colab": {
          "base_uri": "https://localhost:8080/"
        },
        "outputId": "3259030e-6d85-4164-897b-b72341d2af65"
      },
      "execution_count": 14,
      "outputs": [
        {
          "output_type": "stream",
          "name": "stdout",
          "text": [
            "1437 360\n",
            "1437 360\n"
          ]
        }
      ]
    },
    {
      "cell_type": "markdown",
      "source": [
        "# 모델 불러오기"
      ],
      "metadata": {
        "id": "1757YvpXrcaU"
      }
    },
    {
      "cell_type": "code",
      "source": [
        "model = LogisticRegression()\n",
        "\n",
        "model.fit(x_train, y_train)\n",
        "y_pred = model.predict(x_test)\n",
        "\n",
        "no_standardScaler_acc_score = accuracy_score(y_test, y_pred) # 정답치 예측지 비교해서 맞으면 1 0 카운트 전부더해주고 / 전체데이터로 나눠줌\n",
        "\n",
        "print(no_standardScaler_acc_score)"
      ],
      "metadata": {
        "colab": {
          "base_uri": "https://localhost:8080/"
        },
        "id": "PiXidQthrfJm",
        "outputId": "78e74f5b-611b-41b5-89dd-31cfe65c43c2"
      },
      "execution_count": 15,
      "outputs": [
        {
          "output_type": "stream",
          "name": "stdout",
          "text": [
            "0.95\n"
          ]
        },
        {
          "output_type": "stream",
          "name": "stderr",
          "text": [
            "/usr/local/lib/python3.10/dist-packages/sklearn/linear_model/_logistic.py:458: ConvergenceWarning: lbfgs failed to converge (status=1):\n",
            "STOP: TOTAL NO. of ITERATIONS REACHED LIMIT.\n",
            "\n",
            "Increase the number of iterations (max_iter) or scale the data as shown in:\n",
            "    https://scikit-learn.org/stable/modules/preprocessing.html\n",
            "Please also refer to the documentation for alternative solver options:\n",
            "    https://scikit-learn.org/stable/modules/linear_model.html#logistic-regression\n",
            "  n_iter_i = _check_optimize_result(\n"
          ]
        }
      ]
    },
    {
      "cell_type": "markdown",
      "source": [
        "# StandardScaler 적용후 -> ACC"
      ],
      "metadata": {
        "id": "G9CT3xAHsgBN"
      }
    },
    {
      "cell_type": "code",
      "source": [
        "from sklearn.preprocessing import StandardScaler\n",
        "\n",
        "scaler = StandardScaler()\n",
        "\n",
        "x_train_norm = scaler.fit_transform(x_train)\n",
        "x_test_norm = scaler.transform(x_test)\n",
        "model_norm = LogisticRegression()\n",
        "model_norm.fit(x_train_norm , y_train)\n",
        "y_pred_norm = model_norm.predict(x_test_norm)\n",
        "\n",
        "\n",
        "standardScale_acc_score = accuracy_score(y_test, y_pred_norm)\n",
        "print(standardScale_acc_score)"
      ],
      "metadata": {
        "colab": {
          "base_uri": "https://localhost:8080/"
        },
        "id": "EZrhUAjnrfHg",
        "outputId": "3389cb21-a911-4e4a-f200-7057380e5b68"
      },
      "execution_count": 16,
      "outputs": [
        {
          "output_type": "stream",
          "name": "stdout",
          "text": [
            "0.95\n"
          ]
        }
      ]
    },
    {
      "cell_type": "markdown",
      "source": [
        "실습 - 03"
      ],
      "metadata": {
        "id": "HNEC9gIV0-sA"
      }
    },
    {
      "cell_type": "code",
      "source": [
        "from sklearn.decomposition import KernelPCA\n",
        "from sklearn.datasets import make_circles"
      ],
      "metadata": {
        "id": "dZIPabIZrfFY"
      },
      "execution_count": 17,
      "outputs": []
    },
    {
      "cell_type": "code",
      "source": [
        "# 선형적으로  구분되지 않은 데이터를 만들기\n",
        "\n",
        "feature,_ = make_circles(n_samples=1000, random_state=777, noise=0.1, factor=0.1)\n",
        "\n",
        "print(feature)"
      ],
      "metadata": {
        "colab": {
          "base_uri": "https://localhost:8080/"
        },
        "id": "-LTxQW-CrfBk",
        "outputId": "019aff09-0555-4a9f-b8fe-a72e8fa1eb80"
      },
      "execution_count": 18,
      "outputs": [
        {
          "output_type": "stream",
          "name": "stdout",
          "text": [
            "[[-0.02313275  0.15282194]\n",
            " [ 0.8626983   0.46556009]\n",
            " [ 0.05905661 -0.05048386]\n",
            " ...\n",
            " [-0.10071513 -0.1814104 ]\n",
            " [ 0.10461224  0.08710802]\n",
            " [ 0.28894733  0.97460534]]\n"
          ]
        }
      ]
    },
    {
      "cell_type": "markdown",
      "source": [
        "# 방사 기저함수를 사용하여 커널 pca를 적용"
      ],
      "metadata": {
        "id": "jrZWQKgC1aJQ"
      }
    },
    {
      "cell_type": "code",
      "source": [
        "kcpa = KernelPCA(kernel='rbf', gamma=15, n_components=1)\n",
        "# kcpa rbf =\n",
        "\n",
        "feature_rbf = kcpa.fit_transform(feature)\n",
        "print(\"원본 특성 갯수:\", feature.shape[1])\n",
        "print(\"줄어든 특성 갯수:\", feature_rbf.shape[1])\n",
        "\n"
      ],
      "metadata": {
        "colab": {
          "base_uri": "https://localhost:8080/"
        },
        "id": "naGB7lpOrWCW",
        "outputId": "271a43cf-a2a9-45a3-e34f-4a589f3f9412"
      },
      "execution_count": 19,
      "outputs": [
        {
          "output_type": "stream",
          "name": "stdout",
          "text": [
            "원본 특성 갯수: 2\n",
            "줄어든 특성 갯수: 1\n"
          ]
        }
      ]
    },
    {
      "cell_type": "markdown",
      "source": [
        "# 선형 판별 분석 LDA실습"
      ],
      "metadata": {
        "id": "WVpDJ9pE2IaZ"
      }
    },
    {
      "cell_type": "code",
      "source": [
        "from sklearn import datasets\n",
        "from sklearn.discriminant_analysis import LinearDiscriminantAnalysis"
      ],
      "metadata": {
        "id": "LMagayh8rWAl"
      },
      "execution_count": 20,
      "outputs": []
    },
    {
      "cell_type": "code",
      "source": [
        "iris = datasets.load_iris() # 붗꽃 데이터셋 로드\n",
        "features = iris.data\n",
        "target = iris.target\n",
        "\n",
        "\n",
        "print(features, target)"
      ],
      "metadata": {
        "colab": {
          "base_uri": "https://localhost:8080/"
        },
        "id": "l7Y2zT0LrV99",
        "outputId": "8809a74c-7c0a-4900-95aa-0dd877c346c4"
      },
      "execution_count": 21,
      "outputs": [
        {
          "output_type": "stream",
          "name": "stdout",
          "text": [
            "[[5.1 3.5 1.4 0.2]\n",
            " [4.9 3.  1.4 0.2]\n",
            " [4.7 3.2 1.3 0.2]\n",
            " [4.6 3.1 1.5 0.2]\n",
            " [5.  3.6 1.4 0.2]\n",
            " [5.4 3.9 1.7 0.4]\n",
            " [4.6 3.4 1.4 0.3]\n",
            " [5.  3.4 1.5 0.2]\n",
            " [4.4 2.9 1.4 0.2]\n",
            " [4.9 3.1 1.5 0.1]\n",
            " [5.4 3.7 1.5 0.2]\n",
            " [4.8 3.4 1.6 0.2]\n",
            " [4.8 3.  1.4 0.1]\n",
            " [4.3 3.  1.1 0.1]\n",
            " [5.8 4.  1.2 0.2]\n",
            " [5.7 4.4 1.5 0.4]\n",
            " [5.4 3.9 1.3 0.4]\n",
            " [5.1 3.5 1.4 0.3]\n",
            " [5.7 3.8 1.7 0.3]\n",
            " [5.1 3.8 1.5 0.3]\n",
            " [5.4 3.4 1.7 0.2]\n",
            " [5.1 3.7 1.5 0.4]\n",
            " [4.6 3.6 1.  0.2]\n",
            " [5.1 3.3 1.7 0.5]\n",
            " [4.8 3.4 1.9 0.2]\n",
            " [5.  3.  1.6 0.2]\n",
            " [5.  3.4 1.6 0.4]\n",
            " [5.2 3.5 1.5 0.2]\n",
            " [5.2 3.4 1.4 0.2]\n",
            " [4.7 3.2 1.6 0.2]\n",
            " [4.8 3.1 1.6 0.2]\n",
            " [5.4 3.4 1.5 0.4]\n",
            " [5.2 4.1 1.5 0.1]\n",
            " [5.5 4.2 1.4 0.2]\n",
            " [4.9 3.1 1.5 0.2]\n",
            " [5.  3.2 1.2 0.2]\n",
            " [5.5 3.5 1.3 0.2]\n",
            " [4.9 3.6 1.4 0.1]\n",
            " [4.4 3.  1.3 0.2]\n",
            " [5.1 3.4 1.5 0.2]\n",
            " [5.  3.5 1.3 0.3]\n",
            " [4.5 2.3 1.3 0.3]\n",
            " [4.4 3.2 1.3 0.2]\n",
            " [5.  3.5 1.6 0.6]\n",
            " [5.1 3.8 1.9 0.4]\n",
            " [4.8 3.  1.4 0.3]\n",
            " [5.1 3.8 1.6 0.2]\n",
            " [4.6 3.2 1.4 0.2]\n",
            " [5.3 3.7 1.5 0.2]\n",
            " [5.  3.3 1.4 0.2]\n",
            " [7.  3.2 4.7 1.4]\n",
            " [6.4 3.2 4.5 1.5]\n",
            " [6.9 3.1 4.9 1.5]\n",
            " [5.5 2.3 4.  1.3]\n",
            " [6.5 2.8 4.6 1.5]\n",
            " [5.7 2.8 4.5 1.3]\n",
            " [6.3 3.3 4.7 1.6]\n",
            " [4.9 2.4 3.3 1. ]\n",
            " [6.6 2.9 4.6 1.3]\n",
            " [5.2 2.7 3.9 1.4]\n",
            " [5.  2.  3.5 1. ]\n",
            " [5.9 3.  4.2 1.5]\n",
            " [6.  2.2 4.  1. ]\n",
            " [6.1 2.9 4.7 1.4]\n",
            " [5.6 2.9 3.6 1.3]\n",
            " [6.7 3.1 4.4 1.4]\n",
            " [5.6 3.  4.5 1.5]\n",
            " [5.8 2.7 4.1 1. ]\n",
            " [6.2 2.2 4.5 1.5]\n",
            " [5.6 2.5 3.9 1.1]\n",
            " [5.9 3.2 4.8 1.8]\n",
            " [6.1 2.8 4.  1.3]\n",
            " [6.3 2.5 4.9 1.5]\n",
            " [6.1 2.8 4.7 1.2]\n",
            " [6.4 2.9 4.3 1.3]\n",
            " [6.6 3.  4.4 1.4]\n",
            " [6.8 2.8 4.8 1.4]\n",
            " [6.7 3.  5.  1.7]\n",
            " [6.  2.9 4.5 1.5]\n",
            " [5.7 2.6 3.5 1. ]\n",
            " [5.5 2.4 3.8 1.1]\n",
            " [5.5 2.4 3.7 1. ]\n",
            " [5.8 2.7 3.9 1.2]\n",
            " [6.  2.7 5.1 1.6]\n",
            " [5.4 3.  4.5 1.5]\n",
            " [6.  3.4 4.5 1.6]\n",
            " [6.7 3.1 4.7 1.5]\n",
            " [6.3 2.3 4.4 1.3]\n",
            " [5.6 3.  4.1 1.3]\n",
            " [5.5 2.5 4.  1.3]\n",
            " [5.5 2.6 4.4 1.2]\n",
            " [6.1 3.  4.6 1.4]\n",
            " [5.8 2.6 4.  1.2]\n",
            " [5.  2.3 3.3 1. ]\n",
            " [5.6 2.7 4.2 1.3]\n",
            " [5.7 3.  4.2 1.2]\n",
            " [5.7 2.9 4.2 1.3]\n",
            " [6.2 2.9 4.3 1.3]\n",
            " [5.1 2.5 3.  1.1]\n",
            " [5.7 2.8 4.1 1.3]\n",
            " [6.3 3.3 6.  2.5]\n",
            " [5.8 2.7 5.1 1.9]\n",
            " [7.1 3.  5.9 2.1]\n",
            " [6.3 2.9 5.6 1.8]\n",
            " [6.5 3.  5.8 2.2]\n",
            " [7.6 3.  6.6 2.1]\n",
            " [4.9 2.5 4.5 1.7]\n",
            " [7.3 2.9 6.3 1.8]\n",
            " [6.7 2.5 5.8 1.8]\n",
            " [7.2 3.6 6.1 2.5]\n",
            " [6.5 3.2 5.1 2. ]\n",
            " [6.4 2.7 5.3 1.9]\n",
            " [6.8 3.  5.5 2.1]\n",
            " [5.7 2.5 5.  2. ]\n",
            " [5.8 2.8 5.1 2.4]\n",
            " [6.4 3.2 5.3 2.3]\n",
            " [6.5 3.  5.5 1.8]\n",
            " [7.7 3.8 6.7 2.2]\n",
            " [7.7 2.6 6.9 2.3]\n",
            " [6.  2.2 5.  1.5]\n",
            " [6.9 3.2 5.7 2.3]\n",
            " [5.6 2.8 4.9 2. ]\n",
            " [7.7 2.8 6.7 2. ]\n",
            " [6.3 2.7 4.9 1.8]\n",
            " [6.7 3.3 5.7 2.1]\n",
            " [7.2 3.2 6.  1.8]\n",
            " [6.2 2.8 4.8 1.8]\n",
            " [6.1 3.  4.9 1.8]\n",
            " [6.4 2.8 5.6 2.1]\n",
            " [7.2 3.  5.8 1.6]\n",
            " [7.4 2.8 6.1 1.9]\n",
            " [7.9 3.8 6.4 2. ]\n",
            " [6.4 2.8 5.6 2.2]\n",
            " [6.3 2.8 5.1 1.5]\n",
            " [6.1 2.6 5.6 1.4]\n",
            " [7.7 3.  6.1 2.3]\n",
            " [6.3 3.4 5.6 2.4]\n",
            " [6.4 3.1 5.5 1.8]\n",
            " [6.  3.  4.8 1.8]\n",
            " [6.9 3.1 5.4 2.1]\n",
            " [6.7 3.1 5.6 2.4]\n",
            " [6.9 3.1 5.1 2.3]\n",
            " [5.8 2.7 5.1 1.9]\n",
            " [6.8 3.2 5.9 2.3]\n",
            " [6.7 3.3 5.7 2.5]\n",
            " [6.7 3.  5.2 2.3]\n",
            " [6.3 2.5 5.  1.9]\n",
            " [6.5 3.  5.2 2. ]\n",
            " [6.2 3.4 5.4 2.3]\n",
            " [5.9 3.  5.1 1.8]] [0 0 0 0 0 0 0 0 0 0 0 0 0 0 0 0 0 0 0 0 0 0 0 0 0 0 0 0 0 0 0 0 0 0 0 0 0\n",
            " 0 0 0 0 0 0 0 0 0 0 0 0 0 1 1 1 1 1 1 1 1 1 1 1 1 1 1 1 1 1 1 1 1 1 1 1 1\n",
            " 1 1 1 1 1 1 1 1 1 1 1 1 1 1 1 1 1 1 1 1 1 1 1 1 1 1 2 2 2 2 2 2 2 2 2 2 2\n",
            " 2 2 2 2 2 2 2 2 2 2 2 2 2 2 2 2 2 2 2 2 2 2 2 2 2 2 2 2 2 2 2 2 2 2 2 2 2\n",
            " 2 2]\n"
          ]
        }
      ]
    },
    {
      "cell_type": "code",
      "source": [
        "lda = LinearDiscriminantAnalysis(n_components=1)\n",
        "features_lda = lda.fit(features, target).transform(features)\n",
        "\n",
        "print(\"원본 특성 갯수 >>>\", features.shape[1])\n",
        "print(\"줄어든 특성 갯수 >>>\", features_lda.shape[1])"
      ],
      "metadata": {
        "colab": {
          "base_uri": "https://localhost:8080/"
        },
        "id": "vpcvqvUp2w5V",
        "outputId": "cca4f873-2023-4861-af1a-230a776599d6"
      },
      "execution_count": 22,
      "outputs": [
        {
          "output_type": "stream",
          "name": "stdout",
          "text": [
            "원본 특성 갯수 >>> 4\n",
            "줄어든 특성 갯수 >>> 1\n"
          ]
        }
      ]
    },
    {
      "cell_type": "markdown",
      "source": [
        "# 범주형 데이터 분석"
      ],
      "metadata": {
        "id": "iryvV_8u9hSq"
      }
    },
    {
      "cell_type": "code",
      "source": [
        "import numpy as np\n",
        "from sklearn.preprocessing import LabelBinarizer,MultiLabelBinarizer"
      ],
      "metadata": {
        "id": "WdknJrV62w3Q"
      },
      "execution_count": 23,
      "outputs": []
    },
    {
      "cell_type": "code",
      "source": [
        "feature = np.array((['가나다라'],\n",
        "                    ['가나다라'],\n",
        "                    ['아바하자'],\n",
        "                    ['카나다사']))\n",
        "\n",
        "print(feature)\n",
        "# 원핫인코더 생성\n",
        "ont_hot = LabelBinarizer()\n",
        "ont_hot.fit_transform(feature)\n",
        "\n",
        "# 특성 클래스 확인\n",
        "print(ont_hot.classes_)"
      ],
      "metadata": {
        "colab": {
          "base_uri": "https://localhost:8080/"
        },
        "id": "aZLrzE889hA7",
        "outputId": "a1968754-c2d6-4546-9ca4-a0d131da781b"
      },
      "execution_count": 24,
      "outputs": [
        {
          "output_type": "stream",
          "name": "stdout",
          "text": [
            "[['가나다라']\n",
            " ['가나다라']\n",
            " ['아바하자']\n",
            " ['카나다사']]\n",
            "['가나다라' '아바하자' '카나다사']\n"
          ]
        }
      ]
    },
    {
      "cell_type": "markdown",
      "source": [
        "# 다중 클래스 특성에 대한 처리"
      ],
      "metadata": {
        "id": "ArHtIhr3JF7m"
      }
    },
    {
      "cell_type": "code",
      "source": [
        "multiclass_feature = [('가나다라마'), ('아자바하나'),\n",
        "                      ('자다가나라'), ('자다나타하'),\n",
        "                      ('라마바다나'), ('아자바하나'),\n",
        "                      ('가나다라마'), ('아자바하나'),\n",
        "                      ]\n",
        "\n",
        "one_hot_mult = MultiLabelBinarizer()\n",
        "one_hot_mult.fit_transform(multiclass_feature)\n",
        "print(one_hot_mult.classes_)"
      ],
      "metadata": {
        "id": "MT1ZBaQd2w1L",
        "colab": {
          "base_uri": "https://localhost:8080/"
        },
        "outputId": "891ff8b4-5d6d-4aca-beea-ef6ea7418973"
      },
      "execution_count": 25,
      "outputs": [
        {
          "output_type": "stream",
          "name": "stdout",
          "text": [
            "['가' '나' '다' '라' '마' '바' '아' '자' '타' '하']\n"
          ]
        }
      ]
    },
    {
      "cell_type": "markdown",
      "source": [
        "# 문자열과 타깃 데이터 원-핫 인코딩\n"
      ],
      "metadata": {
        "id": "Rwhm2l0kP4l4"
      }
    },
    {
      "cell_type": "code",
      "source": [
        "from sklearn.preprocessing import OneHotEncoder\n",
        "\n",
        "str_feature = ([['안녕',1],\n",
        "                ['저녁',2],\n",
        "                ['안녕',1],\n",
        "                ['점심',3]])\n",
        "\n",
        "\n",
        "\n",
        "one_hot_encoder = OneHotEncoder(sparse=False)\n",
        "\n",
        "# One Hot Encoder -> 입력 특성 배열은 모두 범주형\n",
        "one_hot_encoder.fit_transform(str_feature)\n",
        "print(one_hot_encoder.categories_)"
      ],
      "metadata": {
        "id": "9nq0MeCb2wzQ",
        "colab": {
          "base_uri": "https://localhost:8080/"
        },
        "outputId": "0738c5cf-8fc3-4513-fab0-7d0792994609"
      },
      "execution_count": 26,
      "outputs": [
        {
          "output_type": "stream",
          "name": "stdout",
          "text": [
            "[array(['안녕', '저녁', '점심'], dtype=object), array([1, 2, 3], dtype=object)]\n"
          ]
        },
        {
          "output_type": "stream",
          "name": "stderr",
          "text": [
            "/usr/local/lib/python3.10/dist-packages/sklearn/preprocessing/_encoders.py:868: FutureWarning: `sparse` was renamed to `sparse_output` in version 1.2 and will be removed in 1.4. `sparse_output` is ignored unless you leave `sparse` to its default value.\n",
            "  warnings.warn(\n"
          ]
        }
      ]
    },
    {
      "cell_type": "markdown",
      "source": [
        "## 순서가 있는 범주형 특성 인코딩\n",
        "\n",
        "- 순서가 있는 클래스는 순서 개념을 가진 수치값을 ㅗ변환\n",
        "딕셔너리 사용해서 -> 특성"
      ],
      "metadata": {
        "id": "yuh0_YlaUndp"
      }
    },
    {
      "cell_type": "code",
      "source": [
        "import pandas as pd"
      ],
      "metadata": {
        "id": "PIpSnlhO2wxV"
      },
      "execution_count": 27,
      "outputs": []
    },
    {
      "cell_type": "code",
      "source": [
        "# 특성 데이터 생성\n",
        "dataframe = pd.DataFrame({\n",
        "    'Score':[\"Low\", \"Low\", \"Medium\",\"Medium\",\"High\"]\n",
        "})\n",
        "print(dataframe)"
      ],
      "metadata": {
        "id": "cMK09WWn2wvT",
        "colab": {
          "base_uri": "https://localhost:8080/"
        },
        "outputId": "2a9e5ab5-e3ad-4f27-8821-98e5c9d4860f"
      },
      "execution_count": 28,
      "outputs": [
        {
          "output_type": "stream",
          "name": "stdout",
          "text": [
            "    Score\n",
            "0     Low\n",
            "1     Low\n",
            "2  Medium\n",
            "3  Medium\n",
            "4    High\n"
          ]
        }
      ]
    },
    {
      "cell_type": "markdown",
      "source": [
        "# 매핑 딕셔너리 생성"
      ],
      "metadata": {
        "id": "Gvq655W_U50J"
      }
    },
    {
      "cell_type": "code",
      "source": [
        "scale_mapper = {\n",
        "    \"Low\":1,\n",
        "    \"Medium\":2,\n",
        "    \"High\":3\n",
        "}\n",
        "\n",
        "print(scale_mapper)"
      ],
      "metadata": {
        "id": "kW7HdCxQ2wtL",
        "colab": {
          "base_uri": "https://localhost:8080/"
        },
        "outputId": "2f9b192a-90f8-4b2f-bea2-d2efd57e1d55"
      },
      "execution_count": 29,
      "outputs": [
        {
          "output_type": "stream",
          "name": "stdout",
          "text": [
            "{'Low': 1, 'Medium': 2, 'High': 3}\n"
          ]
        }
      ]
    },
    {
      "cell_type": "code",
      "source": [
        "data = dataframe[\"Score\"].replace(scale_mapper)\n",
        "\n",
        "print(data)"
      ],
      "metadata": {
        "id": "DJhROHUc2wrS",
        "colab": {
          "base_uri": "https://localhost:8080/"
        },
        "outputId": "65e2f2b6-f0b4-4e79-a08a-32f082cbb193"
      },
      "execution_count": 30,
      "outputs": [
        {
          "output_type": "stream",
          "name": "stdout",
          "text": [
            "0    1\n",
            "1    1\n",
            "2    2\n",
            "3    2\n",
            "4    3\n",
            "Name: Score, dtype: int64\n"
          ]
        }
      ]
    },
    {
      "cell_type": "markdown",
      "source": [
        "# 1-2 순서가 있는 범주형 특성 인코딩"
      ],
      "metadata": {
        "id": "EgbA69LZVXPi"
      }
    },
    {
      "cell_type": "code",
      "source": [
        "\n",
        "from sklearn.preprocessing import OrdinalEncoder\n",
        "\n",
        "feature_array = np.array((['Low', 10],\n",
        "                           ['High', 40],\n",
        "                           ['Medium', 3],))\n",
        "\n",
        "ordinal_encoder = OrdinalEncoder()\n",
        "one_hot_encoder.fit_transform(feature_array)\n",
        "\n",
        "print(ordinal_encoder.categories)"
      ],
      "metadata": {
        "id": "v3yFBc4D2wpa",
        "colab": {
          "base_uri": "https://localhost:8080/"
        },
        "outputId": "55dfff0a-c339-4d40-9fc6-9e854916cb64"
      },
      "execution_count": 31,
      "outputs": [
        {
          "output_type": "stream",
          "name": "stdout",
          "text": [
            "auto\n"
          ]
        },
        {
          "output_type": "stream",
          "name": "stderr",
          "text": [
            "/usr/local/lib/python3.10/dist-packages/sklearn/preprocessing/_encoders.py:868: FutureWarning: `sparse` was renamed to `sparse_output` in version 1.2 and will be removed in 1.4. `sparse_output` is ignored unless you leave `sparse` to its default value.\n",
            "  warnings.warn(\n"
          ]
        }
      ]
    },
    {
      "cell_type": "markdown",
      "source": [
        "# 1-3 순서가 있는 범주형 특성 인코딩 ## 특성 딕셔너리 인코딩"
      ],
      "metadata": {
        "id": "FsKAylp6Wact"
      }
    },
    {
      "cell_type": "code",
      "source": [
        "from sklearn.feature_extraction import DictVectorizer"
      ],
      "metadata": {
        "id": "OnpkYatNrV5w"
      },
      "execution_count": 32,
      "outputs": []
    },
    {
      "cell_type": "code",
      "source": [
        "# 딕셔너리 생성\n",
        "data_dict = [{\"Red\":2, \"Blue\":4},\n",
        "             {\"Red\":2, \"blue\":3},\n",
        "             {\"Red\":1, \"Yellow\":2},\n",
        "             {\"Red\":1, \"Yellow\":2}]\n",
        "\n",
        "\n",
        "\n",
        "\n",
        "dictVectorizer = DictVectorizer(sparse=False)\n",
        "\n",
        "feature_dict = dictVectorizer.fit_transform(data_dict)\n",
        "\n",
        "print(feature_dict)\n",
        "\n",
        "feature_dict_name = dictVectorizer.get_feature_names_out()\n",
        "print(feature_dict_name)\n",
        "\n",
        "dict_data = pd.DataFrame(feature_dict, columns=feature_dict_name)\n",
        "\n",
        "print(dict_data)"
      ],
      "metadata": {
        "id": "wtFTgI4drV3k",
        "colab": {
          "base_uri": "https://localhost:8080/"
        },
        "outputId": "6ef3d86d-0264-48eb-fc5b-975022e9a90e"
      },
      "execution_count": 33,
      "outputs": [
        {
          "output_type": "stream",
          "name": "stdout",
          "text": [
            "[[4. 2. 0. 0.]\n",
            " [0. 2. 0. 3.]\n",
            " [0. 1. 2. 0.]\n",
            " [0. 1. 2. 0.]]\n",
            "['Blue' 'Red' 'Yellow' 'blue']\n",
            "   Blue  Red  Yellow  blue\n",
            "0   4.0  2.0     0.0   0.0\n",
            "1   0.0  2.0     0.0   3.0\n",
            "2   0.0  1.0     2.0   0.0\n",
            "3   0.0  1.0     2.0   0.0\n"
          ]
        }
      ]
    },
    {
      "cell_type": "markdown",
      "source": [
        "# 범주형 데이터 - 누락된 클래스 값 대처하기 01"
      ],
      "metadata": {
        "id": "nTriuNHeX1Zj"
      }
    },
    {
      "cell_type": "code",
      "source": [
        "from sklearn.neighbors import KNeighborsClassifier"
      ],
      "metadata": {
        "id": "86HlBh1AdVQJ"
      },
      "execution_count": 34,
      "outputs": []
    },
    {
      "cell_type": "code",
      "source": [
        "x = np.array([[0,2.10,1.48],\n",
        "              [1.,1.18,1.33],\n",
        "              [0,1.22,1.27],\n",
        "              [1,-0.20,-1.15]])\n",
        "\n",
        "x_with_nan = np.array([[np.nan, 0.87 , 1.33],\n",
        "                       [np.nan, -0.67, -0.22]])\n",
        "\n",
        "clf = KNeighborsClassifier(3, weights = 'distance')\n",
        "\n",
        "print(x[:,1:])\n",
        "print(x[:,0])\n"
      ],
      "metadata": {
        "colab": {
          "base_uri": "https://localhost:8080/"
        },
        "id": "Vle2bMvaX4v5",
        "outputId": "72026917-0d8a-4494-87d8-24e9990c3274"
      },
      "execution_count": 35,
      "outputs": [
        {
          "output_type": "stream",
          "name": "stdout",
          "text": [
            "[[ 2.1   1.48]\n",
            " [ 1.18  1.33]\n",
            " [ 1.22  1.27]\n",
            " [-0.2  -1.15]]\n",
            "[0. 1. 0. 1.]\n"
          ]
        }
      ]
    },
    {
      "cell_type": "code",
      "source": [
        "train_model = clf.fit(x[:,1:], x[:,0])\n",
        "\n",
        "imputer_values = train_model.predict(x_with_nan[:,1:]) # 누락된 값의 클래스 예측\n",
        "\n",
        "x_with_imputer = np.hstack((imputer_values.reshape(-1,1), x_with_nan[:,1:]))\n",
        "data = np.vstack((x_with_imputer, x )) # 두 특성 핼렬을 연결\n",
        "print(data)"
      ],
      "metadata": {
        "colab": {
          "base_uri": "https://localhost:8080/"
        },
        "id": "_LIO78YpX4t6",
        "outputId": "8c6bb482-f4e9-4e87-f2d9-9d6ddefacf64"
      },
      "execution_count": 36,
      "outputs": [
        {
          "output_type": "stream",
          "name": "stdout",
          "text": [
            "[[ 0.    0.87  1.33]\n",
            " [ 1.   -0.67 -0.22]\n",
            " [ 0.    2.1   1.48]\n",
            " [ 1.    1.18  1.33]\n",
            " [ 0.    1.22  1.27]\n",
            " [ 1.   -0.2  -1.15]]\n"
          ]
        }
      ]
    },
    {
      "cell_type": "markdown",
      "source": [
        "# 누락된 클래스 값 대처하기 -02\n",
        "-누락된 값을 특성에서 가장 자주 등장하는 값으로 채우기"
      ],
      "metadata": {
        "id": "2lVmF_I8P0jk"
      }
    },
    {
      "cell_type": "code",
      "source": [
        "from sklearn.impute import SimpleImputer\n",
        "import numpy as np"
      ],
      "metadata": {
        "id": "y1JxIPAvX4r7"
      },
      "execution_count": 37,
      "outputs": []
    },
    {
      "cell_type": "code",
      "source": [
        "x_complete = np.vstack((x_with_nan, x ))\n",
        "impute = SimpleImputer(strategy='most_frequent')\n",
        "data_impute = impute.fit_transform(x_complete)\n",
        "\n",
        "print(data_impute)"
      ],
      "metadata": {
        "id": "qXOgaNqpX4pr",
        "colab": {
          "base_uri": "https://localhost:8080/"
        },
        "outputId": "40f93a28-e12d-4cbf-bfa2-190cfee1fdae"
      },
      "execution_count": 38,
      "outputs": [
        {
          "output_type": "stream",
          "name": "stdout",
          "text": [
            "[[ 0.    0.87  1.33]\n",
            " [ 0.   -0.67 -0.22]\n",
            " [ 0.    2.1   1.48]\n",
            " [ 1.    1.18  1.33]\n",
            " [ 0.    1.22  1.27]\n",
            " [ 1.   -0.2  -1.15]]\n"
          ]
        }
      ]
    },
    {
      "cell_type": "markdown",
      "source": [
        "## 텍스트 데이터 처리"
      ],
      "metadata": {
        "id": "DyU6SD7uRAra"
      }
    },
    {
      "cell_type": "code",
      "source": [
        "import re"
      ],
      "metadata": {
        "id": "eNN0BUQGQ8v6"
      },
      "execution_count": 39,
      "outputs": []
    },
    {
      "cell_type": "code",
      "source": [
        "# 텍스트 정제\n",
        "text_data = [\" import re 모듈은 파이썬에서 정규 표현식을 사용하기 위해 제공되는 내장 모듈입니다. ???\" ,\n",
        "             \"  정규 표현식은 문자열 패턴을 검색, 추출, 대체 또는 분할하는 데 사용됩니다. !!!!!\"]"
      ],
      "metadata": {
        "id": "IIB4fq2_Q8t8"
      },
      "execution_count": 40,
      "outputs": []
    },
    {
      "cell_type": "code",
      "source": [
        "# 공백 문자 제거\n",
        "strip_whitespace = [string.strip() for string in text_data] #공백문자제거\n",
        "\n",
        "strip_whitespace"
      ],
      "metadata": {
        "colab": {
          "base_uri": "https://localhost:8080/"
        },
        "id": "8nIbaG8TQ8r4",
        "outputId": "71edb6db-eb7b-4aba-896d-bca53a3dda24"
      },
      "execution_count": 41,
      "outputs": [
        {
          "output_type": "execute_result",
          "data": {
            "text/plain": [
              "['import re 모듈은 파이썬에서 정규 표현식을 사용하기 위해 제공되는 내장 모듈입니다. ???',\n",
              " '정규 표현식은 문자열 패턴을 검색, 추출, 대체 또는 분할하는 데 사용됩니다. !!!!!']"
            ]
          },
          "metadata": {},
          "execution_count": 41
        }
      ]
    },
    {
      "cell_type": "markdown",
      "source": [
        "# \" import 공백ㅇ이 string.strip()을 통해 \"import 됨"
      ],
      "metadata": {
        "id": "fSlKaKyiS-PT"
      }
    },
    {
      "cell_type": "code",
      "source": [
        "# 마침표 제거\n",
        "remove_periods = [string.replace(\".\",\"\") for string in strip_whitespace ]\n",
        "\n",
        "remove_periods"
      ],
      "metadata": {
        "colab": {
          "base_uri": "https://localhost:8080/"
        },
        "id": "DrFUIGAzQ8p2",
        "outputId": "383c53be-d409-4049-c290-f0d8b8c5328a"
      },
      "execution_count": 42,
      "outputs": [
        {
          "output_type": "execute_result",
          "data": {
            "text/plain": [
              "['import re 모듈은 파이썬에서 정규 표현식을 사용하기 위해 제공되는 내장 모듈입니다 ???',\n",
              " '정규 표현식은 문자열 패턴을 검색, 추출, 대체 또는 분할하는 데 사용됩니다 !!!!!']"
            ]
          },
          "metadata": {},
          "execution_count": 42
        }
      ]
    },
    {
      "cell_type": "code",
      "source": [
        "# 구두점 !! 삭제\n",
        "import sys\n",
        "import unicodedata\n",
        "\n",
        "temp = dict.fromkeys(i for i in range(sys.maxunicode) if unicodedata.category(chr(i)).startswith('P'))\n",
        "\n",
        "data = [string.translate(temp) for string in text_data]\n",
        "print(data)"
      ],
      "metadata": {
        "colab": {
          "base_uri": "https://localhost:8080/"
        },
        "id": "qnfjW_GfQ8nv",
        "outputId": "5565ca6f-54aa-47ac-b476-80695dc30d4e"
      },
      "execution_count": 47,
      "outputs": [
        {
          "output_type": "stream",
          "name": "stdout",
          "text": [
            "[' import re 모듈은 파이썬에서 정규 표현식을 사용하기 위해 제공되는 내장 모듈입니다 ', '  정규 표현식은 문자열 패턴을 검색 추출 대체 또는 분할하는 데 사용됩니다 ']\n"
          ]
        }
      ]
    },
    {
      "cell_type": "markdown",
      "source": [
        "### 텍스트 토큰화\n",
        "-텍스트를 개별단어로 나누기"
      ],
      "metadata": {
        "id": "bzVM7k0jUcaq"
      }
    },
    {
      "cell_type": "code",
      "source": [
        "from nltk.tokenize import sent_tokenize # 문장기준\n",
        "from nltk.tokenize import word_tokenize # 단어기준\n",
        "import nltk\n",
        "\n",
        "# 구두점 데이터 다운로드\n",
        "nltk.download('punkt')"
      ],
      "metadata": {
        "colab": {
          "base_uri": "https://localhost:8080/"
        },
        "id": "UcF2wASZQ8lj",
        "outputId": "ca291bbf-f500-41e9-8364-b5c1e5ec7c66"
      },
      "execution_count": 50,
      "outputs": [
        {
          "output_type": "stream",
          "name": "stderr",
          "text": [
            "[nltk_data] Downloading package punkt to /root/nltk_data...\n",
            "[nltk_data]   Package punkt is already up-to-date!\n"
          ]
        },
        {
          "output_type": "execute_result",
          "data": {
            "text/plain": [
              "True"
            ]
          },
          "metadata": {},
          "execution_count": 50
        }
      ]
    },
    {
      "cell_type": "code",
      "source": [
        "string = \"모듈은 정규 표현식을 사용하여 문자열에서 패턴을 찾고 조작하는 데 사용되는 파이썬 내장 모듈입니다.\"\n",
        "word_data = word_tokenize(string) # 단어를 토큰 기준으로 나눕니다.\n",
        "print(word_data)"
      ],
      "metadata": {
        "id": "lGoehrO7X4np",
        "colab": {
          "base_uri": "https://localhost:8080/"
        },
        "outputId": "d7a5e144-8a01-43ba-8ec4-869be6ecb0f1"
      },
      "execution_count": 52,
      "outputs": [
        {
          "output_type": "stream",
          "name": "stdout",
          "text": [
            "['모듈은', '정규', '표현식을', '사용하여', '문자열에서', '패턴을', '찾고', '조작하는', '데', '사용되는', '파이썬', '내장', '모듈입니다', '.']\n"
          ]
        }
      ]
    },
    {
      "cell_type": "code",
      "source": [
        "sent_string = \"모듈은 정규 표현식을 사용하여 문자열에서 패턴을 찾고 조작하는 데 사용되는 파이썬 내장 모듈입니다. 정규 표현식을 사용하여 문자열에서 패턴을 찾고 조작하는 데 사용되는 파이썬 내장 모듈입니다.\""
      ],
      "metadata": {
        "id": "ldVRwGCHX4lc"
      },
      "execution_count": 53,
      "outputs": []
    },
    {
      "cell_type": "code",
      "source": [
        "sent_data = sent_tokenize(sent_string)\n",
        "\n",
        "print(sent_data)"
      ],
      "metadata": {
        "id": "-GiZPKlgX4jW",
        "colab": {
          "base_uri": "https://localhost:8080/"
        },
        "outputId": "be94d566-8470-4aeb-c086-8d5efa921846"
      },
      "execution_count": 54,
      "outputs": [
        {
          "output_type": "stream",
          "name": "stdout",
          "text": [
            "['모듈은 정규 표현식을 사용하여 문자열에서 패턴을 찾고 조작하는 데 사용되는 파이썬 내장 모듈입니다.', '정규 표현식을 사용하여 문자열에서 패턴을 찾고 조작하는 데 사용되는 파이썬 내장 모듈입니다.']\n"
          ]
        }
      ]
    },
    {
      "cell_type": "markdown",
      "source": [
        "# 불용어 삭제"
      ],
      "metadata": {
        "id": "ovlG6ziPYVnv"
      }
    },
    {
      "cell_type": "markdown",
      "source": [],
      "metadata": {
        "id": "nptAskiRYVkc"
      }
    },
    {
      "cell_type": "code",
      "source": [
        "from nltk.corpus import stopwords\n",
        "nltk.download('stopwords') # 불용어 사전리스트"
      ],
      "metadata": {
        "colab": {
          "base_uri": "https://localhost:8080/"
        },
        "id": "BPDs6XawYOcc",
        "outputId": "86bd7851-1acc-4330-a019-aa0b8dc896d1"
      },
      "execution_count": 55,
      "outputs": [
        {
          "output_type": "stream",
          "name": "stderr",
          "text": [
            "[nltk_data] Downloading package stopwords to /root/nltk_data...\n",
            "[nltk_data]   Unzipping corpora/stopwords.zip.\n"
          ]
        },
        {
          "output_type": "execute_result",
          "data": {
            "text/plain": [
              "True"
            ]
          },
          "metadata": {},
          "execution_count": 55
        }
      ]
    },
    {
      "cell_type": "code",
      "source": [
        "tokenized_words = [\"i\",\"am\",\"going\",\"to\",\"the\",\"storm\", \"and\",\"park\"]\n",
        "\n",
        "stop_words = stopwords.words('english')\n",
        "\n",
        "# 불용어 삭제\n",
        "filterd_words = [word for word in tokenized_words if word not in stop_words ]\n",
        "\n",
        "# 불용어 홗인\n",
        "\n",
        "stop_data = stop_words\n",
        "\n",
        "print(filterd_words)"
      ],
      "metadata": {
        "colab": {
          "base_uri": "https://localhost:8080/"
        },
        "id": "Q23ousFnYOaf",
        "outputId": "a2e54cff-525a-43f1-df5e-d01a6cbb107b"
      },
      "execution_count": 58,
      "outputs": [
        {
          "output_type": "stream",
          "name": "stdout",
          "text": [
            "['going', 'storm', 'park']\n"
          ]
        }
      ]
    },
    {
      "cell_type": "markdown",
      "source": [
        "## 어간 추출 : 단어으 ㅣ어간을 구부나형 기본의미를 유지하면서 어미를 제거합니다."
      ],
      "metadata": {
        "id": "QWoFe3x6c4I4"
      }
    },
    {
      "cell_type": "code",
      "source": [
        "from nltk.stem.porter import PorterStemmer\n",
        "\n"
      ],
      "metadata": {
        "id": "YYGPPJCeYOYW"
      },
      "execution_count": 59,
      "outputs": []
    },
    {
      "cell_type": "code",
      "source": [
        "# 단어 토큰 생성\n",
        "tokenized_words_temp = ['i','am','humbled','by','traditional','meeting']\n",
        "\n",
        "# 어간 추출기 생성\n",
        "porter = PorterStemmer()\n",
        "\n",
        "word_list_temp = []\n",
        "# 어간 추출기를 적용\n",
        "for word in tokenized_words_temp :\n",
        "  word_list_temp.append(porter.stem(word))\n",
        "\n",
        "\n",
        "print(word_list_temp)"
      ],
      "metadata": {
        "colab": {
          "base_uri": "https://localhost:8080/"
        },
        "id": "2XWsI3MGYOWR",
        "outputId": "73ea91f4-cc25-4f18-eb30-2905fe8964e2"
      },
      "execution_count": 60,
      "outputs": [
        {
          "output_type": "stream",
          "name": "stdout",
          "text": [
            "['i', 'am', 'humbl', 'by', 'tradit', 'meet']\n"
          ]
        }
      ]
    },
    {
      "cell_type": "markdown",
      "source": [
        "## 품사 태깅"
      ],
      "metadata": {
        "id": "qR9HOUP7dbj7"
      }
    },
    {
      "cell_type": "code",
      "source": [
        "from nltk import pos_tag\n",
        "from nltk import word_tokenize\n",
        "\n"
      ],
      "metadata": {
        "id": "YNN8yLzoYOUH"
      },
      "execution_count": 62,
      "outputs": []
    },
    {
      "cell_type": "code",
      "source": [
        "nltk.download(\"averaged_perceptron_tagger\")"
      ],
      "metadata": {
        "colab": {
          "base_uri": "https://localhost:8080/"
        },
        "id": "mdbqrgoLYOSN",
        "outputId": "593cc376-d6c8-401b-edf6-b4e4519926a1"
      },
      "execution_count": 63,
      "outputs": [
        {
          "output_type": "stream",
          "name": "stderr",
          "text": [
            "[nltk_data] Downloading package averaged_perceptron_tagger to\n",
            "[nltk_data]     /root/nltk_data...\n",
            "[nltk_data]   Unzipping taggers/averaged_perceptron_tagger.zip.\n"
          ]
        },
        {
          "output_type": "execute_result",
          "data": {
            "text/plain": [
              "True"
            ]
          },
          "metadata": {},
          "execution_count": 63
        }
      ]
    },
    {
      "cell_type": "code",
      "source": [
        "text_data_tag= \"Chris loved outdoor running\"\n",
        "\n",
        "text_tagger = pos_tag(word_tokenize(text_data_tag))\n",
        "print(text_tagger)"
      ],
      "metadata": {
        "colab": {
          "base_uri": "https://localhost:8080/"
        },
        "id": "6WsQazTQYOQC",
        "outputId": "f7100e08-1def-47c7-9c3c-f545b423bb36"
      },
      "execution_count": 64,
      "outputs": [
        {
          "output_type": "stream",
          "name": "stdout",
          "text": [
            "[('Chris', 'NNP'), ('loved', 'VBD'), ('outdoor', 'RP'), ('running', 'VBG')]\n"
          ]
        }
      ]
    },
    {
      "cell_type": "code",
      "source": [],
      "metadata": {
        "id": "CQSz1EQiX4hM"
      },
      "execution_count": null,
      "outputs": []
    },
    {
      "cell_type": "code",
      "source": [],
      "metadata": {
        "id": "6XwsLImqX4fW"
      },
      "execution_count": null,
      "outputs": []
    },
    {
      "cell_type": "code",
      "source": [],
      "metadata": {
        "id": "v4pSwQ-cX4dR"
      },
      "execution_count": null,
      "outputs": []
    },
    {
      "cell_type": "code",
      "source": [],
      "metadata": {
        "id": "0-_OWaAWX4bN"
      },
      "execution_count": null,
      "outputs": []
    },
    {
      "cell_type": "code",
      "source": [],
      "metadata": {
        "id": "7nBii7_OD3Cb"
      },
      "execution_count": null,
      "outputs": []
    },
    {
      "cell_type": "code",
      "source": [],
      "metadata": {
        "id": "EsRbVQ6wD3Eh"
      },
      "execution_count": null,
      "outputs": []
    },
    {
      "cell_type": "code",
      "source": [],
      "metadata": {
        "id": "EkH9Rr6jD3Gj"
      },
      "execution_count": null,
      "outputs": []
    },
    {
      "cell_type": "code",
      "source": [],
      "metadata": {
        "id": "ROYRuuaTD3Iw"
      },
      "execution_count": null,
      "outputs": []
    },
    {
      "cell_type": "code",
      "source": [],
      "metadata": {
        "id": "WTqUVIgQD3Kp"
      },
      "execution_count": null,
      "outputs": []
    },
    {
      "cell_type": "code",
      "source": [],
      "metadata": {
        "id": "dTUNaK1mD3Mz"
      },
      "execution_count": null,
      "outputs": []
    },
    {
      "cell_type": "code",
      "source": [],
      "metadata": {
        "id": "Gdqe7CDTD3PK"
      },
      "execution_count": null,
      "outputs": []
    },
    {
      "cell_type": "code",
      "source": [],
      "metadata": {
        "id": "UTGfiL8LD3RJ"
      },
      "execution_count": null,
      "outputs": []
    },
    {
      "cell_type": "code",
      "source": [],
      "metadata": {
        "id": "yYcorieOD3TR"
      },
      "execution_count": null,
      "outputs": []
    },
    {
      "cell_type": "code",
      "source": [],
      "metadata": {
        "id": "BbZ-7sa7D3VL"
      },
      "execution_count": null,
      "outputs": []
    }
  ]
}