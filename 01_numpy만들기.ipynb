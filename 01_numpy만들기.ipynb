{
  "cells": [
    {
      "cell_type": "markdown",
      "metadata": {
        "id": "view-in-github",
        "colab_type": "text"
      },
      "source": [
        "<a href=\"https://colab.research.google.com/github/dlvvkfl88/MSAISCHOOL/blob/main/01_numpy%EB%A7%8C%EB%93%A4%EA%B8%B0.ipynb\" target=\"_parent\"><img src=\"https://colab.research.google.com/assets/colab-badge.svg\" alt=\"Open In Colab\"/></a>"
      ]
    },
    {
      "cell_type": "code",
      "execution_count": null,
      "id": "a7240370",
      "metadata": {
        "id": "a7240370"
      },
      "outputs": [],
      "source": [
        "import numpy as np"
      ]
    },
    {
      "cell_type": "markdown",
      "id": "9a269b51",
      "metadata": {
        "id": "9a269b51"
      },
      "source": [
        "### 용어정리\n",
        "\n",
        "- scalar : 상수값( 10,3.14 , 'korea')\n",
        "- vector(1차원): [10,20,30], #(3,)\n",
        "- matrix(2차원): [[10,20,30], [10,20,30]] # (2,3) 2개의벡터 3개의 스칼라\n",
        "- 3차원:[[[10,20,30], [10,20,30]],[[10,20,30], [10,20,30]]] # 2,2,3\n",
        "- 4차원 : [[[[10,20,30], [10,20,30]],[[10,20,30], [10,20,30]]]] # 2,2,3"
      ]
    },
    {
      "cell_type": "code",
      "execution_count": null,
      "id": "1e5497d4",
      "metadata": {
        "id": "1e5497d4",
        "outputId": "7dc4d3d1-a1b8-4d6a-e80e-da52f009e571"
      },
      "outputs": [
        {
          "name": "stdout",
          "output_type": "stream",
          "text": [
            "<class 'list'>\n"
          ]
        }
      ],
      "source": [
        "my = [10,20,30]\n",
        "print(type(my))\n"
      ]
    },
    {
      "cell_type": "markdown",
      "id": "21fd52e5",
      "metadata": {
        "id": "21fd52e5"
      },
      "source": [
        "## 1 .ndarray 생성방법"
      ]
    },
    {
      "cell_type": "code",
      "execution_count": null,
      "id": "8b79c792",
      "metadata": {
        "id": "8b79c792",
        "outputId": "3515496f-93ba-439c-f3a7-96b2997c8fd8"
      },
      "outputs": [
        {
          "name": "stdout",
          "output_type": "stream",
          "text": [
            "<class 'numpy.ndarray'>\n",
            "[10 20 30]\n"
          ]
        },
        {
          "data": {
            "text/plain": [
              "array([10, 20, 30])"
            ]
          },
          "execution_count": 4,
          "metadata": {},
          "output_type": "execute_result"
        }
      ],
      "source": [
        "arr1 = np.array([10,20,30])\n",
        "print(type(arr1))\n",
        "print(arr1)\n",
        "arr1"
      ]
    },
    {
      "cell_type": "code",
      "execution_count": null,
      "id": "473459a5",
      "metadata": {
        "id": "473459a5",
        "outputId": "dc95ee82-8567-484d-c2d7-edef5ad564e3"
      },
      "outputs": [
        {
          "name": "stdout",
          "output_type": "stream",
          "text": [
            "[[ 10  20  30]\n",
            " [100 200 300]]\n"
          ]
        },
        {
          "data": {
            "text/plain": [
              "array([[ 10,  20,  30],\n",
              "       [100, 200, 300]])"
            ]
          },
          "execution_count": 5,
          "metadata": {},
          "output_type": "execute_result"
        }
      ],
      "source": [
        "arr2 = np.array([[10,20,30],[100,200,300]])\n",
        "print(arr2)\n",
        "arr2"
      ]
    },
    {
      "cell_type": "code",
      "execution_count": null,
      "id": "fd57abe8",
      "metadata": {
        "id": "fd57abe8",
        "outputId": "f6976fe5-1bd6-4694-902c-e5aa8599c3a2"
      },
      "outputs": [
        {
          "data": {
            "text/plain": [
              "array([10., 20., 30.], dtype=float32)"
            ]
          },
          "execution_count": 6,
          "metadata": {},
          "output_type": "execute_result"
        }
      ],
      "source": [
        "arr3 = np.array([10,20,30], dtype=np.float32)\n",
        "arr3"
      ]
    },
    {
      "cell_type": "code",
      "execution_count": null,
      "id": "d70aff6e",
      "metadata": {
        "id": "d70aff6e",
        "outputId": "69ec8a2a-28ed-40ad-bbd5-7ea1652a5c94"
      },
      "outputs": [
        {
          "data": {
            "text/plain": [
              "array([10, 20, 30])"
            ]
          },
          "execution_count": 7,
          "metadata": {},
          "output_type": "execute_result"
        }
      ],
      "source": [
        "arr4 = np.array([10,20,30],dtype=np.int32)\n",
        "arr4"
      ]
    },
    {
      "cell_type": "code",
      "execution_count": null,
      "id": "b768b29d",
      "metadata": {
        "id": "b768b29d",
        "outputId": "6b164ebc-6a59-4ed4-8985-37e98b0c0fe8"
      },
      "outputs": [
        {
          "data": {
            "text/plain": [
              "array([10, 20, 30], dtype=int64)"
            ]
          },
          "execution_count": 9,
          "metadata": {},
          "output_type": "execute_result"
        }
      ],
      "source": [
        "arr5 = np.array([10,20,30],dtype=np.int64)\n",
        "arr5"
      ]
    },
    {
      "cell_type": "markdown",
      "id": "ac01b4ef",
      "metadata": {
        "id": "ac01b4ef"
      },
      "source": [
        "## ndarray 핵심속성"
      ]
    },
    {
      "cell_type": "code",
      "execution_count": null,
      "id": "ba4a901d",
      "metadata": {
        "id": "ba4a901d",
        "outputId": "b18b0e07-516c-43a3-c838-b6fc04fe432b"
      },
      "outputs": [
        {
          "data": {
            "text/plain": [
              "array([11, 22, 33, 44, 55])"
            ]
          },
          "execution_count": 10,
          "metadata": {},
          "output_type": "execute_result"
        }
      ],
      "source": [
        "arr = np.array([11,22,33,44,55])\n",
        "arr"
      ]
    },
    {
      "cell_type": "code",
      "execution_count": null,
      "id": "3f11f559",
      "metadata": {
        "id": "3f11f559",
        "outputId": "d633f5ee-dfa4-4094-a3c6-e680410eda8a"
      },
      "outputs": [
        {
          "data": {
            "text/plain": [
              "dtype('int32')"
            ]
          },
          "execution_count": 11,
          "metadata": {},
          "output_type": "execute_result"
        }
      ],
      "source": [
        "arr.dtype"
      ]
    },
    {
      "cell_type": "code",
      "execution_count": null,
      "id": "360525d4",
      "metadata": {
        "id": "360525d4",
        "outputId": "f19e3a0a-0acc-412c-c356-3f7c53f40f7c"
      },
      "outputs": [
        {
          "data": {
            "text/plain": [
              "5"
            ]
          },
          "execution_count": 12,
          "metadata": {},
          "output_type": "execute_result"
        }
      ],
      "source": [
        "arr.size"
      ]
    },
    {
      "cell_type": "code",
      "execution_count": null,
      "id": "1724a4f6",
      "metadata": {
        "id": "1724a4f6",
        "outputId": "f1a2815d-34f9-4b73-d69a-3b5c7da0acf5"
      },
      "outputs": [
        {
          "data": {
            "text/plain": [
              "(5,)"
            ]
          },
          "execution_count": 13,
          "metadata": {},
          "output_type": "execute_result"
        }
      ],
      "source": [
        "arr.shape"
      ]
    },
    {
      "cell_type": "code",
      "execution_count": null,
      "id": "695e3d31",
      "metadata": {
        "id": "695e3d31",
        "outputId": "2715909e-f74e-4a20-8674-4c011cc35b2f"
      },
      "outputs": [
        {
          "data": {
            "text/plain": [
              "1"
            ]
          },
          "execution_count": 14,
          "metadata": {},
          "output_type": "execute_result"
        }
      ],
      "source": [
        "arr.ndim"
      ]
    },
    {
      "cell_type": "code",
      "execution_count": null,
      "id": "6fab5626",
      "metadata": {
        "id": "6fab5626",
        "outputId": "a2798906-1837-4c27-c838-40fe066d71d5"
      },
      "outputs": [
        {
          "data": {
            "text/plain": [
              "array([[11, 22],\n",
              "       [33, 44],\n",
              "       [55, 66]])"
            ]
          },
          "execution_count": 15,
          "metadata": {},
          "output_type": "execute_result"
        }
      ],
      "source": [
        "arr1 = np.array([[11,22],[33,44],[55,66]])\n",
        "arr1"
      ]
    },
    {
      "cell_type": "code",
      "execution_count": null,
      "id": "2f7f9bb0",
      "metadata": {
        "id": "2f7f9bb0",
        "outputId": "4607dcfc-c04e-4769-cc94-9d227b096792"
      },
      "outputs": [
        {
          "data": {
            "text/plain": [
              "(3, 2)"
            ]
          },
          "execution_count": 16,
          "metadata": {},
          "output_type": "execute_result"
        }
      ],
      "source": [
        "arr1.shape"
      ]
    },
    {
      "cell_type": "code",
      "execution_count": null,
      "id": "2a0866d2",
      "metadata": {
        "id": "2a0866d2",
        "outputId": "c50edc24-6978-4093-f13d-5ea12014001c"
      },
      "outputs": [
        {
          "data": {
            "text/plain": [
              "array([[11, 33, 55],\n",
              "       [22, 44, 66]])"
            ]
          },
          "execution_count": 17,
          "metadata": {},
          "output_type": "execute_result"
        }
      ],
      "source": [
        "arr1.T"
      ]
    },
    {
      "cell_type": "markdown",
      "id": "6ed3c22b",
      "metadata": {
        "id": "6ed3c22b"
      },
      "source": [
        "## reshape 함수"
      ]
    },
    {
      "cell_type": "code",
      "execution_count": null,
      "id": "2adf5509",
      "metadata": {
        "id": "2adf5509",
        "outputId": "142221a2-c609-47f5-e047-810123de7d50"
      },
      "outputs": [
        {
          "data": {
            "text/plain": [
              "array([1, 2, 3, 4, 5, 6])"
            ]
          },
          "execution_count": 18,
          "metadata": {},
          "output_type": "execute_result"
        }
      ],
      "source": [
        "arr2 = np.array([1,2,3,4,5,6])\n",
        "arr2"
      ]
    },
    {
      "cell_type": "code",
      "execution_count": null,
      "id": "abc14d26",
      "metadata": {
        "id": "abc14d26",
        "outputId": "60fb405f-9cc7-4f3c-805c-985fe38c6143"
      },
      "outputs": [
        {
          "data": {
            "text/plain": [
              "array([[1, 2, 3],\n",
              "       [4, 5, 6]])"
            ]
          },
          "execution_count": 20,
          "metadata": {},
          "output_type": "execute_result"
        }
      ],
      "source": [
        "arr2.reshape(2,3) # 2,3열로 바꾸라"
      ]
    },
    {
      "cell_type": "code",
      "execution_count": null,
      "id": "e7158de6",
      "metadata": {
        "id": "e7158de6",
        "outputId": "af6ce927-be55-4da7-c983-b36946a82d63"
      },
      "outputs": [
        {
          "data": {
            "text/plain": [
              "array([[1, 2, 3],\n",
              "       [4, 5, 6]])"
            ]
          },
          "execution_count": 21,
          "metadata": {},
          "output_type": "execute_result"
        }
      ],
      "source": [
        "arr2.reshape(2,-1) # 행이 2개이려면 컬럼이 3개일수밖에없다"
      ]
    },
    {
      "cell_type": "code",
      "execution_count": null,
      "id": "195c89ca",
      "metadata": {
        "id": "195c89ca",
        "outputId": "1173e1bd-4397-4838-fab0-3676b2668b1a"
      },
      "outputs": [
        {
          "data": {
            "text/plain": [
              "array([1, 2, 3, 4, 5, 6])"
            ]
          },
          "execution_count": 22,
          "metadata": {},
          "output_type": "execute_result"
        }
      ],
      "source": [
        "arr2.reshape(-1,3) # 컬럼이 3개려면 행은 2개일수밖에없다\n",
        "arr2"
      ]
    },
    {
      "cell_type": "code",
      "execution_count": null,
      "id": "dc934ae3",
      "metadata": {
        "id": "dc934ae3",
        "outputId": "f6f0b836-df28-451e-dd07-126c3ebee6a0"
      },
      "outputs": [
        {
          "data": {
            "text/plain": [
              "array([[[1, 2],\n",
              "        [3, 4],\n",
              "        [5, 6]]])"
            ]
          },
          "execution_count": 27,
          "metadata": {},
          "output_type": "execute_result"
        }
      ],
      "source": [
        "arr2.reshape(1,3,2) #"
      ]
    },
    {
      "cell_type": "code",
      "execution_count": null,
      "id": "e3dacea2",
      "metadata": {
        "id": "e3dacea2"
      },
      "outputs": [],
      "source": [
        "import numpy as np"
      ]
    },
    {
      "cell_type": "code",
      "execution_count": null,
      "id": "ff923192",
      "metadata": {
        "id": "ff923192",
        "outputId": "8007a2dd-c056-43f0-9d3d-c2c6100647d1"
      },
      "outputs": [
        {
          "data": {
            "text/plain": [
              "array([11, 22, 33, 44, 55])"
            ]
          },
          "execution_count": 29,
          "metadata": {},
          "output_type": "execute_result"
        }
      ],
      "source": [
        "arr = np.array([11,22,33,44,55])\n",
        "arr"
      ]
    },
    {
      "cell_type": "markdown",
      "id": "8e49131b",
      "metadata": {
        "id": "8e49131b"
      },
      "source": [
        "## 인덱싱: [ 인덱스번호]\n",
        "- 0,1,2,\n",
        "- -3,-2,-1"
      ]
    },
    {
      "cell_type": "code",
      "execution_count": null,
      "id": "852de7af",
      "metadata": {
        "id": "852de7af",
        "outputId": "41aa1cf3-d411-4ab1-ec64-4febff7c8cb5"
      },
      "outputs": [
        {
          "data": {
            "text/plain": [
              "11"
            ]
          },
          "execution_count": 30,
          "metadata": {},
          "output_type": "execute_result"
        }
      ],
      "source": [
        "arr[0]"
      ]
    },
    {
      "cell_type": "code",
      "execution_count": null,
      "id": "ca60d40e",
      "metadata": {
        "id": "ca60d40e",
        "outputId": "2023882e-2b1b-4595-c13f-b090ed91f9c7"
      },
      "outputs": [
        {
          "data": {
            "text/plain": [
              "55"
            ]
          },
          "execution_count": 31,
          "metadata": {},
          "output_type": "execute_result"
        }
      ],
      "source": [
        "arr[-1]"
      ]
    },
    {
      "cell_type": "markdown",
      "id": "17ff4d6e",
      "metadata": {
        "id": "17ff4d6e"
      },
      "source": [
        "## 복수개 인덱싱:\n",
        "[['번호', ' 번호'....]]"
      ]
    },
    {
      "cell_type": "code",
      "execution_count": null,
      "id": "11ad9999",
      "metadata": {
        "id": "11ad9999",
        "outputId": "cdb36d8f-5a7b-435e-8cca-be96a29508bf"
      },
      "outputs": [
        {
          "data": {
            "text/plain": [
              "array([11, 22, 44])"
            ]
          },
          "execution_count": 33,
          "metadata": {},
          "output_type": "execute_result"
        }
      ],
      "source": [
        "arr[[0,1,3]] # arr = np.array([11,22,33,44,55]) 여기서 11, 22 44 가져옴 0 1 3"
      ]
    },
    {
      "cell_type": "code",
      "execution_count": null,
      "id": "8e00d38e",
      "metadata": {
        "id": "8e00d38e",
        "outputId": "c70d7315-5922-44d9-b6a3-c17660546381"
      },
      "outputs": [
        {
          "data": {
            "text/plain": [
              "array([11, 22, 33, 44, 55])"
            ]
          },
          "execution_count": 34,
          "metadata": {},
          "output_type": "execute_result"
        }
      ],
      "source": [
        "arr"
      ]
    },
    {
      "cell_type": "markdown",
      "id": "37527cb8",
      "metadata": {
        "id": "37527cb8"
      },
      "source": [
        "# boolean indexing\n",
        " - [[True, False]]"
      ]
    },
    {
      "cell_type": "code",
      "execution_count": null,
      "id": "4406f826",
      "metadata": {
        "id": "4406f826",
        "outputId": "7019597d-40b3-475a-eb3e-422a19ed65f7"
      },
      "outputs": [
        {
          "data": {
            "text/plain": [
              "array([11, 44, 55])"
            ]
          },
          "execution_count": 36,
          "metadata": {},
          "output_type": "execute_result"
        }
      ],
      "source": [
        "arr[[True,False,False,True,True]]"
      ]
    },
    {
      "cell_type": "code",
      "execution_count": null,
      "id": "e0701396",
      "metadata": {
        "id": "e0701396",
        "outputId": "5f8c62f2-94b3-4937-dd67-489874403851"
      },
      "outputs": [
        {
          "data": {
            "text/plain": [
              "array([11, 22, 33, 44, 55])"
            ]
          },
          "execution_count": 37,
          "metadata": {},
          "output_type": "execute_result"
        }
      ],
      "source": [
        "arr"
      ]
    },
    {
      "cell_type": "markdown",
      "id": "dbaa732b",
      "metadata": {
        "id": "dbaa732b"
      },
      "source": [
        "## Slicing(슬라이싱)\n",
        "\n",
        "-[시작:끝:증가치]\n",
        "- 시작 <- index < 끝"
      ]
    },
    {
      "cell_type": "code",
      "execution_count": null,
      "id": "da45283c",
      "metadata": {
        "id": "da45283c",
        "outputId": "71404933-ecd3-460a-de98-2b009f1fd621"
      },
      "outputs": [
        {
          "data": {
            "text/plain": [
              "array([22, 33, 44])"
            ]
          },
          "execution_count": 38,
          "metadata": {},
          "output_type": "execute_result"
        }
      ],
      "source": [
        "arr[1:4:1] # 1<=index<4 1씩증가 1,2,3"
      ]
    },
    {
      "cell_type": "code",
      "execution_count": null,
      "id": "6238a16f",
      "metadata": {
        "id": "6238a16f",
        "outputId": "c96b69cc-a5df-4ced-a0f1-ccdbddb6b3c9"
      },
      "outputs": [
        {
          "data": {
            "text/plain": [
              "array([11, 22, 33, 44])"
            ]
          },
          "execution_count": 40,
          "metadata": {},
          "output_type": "execute_result"
        }
      ],
      "source": [
        "arr[0:4] # 0 < index < 40,1,2,3"
      ]
    },
    {
      "cell_type": "code",
      "execution_count": null,
      "id": "ef9d3eae",
      "metadata": {
        "id": "ef9d3eae",
        "outputId": "ec7e2bcf-0630-48f5-8e2c-b328e9d42d21"
      },
      "outputs": [
        {
          "data": {
            "text/plain": [
              "array([22, 33, 44, 55])"
            ]
          },
          "execution_count": 42,
          "metadata": {},
          "output_type": "execute_result"
        }
      ],
      "source": [
        "arr[1:]"
      ]
    },
    {
      "cell_type": "code",
      "execution_count": null,
      "id": "9a2262dc",
      "metadata": {
        "id": "9a2262dc",
        "outputId": "cc471e0d-3680-4023-be81-ebed988a854f"
      },
      "outputs": [
        {
          "data": {
            "text/plain": [
              "array([11, 22, 33, 44])"
            ]
          },
          "execution_count": 43,
          "metadata": {},
          "output_type": "execute_result"
        }
      ],
      "source": [
        "arr[:-1]"
      ]
    },
    {
      "cell_type": "markdown",
      "id": "f0b6b104",
      "metadata": {
        "id": "f0b6b104"
      },
      "source": [
        "## 연산(산술관계논리)\n",
        "- borad casting 연산대상 자동학괒ㅇ\n",
        "- elemnet wise : 동일한 인덱스끼리 연ㄱ산"
      ]
    },
    {
      "cell_type": "code",
      "execution_count": null,
      "id": "2c9c5d6d",
      "metadata": {
        "id": "2c9c5d6d",
        "outputId": "b11ad69f-abd7-41c2-e56c-e84dd052fd48"
      },
      "outputs": [
        {
          "data": {
            "text/plain": [
              "array([12, 23, 34, 45, 56])"
            ]
          },
          "execution_count": 44,
          "metadata": {},
          "output_type": "execute_result"
        }
      ],
      "source": [
        "arr + 1 # [11,22,33,44,55] + [1,1,1,1,]"
      ]
    },
    {
      "cell_type": "code",
      "execution_count": null,
      "id": "37f43b5e",
      "metadata": {
        "id": "37f43b5e",
        "outputId": "23d5a692-d203-4311-cbe5-622f751e4fcf"
      },
      "outputs": [
        {
          "data": {
            "text/plain": [
              "array([1, 2, 3, 4, 5])"
            ]
          },
          "execution_count": 47,
          "metadata": {},
          "output_type": "execute_result"
        }
      ],
      "source": [
        "arr1 = np.array([1,2,3,4,5])\n",
        "arr1"
      ]
    },
    {
      "cell_type": "code",
      "execution_count": null,
      "id": "edc5b866",
      "metadata": {
        "id": "edc5b866",
        "outputId": "693613ef-b012-4914-faa1-5ae7ff7a8997"
      },
      "outputs": [
        {
          "data": {
            "text/plain": [
              "array([12, 24, 36, 48, 60])"
            ]
          },
          "execution_count": 48,
          "metadata": {},
          "output_type": "execute_result"
        }
      ],
      "source": [
        "arr+arr1"
      ]
    },
    {
      "cell_type": "markdown",
      "id": "215ddb0d",
      "metadata": {
        "id": "215ddb0d"
      },
      "source": [
        " ###  퀴즈\n",
        " #연봉데이터가 있을때 각연봉에 대한 # 세금 3.3%을 제한 실수령액을 구하시오"
      ]
    },
    {
      "cell_type": "code",
      "execution_count": null,
      "id": "9f267309",
      "metadata": {
        "id": "9f267309",
        "outputId": "04977236-b8b8-4099-b0fb-32822a91394c"
      },
      "outputs": [
        {
          "data": {
            "text/plain": [
              "array([ 967., 1934., 2901., 3868., 4835.])"
            ]
          },
          "execution_count": 53,
          "metadata": {},
          "output_type": "execute_result"
        }
      ],
      "source": [
        "salary = np.array([1000,2000,3000,4000,5000])\n",
        "salary-salary*0.333\n",
        "salary*0.967"
      ]
    },
    {
      "cell_type": "markdown",
      "id": "122245a2",
      "metadata": {
        "id": "122245a2"
      },
      "source": [
        "## 관계연산자"
      ]
    },
    {
      "cell_type": "code",
      "execution_count": null,
      "id": "66c69ec2",
      "metadata": {
        "id": "66c69ec2",
        "outputId": "1c1d2aa6-146c-40de-d8f9-012cfa546186"
      },
      "outputs": [
        {
          "data": {
            "text/plain": [
              "array([False, False,  True,  True,  True])"
            ]
          },
          "execution_count": 54,
          "metadata": {},
          "output_type": "execute_result"
        }
      ],
      "source": [
        "arr>30"
      ]
    },
    {
      "cell_type": "code",
      "execution_count": null,
      "id": "07bb2d44",
      "metadata": {
        "id": "07bb2d44",
        "outputId": "70fb4aca-729e-4582-e26e-fb3774f99c25"
      },
      "outputs": [
        {
          "data": {
            "text/plain": [
              "array([33, 44, 55])"
            ]
          },
          "execution_count": 57,
          "metadata": {},
          "output_type": "execute_result"
        }
      ],
      "source": [
        "arr[arr>30] # 트루인 인덱스만 나와라 # boolean indexing True False로 나옴"
      ]
    },
    {
      "cell_type": "code",
      "execution_count": null,
      "id": "7d164d5d",
      "metadata": {
        "id": "7d164d5d"
      },
      "outputs": [],
      "source": [
        "## 논리연산자 : * , |,~ and & or | not ~"
      ]
    },
    {
      "cell_type": "code",
      "execution_count": null,
      "id": "80c896e2",
      "metadata": {
        "id": "80c896e2",
        "outputId": "8b598b42-88d8-421e-e2f5-3a9a2f11e8ff"
      },
      "outputs": [
        {
          "data": {
            "text/plain": [
              "array([11, 55])"
            ]
          },
          "execution_count": 62,
          "metadata": {},
          "output_type": "execute_result"
        }
      ],
      "source": [
        "arr[(arr==11)|(arr==55)]"
      ]
    },
    {
      "cell_type": "code",
      "execution_count": null,
      "id": "b3e32d3d",
      "metadata": {
        "id": "b3e32d3d",
        "outputId": "7d35aa29-1fb7-4073-925f-5592db508fb9"
      },
      "outputs": [
        {
          "data": {
            "text/plain": [
              "array([False,  True,  True,  True, False])"
            ]
          },
          "execution_count": 63,
          "metadata": {},
          "output_type": "execute_result"
        }
      ],
      "source": [
        "(arr >20) & (arr<50)"
      ]
    },
    {
      "cell_type": "code",
      "execution_count": null,
      "id": "ba0943c7",
      "metadata": {
        "id": "ba0943c7",
        "outputId": "b0f9aeb3-e4fa-424f-c445-abe23c14199f"
      },
      "outputs": [
        {
          "data": {
            "text/plain": [
              "array([22, 33, 44])"
            ]
          },
          "execution_count": 64,
          "metadata": {},
          "output_type": "execute_result"
        }
      ],
      "source": [
        "arr[(arr >20) & (arr<50)]"
      ]
    },
    {
      "cell_type": "code",
      "execution_count": null,
      "id": "8257c3d9",
      "metadata": {
        "id": "8257c3d9",
        "outputId": "ac6e29e4-e914-4ad6-ca8e-8b9254c59d46"
      },
      "outputs": [
        {
          "data": {
            "text/plain": [
              "array([11, 22, 33, 44, 55])"
            ]
          },
          "execution_count": 65,
          "metadata": {},
          "output_type": "execute_result"
        }
      ],
      "source": [
        "arr"
      ]
    },
    {
      "cell_type": "code",
      "execution_count": null,
      "id": "a2f75efc",
      "metadata": {
        "id": "a2f75efc",
        "outputId": "8da64dd6-b42e-4efb-831f-3d122f3d5b31"
      },
      "outputs": [
        {
          "data": {
            "text/plain": [
              "array([ True, False, False, False,  True])"
            ]
          },
          "execution_count": 66,
          "metadata": {},
          "output_type": "execute_result"
        }
      ],
      "source": [
        "~((arr >20) & (arr<50))"
      ]
    },
    {
      "cell_type": "code",
      "execution_count": null,
      "id": "b80799c8",
      "metadata": {
        "id": "b80799c8",
        "outputId": "201a5f88-b28e-4630-f473-b0e2fde38157"
      },
      "outputs": [
        {
          "data": {
            "text/plain": [
              "array([11, 55])"
            ]
          },
          "execution_count": 67,
          "metadata": {},
          "output_type": "execute_result"
        }
      ],
      "source": [
        "arr[~((arr >20) & (arr<50))]"
      ]
    },
    {
      "cell_type": "markdown",
      "id": "927ed90e",
      "metadata": {
        "id": "927ed90e"
      },
      "source": [
        "## 추가"
      ]
    },
    {
      "cell_type": "code",
      "execution_count": null,
      "id": "e6f54b2e",
      "metadata": {
        "id": "e6f54b2e",
        "outputId": "ff79f961-ada3-4509-9054-493288574553"
      },
      "outputs": [
        {
          "data": {
            "text/plain": [
              "array([ 11,  22,  33,  44,  55, 100, 200])"
            ]
          },
          "execution_count": 69,
          "metadata": {},
          "output_type": "execute_result"
        }
      ],
      "source": [
        "np.append(arr, [100,200]) # 맨끝에 추가"
      ]
    },
    {
      "cell_type": "code",
      "execution_count": null,
      "id": "863ce1c9",
      "metadata": {
        "id": "863ce1c9",
        "outputId": "8f1d7f05-2ee3-4939-b10b-16269868f382"
      },
      "outputs": [
        {
          "data": {
            "text/plain": [
              "array([11,  1,  2, 22, 33, 44, 55])"
            ]
          },
          "execution_count": 70,
          "metadata": {},
          "output_type": "execute_result"
        }
      ],
      "source": [
        "np.insert(arr, 1, [1,2]) # arr에 1번쨰 인덱스 [1,2]를 추가해라"
      ]
    },
    {
      "cell_type": "code",
      "execution_count": null,
      "id": "22d240bd",
      "metadata": {
        "id": "22d240bd",
        "outputId": "37deb092-047e-41a9-d4d9-35412cf23ef6"
      },
      "outputs": [
        {
          "data": {
            "text/plain": [
              "array([11, 22, 33, 44, 55])"
            ]
          },
          "execution_count": 71,
          "metadata": {},
          "output_type": "execute_result"
        }
      ],
      "source": [
        "arr"
      ]
    },
    {
      "cell_type": "markdown",
      "id": "404402fe",
      "metadata": {
        "id": "404402fe"
      },
      "source": [
        "## 수정\n"
      ]
    },
    {
      "cell_type": "code",
      "execution_count": null,
      "id": "5117b8ec",
      "metadata": {
        "id": "5117b8ec"
      },
      "outputs": [],
      "source": [
        "arr[0] =111"
      ]
    },
    {
      "cell_type": "code",
      "execution_count": null,
      "id": "50fcf469",
      "metadata": {
        "id": "50fcf469"
      },
      "outputs": [],
      "source": [
        "arr[1:3] = [222,333]"
      ]
    },
    {
      "cell_type": "code",
      "execution_count": null,
      "id": "b4cfd43b",
      "metadata": {
        "id": "b4cfd43b",
        "outputId": "d0cfa1e4-5961-49d9-e217-d2bfc00f01d4"
      },
      "outputs": [
        {
          "data": {
            "text/plain": [
              "array([222,  44,  55])"
            ]
          },
          "execution_count": 74,
          "metadata": {},
          "output_type": "execute_result"
        }
      ],
      "source": [
        "# 삭제\n",
        "np.delete(arr, [0,2])"
      ]
    },
    {
      "cell_type": "code",
      "execution_count": null,
      "id": "e5a1c50b",
      "metadata": {
        "id": "e5a1c50b",
        "outputId": "6718b551-1e42-4596-d338-a1d7ea4cfacb"
      },
      "outputs": [
        {
          "data": {
            "text/plain": [
              "array([111, 222, 333,  44,  55])"
            ]
          },
          "execution_count": 75,
          "metadata": {},
          "output_type": "execute_result"
        }
      ],
      "source": [
        "arr"
      ]
    },
    {
      "cell_type": "code",
      "execution_count": null,
      "id": "31b95ee5",
      "metadata": {
        "id": "31b95ee5"
      },
      "outputs": [],
      "source": [
        "np.where()"
      ]
    },
    {
      "cell_type": "code",
      "execution_count": null,
      "id": "9e680f18",
      "metadata": {
        "id": "9e680f18",
        "outputId": "b4676500-6ee0-4b57-865e-08e58ec20353"
      },
      "outputs": [
        {
          "data": {
            "text/plain": [
              "array([111, 222, 333,  44,  55])"
            ]
          },
          "execution_count": 76,
          "metadata": {},
          "output_type": "execute_result"
        }
      ],
      "source": [
        "arr"
      ]
    },
    {
      "cell_type": "code",
      "execution_count": null,
      "id": "322df100",
      "metadata": {
        "id": "322df100",
        "outputId": "e76c1bb6-63f4-440e-a475-e0315c848a07"
      },
      "outputs": [
        {
          "data": {
            "text/plain": [
              "array([11, 22, 33, 44, 55])"
            ]
          },
          "execution_count": 77,
          "metadata": {},
          "output_type": "execute_result"
        }
      ],
      "source": [
        "arr = np.array([11,22,33,44,55])\n",
        "arr"
      ]
    },
    {
      "cell_type": "code",
      "execution_count": null,
      "id": "3f3ce00f",
      "metadata": {
        "id": "3f3ce00f",
        "outputId": "db4b5000-3b8e-4912-f6dc-612ddbcd3a20"
      },
      "outputs": [
        {
          "data": {
            "text/plain": [
              "array(['불합격', '불합격', '합격', '합격', '합격'], dtype='<U3')"
            ]
          },
          "execution_count": 79,
          "metadata": {},
          "output_type": "execute_result"
        }
      ],
      "source": [
        "np.where(arr>30, \"합격\",\"불합격\") # 해당조건에 인덱스번호 알려줌"
      ]
    },
    {
      "cell_type": "code",
      "execution_count": null,
      "id": "bcba8292",
      "metadata": {
        "id": "bcba8292",
        "outputId": "2da512b4-24e4-44ee-ea4f-f8d233df757f"
      },
      "outputs": [
        {
          "data": {
            "text/plain": [
              "array(['C', 'B', 'B', 'A', 'A'], dtype='<U3')"
            ]
          },
          "execution_count": 80,
          "metadata": {},
          "output_type": "execute_result"
        }
      ],
      "source": [
        "np.select([arr>40,arr>20,arr>0], ['A','B','C']) # 40이상이면 a 20 이상 b 이런식으로 매칭 np.select()"
      ]
    },
    {
      "cell_type": "markdown",
      "id": "582c0c3d",
      "metadata": {
        "id": "582c0c3d"
      },
      "source": [
        "# 정렬 넘파이"
      ]
    },
    {
      "cell_type": "code",
      "execution_count": null,
      "id": "e112fdd8",
      "metadata": {
        "id": "e112fdd8",
        "outputId": "d96233ac-7f8f-4310-f599-319fa909bec0"
      },
      "outputs": [
        {
          "data": {
            "text/plain": [
              "array([11, 22, 33, 44, 55])"
            ]
          },
          "execution_count": 81,
          "metadata": {},
          "output_type": "execute_result"
        }
      ],
      "source": [
        "np.sort(arr)"
      ]
    },
    {
      "cell_type": "code",
      "execution_count": null,
      "id": "c7378326",
      "metadata": {
        "id": "c7378326",
        "outputId": "21d83f6d-5ac8-47ac-f98d-3a56d50d0aeb"
      },
      "outputs": [
        {
          "data": {
            "text/plain": [
              "array([11, 22, 33, 44, 55])"
            ]
          },
          "execution_count": 82,
          "metadata": {},
          "output_type": "execute_result"
        }
      ],
      "source": [
        "arr"
      ]
    },
    {
      "cell_type": "code",
      "execution_count": null,
      "id": "d878867c",
      "metadata": {
        "id": "d878867c",
        "outputId": "4591a452-1f19-4dfa-c994-477ad562020c"
      },
      "outputs": [
        {
          "data": {
            "text/plain": [
              "array([11, 22, 33, 44, 55])"
            ]
          },
          "execution_count": 84,
          "metadata": {},
          "output_type": "execute_result"
        }
      ],
      "source": [
        "arr = np.array([11,22,33,44,55])\n",
        "arr"
      ]
    },
    {
      "cell_type": "markdown",
      "id": "ebf50565",
      "metadata": {
        "id": "ebf50565"
      },
      "source": [
        "## 통계"
      ]
    },
    {
      "cell_type": "code",
      "execution_count": null,
      "id": "c4e4225c",
      "metadata": {
        "id": "c4e4225c",
        "outputId": "b5fd479e-55f7-49c1-b743-15b4de2ac5ae"
      },
      "outputs": [
        {
          "data": {
            "text/plain": [
              "array([11, 22, 33, 44, 55])"
            ]
          },
          "execution_count": 85,
          "metadata": {},
          "output_type": "execute_result"
        }
      ],
      "source": [
        "arr = np.array([11,22,33,44,55])\n",
        "arr"
      ]
    },
    {
      "cell_type": "code",
      "execution_count": null,
      "id": "c7449918",
      "metadata": {
        "id": "c7449918",
        "outputId": "141b2a73-a469-4608-f1b7-0bed58c0dab4"
      },
      "outputs": [
        {
          "data": {
            "text/plain": [
              "165"
            ]
          },
          "execution_count": 86,
          "metadata": {},
          "output_type": "execute_result"
        }
      ],
      "source": [
        "arr.sum()"
      ]
    },
    {
      "cell_type": "code",
      "execution_count": null,
      "id": "58a648b4",
      "metadata": {
        "id": "58a648b4",
        "outputId": "64e4341f-8e74-41f5-db21-24716bd44049"
      },
      "outputs": [
        {
          "data": {
            "text/plain": [
              "33.0"
            ]
          },
          "execution_count": 87,
          "metadata": {},
          "output_type": "execute_result"
        }
      ],
      "source": [
        "arr.mean()"
      ]
    },
    {
      "cell_type": "code",
      "execution_count": null,
      "id": "0786501f",
      "metadata": {
        "id": "0786501f",
        "outputId": "c37a9f4f-a625-46f0-ab4a-0364702fa13a"
      },
      "outputs": [
        {
          "data": {
            "text/plain": [
              "33.0"
            ]
          },
          "execution_count": 88,
          "metadata": {},
          "output_type": "execute_result"
        }
      ],
      "source": [
        "np.mean(arr)"
      ]
    },
    {
      "cell_type": "code",
      "execution_count": null,
      "id": "24fd6efc",
      "metadata": {
        "id": "24fd6efc",
        "outputId": "3446ad40-c736-4da7-f765-a3dfa42c3582"
      },
      "outputs": [
        {
          "data": {
            "text/plain": [
              "55"
            ]
          },
          "execution_count": 89,
          "metadata": {},
          "output_type": "execute_result"
        }
      ],
      "source": [
        "arr.max() # np.max(arr)"
      ]
    },
    {
      "cell_type": "code",
      "execution_count": null,
      "id": "35c0d212",
      "metadata": {
        "id": "35c0d212",
        "outputId": "7284b87d-02bb-460c-c399-9958be9c8318"
      },
      "outputs": [
        {
          "data": {
            "text/plain": [
              "15.556349186104045"
            ]
          },
          "execution_count": 90,
          "metadata": {},
          "output_type": "execute_result"
        }
      ],
      "source": [
        "arr.std()"
      ]
    },
    {
      "cell_type": "code",
      "execution_count": null,
      "id": "90f9a1cc",
      "metadata": {
        "id": "90f9a1cc",
        "outputId": "334b0fbb-6055-433a-fb1b-94f20e08345b"
      },
      "outputs": [
        {
          "data": {
            "text/plain": [
              "33.0"
            ]
          },
          "execution_count": 91,
          "metadata": {},
          "output_type": "execute_result"
        }
      ],
      "source": [
        "np.median(arr)"
      ]
    },
    {
      "cell_type": "code",
      "execution_count": null,
      "id": "2d1f3f64",
      "metadata": {
        "id": "2d1f3f64",
        "outputId": "251803f7-7009-4538-b86d-06ab0d5f215a"
      },
      "outputs": [
        {
          "data": {
            "text/plain": [
              "array([22., 33., 44.])"
            ]
          },
          "execution_count": 92,
          "metadata": {},
          "output_type": "execute_result"
        }
      ],
      "source": [
        "np.quantile(arr,[0.25,0.5,0.75])"
      ]
    },
    {
      "cell_type": "code",
      "execution_count": null,
      "id": "58fa84ee",
      "metadata": {
        "id": "58fa84ee",
        "outputId": "a3c070a6-b163-4e93-d00a-188b34d6fc68"
      },
      "outputs": [
        {
          "data": {
            "text/plain": [
              "array([11, 22, 33, 44, 55])"
            ]
          },
          "execution_count": 93,
          "metadata": {},
          "output_type": "execute_result"
        }
      ],
      "source": [
        "arr"
      ]
    },
    {
      "cell_type": "markdown",
      "id": "5b8f82d7",
      "metadata": {
        "id": "5b8f82d7"
      },
      "source": [
        "### 연습문제\n",
        "kor = np.array([60,55,70,30,20,90])"
      ]
    },
    {
      "cell_type": "markdown",
      "id": "fa9d7220",
      "metadata": {
        "id": "fa9d7220"
      },
      "source": [
        "1.국어점수가 가장큰값 구하시오\n",
        "2. 국어점수 80점 이상 값 구하시오\n",
        "3. 국어점수 50이상 80이하 구하시오\n",
        "4. 국어점수 의 평균을 구하시오\n",
        "5. 국어점수총합을 구하시오\n",
        "6. 국어점수 40점이하 데이터를 삭제하시요\n",
        "7.국어점수가 50점이상 데이터 가산점 10%를 부여하시오\n",
        "8. 국어점수 top5 구하시오\n",
        "9. 국어점수 70점시상 합격 아니면 불합격\n",
        "9. 국어점 70점 이상시 데이터 삭제"
      ]
    },
    {
      "cell_type": "code",
      "execution_count": null,
      "id": "c31456cb",
      "metadata": {
        "id": "c31456cb"
      },
      "outputs": [],
      "source": [
        "kor = np.array([60,55,70,30,20,90])"
      ]
    },
    {
      "cell_type": "code",
      "execution_count": null,
      "id": "e20e7aa1",
      "metadata": {
        "id": "e20e7aa1",
        "outputId": "5a802a93-1fbc-42c2-da73-35826e78802f"
      },
      "outputs": [
        {
          "data": {
            "text/plain": [
              "array(['불합격', '불합격', '합격', '불합격', '불합격', '합격'], dtype='<U3')"
            ]
          },
          "execution_count": 120,
          "metadata": {},
          "output_type": "execute_result"
        }
      ],
      "source": [
        "#1.\n",
        "kor.max()\n",
        "#2\n",
        "kor[kor>=80]\n",
        "#3\n",
        "kor[(kor>=50) & (kor<=80)]\n",
        "#4\n",
        "kor.mean()\n",
        "#5\n",
        "kor.sum()\n",
        "#6\n",
        "np.delete(kor,kor<=40)\n",
        "# 7\n",
        "kor[kor>=50]*1.1\n",
        "#8\n",
        "np.sort(kor)[::-1][0:5]\n",
        "#9\n",
        "np.select([kor>=70,kor<70], ['합격','불합격']) # 40이상이면 a 20 이상 b 이런식으로 매칭 np.select()"
      ]
    },
    {
      "cell_type": "code",
      "execution_count": null,
      "id": "fe33c766",
      "metadata": {
        "id": "fe33c766",
        "outputId": "dac58d1a-5d85-4da4-b9c7-7f62642a4cee"
      },
      "outputs": [
        {
          "data": {
            "text/plain": [
              "array([60, 55, 70, 90])"
            ]
          },
          "execution_count": 121,
          "metadata": {},
          "output_type": "execute_result"
        }
      ],
      "source": [
        "np.delete(kor,kor<=40)"
      ]
    },
    {
      "cell_type": "code",
      "execution_count": null,
      "id": "c3c38370",
      "metadata": {
        "id": "c3c38370",
        "outputId": "de2ca756-12f9-4f29-cc4a-ee4aa7571d0f"
      },
      "outputs": [
        {
          "data": {
            "text/plain": [
              "'1.25.2'"
            ]
          },
          "execution_count": 122,
          "metadata": {},
          "output_type": "execute_result"
        }
      ],
      "source": [
        "np.__version__"
      ]
    },
    {
      "cell_type": "code",
      "execution_count": null,
      "id": "7afa3f71",
      "metadata": {
        "id": "7afa3f71",
        "outputId": "d0b43f67-d86f-421d-ab78-50db4e70531d"
      },
      "outputs": [
        {
          "data": {
            "text/plain": [
              "array([ 66. ,  60.5,  77. , 900. , 400. ,  99. ])"
            ]
          },
          "execution_count": 124,
          "metadata": {},
          "output_type": "execute_result"
        }
      ],
      "source": [
        "kor*np.where(kor>=50,1.1,kor)"
      ]
    },
    {
      "cell_type": "code",
      "execution_count": null,
      "id": "4c441f84",
      "metadata": {
        "id": "4c441f84"
      },
      "outputs": [],
      "source": []
    }
  ],
  "metadata": {
    "kernelspec": {
      "display_name": "Python 3 (ipykernel)",
      "language": "python",
      "name": "python3"
    },
    "language_info": {
      "codemirror_mode": {
        "name": "ipython",
        "version": 3
      },
      "file_extension": ".py",
      "mimetype": "text/x-python",
      "name": "python",
      "nbconvert_exporter": "python",
      "pygments_lexer": "ipython3",
      "version": "3.9.7"
    },
    "colab": {
      "provenance": [],
      "include_colab_link": true
    }
  },
  "nbformat": 4,
  "nbformat_minor": 5
}