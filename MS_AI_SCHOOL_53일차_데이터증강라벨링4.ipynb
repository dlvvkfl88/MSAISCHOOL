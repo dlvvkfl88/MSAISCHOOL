{
  "nbformat": 4,
  "nbformat_minor": 0,
  "metadata": {
    "colab": {
      "provenance": [],
      "authorship_tag": "ABX9TyMTmXe7+y9SEoytBTuqnZ2y",
      "include_colab_link": true
    },
    "kernelspec": {
      "name": "python3",
      "display_name": "Python 3"
    },
    "language_info": {
      "name": "python"
    }
  },
  "cells": [
    {
      "cell_type": "markdown",
      "metadata": {
        "id": "view-in-github",
        "colab_type": "text"
      },
      "source": [
        "<a href=\"https://colab.research.google.com/github/dlvvkfl88/MSAISCHOOL/blob/main/MS_AI_SCHOOL_53%EC%9D%BC%EC%B0%A8_%EB%8D%B0%EC%9D%B4%ED%84%B0%EC%A6%9D%EA%B0%95%EB%9D%BC%EB%B2%A8%EB%A7%814.ipynb\" target=\"_parent\"><img src=\"https://colab.research.google.com/assets/colab-badge.svg\" alt=\"Open In Colab\"/></a>"
      ]
    },
    {
      "cell_type": "markdown",
      "source": [
        "## 복잡한 파이프라인 정의 augmentation s"
      ],
      "metadata": {
        "id": "S1tFsGHNbx3P"
      }
    },
    {
      "cell_type": "markdown",
      "source": [
        "## Cutout 이미지 증강 논문\n",
        "\n",
        "-- Dataset and Data Loader"
      ],
      "metadata": {
        "id": "SsjJ4O12cKd1"
      }
    },
    {
      "cell_type": "code",
      "execution_count": null,
      "metadata": {
        "id": "9Wf4H4nEbpUH"
      },
      "outputs": [],
      "source": [
        "# 이제 학습용으로 쓰기위해 분리 나누기 알아야함"
      ]
    },
    {
      "cell_type": "markdown",
      "source": [
        "# 정형 데이터셋 나누기 간단 실습"
      ],
      "metadata": {
        "id": "vCqB9ha9me4t"
      }
    },
    {
      "cell_type": "code",
      "source": [
        "import pandas as pd\n",
        "from sklearn.model_selection import train_test_split"
      ],
      "metadata": {
        "id": "A_qkmbiGbrf2"
      },
      "execution_count": null,
      "outputs": []
    },
    {
      "cell_type": "code",
      "source": [
        "url = \"https://raw.githubusercontent.com/mGalarnyk/Tutorial_Data/master/King_County/kingCountyHouseData.csv\"\n",
        "df = pd.read_csv(url)\n",
        "\n",
        "print(df)"
      ],
      "metadata": {
        "colab": {
          "base_uri": "https://localhost:8080/"
        },
        "id": "IIBB-qyrbrhm",
        "outputId": "1e819c6f-cba7-4540-e7f8-da397854f9fa"
      },
      "execution_count": null,
      "outputs": [
        {
          "output_type": "stream",
          "name": "stdout",
          "text": [
            "               id             date     price  bedrooms  bathrooms  \\\n",
            "0      7129300520  20141013T000000  221900.0         3       1.00   \n",
            "1      6414100192  20141209T000000  538000.0         3       2.25   \n",
            "2      5631500400  20150225T000000  180000.0         2       1.00   \n",
            "3      2487200875  20141209T000000  604000.0         4       3.00   \n",
            "4      1954400510  20150218T000000  510000.0         3       2.00   \n",
            "...           ...              ...       ...       ...        ...   \n",
            "21608   263000018  20140521T000000  360000.0         3       2.50   \n",
            "21609  6600060120  20150223T000000  400000.0         4       2.50   \n",
            "21610  1523300141  20140623T000000  402101.0         2       0.75   \n",
            "21611   291310100  20150116T000000  400000.0         3       2.50   \n",
            "21612  1523300157  20141015T000000  325000.0         2       0.75   \n",
            "\n",
            "       sqft_living  sqft_lot  floors  waterfront  view  ...  grade  \\\n",
            "0             1180      5650     1.0           0     0  ...      7   \n",
            "1             2570      7242     2.0           0     0  ...      7   \n",
            "2              770     10000     1.0           0     0  ...      6   \n",
            "3             1960      5000     1.0           0     0  ...      7   \n",
            "4             1680      8080     1.0           0     0  ...      8   \n",
            "...            ...       ...     ...         ...   ...  ...    ...   \n",
            "21608         1530      1131     3.0           0     0  ...      8   \n",
            "21609         2310      5813     2.0           0     0  ...      8   \n",
            "21610         1020      1350     2.0           0     0  ...      7   \n",
            "21611         1600      2388     2.0           0     0  ...      8   \n",
            "21612         1020      1076     2.0           0     0  ...      7   \n",
            "\n",
            "       sqft_above  sqft_basement  yr_built  yr_renovated  zipcode      lat  \\\n",
            "0            1180              0      1955             0    98178  47.5112   \n",
            "1            2170            400      1951          1991    98125  47.7210   \n",
            "2             770              0      1933             0    98028  47.7379   \n",
            "3            1050            910      1965             0    98136  47.5208   \n",
            "4            1680              0      1987             0    98074  47.6168   \n",
            "...           ...            ...       ...           ...      ...      ...   \n",
            "21608        1530              0      2009             0    98103  47.6993   \n",
            "21609        2310              0      2014             0    98146  47.5107   \n",
            "21610        1020              0      2009             0    98144  47.5944   \n",
            "21611        1600              0      2004             0    98027  47.5345   \n",
            "21612        1020              0      2008             0    98144  47.5941   \n",
            "\n",
            "          long  sqft_living15  sqft_lot15  \n",
            "0     -122.257           1340        5650  \n",
            "1     -122.319           1690        7639  \n",
            "2     -122.233           2720        8062  \n",
            "3     -122.393           1360        5000  \n",
            "4     -122.045           1800        7503  \n",
            "...        ...            ...         ...  \n",
            "21608 -122.346           1530        1509  \n",
            "21609 -122.362           1830        7200  \n",
            "21610 -122.299           1020        2007  \n",
            "21611 -122.069           1410        1287  \n",
            "21612 -122.299           1020        1357  \n",
            "\n",
            "[21613 rows x 21 columns]\n"
          ]
        }
      ]
    },
    {
      "cell_type": "markdown",
      "source": [
        "## 정형 데이터 학습 중간 평가 테스트"
      ],
      "metadata": {
        "id": "Zi8sBGO3pDr-"
      }
    },
    {
      "cell_type": "code",
      "source": [
        "columns = ['bedrooms', 'bathrooms','sqft_living','sqft_lot','floors','price']\n",
        "df = df.loc[:,columns]\n",
        "\n",
        "print(df)"
      ],
      "metadata": {
        "colab": {
          "base_uri": "https://localhost:8080/"
        },
        "id": "3kGY40-sbrjm",
        "outputId": "ef06ab8b-c874-47ff-a5e3-29338262ed2f"
      },
      "execution_count": null,
      "outputs": [
        {
          "output_type": "stream",
          "name": "stdout",
          "text": [
            "       bedrooms  bathrooms  sqft_living  sqft_lot  floors     price\n",
            "0             3       1.00         1180      5650     1.0  221900.0\n",
            "1             3       2.25         2570      7242     2.0  538000.0\n",
            "2             2       1.00          770     10000     1.0  180000.0\n",
            "3             4       3.00         1960      5000     1.0  604000.0\n",
            "4             3       2.00         1680      8080     1.0  510000.0\n",
            "...         ...        ...          ...       ...     ...       ...\n",
            "21608         3       2.50         1530      1131     3.0  360000.0\n",
            "21609         4       2.50         2310      5813     2.0  400000.0\n",
            "21610         2       0.75         1020      1350     2.0  402101.0\n",
            "21611         3       2.50         1600      2388     2.0  400000.0\n",
            "21612         2       0.75         1020      1076     2.0  325000.0\n",
            "\n",
            "[21613 rows x 6 columns]\n"
          ]
        }
      ]
    },
    {
      "cell_type": "code",
      "source": [
        "features_data = ['bedrooms', 'bathrooms','sqft_living','sqft_lot','floors','price'] #  학습\n",
        "target_data = ['price'] # 라벨 target 데이터\n",
        "\n",
        "x_data = df.loc[:,features_data]\n",
        "y_data = df.loc[:,target_data]\n",
        "\n",
        "print(x_data)\n",
        "print(y_data)"
      ],
      "metadata": {
        "colab": {
          "base_uri": "https://localhost:8080/"
        },
        "id": "QmnbS3Pybrli",
        "outputId": "d7673328-746e-44b8-8564-19c0627a6a05"
      },
      "execution_count": null,
      "outputs": [
        {
          "output_type": "stream",
          "name": "stdout",
          "text": [
            "       bedrooms  bathrooms  sqft_living  sqft_lot  floors     price\n",
            "0             3       1.00         1180      5650     1.0  221900.0\n",
            "1             3       2.25         2570      7242     2.0  538000.0\n",
            "2             2       1.00          770     10000     1.0  180000.0\n",
            "3             4       3.00         1960      5000     1.0  604000.0\n",
            "4             3       2.00         1680      8080     1.0  510000.0\n",
            "...         ...        ...          ...       ...     ...       ...\n",
            "21608         3       2.50         1530      1131     3.0  360000.0\n",
            "21609         4       2.50         2310      5813     2.0  400000.0\n",
            "21610         2       0.75         1020      1350     2.0  402101.0\n",
            "21611         3       2.50         1600      2388     2.0  400000.0\n",
            "21612         2       0.75         1020      1076     2.0  325000.0\n",
            "\n",
            "[21613 rows x 6 columns]\n",
            "          price\n",
            "0      221900.0\n",
            "1      538000.0\n",
            "2      180000.0\n",
            "3      604000.0\n",
            "4      510000.0\n",
            "...         ...\n",
            "21608  360000.0\n",
            "21609  400000.0\n",
            "21610  402101.0\n",
            "21611  400000.0\n",
            "21612  325000.0\n",
            "\n",
            "[21613 rows x 1 columns]\n"
          ]
        }
      ]
    },
    {
      "cell_type": "markdown",
      "source": [
        "# 데이터 나누기 train va ltest\n"
      ],
      "metadata": {
        "id": "0gmD08iKq5F1"
      }
    },
    {
      "cell_type": "code",
      "source": [
        "x_train , x_val_list , y_train, y_val_list = train_test_split(x_data ,y_data, random_state=777, test_size=0.8)\n",
        "x_val , x_test, y_val ,y_test = train_test_split(x_val_list ,y_val_list, random_state=777, test_size=0.5)\n",
        "print(\"변경되기전 데이터양 -----\")\n",
        "print(\"x_data 크기 : \",x_data.shape)\n",
        "print(\"x_data 크기 : \",y_data.shape)\n",
        "print(\"x_train 크기 : \",x_train.shape)\n",
        "print(\"y_train 크기 : \",y_train.shape)\n",
        "print(\"x_val 크기\", x_val_list.shape)\n",
        "print(\"y_val 크기\", y_val_list.shape)\n",
        "\n",
        "print(\"변경후\")\n",
        "print(x_val.shape)\n",
        "print(y_val.shape)\n",
        "print(x_test.shape)\n",
        "print(y_test.shape)"
      ],
      "metadata": {
        "colab": {
          "base_uri": "https://localhost:8080/"
        },
        "id": "21_905yNq46V",
        "outputId": "7f32d693-9a59-4734-e7a8-6ee528471a32"
      },
      "execution_count": null,
      "outputs": [
        {
          "output_type": "stream",
          "name": "stdout",
          "text": [
            "변경되기전 데이터양 -----\n",
            "x_data 크기 :  (21613, 6)\n",
            "x_data 크기 :  (21613, 1)\n",
            "x_train 크기 :  (4322, 6)\n",
            "y_train 크기 :  (4322, 1)\n",
            "x_val 크기 (17291, 6)\n",
            "y_val 크기 (17291, 1)\n",
            "변경후\n",
            "(8645, 6)\n",
            "(8645, 1)\n",
            "(8646, 6)\n",
            "(8646, 1)\n"
          ]
        }
      ]
    },
    {
      "cell_type": "markdown",
      "source": [
        "## PySpark"
      ],
      "metadata": {
        "id": "magF0nvB1OzF"
      }
    },
    {
      "cell_type": "markdown",
      "source": [
        "## PyTorch\n",
        "PyTorch와 Tensorflow 가 논쟁이 서로 많다\n",
        "연구보단 tensor는 아직도 여전히 서비스분야 많이 쓰임\n",
        "이 과정에선 tensor 안할예쩡"
      ],
      "metadata": {
        "id": "_JqVyQIV121V"
      }
    },
    {
      "cell_type": "code",
      "source": [
        "import torch\n",
        "import torchvision\n",
        "import numpy as np\n",
        "\n",
        "print(\"Torch 버전 \", torch.__version__)\n",
        "print(\"Torch 버전 \", torchvision.__version__)"
      ],
      "metadata": {
        "colab": {
          "base_uri": "https://localhost:8080/"
        },
        "id": "27y6miJkbrnf",
        "outputId": "7001f4e4-291f-4cf9-b7c6-b466e95866d2"
      },
      "execution_count": 2,
      "outputs": [
        {
          "output_type": "stream",
          "name": "stdout",
          "text": [
            "Torch 버전  2.0.1+cu118\n",
            "Torch 버전  0.15.2+cu118\n"
          ]
        }
      ]
    },
    {
      "cell_type": "code",
      "source": [],
      "metadata": {
        "id": "PC_fZhzgHu0b"
      },
      "execution_count": null,
      "outputs": []
    },
    {
      "cell_type": "markdown",
      "source": [
        "# PyTorch - 텐서 기본실습"
      ],
      "metadata": {
        "id": "1b5nZJcxGApd"
      }
    },
    {
      "cell_type": "code",
      "source": [
        "# 텐서 초기화하기 데이터터로부터 직접 텐서를 생성가능합니다. 데이터의 자료형은 자동으로 유추합니다.\n",
        "data = [[1,2],[3,4]]\n",
        "x_data = torch.tensor(data)\n",
        "print(x_data)\n",
        "\n",
        "# Numpy 배열로 부터 생성\n",
        "np_array = np.array(data)\n",
        "x_np = torch.from_numpy(np_array)\n",
        "print(x_np) # 이래도 텐서로 형성"
      ],
      "metadata": {
        "colab": {
          "base_uri": "https://localhost:8080/"
        },
        "id": "EZHfNJ-rbrpY",
        "outputId": "6b0ce689-7e1e-450b-ca69-0fa23bdfb564"
      },
      "execution_count": null,
      "outputs": [
        {
          "output_type": "stream",
          "name": "stdout",
          "text": [
            "tensor([[1, 2],\n",
            "        [3, 4]])\n",
            "tensor([[1, 2],\n",
            "        [3, 4]])\n"
          ]
        }
      ]
    },
    {
      "cell_type": "code",
      "source": [
        "x_ones = torch.ones_like(x_data)\n",
        "print(f\"ones Tensor : \\n{x_ones}\")\n",
        "\n",
        "x_rand = torch.rand_like(x_data, dtype=torch.float) # x_data속성을 덮어씁니다\n",
        "print(f\"Random Tensor :\\n{x_rand}\")\n",
        "\n",
        "\n",
        "# torch.rand_like() 주어진 입력 텐서와 동일한 크기의 텐서를 생성하고 모든\n",
        "# 요소를 랜덤한 값을 채우고 타입지정시 그타입 변함\n",
        "# 0과 1사이의 랜덤한 값으로 초기화 되고 데이터타입유형은 dtype=torch.float 지정됩니다."
      ],
      "metadata": {
        "id": "UCQRsuFYbrre",
        "colab": {
          "base_uri": "https://localhost:8080/"
        },
        "outputId": "61c635c5-3c20-4f97-d8fd-80454a9dc888"
      },
      "execution_count": null,
      "outputs": [
        {
          "output_type": "stream",
          "name": "stdout",
          "text": [
            "ones Tensor : \n",
            "tensor([[1, 1],\n",
            "        [1, 1]])\n",
            "Random Tensor :\n",
            "tensor([[0.9100, 0.5611],\n",
            "        [0.7259, 0.3249]])\n"
          ]
        }
      ]
    },
    {
      "cell_type": "code",
      "source": [
        "# 무작위 or 상수 값을 사용하기\n",
        "shape = (2,3,)\n",
        "rand_tensor = torch.rand(shape)\n",
        "ones_tensor = torch.ones(shape)\n",
        "zeros_tensor = torch.zeros(shape)\n",
        "\n",
        "print(rand_tensor)\n",
        "print(ones_tensor)\n",
        "print(zeros_tensor)\n",
        "\n",
        "# 유효 범위를 최솟값~최대값 6~10\n",
        "shape_temp = (5,6)\n",
        "min_val = 6\n",
        "max_val = 10\n",
        "rand_tensor_temp = torch.rand(shape_temp) * (max_val - min_val) + min_val\n",
        "print(rand_tensor_temp)"
      ],
      "metadata": {
        "id": "OLkth5Vebrte",
        "colab": {
          "base_uri": "https://localhost:8080/"
        },
        "outputId": "93b82f32-bcd2-4f58-8802-1586c628ff7d"
      },
      "execution_count": null,
      "outputs": [
        {
          "output_type": "stream",
          "name": "stdout",
          "text": [
            "tensor([[0.5116, 0.7276, 0.7415],\n",
            "        [0.5573, 0.2732, 0.5072]])\n",
            "tensor([[1., 1., 1.],\n",
            "        [1., 1., 1.]])\n",
            "tensor([[0., 0., 0.],\n",
            "        [0., 0., 0.]])\n",
            "tensor([[9.2771, 9.3521, 8.9819, 9.6294, 8.4272, 9.2047],\n",
            "        [7.9939, 8.3846, 6.0838, 7.8653, 7.7730, 9.9669],\n",
            "        [7.8193, 8.7660, 6.5997, 9.0515, 6.0489, 7.1890],\n",
            "        [9.7977, 7.6129, 9.2056, 9.2035, 9.1207, 8.7681],\n",
            "        [8.6300, 7.6520, 9.7236, 8.7955, 7.4388, 8.2108]])\n"
          ]
        }
      ]
    },
    {
      "cell_type": "markdown",
      "source": [
        "## 표준 인덱싱 과 슬라이싱"
      ],
      "metadata": {
        "id": "rF-gnCt-TT35"
      }
    },
    {
      "cell_type": "code",
      "source": [
        "tensor_1 = torch.ones(4,4)\n",
        "tensor_1[:,3] = 0\n",
        "\n",
        "tensor_2 = torch.ones(4,4)\n",
        "tensor_2[:1] = 2\n",
        "\n",
        "print(tensor_1) # 넘파이랑 슬라이싱 같음"
      ],
      "metadata": {
        "id": "cGBWQ1Wtbrvm",
        "colab": {
          "base_uri": "https://localhost:8080/"
        },
        "outputId": "87f8515b-8503-44a2-b4c5-b69db64fc324"
      },
      "execution_count": 9,
      "outputs": [
        {
          "output_type": "stream",
          "name": "stdout",
          "text": [
            "tensor([[1., 1., 1., 0.],\n",
            "        [1., 1., 1., 0.],\n",
            "        [1., 1., 1., 0.],\n",
            "        [1., 1., 1., 0.]])\n"
          ]
        }
      ]
    },
    {
      "cell_type": "code",
      "source": [
        "# 텐서 합치기\n",
        "\n",
        "t1 = torch.cat([tensor_1, tensor_1, tensor_1], dim=1)\n",
        "t1"
      ],
      "metadata": {
        "id": "FCNr4Olcbrxe",
        "colab": {
          "base_uri": "https://localhost:8080/"
        },
        "outputId": "ab4344cd-5a44-4e03-d097-5fd0485c8d6e"
      },
      "execution_count": 10,
      "outputs": [
        {
          "output_type": "execute_result",
          "data": {
            "text/plain": [
              "tensor([[1., 1., 1., 0., 1., 1., 1., 0., 1., 1., 1., 0.],\n",
              "        [1., 1., 1., 0., 1., 1., 1., 0., 1., 1., 1., 0.],\n",
              "        [1., 1., 1., 0., 1., 1., 1., 0., 1., 1., 1., 0.],\n",
              "        [1., 1., 1., 0., 1., 1., 1., 0., 1., 1., 1., 0.]])"
            ]
          },
          "metadata": {},
          "execution_count": 10
        }
      ]
    },
    {
      "cell_type": "code",
      "source": [
        "t_mult = tensor_1.mul(tensor_2)\n",
        "print(t_mult)\n",
        "\n",
        "print(tensor_1 * tensor_2) # 위와 아래 같음"
      ],
      "metadata": {
        "id": "I3-UdWd7brze",
        "colab": {
          "base_uri": "https://localhost:8080/"
        },
        "outputId": "9ee95ed1-d88f-4293-cbbb-b64c0a7dccae"
      },
      "execution_count": 12,
      "outputs": [
        {
          "output_type": "stream",
          "name": "stdout",
          "text": [
            "tensor([[2., 2., 2., 0.],\n",
            "        [1., 1., 1., 0.],\n",
            "        [1., 1., 1., 0.],\n",
            "        [1., 1., 1., 0.]])\n",
            "tensor([[2., 2., 2., 0.],\n",
            "        [1., 1., 1., 0.],\n",
            "        [1., 1., 1., 0.],\n",
            "        [1., 1., 1., 0.]])\n"
          ]
        }
      ]
    },
    {
      "cell_type": "code",
      "source": [
        "# 행렬 곱\n",
        "print(tensor_2 @ tensor_2.T)\n",
        "print(tensor_2.matmul( tensor_2.T))"
      ],
      "metadata": {
        "id": "5pYVNVaCbr1x",
        "colab": {
          "base_uri": "https://localhost:8080/"
        },
        "outputId": "f155a112-2966-47d8-8195-982bcdeeb013"
      },
      "execution_count": 15,
      "outputs": [
        {
          "output_type": "stream",
          "name": "stdout",
          "text": [
            "tensor([[16.,  8.,  8.,  8.],\n",
            "        [ 8.,  4.,  4.,  4.],\n",
            "        [ 8.,  4.,  4.,  4.],\n",
            "        [ 8.,  4.,  4.,  4.]])\n",
            "tensor([[16.,  8.,  8.,  8.],\n",
            "        [ 8.,  4.,  4.,  4.],\n",
            "        [ 8.,  4.,  4.,  4.],\n",
            "        [ 8.,  4.,  4.,  4.]])\n"
          ]
        }
      ]
    },
    {
      "cell_type": "code",
      "source": [
        "t = torch.ones(5)\n",
        "print(t)\n",
        "n = t.numpy()\n",
        "\n",
        "print(n) # numpy와 메모리 공유하므로 텐서와 똑같은 값나옴 변경해도\n",
        "t.add_(1) # t에 메모리와 n이 같음\n",
        "print(t)\n",
        "print(n)"
      ],
      "metadata": {
        "id": "UwPiD6Pmbr3o",
        "colab": {
          "base_uri": "https://localhost:8080/"
        },
        "outputId": "863cfb79-f74a-45f2-e526-a7d4bc7499ea"
      },
      "execution_count": 18,
      "outputs": [
        {
          "output_type": "stream",
          "name": "stdout",
          "text": [
            "tensor([1., 1., 1., 1., 1.])\n",
            "[1. 1. 1. 1. 1.]\n",
            "tensor([2., 2., 2., 2., 2.])\n",
            "[2. 2. 2. 2. 2.]\n"
          ]
        }
      ]
    },
    {
      "cell_type": "markdown",
      "source": [
        "## Pytorch View 쓰기 이건  numpy reshape과 같음 텐서의 크기\n",
        "원소의 수를 유지하면서 변경하기"
      ],
      "metadata": {
        "id": "eIvogjuQWOzK"
      }
    },
    {
      "cell_type": "code",
      "source": [
        "\"\"\"\n",
        "파이 토치 텐서의 뷰는 넘파이 Reshape 와같은역학\n",
        "Reshape > 텐서의 크기를 변경해주는 역할\n",
        "\"\"\"\n",
        "t_temp = np.array([[[[0,1,2], [3,4,5,], [6,7,8],[9,10,11]]]])\n",
        "ft = torch.FloatTensor(t_temp)\n",
        "print(ft)\n",
        "print(ft.shape)\n",
        "\n",
        "# 이제 ft view를 2차원 텐서로 변경\n",
        "# -1 : 나는 값을 모르니 파이토치 한테 알아서 해 두번쨰 차원은 3으로 가지도록\n",
        "print(ft.view([-1,3])) # -1 한차원줄임\n",
        "print(ft.view([-1,3]).shape)"
      ],
      "metadata": {
        "id": "CxJ7V-4Vbr5v",
        "colab": {
          "base_uri": "https://localhost:8080/"
        },
        "outputId": "840a8d92-cd0c-4a02-c1ec-d901d14fb16e"
      },
      "execution_count": 24,
      "outputs": [
        {
          "output_type": "stream",
          "name": "stdout",
          "text": [
            "tensor([[[[ 0.,  1.,  2.],\n",
            "          [ 3.,  4.,  5.],\n",
            "          [ 6.,  7.,  8.],\n",
            "          [ 9., 10., 11.]]]])\n",
            "torch.Size([1, 1, 4, 3])\n",
            "tensor([[ 0.,  1.,  2.],\n",
            "        [ 3.,  4.,  5.],\n",
            "        [ 6.,  7.,  8.],\n",
            "        [ 9., 10., 11.]])\n",
            "torch.Size([4, 3])\n"
          ]
        }
      ]
    },
    {
      "cell_type": "code",
      "source": [
        "#  스퀴즈 -> 1차원을 제거 차원이 1인경우에 해당 차원 제거\n",
        "\n",
        "ft = torch.FloatTensor(([0],[1],[2]))\n",
        "\n",
        "print(ft)\n",
        "print(ft.shape)"
      ],
      "metadata": {
        "id": "w3Oh2eNgbr7z",
        "colab": {
          "base_uri": "https://localhost:8080/"
        },
        "outputId": "1cd133a1-d634-4c45-8819-75a113fd6665"
      },
      "execution_count": 25,
      "outputs": [
        {
          "output_type": "stream",
          "name": "stdout",
          "text": [
            "tensor([[0.],\n",
            "        [1.],\n",
            "        [2.]])\n",
            "torch.Size([3, 1])\n"
          ]
        }
      ]
    },
    {
      "cell_type": "code",
      "source": [
        "print(ft.squeeze())\n",
        "print(ft.squeeze().shape) # 1차원벡터가 되버림"
      ],
      "metadata": {
        "id": "losgynvebr90",
        "colab": {
          "base_uri": "https://localhost:8080/"
        },
        "outputId": "4281af8b-31b7-4082-b64b-6116a9421418"
      },
      "execution_count": 26,
      "outputs": [
        {
          "output_type": "stream",
          "name": "stdout",
          "text": [
            "tensor([0., 1., 2.])\n",
            "torch.Size([3])\n"
          ]
        }
      ]
    },
    {
      "cell_type": "code",
      "source": [
        "'''\n",
        "언스퀴즈 - 특정위치 1인 차원 추가\n",
        "'''\n",
        "ft_temp  = torch.Tensor([0,1,2])\n",
        "print(ft_temp.shape) # 1차원 벡터인 상황\n",
        "\n",
        "# 첫번쨰차원에서 1차원 추가\n",
        "# 인덱스 0\n",
        "print(ft_temp.unsqueeze(0))\n",
        "print(ft_temp.unsqueeze(0).shape) # 2차원이 되버림"
      ],
      "metadata": {
        "id": "KLAvjoORbr_6",
        "colab": {
          "base_uri": "https://localhost:8080/"
        },
        "outputId": "cc93c5bf-ce80-4565-cf96-c13887419f15"
      },
      "execution_count": 28,
      "outputs": [
        {
          "output_type": "stream",
          "name": "stdout",
          "text": [
            "torch.Size([3])\n",
            "tensor([[0., 1., 2.]])\n",
            "torch.Size([1, 3])\n"
          ]
        }
      ]
    },
    {
      "cell_type": "code",
      "source": [
        "# 뷰를 통해서 똑같은거 가능\n",
        "print(ft_temp.view(1,-1))\n",
        "print(ft_temp.view(1,-1).shape)"
      ],
      "metadata": {
        "id": "dEVwXZ-gbsCH",
        "colab": {
          "base_uri": "https://localhost:8080/"
        },
        "outputId": "85853a3d-9f0e-4a30-95d7-8f33315baf3a"
      },
      "execution_count": 29,
      "outputs": [
        {
          "output_type": "stream",
          "name": "stdout",
          "text": [
            "tensor([[0., 1., 2.]])\n",
            "torch.Size([1, 3])\n"
          ]
        }
      ]
    },
    {
      "cell_type": "code",
      "source": [],
      "metadata": {
        "id": "tup0EarbbsEO"
      },
      "execution_count": null,
      "outputs": []
    },
    {
      "cell_type": "code",
      "source": [],
      "metadata": {
        "id": "7bhbs7JEbsGa"
      },
      "execution_count": null,
      "outputs": []
    },
    {
      "cell_type": "code",
      "source": [],
      "metadata": {
        "id": "KlGmu48ObsIn"
      },
      "execution_count": null,
      "outputs": []
    },
    {
      "cell_type": "code",
      "source": [],
      "metadata": {
        "id": "FxzK-_sWbsK6"
      },
      "execution_count": null,
      "outputs": []
    },
    {
      "cell_type": "code",
      "source": [],
      "metadata": {
        "id": "zJLgH7J6bsM3"
      },
      "execution_count": null,
      "outputs": []
    },
    {
      "cell_type": "code",
      "source": [],
      "metadata": {
        "id": "508idPgtbsPE"
      },
      "execution_count": null,
      "outputs": []
    },
    {
      "cell_type": "code",
      "source": [],
      "metadata": {
        "id": "C0C5pNTxbsQ_"
      },
      "execution_count": null,
      "outputs": []
    },
    {
      "cell_type": "code",
      "source": [],
      "metadata": {
        "id": "6IpQl3zybsTF"
      },
      "execution_count": null,
      "outputs": []
    },
    {
      "cell_type": "code",
      "source": [],
      "metadata": {
        "id": "VTisRZbpbsVc"
      },
      "execution_count": null,
      "outputs": []
    },
    {
      "cell_type": "code",
      "source": [],
      "metadata": {
        "id": "0KAvMMvhbsXf"
      },
      "execution_count": null,
      "outputs": []
    },
    {
      "cell_type": "code",
      "source": [],
      "metadata": {
        "id": "k6xijeafbsZ4"
      },
      "execution_count": null,
      "outputs": []
    },
    {
      "cell_type": "code",
      "source": [],
      "metadata": {
        "id": "jj5ozaOtbsb6"
      },
      "execution_count": null,
      "outputs": []
    },
    {
      "cell_type": "code",
      "source": [],
      "metadata": {
        "id": "V7V7KQsMbsd1"
      },
      "execution_count": null,
      "outputs": []
    },
    {
      "cell_type": "code",
      "source": [],
      "metadata": {
        "id": "UQCdskPcbsgI"
      },
      "execution_count": null,
      "outputs": []
    },
    {
      "cell_type": "code",
      "source": [],
      "metadata": {
        "id": "HINhNKsFbsiP"
      },
      "execution_count": null,
      "outputs": []
    },
    {
      "cell_type": "code",
      "source": [],
      "metadata": {
        "id": "C97u28SIbska"
      },
      "execution_count": null,
      "outputs": []
    }
  ]
}