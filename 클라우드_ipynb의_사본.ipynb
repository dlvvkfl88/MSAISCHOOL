{
  "nbformat": 4,
  "nbformat_minor": 0,
  "metadata": {
    "colab": {
      "provenance": []
    },
    "kernelspec": {
      "name": "python3",
      "display_name": "Python 3"
    },
    "language_info": {
      "name": "python"
    }
  },
  "cells": [
    {
      "cell_type": "code",
      "execution_count": null,
      "metadata": {
        "id": "cl_abIg3n9Mk"
      },
      "outputs": [],
      "source": [
        "# Clustering\n",
        "\n",
        "import numpy as np\n",
        "import pandas as pd\n",
        "import sklearn\n",
        "import matplotlib.pyplot as plt\n",
        "\n",
        "import warnings\n",
        "warnings.filterwarnings('ignore')\n",
        "\n",
        "import os\n",
        "from os.path import join"
      ]
    },
    {
      "cell_type": "code",
      "source": [
        "from sklearn.datasets import load_wine\n",
        "wine = load_wine()\n",
        "\n",
        "print(wine.DESCR)"
      ],
      "metadata": {
        "colab": {
          "base_uri": "https://localhost:8080/"
        },
        "id": "-CuuRofQo_87",
        "outputId": "37eeb74b-f46f-4cae-c7c2-2542b17a91fe"
      },
      "execution_count": null,
      "outputs": [
        {
          "output_type": "stream",
          "name": "stdout",
          "text": [
            ".. _wine_dataset:\n",
            "\n",
            "Wine recognition dataset\n",
            "------------------------\n",
            "\n",
            "**Data Set Characteristics:**\n",
            "\n",
            "    :Number of Instances: 178\n",
            "    :Number of Attributes: 13 numeric, predictive attributes and the class\n",
            "    :Attribute Information:\n",
            " \t\t- Alcohol\n",
            " \t\t- Malic acid\n",
            " \t\t- Ash\n",
            "\t\t- Alcalinity of ash  \n",
            " \t\t- Magnesium\n",
            "\t\t- Total phenols\n",
            " \t\t- Flavanoids\n",
            " \t\t- Nonflavanoid phenols\n",
            " \t\t- Proanthocyanins\n",
            "\t\t- Color intensity\n",
            " \t\t- Hue\n",
            " \t\t- OD280/OD315 of diluted wines\n",
            " \t\t- Proline\n",
            "\n",
            "    - class:\n",
            "            - class_0\n",
            "            - class_1\n",
            "            - class_2\n",
            "\t\t\n",
            "    :Summary Statistics:\n",
            "    \n",
            "    ============================= ==== ===== ======= =====\n",
            "                                   Min   Max   Mean     SD\n",
            "    ============================= ==== ===== ======= =====\n",
            "    Alcohol:                      11.0  14.8    13.0   0.8\n",
            "    Malic Acid:                   0.74  5.80    2.34  1.12\n",
            "    Ash:                          1.36  3.23    2.36  0.27\n",
            "    Alcalinity of Ash:            10.6  30.0    19.5   3.3\n",
            "    Magnesium:                    70.0 162.0    99.7  14.3\n",
            "    Total Phenols:                0.98  3.88    2.29  0.63\n",
            "    Flavanoids:                   0.34  5.08    2.03  1.00\n",
            "    Nonflavanoid Phenols:         0.13  0.66    0.36  0.12\n",
            "    Proanthocyanins:              0.41  3.58    1.59  0.57\n",
            "    Colour Intensity:              1.3  13.0     5.1   2.3\n",
            "    Hue:                          0.48  1.71    0.96  0.23\n",
            "    OD280/OD315 of diluted wines: 1.27  4.00    2.61  0.71\n",
            "    Proline:                       278  1680     746   315\n",
            "    ============================= ==== ===== ======= =====\n",
            "\n",
            "    :Missing Attribute Values: None\n",
            "    :Class Distribution: class_0 (59), class_1 (71), class_2 (48)\n",
            "    :Creator: R.A. Fisher\n",
            "    :Donor: Michael Marshall (MARSHALL%PLU@io.arc.nasa.gov)\n",
            "    :Date: July, 1988\n",
            "\n",
            "This is a copy of UCI ML Wine recognition datasets.\n",
            "https://archive.ics.uci.edu/ml/machine-learning-databases/wine/wine.data\n",
            "\n",
            "The data is the results of a chemical analysis of wines grown in the same\n",
            "region in Italy by three different cultivators. There are thirteen different\n",
            "measurements taken for different constituents found in the three types of\n",
            "wine.\n",
            "\n",
            "Original Owners: \n",
            "\n",
            "Forina, M. et al, PARVUS - \n",
            "An Extendible Package for Data Exploration, Classification and Correlation. \n",
            "Institute of Pharmaceutical and Food Analysis and Technologies,\n",
            "Via Brigata Salerno, 16147 Genoa, Italy.\n",
            "\n",
            "Citation:\n",
            "\n",
            "Lichman, M. (2013). UCI Machine Learning Repository\n",
            "[https://archive.ics.uci.edu/ml]. Irvine, CA: University of California,\n",
            "School of Information and Computer Science. \n",
            "\n",
            ".. topic:: References\n",
            "\n",
            "  (1) S. Aeberhard, D. Coomans and O. de Vel, \n",
            "  Comparison of Classifiers in High Dimensional Settings, \n",
            "  Tech. Rep. no. 92-02, (1992), Dept. of Computer Science and Dept. of  \n",
            "  Mathematics and Statistics, James Cook University of North Queensland. \n",
            "  (Also submitted to Technometrics). \n",
            "\n",
            "  The data was used with many others for comparing various \n",
            "  classifiers. The classes are separable, though only RDA \n",
            "  has achieved 100% correct classification. \n",
            "  (RDA : 100%, QDA 99.4%, LDA 98.9%, 1NN 96.1% (z-transformed data)) \n",
            "  (All results using the leave-one-out technique) \n",
            "\n",
            "  (2) S. Aeberhard, D. Coomans and O. de Vel, \n",
            "  \"THE CLASSIFICATION PERFORMANCE OF RDA\" \n",
            "  Tech. Rep. no. 92-01, (1992), Dept. of Computer Science and Dept. of \n",
            "  Mathematics and Statistics, James Cook University of North Queensland. \n",
            "  (Also submitted to Journal of Chemometrics).\n",
            "\n"
          ]
        }
      ]
    },
    {
      "cell_type": "code",
      "source": [
        "data = wine.data\n",
        "label = wine.target\n",
        "columns = wine.feature_names\n",
        "\n",
        "data = pd.DataFrame(data, columns = columns)\n",
        "data.head()"
      ],
      "metadata": {
        "id": "cIw6Dq7BpZ4b",
        "colab": {
          "base_uri": "https://localhost:8080/",
          "height": 270
        },
        "outputId": "280c7cac-ba4c-4986-bb44-1398d0952f0a"
      },
      "execution_count": null,
      "outputs": [
        {
          "output_type": "execute_result",
          "data": {
            "text/plain": [
              "   alcohol  malic_acid   ash  alcalinity_of_ash  magnesium  total_phenols  \\\n",
              "0    14.23        1.71  2.43               15.6      127.0           2.80   \n",
              "1    13.20        1.78  2.14               11.2      100.0           2.65   \n",
              "2    13.16        2.36  2.67               18.6      101.0           2.80   \n",
              "3    14.37        1.95  2.50               16.8      113.0           3.85   \n",
              "4    13.24        2.59  2.87               21.0      118.0           2.80   \n",
              "\n",
              "   flavanoids  nonflavanoid_phenols  proanthocyanins  color_intensity   hue  \\\n",
              "0        3.06                  0.28             2.29             5.64  1.04   \n",
              "1        2.76                  0.26             1.28             4.38  1.05   \n",
              "2        3.24                  0.30             2.81             5.68  1.03   \n",
              "3        3.49                  0.24             2.18             7.80  0.86   \n",
              "4        2.69                  0.39             1.82             4.32  1.04   \n",
              "\n",
              "   od280/od315_of_diluted_wines  proline  \n",
              "0                          3.92   1065.0  \n",
              "1                          3.40   1050.0  \n",
              "2                          3.17   1185.0  \n",
              "3                          3.45   1480.0  \n",
              "4                          2.93    735.0  "
            ],
            "text/html": [
              "\n",
              "  <div id=\"df-9b962853-a59a-448b-86cc-31e8d988f752\">\n",
              "    <div class=\"colab-df-container\">\n",
              "      <div>\n",
              "<style scoped>\n",
              "    .dataframe tbody tr th:only-of-type {\n",
              "        vertical-align: middle;\n",
              "    }\n",
              "\n",
              "    .dataframe tbody tr th {\n",
              "        vertical-align: top;\n",
              "    }\n",
              "\n",
              "    .dataframe thead th {\n",
              "        text-align: right;\n",
              "    }\n",
              "</style>\n",
              "<table border=\"1\" class=\"dataframe\">\n",
              "  <thead>\n",
              "    <tr style=\"text-align: right;\">\n",
              "      <th></th>\n",
              "      <th>alcohol</th>\n",
              "      <th>malic_acid</th>\n",
              "      <th>ash</th>\n",
              "      <th>alcalinity_of_ash</th>\n",
              "      <th>magnesium</th>\n",
              "      <th>total_phenols</th>\n",
              "      <th>flavanoids</th>\n",
              "      <th>nonflavanoid_phenols</th>\n",
              "      <th>proanthocyanins</th>\n",
              "      <th>color_intensity</th>\n",
              "      <th>hue</th>\n",
              "      <th>od280/od315_of_diluted_wines</th>\n",
              "      <th>proline</th>\n",
              "    </tr>\n",
              "  </thead>\n",
              "  <tbody>\n",
              "    <tr>\n",
              "      <th>0</th>\n",
              "      <td>14.23</td>\n",
              "      <td>1.71</td>\n",
              "      <td>2.43</td>\n",
              "      <td>15.6</td>\n",
              "      <td>127.0</td>\n",
              "      <td>2.80</td>\n",
              "      <td>3.06</td>\n",
              "      <td>0.28</td>\n",
              "      <td>2.29</td>\n",
              "      <td>5.64</td>\n",
              "      <td>1.04</td>\n",
              "      <td>3.92</td>\n",
              "      <td>1065.0</td>\n",
              "    </tr>\n",
              "    <tr>\n",
              "      <th>1</th>\n",
              "      <td>13.20</td>\n",
              "      <td>1.78</td>\n",
              "      <td>2.14</td>\n",
              "      <td>11.2</td>\n",
              "      <td>100.0</td>\n",
              "      <td>2.65</td>\n",
              "      <td>2.76</td>\n",
              "      <td>0.26</td>\n",
              "      <td>1.28</td>\n",
              "      <td>4.38</td>\n",
              "      <td>1.05</td>\n",
              "      <td>3.40</td>\n",
              "      <td>1050.0</td>\n",
              "    </tr>\n",
              "    <tr>\n",
              "      <th>2</th>\n",
              "      <td>13.16</td>\n",
              "      <td>2.36</td>\n",
              "      <td>2.67</td>\n",
              "      <td>18.6</td>\n",
              "      <td>101.0</td>\n",
              "      <td>2.80</td>\n",
              "      <td>3.24</td>\n",
              "      <td>0.30</td>\n",
              "      <td>2.81</td>\n",
              "      <td>5.68</td>\n",
              "      <td>1.03</td>\n",
              "      <td>3.17</td>\n",
              "      <td>1185.0</td>\n",
              "    </tr>\n",
              "    <tr>\n",
              "      <th>3</th>\n",
              "      <td>14.37</td>\n",
              "      <td>1.95</td>\n",
              "      <td>2.50</td>\n",
              "      <td>16.8</td>\n",
              "      <td>113.0</td>\n",
              "      <td>3.85</td>\n",
              "      <td>3.49</td>\n",
              "      <td>0.24</td>\n",
              "      <td>2.18</td>\n",
              "      <td>7.80</td>\n",
              "      <td>0.86</td>\n",
              "      <td>3.45</td>\n",
              "      <td>1480.0</td>\n",
              "    </tr>\n",
              "    <tr>\n",
              "      <th>4</th>\n",
              "      <td>13.24</td>\n",
              "      <td>2.59</td>\n",
              "      <td>2.87</td>\n",
              "      <td>21.0</td>\n",
              "      <td>118.0</td>\n",
              "      <td>2.80</td>\n",
              "      <td>2.69</td>\n",
              "      <td>0.39</td>\n",
              "      <td>1.82</td>\n",
              "      <td>4.32</td>\n",
              "      <td>1.04</td>\n",
              "      <td>2.93</td>\n",
              "      <td>735.0</td>\n",
              "    </tr>\n",
              "  </tbody>\n",
              "</table>\n",
              "</div>\n",
              "      <button class=\"colab-df-convert\" onclick=\"convertToInteractive('df-9b962853-a59a-448b-86cc-31e8d988f752')\"\n",
              "              title=\"Convert this dataframe to an interactive table.\"\n",
              "              style=\"display:none;\">\n",
              "        \n",
              "  <svg xmlns=\"http://www.w3.org/2000/svg\" height=\"24px\"viewBox=\"0 0 24 24\"\n",
              "       width=\"24px\">\n",
              "    <path d=\"M0 0h24v24H0V0z\" fill=\"none\"/>\n",
              "    <path d=\"M18.56 5.44l.94 2.06.94-2.06 2.06-.94-2.06-.94-.94-2.06-.94 2.06-2.06.94zm-11 1L8.5 8.5l.94-2.06 2.06-.94-2.06-.94L8.5 2.5l-.94 2.06-2.06.94zm10 10l.94 2.06.94-2.06 2.06-.94-2.06-.94-.94-2.06-.94 2.06-2.06.94z\"/><path d=\"M17.41 7.96l-1.37-1.37c-.4-.4-.92-.59-1.43-.59-.52 0-1.04.2-1.43.59L10.3 9.45l-7.72 7.72c-.78.78-.78 2.05 0 2.83L4 21.41c.39.39.9.59 1.41.59.51 0 1.02-.2 1.41-.59l7.78-7.78 2.81-2.81c.8-.78.8-2.07 0-2.86zM5.41 20L4 18.59l7.72-7.72 1.47 1.35L5.41 20z\"/>\n",
              "  </svg>\n",
              "      </button>\n",
              "      \n",
              "  <style>\n",
              "    .colab-df-container {\n",
              "      display:flex;\n",
              "      flex-wrap:wrap;\n",
              "      gap: 12px;\n",
              "    }\n",
              "\n",
              "    .colab-df-convert {\n",
              "      background-color: #E8F0FE;\n",
              "      border: none;\n",
              "      border-radius: 50%;\n",
              "      cursor: pointer;\n",
              "      display: none;\n",
              "      fill: #1967D2;\n",
              "      height: 32px;\n",
              "      padding: 0 0 0 0;\n",
              "      width: 32px;\n",
              "    }\n",
              "\n",
              "    .colab-df-convert:hover {\n",
              "      background-color: #E2EBFA;\n",
              "      box-shadow: 0px 1px 2px rgba(60, 64, 67, 0.3), 0px 1px 3px 1px rgba(60, 64, 67, 0.15);\n",
              "      fill: #174EA6;\n",
              "    }\n",
              "\n",
              "    [theme=dark] .colab-df-convert {\n",
              "      background-color: #3B4455;\n",
              "      fill: #D2E3FC;\n",
              "    }\n",
              "\n",
              "    [theme=dark] .colab-df-convert:hover {\n",
              "      background-color: #434B5C;\n",
              "      box-shadow: 0px 1px 3px 1px rgba(0, 0, 0, 0.15);\n",
              "      filter: drop-shadow(0px 1px 2px rgba(0, 0, 0, 0.3));\n",
              "      fill: #FFFFFF;\n",
              "    }\n",
              "  </style>\n",
              "\n",
              "      <script>\n",
              "        const buttonEl =\n",
              "          document.querySelector('#df-9b962853-a59a-448b-86cc-31e8d988f752 button.colab-df-convert');\n",
              "        buttonEl.style.display =\n",
              "          google.colab.kernel.accessAllowed ? 'block' : 'none';\n",
              "\n",
              "        async function convertToInteractive(key) {\n",
              "          const element = document.querySelector('#df-9b962853-a59a-448b-86cc-31e8d988f752');\n",
              "          const dataTable =\n",
              "            await google.colab.kernel.invokeFunction('convertToInteractive',\n",
              "                                                     [key], {});\n",
              "          if (!dataTable) return;\n",
              "\n",
              "          const docLinkHtml = 'Like what you see? Visit the ' +\n",
              "            '<a target=\"_blank\" href=https://colab.research.google.com/notebooks/data_table.ipynb>data table notebook</a>'\n",
              "            + ' to learn more about interactive tables.';\n",
              "          element.innerHTML = '';\n",
              "          dataTable['output_type'] = 'display_data';\n",
              "          await google.colab.output.renderOutput(dataTable, element);\n",
              "          const docLink = document.createElement('div');\n",
              "          docLink.innerHTML = docLinkHtml;\n",
              "          element.appendChild(docLink);\n",
              "        }\n",
              "      </script>\n",
              "    </div>\n",
              "  </div>\n",
              "  "
            ]
          },
          "metadata": {},
          "execution_count": 5
        }
      ]
    },
    {
      "cell_type": "code",
      "source": [
        "from sklearn.preprocessing import MinMaxScaler\n",
        "scaler = MinMaxScaler()\n",
        "data = scaler.fit_transform(data)\n",
        "data[:5] # numpy라 head를 볼수없어 슬라이싱으로 봄 "
      ],
      "metadata": {
        "colab": {
          "base_uri": "https://localhost:8080/"
        },
        "id": "yjInajSwp8Ai",
        "outputId": "88d0ddce-83a1-4f70-fa17-3d4346c531ea"
      },
      "execution_count": null,
      "outputs": [
        {
          "output_type": "execute_result",
          "data": {
            "text/plain": [
              "array([[0.84210526, 0.1916996 , 0.57219251, 0.25773196, 0.61956522,\n",
              "        0.62758621, 0.57383966, 0.28301887, 0.59305994, 0.37201365,\n",
              "        0.45528455, 0.97069597, 0.56134094],\n",
              "       [0.57105263, 0.2055336 , 0.4171123 , 0.03092784, 0.32608696,\n",
              "        0.57586207, 0.51054852, 0.24528302, 0.27444795, 0.26450512,\n",
              "        0.46341463, 0.78021978, 0.55064194],\n",
              "       [0.56052632, 0.3201581 , 0.70053476, 0.41237113, 0.33695652,\n",
              "        0.62758621, 0.61181435, 0.32075472, 0.75709779, 0.37542662,\n",
              "        0.44715447, 0.6959707 , 0.64693295],\n",
              "       [0.87894737, 0.23913043, 0.60962567, 0.31958763, 0.4673913 ,\n",
              "        0.98965517, 0.66455696, 0.20754717, 0.55835962, 0.55631399,\n",
              "        0.30894309, 0.7985348 , 0.85734665],\n",
              "       [0.58157895, 0.36561265, 0.80748663, 0.53608247, 0.52173913,\n",
              "        0.62758621, 0.49578059, 0.49056604, 0.44479495, 0.25938567,\n",
              "        0.45528455, 0.60805861, 0.32596291]])"
            ]
          },
          "metadata": {},
          "execution_count": 7
        }
      ]
    },
    {
      "cell_type": "code",
      "source": [
        "# 양이작아 차원의 축소 시행 \n",
        "from sklearn.decomposition import  PCA\n",
        "pca = PCA(n_components=2)\n",
        "data = pca.fit_transform(data)\n",
        "data[:5] # 2차원으로 줄어드는게 보임 밀도 줄임 "
      ],
      "metadata": {
        "colab": {
          "base_uri": "https://localhost:8080/"
        },
        "id": "BUe9b0kHqUT6",
        "outputId": "ae69f89c-cb4c-4efb-a620-9251cad201fc"
      },
      "execution_count": null,
      "outputs": [
        {
          "output_type": "execute_result",
          "data": {
            "text/plain": [
              "array([[-0.70633576, -0.25319275],\n",
              "       [-0.4849768 , -0.00882289],\n",
              "       [-0.52117227, -0.18918722],\n",
              "       [-0.82164366, -0.58090551],\n",
              "       [-0.20254638, -0.05946657]])"
            ]
          },
          "metadata": {},
          "execution_count": 9
        }
      ]
    },
    {
      "cell_type": "code",
      "source": [
        "data.shape # 데이터 최종모양"
      ],
      "metadata": {
        "colab": {
          "base_uri": "https://localhost:8080/"
        },
        "id": "WudgjsR7qUQi",
        "outputId": "e22019d6-b4f2-435a-accc-b483f16100ed"
      },
      "execution_count": null,
      "outputs": [
        {
          "output_type": "execute_result",
          "data": {
            "text/plain": [
              "(178, 2)"
            ]
          },
          "metadata": {},
          "execution_count": 10
        }
      ]
    },
    {
      "cell_type": "code",
      "source": [
        "# 이상태에서 K-means clustering 사용\n",
        "from sklearn.cluster import KMeans\n",
        "kmeans = KMeans(n_clusters=3)\n",
        "\n",
        "kmeans.fit(data)\n"
      ],
      "metadata": {
        "colab": {
          "base_uri": "https://localhost:8080/",
          "height": 74
        },
        "id": "JLuQw8dnqUN9",
        "outputId": "880cd3ae-b879-4a31-c606-ff48a65db614"
      },
      "execution_count": null,
      "outputs": [
        {
          "output_type": "execute_result",
          "data": {
            "text/plain": [
              "KMeans(n_clusters=3)"
            ],
            "text/html": [
              "<style>#sk-container-id-1 {color: black;background-color: white;}#sk-container-id-1 pre{padding: 0;}#sk-container-id-1 div.sk-toggleable {background-color: white;}#sk-container-id-1 label.sk-toggleable__label {cursor: pointer;display: block;width: 100%;margin-bottom: 0;padding: 0.3em;box-sizing: border-box;text-align: center;}#sk-container-id-1 label.sk-toggleable__label-arrow:before {content: \"▸\";float: left;margin-right: 0.25em;color: #696969;}#sk-container-id-1 label.sk-toggleable__label-arrow:hover:before {color: black;}#sk-container-id-1 div.sk-estimator:hover label.sk-toggleable__label-arrow:before {color: black;}#sk-container-id-1 div.sk-toggleable__content {max-height: 0;max-width: 0;overflow: hidden;text-align: left;background-color: #f0f8ff;}#sk-container-id-1 div.sk-toggleable__content pre {margin: 0.2em;color: black;border-radius: 0.25em;background-color: #f0f8ff;}#sk-container-id-1 input.sk-toggleable__control:checked~div.sk-toggleable__content {max-height: 200px;max-width: 100%;overflow: auto;}#sk-container-id-1 input.sk-toggleable__control:checked~label.sk-toggleable__label-arrow:before {content: \"▾\";}#sk-container-id-1 div.sk-estimator input.sk-toggleable__control:checked~label.sk-toggleable__label {background-color: #d4ebff;}#sk-container-id-1 div.sk-label input.sk-toggleable__control:checked~label.sk-toggleable__label {background-color: #d4ebff;}#sk-container-id-1 input.sk-hidden--visually {border: 0;clip: rect(1px 1px 1px 1px);clip: rect(1px, 1px, 1px, 1px);height: 1px;margin: -1px;overflow: hidden;padding: 0;position: absolute;width: 1px;}#sk-container-id-1 div.sk-estimator {font-family: monospace;background-color: #f0f8ff;border: 1px dotted black;border-radius: 0.25em;box-sizing: border-box;margin-bottom: 0.5em;}#sk-container-id-1 div.sk-estimator:hover {background-color: #d4ebff;}#sk-container-id-1 div.sk-parallel-item::after {content: \"\";width: 100%;border-bottom: 1px solid gray;flex-grow: 1;}#sk-container-id-1 div.sk-label:hover label.sk-toggleable__label {background-color: #d4ebff;}#sk-container-id-1 div.sk-serial::before {content: \"\";position: absolute;border-left: 1px solid gray;box-sizing: border-box;top: 0;bottom: 0;left: 50%;z-index: 0;}#sk-container-id-1 div.sk-serial {display: flex;flex-direction: column;align-items: center;background-color: white;padding-right: 0.2em;padding-left: 0.2em;position: relative;}#sk-container-id-1 div.sk-item {position: relative;z-index: 1;}#sk-container-id-1 div.sk-parallel {display: flex;align-items: stretch;justify-content: center;background-color: white;position: relative;}#sk-container-id-1 div.sk-item::before, #sk-container-id-1 div.sk-parallel-item::before {content: \"\";position: absolute;border-left: 1px solid gray;box-sizing: border-box;top: 0;bottom: 0;left: 50%;z-index: -1;}#sk-container-id-1 div.sk-parallel-item {display: flex;flex-direction: column;z-index: 1;position: relative;background-color: white;}#sk-container-id-1 div.sk-parallel-item:first-child::after {align-self: flex-end;width: 50%;}#sk-container-id-1 div.sk-parallel-item:last-child::after {align-self: flex-start;width: 50%;}#sk-container-id-1 div.sk-parallel-item:only-child::after {width: 0;}#sk-container-id-1 div.sk-dashed-wrapped {border: 1px dashed gray;margin: 0 0.4em 0.5em 0.4em;box-sizing: border-box;padding-bottom: 0.4em;background-color: white;}#sk-container-id-1 div.sk-label label {font-family: monospace;font-weight: bold;display: inline-block;line-height: 1.2em;}#sk-container-id-1 div.sk-label-container {text-align: center;}#sk-container-id-1 div.sk-container {/* jupyter's `normalize.less` sets `[hidden] { display: none; }` but bootstrap.min.css set `[hidden] { display: none !important; }` so we also need the `!important` here to be able to override the default hidden behavior on the sphinx rendered scikit-learn.org. See: https://github.com/scikit-learn/scikit-learn/issues/21755 */display: inline-block !important;position: relative;}#sk-container-id-1 div.sk-text-repr-fallback {display: none;}</style><div id=\"sk-container-id-1\" class=\"sk-top-container\"><div class=\"sk-text-repr-fallback\"><pre>KMeans(n_clusters=3)</pre><b>In a Jupyter environment, please rerun this cell to show the HTML representation or trust the notebook. <br />On GitHub, the HTML representation is unable to render, please try loading this page with nbviewer.org.</b></div><div class=\"sk-container\" hidden><div class=\"sk-item\"><div class=\"sk-estimator sk-toggleable\"><input class=\"sk-toggleable__control sk-hidden--visually\" id=\"sk-estimator-id-1\" type=\"checkbox\" checked><label for=\"sk-estimator-id-1\" class=\"sk-toggleable__label sk-toggleable__label-arrow\">KMeans</label><div class=\"sk-toggleable__content\"><pre>KMeans(n_clusters=3)</pre></div></div></div></div></div>"
            ]
          },
          "metadata": {},
          "execution_count": 11
        }
      ]
    },
    {
      "cell_type": "code",
      "source": [
        "cluster = kmeans.predict(data)\n",
        "cluster"
      ],
      "metadata": {
        "colab": {
          "base_uri": "https://localhost:8080/"
        },
        "id": "z8mcW551uv5g",
        "outputId": "16803932-7ec1-4fa0-eb7b-e46789db18cc"
      },
      "execution_count": null,
      "outputs": [
        {
          "output_type": "execute_result",
          "data": {
            "text/plain": [
              "array([0, 0, 0, 0, 0, 0, 0, 0, 0, 0, 0, 0, 0, 0, 0, 0, 0, 0, 0, 0, 0, 0,\n",
              "       0, 0, 0, 0, 0, 0, 0, 0, 0, 0, 0, 0, 0, 0, 0, 0, 0, 0, 0, 0, 0, 0,\n",
              "       0, 0, 0, 0, 0, 0, 0, 0, 0, 0, 0, 0, 0, 0, 0, 2, 2, 1, 2, 2, 2, 2,\n",
              "       0, 2, 2, 2, 2, 0, 2, 0, 0, 2, 2, 2, 2, 2, 2, 2, 2, 1, 2, 2, 2, 2,\n",
              "       2, 2, 2, 2, 2, 2, 2, 0, 2, 2, 0, 2, 2, 2, 2, 2, 2, 2, 2, 2, 2, 2,\n",
              "       2, 2, 2, 2, 2, 2, 2, 2, 1, 2, 2, 2, 2, 2, 2, 2, 2, 2, 2, 2, 1, 1,\n",
              "       1, 1, 1, 1, 1, 1, 1, 1, 1, 1, 1, 1, 1, 1, 1, 1, 1, 1, 1, 1, 1, 1,\n",
              "       1, 1, 1, 1, 1, 1, 1, 1, 1, 1, 1, 1, 1, 1, 1, 1, 1, 1, 1, 1, 1, 1,\n",
              "       1, 1], dtype=int32)"
            ]
          },
          "metadata": {},
          "execution_count": 12
        }
      ]
    },
    {
      "cell_type": "code",
      "source": [
        "plt.scatter(data[:,0],data[:,1],c = cluster, linewidth = 1 , edgecolor = 'black')"
      ],
      "metadata": {
        "colab": {
          "base_uri": "https://localhost:8080/",
          "height": 448
        },
        "id": "9-t5aT_Luv3P",
        "outputId": "167f8d57-e0fb-4313-9903-10cac56aae00"
      },
      "execution_count": null,
      "outputs": [
        {
          "output_type": "execute_result",
          "data": {
            "text/plain": [
              "<matplotlib.collections.PathCollection at 0x7efdcb74ebf0>"
            ]
          },
          "metadata": {},
          "execution_count": 16
        },
        {
          "output_type": "display_data",
          "data": {
            "text/plain": [
              "<Figure size 640x480 with 1 Axes>"
            ],
            "image/png": "[encoded data removed]"
          },
          "metadata": {}
        }
      ]
    },
    {
      "cell_type": "code",
      "source": [
        "from scipy.cluster.hierarchy import single\n",
        "# Hierarchical Clustering\n",
        "from sklearn.cluster import AgglomerativeClustering\n",
        "single_clustering = AgglomerativeClustering(linkage='single')\n",
        "\n",
        "single_clustering.fit(data)\n",
        "single_cluster = single_clustering.labels_"
      ],
      "metadata": {
        "id": "OCeL_AgMuvzv"
      },
      "execution_count": null,
      "outputs": []
    },
    {
      "cell_type": "code",
      "source": [
        "# scatter plot\n",
        "plt.scatter(data[:,0],data[:,1])"
      ],
      "metadata": {
        "colab": {
          "base_uri": "https://localhost:8080/",
          "height": 448
        },
        "id": "a0CH3yZpuvwG",
        "outputId": "f681afe4-1e4b-4348-a432-3a7e1cbcc9dd"
      },
      "execution_count": null,
      "outputs": [
        {
          "output_type": "execute_result",
          "data": {
            "text/plain": [
              "<matplotlib.collections.PathCollection at 0x7efdcbb7fe80>"
            ]
          },
          "metadata": {},
          "execution_count": 18
        },
        {
          "output_type": "display_data",
          "data": {
            "text/plain": [
              "<Figure size 640x480 with 1 Axes>"
            ],
            "image/png": "[encoded data removed]"
          },
          "metadata": {}
        }
      ]
    },
    {
      "cell_type": "code",
      "source": [
        "complete_clustering = AgglomerativeClustering(n_clusters=3 ,linkage='complete')\n",
        "complete_clustering.fit(data)\n",
        "complete_cluster = complete_clustering.labels_\n",
        "complete_cluster"
      ],
      "metadata": {
        "colab": {
          "base_uri": "https://localhost:8080/"
        },
        "id": "Gp033-ob35t2",
        "outputId": "284da788-b9dd-4dd3-9806-5233de8643bf"
      },
      "execution_count": null,
      "outputs": [
        {
          "output_type": "execute_result",
          "data": {
            "text/plain": [
              "array([1, 0, 1, 1, 0, 1, 1, 1, 1, 1, 1, 1, 1, 1, 1, 1, 1, 1, 1, 1, 1, 0,\n",
              "       0, 0, 0, 0, 1, 0, 1, 1, 1, 1, 0, 1, 0, 0, 0, 0, 0, 1, 1, 0, 1, 0,\n",
              "       0, 1, 1, 1, 1, 1, 1, 1, 1, 1, 1, 1, 1, 1, 1, 0, 0, 0, 0, 0, 0, 0,\n",
              "       0, 0, 0, 0, 0, 0, 0, 0, 0, 0, 0, 0, 0, 0, 0, 0, 0, 2, 0, 0, 0, 0,\n",
              "       0, 0, 0, 0, 0, 0, 0, 0, 0, 0, 0, 0, 0, 0, 0, 0, 0, 0, 0, 0, 0, 0,\n",
              "       0, 0, 0, 0, 0, 0, 0, 0, 0, 0, 0, 0, 0, 0, 0, 0, 0, 0, 0, 0, 0, 2,\n",
              "       2, 2, 2, 2, 2, 2, 2, 2, 2, 2, 2, 2, 2, 2, 2, 2, 2, 2, 2, 2, 2, 2,\n",
              "       2, 2, 2, 2, 2, 2, 2, 2, 2, 2, 2, 2, 2, 2, 2, 2, 2, 2, 2, 2, 2, 2,\n",
              "       2, 2])"
            ]
          },
          "metadata": {},
          "execution_count": 19
        }
      ]
    },
    {
      "cell_type": "code",
      "source": [
        "plt.scatter(data[:,0], data[:,1], c=complete_cluster)"
      ],
      "metadata": {
        "colab": {
          "base_uri": "https://localhost:8080/",
          "height": 448
        },
        "id": "8LvUm_bh9d6h",
        "outputId": "fd774203-b9df-43c7-9393-fca242bb44f3"
      },
      "execution_count": null,
      "outputs": [
        {
          "output_type": "execute_result",
          "data": {
            "text/plain": [
              "<matplotlib.collections.PathCollection at 0x7efdc99f1d50>"
            ]
          },
          "metadata": {},
          "execution_count": 20
        },
        {
          "output_type": "display_data",
          "data": {
            "text/plain": [
              "<Figure size 640x480 with 1 Axes>"
            ],
            "image/png": "[encoded data removed]"
          },
          "metadata": {}
        }
      ]
    },
    {
      "cell_type": "code",
      "source": [
        "# 덴드로그램 (dendrogram)\n",
        "from scipy.cluster.hierarchy import dendrogram\n",
        "\n",
        "# Hierarchical Cluter의 자식 노드 \n",
        "children = complete_clustering.children_\n",
        "\n",
        "distance = np.arange(children.shape[0])\n",
        "\n",
        "# 각 클러스터 단계를 포함한 노드의 수 계산\n",
        "\n",
        "no_of_observations = np.arange(2, children.shape[0]+2)\n",
        "\n",
        "linkage_matrix = np.column_stack([children, distance, no_of_observations]).astype(float) \n",
        "\n",
        "# 덴드로그램 그린다\n",
        "dendrogram(linkage_matrix, p = len(data), labels = complete_cluster, show_contracted = True , no_labels = True)"
      ],
      "metadata": {
        "colab": {
          "base_uri": "https://localhost:8080/",
          "height": 1000
        },
        "id": "oVj01nT935qY",
        "outputId": "23bd8957-f6ef-43e7-d6e0-e0ee0c5e9961"
      },
      "execution_count": null,
      "outputs": [
        {
          "output_type": "execute_result",
          "data": {
            "text/plain": [
              "{'icoord': [[15.0, 15.0, 25.0, 25.0],\n",
              "  [5.0, 5.0, 20.0, 20.0],\n",
              "  [35.0, 35.0, 45.0, 45.0],\n",
              "  [55.0, 55.0, 65.0, 65.0],\n",
              "  [40.0, 40.0, 60.0, 60.0],\n",
              "  [85.0, 85.0, 95.0, 95.0],\n",
              "  [75.0, 75.0, 90.0, 90.0],\n",
              "  [50.0, 50.0, 82.5, 82.5],\n",
              "  [105.0, 105.0, 115.0, 115.0],\n",
              "  [125.0, 125.0, 135.0, 135.0],\n",
              "  [110.0, 110.0, 130.0, 130.0],\n",
              "  [155.0, 155.0, 165.0, 165.0],\n",
              "  [145.0, 145.0, 160.0, 160.0],\n",
              "  [175.0, 175.0, 185.0, 185.0],\n",
              "  [152.5, 152.5, 180.0, 180.0],\n",
              "  [120.0, 120.0, 166.25, 166.25],\n",
              "  [205.0, 205.0, 215.0, 215.0],\n",
              "  [225.0, 225.0, 235.0, 235.0],\n",
              "  [210.0, 210.0, 230.0, 230.0],\n",
              "  [195.0, 195.0, 220.0, 220.0],\n",
              "  [143.125, 143.125, 207.5, 207.5],\n",
              "  [245.0, 245.0, 255.0, 255.0],\n",
              "  [275.0, 275.0, 285.0, 285.0],\n",
              "  [265.0, 265.0, 280.0, 280.0],\n",
              "  [295.0, 295.0, 305.0, 305.0],\n",
              "  [272.5, 272.5, 300.0, 300.0],\n",
              "  [250.0, 250.0, 286.25, 286.25],\n",
              "  [325.0, 325.0, 335.0, 335.0],\n",
              "  [315.0, 315.0, 330.0, 330.0],\n",
              "  [355.0, 355.0, 365.0, 365.0],\n",
              "  [345.0, 345.0, 360.0, 360.0],\n",
              "  [322.5, 322.5, 352.5, 352.5],\n",
              "  [375.0, 375.0, 385.0, 385.0],\n",
              "  [405.0, 405.0, 415.0, 415.0],\n",
              "  [395.0, 395.0, 410.0, 410.0],\n",
              "  [380.0, 380.0, 402.5, 402.5],\n",
              "  [337.5, 337.5, 391.25, 391.25],\n",
              "  [268.125, 268.125, 364.375, 364.375],\n",
              "  [175.3125, 175.3125, 316.25, 316.25],\n",
              "  [66.25, 66.25, 245.78125, 245.78125],\n",
              "  [12.5, 12.5, 156.015625, 156.015625],\n",
              "  [455.0, 455.0, 465.0, 465.0],\n",
              "  [445.0, 445.0, 460.0, 460.0],\n",
              "  [435.0, 435.0, 452.5, 452.5],\n",
              "  [425.0, 425.0, 443.75, 443.75],\n",
              "  [485.0, 485.0, 495.0, 495.0],\n",
              "  [515.0, 515.0, 525.0, 525.0],\n",
              "  [505.0, 505.0, 520.0, 520.0],\n",
              "  [490.0, 490.0, 512.5, 512.5],\n",
              "  [475.0, 475.0, 501.25, 501.25],\n",
              "  [535.0, 535.0, 545.0, 545.0],\n",
              "  [565.0, 565.0, 575.0, 575.0],\n",
              "  [555.0, 555.0, 570.0, 570.0],\n",
              "  [540.0, 540.0, 562.5, 562.5],\n",
              "  [605.0, 605.0, 615.0, 615.0],\n",
              "  [595.0, 595.0, 610.0, 610.0],\n",
              "  [585.0, 585.0, 602.5, 602.5],\n",
              "  [551.25, 551.25, 593.75, 593.75],\n",
              "  [488.125, 488.125, 572.5, 572.5],\n",
              "  [645.0, 645.0, 655.0, 655.0],\n",
              "  [635.0, 635.0, 650.0, 650.0],\n",
              "  [625.0, 625.0, 642.5, 642.5],\n",
              "  [675.0, 675.0, 685.0, 685.0],\n",
              "  [665.0, 665.0, 680.0, 680.0],\n",
              "  [633.75, 633.75, 672.5, 672.5],\n",
              "  [705.0, 705.0, 715.0, 715.0],\n",
              "  [695.0, 695.0, 710.0, 710.0],\n",
              "  [725.0, 725.0, 735.0, 735.0],\n",
              "  [755.0, 755.0, 765.0, 765.0],\n",
              "  [745.0, 745.0, 760.0, 760.0],\n",
              "  [730.0, 730.0, 752.5, 752.5],\n",
              "  [702.5, 702.5, 741.25, 741.25],\n",
              "  [785.0, 785.0, 795.0, 795.0],\n",
              "  [775.0, 775.0, 790.0, 790.0],\n",
              "  [825.0, 825.0, 835.0, 835.0],\n",
              "  [815.0, 815.0, 830.0, 830.0],\n",
              "  [805.0, 805.0, 822.5, 822.5],\n",
              "  [782.5, 782.5, 813.75, 813.75],\n",
              "  [865.0, 865.0, 875.0, 875.0],\n",
              "  [855.0, 855.0, 870.0, 870.0],\n",
              "  [885.0, 885.0, 895.0, 895.0],\n",
              "  [862.5, 862.5, 890.0, 890.0],\n",
              "  [845.0, 845.0, 876.25, 876.25],\n",
              "  [798.125, 798.125, 860.625, 860.625],\n",
              "  [721.875, 721.875, 829.375, 829.375],\n",
              "  [653.125, 653.125, 775.625, 775.625],\n",
              "  [530.3125, 530.3125, 714.375, 714.375],\n",
              "  [434.375, 434.375, 622.34375, 622.34375],\n",
              "  [905.0, 905.0, 915.0, 915.0],\n",
              "  [935.0, 935.0, 945.0, 945.0],\n",
              "  [925.0, 925.0, 940.0, 940.0],\n",
              "  [965.0, 965.0, 975.0, 975.0],\n",
              "  [955.0, 955.0, 970.0, 970.0],\n",
              "  [932.5, 932.5, 962.5, 962.5],\n",
              "  [910.0, 910.0, 947.5, 947.5],\n",
              "  [985.0, 985.0, 995.0, 995.0],\n",
              "  [1015.0, 1015.0, 1025.0, 1025.0],\n",
              "  [1005.0, 1005.0, 1020.0, 1020.0],\n",
              "  [1035.0, 1035.0, 1045.0, 1045.0],\n",
              "  [1012.5, 1012.5, 1040.0, 1040.0],\n",
              "  [990.0, 990.0, 1026.25, 1026.25],\n",
              "  [1055.0, 1055.0, 1065.0, 1065.0],\n",
              "  [1075.0, 1075.0, 1085.0, 1085.0],\n",
              "  [1060.0, 1060.0, 1080.0, 1080.0],\n",
              "  [1105.0, 1105.0, 1115.0, 1115.0],\n",
              "  [1095.0, 1095.0, 1110.0, 1110.0],\n",
              "  [1135.0, 1135.0, 1145.0, 1145.0],\n",
              "  [1125.0, 1125.0, 1140.0, 1140.0],\n",
              "  [1102.5, 1102.5, 1132.5, 1132.5],\n",
              "  [1175.0, 1175.0, 1185.0, 1185.0],\n",
              "  [1165.0, 1165.0, 1180.0, 1180.0],\n",
              "  [1155.0, 1155.0, 1172.5, 1172.5],\n",
              "  [1117.5, 1117.5, 1163.75, 1163.75],\n",
              "  [1070.0, 1070.0, 1140.625, 1140.625],\n",
              "  [1008.125, 1008.125, 1105.3125, 1105.3125],\n",
              "  [1215.0, 1215.0, 1225.0, 1225.0],\n",
              "  [1205.0, 1205.0, 1220.0, 1220.0],\n",
              "  [1195.0, 1195.0, 1212.5, 1212.5],\n",
              "  [1255.0, 1255.0, 1265.0, 1265.0],\n",
              "  [1245.0, 1245.0, 1260.0, 1260.0],\n",
              "  [1235.0, 1235.0, 1252.5, 1252.5],\n",
              "  [1285.0, 1285.0, 1295.0, 1295.0],\n",
              "  [1275.0, 1275.0, 1290.0, 1290.0],\n",
              "  [1243.75, 1243.75, 1282.5, 1282.5],\n",
              "  [1203.75, 1203.75, 1263.125, 1263.125],\n",
              "  [1305.0, 1305.0, 1315.0, 1315.0],\n",
              "  [1325.0, 1325.0, 1335.0, 1335.0],\n",
              "  [1365.0, 1365.0, 1375.0, 1375.0],\n",
              "  [1355.0, 1355.0, 1370.0, 1370.0],\n",
              "  [1345.0, 1345.0, 1362.5, 1362.5],\n",
              "  [1330.0, 1330.0, 1353.75, 1353.75],\n",
              "  [1310.0, 1310.0, 1341.875, 1341.875],\n",
              "  [1233.4375, 1233.4375, 1325.9375, 1325.9375],\n",
              "  [1056.71875, 1056.71875, 1279.6875, 1279.6875],\n",
              "  [928.75, 928.75, 1168.203125, 1168.203125],\n",
              "  [1385.0, 1385.0, 1395.0, 1395.0],\n",
              "  [1405.0, 1405.0, 1415.0, 1415.0],\n",
              "  [1445.0, 1445.0, 1455.0, 1455.0],\n",
              "  [1435.0, 1435.0, 1450.0, 1450.0],\n",
              "  [1425.0, 1425.0, 1442.5, 1442.5],\n",
              "  [1410.0, 1410.0, 1433.75, 1433.75],\n",
              "  [1475.0, 1475.0, 1485.0, 1485.0],\n",
              "  [1465.0, 1465.0, 1480.0, 1480.0],\n",
              "  [1421.875, 1421.875, 1472.5, 1472.5],\n",
              "  [1390.0, 1390.0, 1447.1875, 1447.1875],\n",
              "  [1495.0, 1495.0, 1505.0, 1505.0],\n",
              "  [1515.0, 1515.0, 1525.0, 1525.0],\n",
              "  [1535.0, 1535.0, 1545.0, 1545.0],\n",
              "  [1520.0, 1520.0, 1540.0, 1540.0],\n",
              "  [1565.0, 1565.0, 1575.0, 1575.0],\n",
              "  [1555.0, 1555.0, 1570.0, 1570.0],\n",
              "  [1530.0, 1530.0, 1562.5, 1562.5],\n",
              "  [1595.0, 1595.0, 1605.0, 1605.0],\n",
              "  [1585.0, 1585.0, 1600.0, 1600.0],\n",
              "  [1615.0, 1615.0, 1625.0, 1625.0],\n",
              "  [1645.0, 1645.0, 1655.0, 1655.0],\n",
              "  [1635.0, 1635.0, 1650.0, 1650.0],\n",
              "  [1620.0, 1620.0, 1642.5, 1642.5],\n",
              "  [1592.5, 1592.5, 1631.25, 1631.25],\n",
              "  [1546.25, 1546.25, 1611.875, 1611.875],\n",
              "  [1675.0, 1675.0, 1685.0, 1685.0],\n",
              "  [1665.0, 1665.0, 1680.0, 1680.0],\n",
              "  [1715.0, 1715.0, 1725.0, 1725.0],\n",
              "  [1705.0, 1705.0, 1720.0, 1720.0],\n",
              "  [1695.0, 1695.0, 1712.5, 1712.5],\n",
              "  [1745.0, 1745.0, 1755.0, 1755.0],\n",
              "  [1765.0, 1765.0, 1775.0, 1775.0],\n",
              "  [1750.0, 1750.0, 1770.0, 1770.0],\n",
              "  [1735.0, 1735.0, 1760.0, 1760.0],\n",
              "  [1703.75, 1703.75, 1747.5, 1747.5],\n",
              "  [1672.5, 1672.5, 1725.625, 1725.625],\n",
              "  [1579.0625, 1579.0625, 1699.0625, 1699.0625],\n",
              "  [1500.0, 1500.0, 1639.0625, 1639.0625],\n",
              "  [1418.59375, 1418.59375, 1569.53125, 1569.53125],\n",
              "  [1048.4765625, 1048.4765625, 1494.0625, 1494.0625],\n",
              "  [528.359375, 528.359375, 1271.26953125, 1271.26953125],\n",
              "  [84.2578125, 84.2578125, 899.814453125, 899.814453125]],\n",
              " 'dcoord': [[0.0, 54.0, 54.0, 0.0],\n",
              "  [0.0, 119.0, 119.0, 54.0],\n",
              "  [0.0, 41.0, 41.0, 0.0],\n",
              "  [0.0, 51.0, 51.0, 0.0],\n",
              "  [41.0, 103.0, 103.0, 51.0],\n",
              "  [0.0, 94.0, 94.0, 0.0],\n",
              "  [0.0, 132.0, 132.0, 94.0],\n",
              "  [103.0, 146.0, 146.0, 132.0],\n",
              "  [0.0, 21.0, 21.0, 0.0],\n",
              "  [0.0, 43.0, 43.0, 0.0],\n",
              "  [21.0, 69.0, 69.0, 43.0],\n",
              "  [0.0, 9.0, 9.0, 0.0],\n",
              "  [0.0, 47.0, 47.0, 9.0],\n",
              "  [0.0, 61.0, 61.0, 0.0],\n",
              "  [47.0, 110.0, 110.0, 61.0],\n",
              "  [69.0, 124.0, 124.0, 110.0],\n",
              "  [0.0, 1.0, 1.0, 0.0],\n",
              "  [0.0, 57.0, 57.0, 0.0],\n",
              "  [1.0, 107.0, 107.0, 57.0],\n",
              "  [0.0, 140.0, 140.0, 107.0],\n",
              "  [124.0, 154.0, 154.0, 140.0],\n",
              "  [0.0, 12.0, 12.0, 0.0],\n",
              "  [0.0, 0.0, 0.0, 0.0],\n",
              "  [0.0, 17.0, 17.0, 0.0],\n",
              "  [0.0, 44.0, 44.0, 0.0],\n",
              "  [17.0, 99.0, 99.0, 44.0],\n",
              "  [12.0, 122.0, 122.0, 99.0],\n",
              "  [0.0, 24.0, 24.0, 0.0],\n",
              "  [0.0, 45.0, 45.0, 24.0],\n",
              "  [0.0, 7.0, 7.0, 0.0],\n",
              "  [0.0, 84.0, 84.0, 7.0],\n",
              "  [45.0, 104.0, 104.0, 84.0],\n",
              "  [0.0, 58.0, 58.0, 0.0],\n",
              "  [0.0, 30.0, 30.0, 0.0],\n",
              "  [0.0, 85.0, 85.0, 30.0],\n",
              "  [58.0, 111.0, 111.0, 85.0],\n",
              "  [104.0, 135.0, 135.0, 111.0],\n",
              "  [122.0, 156.0, 156.0, 135.0],\n",
              "  [154.0, 163.0, 163.0, 156.0],\n",
              "  [146.0, 164.0, 164.0, 163.0],\n",
              "  [119.0, 168.0, 168.0, 164.0],\n",
              "  [0.0, 62.0, 62.0, 0.0],\n",
              "  [0.0, 72.0, 72.0, 62.0],\n",
              "  [0.0, 130.0, 130.0, 72.0],\n",
              "  [0.0, 159.0, 159.0, 130.0],\n",
              "  [0.0, 75.0, 75.0, 0.0],\n",
              "  [0.0, 34.0, 34.0, 0.0],\n",
              "  [0.0, 86.0, 86.0, 34.0],\n",
              "  [75.0, 126.0, 126.0, 86.0],\n",
              "  [0.0, 133.0, 133.0, 126.0],\n",
              "  [0.0, 38.0, 38.0, 0.0],\n",
              "  [0.0, 28.0, 28.0, 0.0],\n",
              "  [0.0, 77.0, 77.0, 28.0],\n",
              "  [38.0, 101.0, 101.0, 77.0],\n",
              "  [0.0, 27.0, 27.0, 0.0],\n",
              "  [0.0, 65.0, 65.0, 27.0],\n",
              "  [0.0, 121.0, 121.0, 65.0],\n",
              "  [101.0, 153.0, 153.0, 121.0],\n",
              "  [133.0, 155.0, 155.0, 153.0],\n",
              "  [0.0, 48.0, 48.0, 0.0],\n",
              "  [0.0, 73.0, 73.0, 48.0],\n",
              "  [0.0, 95.0, 95.0, 73.0],\n",
              "  [0.0, 42.0, 42.0, 0.0],\n",
              "  [0.0, 137.0, 137.0, 42.0],\n",
              "  [95.0, 152.0, 152.0, 137.0],\n",
              "  [0.0, 18.0, 18.0, 0.0],\n",
              "  [0.0, 79.0, 79.0, 18.0],\n",
              "  [0.0, 63.0, 63.0, 0.0],\n",
              "  [0.0, 46.0, 46.0, 0.0],\n",
              "  [0.0, 112.0, 112.0, 46.0],\n",
              "  [63.0, 131.0, 131.0, 112.0],\n",
              "  [79.0, 138.0, 138.0, 131.0],\n",
              "  [0.0, 8.0, 8.0, 0.0],\n",
              "  [0.0, 56.0, 56.0, 8.0],\n",
              "  [0.0, 5.0, 5.0, 0.0],\n",
              "  [0.0, 13.0, 13.0, 5.0],\n",
              "  [0.0, 68.0, 68.0, 13.0],\n",
              "  [56.0, 116.0, 116.0, 68.0],\n",
              "  [0.0, 3.0, 3.0, 0.0],\n",
              "  [0.0, 59.0, 59.0, 3.0],\n",
              "  [0.0, 92.0, 92.0, 0.0],\n",
              "  [59.0, 113.0, 113.0, 92.0],\n",
              "  [0.0, 144.0, 144.0, 113.0],\n",
              "  [116.0, 148.0, 148.0, 144.0],\n",
              "  [138.0, 160.0, 160.0, 148.0],\n",
              "  [152.0, 166.0, 166.0, 160.0],\n",
              "  [155.0, 170.0, 170.0, 166.0],\n",
              "  [159.0, 172.0, 172.0, 170.0],\n",
              "  [0.0, 98.0, 98.0, 0.0],\n",
              "  [0.0, 14.0, 14.0, 0.0],\n",
              "  [0.0, 36.0, 36.0, 14.0],\n",
              "  [0.0, 40.0, 40.0, 0.0],\n",
              "  [0.0, 78.0, 78.0, 40.0],\n",
              "  [36.0, 128.0, 128.0, 78.0],\n",
              "  [98.0, 145.0, 145.0, 128.0],\n",
              "  [0.0, 105.0, 105.0, 0.0],\n",
              "  [0.0, 10.0, 10.0, 0.0],\n",
              "  [0.0, 60.0, 60.0, 10.0],\n",
              "  [0.0, 71.0, 71.0, 0.0],\n",
              "  [60.0, 123.0, 123.0, 71.0],\n",
              "  [105.0, 142.0, 142.0, 123.0],\n",
              "  [0.0, 35.0, 35.0, 0.0],\n",
              "  [0.0, 91.0, 91.0, 0.0],\n",
              "  [35.0, 109.0, 109.0, 91.0],\n",
              "  [0.0, 26.0, 26.0, 0.0],\n",
              "  [0.0, 49.0, 49.0, 26.0],\n",
              "  [0.0, 6.0, 6.0, 0.0],\n",
              "  [0.0, 74.0, 74.0, 6.0],\n",
              "  [49.0, 83.0, 83.0, 74.0],\n",
              "  [0.0, 33.0, 33.0, 0.0],\n",
              "  [0.0, 66.0, 66.0, 33.0],\n",
              "  [0.0, 108.0, 108.0, 66.0],\n",
              "  [83.0, 117.0, 117.0, 108.0],\n",
              "  [109.0, 150.0, 150.0, 117.0],\n",
              "  [142.0, 162.0, 162.0, 150.0],\n",
              "  [0.0, 32.0, 32.0, 0.0],\n",
              "  [0.0, 100.0, 100.0, 32.0],\n",
              "  [0.0, 115.0, 115.0, 100.0],\n",
              "  [0.0, 16.0, 16.0, 0.0],\n",
              "  [0.0, 50.0, 50.0, 16.0],\n",
              "  [0.0, 87.0, 87.0, 50.0],\n",
              "  [0.0, 67.0, 67.0, 0.0],\n",
              "  [0.0, 106.0, 106.0, 67.0],\n",
              "  [87.0, 141.0, 141.0, 106.0],\n",
              "  [115.0, 147.0, 147.0, 141.0],\n",
              "  [0.0, 88.0, 88.0, 0.0],\n",
              "  [0.0, 4.0, 4.0, 0.0],\n",
              "  [0.0, 19.0, 19.0, 0.0],\n",
              "  [0.0, 29.0, 29.0, 19.0],\n",
              "  [0.0, 93.0, 93.0, 29.0],\n",
              "  [4.0, 134.0, 134.0, 93.0],\n",
              "  [88.0, 149.0, 149.0, 134.0],\n",
              "  [147.0, 165.0, 165.0, 149.0],\n",
              "  [162.0, 169.0, 169.0, 165.0],\n",
              "  [145.0, 171.0, 171.0, 169.0],\n",
              "  [0.0, 118.0, 118.0, 0.0],\n",
              "  [0.0, 64.0, 64.0, 0.0],\n",
              "  [0.0, 22.0, 22.0, 0.0],\n",
              "  [0.0, 52.0, 52.0, 22.0],\n",
              "  [0.0, 102.0, 102.0, 52.0],\n",
              "  [64.0, 120.0, 120.0, 102.0],\n",
              "  [0.0, 96.0, 96.0, 0.0],\n",
              "  [0.0, 127.0, 127.0, 96.0],\n",
              "  [120.0, 151.0, 151.0, 127.0],\n",
              "  [118.0, 158.0, 158.0, 151.0],\n",
              "  [0.0, 136.0, 136.0, 0.0],\n",
              "  [0.0, 20.0, 20.0, 0.0],\n",
              "  [0.0, 39.0, 39.0, 0.0],\n",
              "  [20.0, 80.0, 80.0, 39.0],\n",
              "  [0.0, 37.0, 37.0, 0.0],\n",
              "  [0.0, 81.0, 81.0, 37.0],\n",
              "  [80.0, 114.0, 114.0, 81.0],\n",
              "  [0.0, 53.0, 53.0, 0.0],\n",
              "  [0.0, 89.0, 89.0, 53.0],\n",
              "  [0.0, 31.0, 31.0, 0.0],\n",
              "  [0.0, 23.0, 23.0, 0.0],\n",
              "  [0.0, 90.0, 90.0, 23.0],\n",
              "  [31.0, 97.0, 97.0, 90.0],\n",
              "  [89.0, 139.0, 139.0, 97.0],\n",
              "  [114.0, 143.0, 143.0, 139.0],\n",
              "  [0.0, 82.0, 82.0, 0.0],\n",
              "  [0.0, 125.0, 125.0, 82.0],\n",
              "  [0.0, 2.0, 2.0, 0.0],\n",
              "  [0.0, 15.0, 15.0, 2.0],\n",
              "  [0.0, 55.0, 55.0, 15.0],\n",
              "  [0.0, 11.0, 11.0, 0.0],\n",
              "  [0.0, 25.0, 25.0, 0.0],\n",
              "  [11.0, 70.0, 70.0, 25.0],\n",
              "  [0.0, 76.0, 76.0, 70.0],\n",
              "  [55.0, 129.0, 129.0, 76.0],\n",
              "  [125.0, 157.0, 157.0, 129.0],\n",
              "  [143.0, 161.0, 161.0, 157.0],\n",
              "  [136.0, 167.0, 167.0, 161.0],\n",
              "  [158.0, 173.0, 173.0, 167.0],\n",
              "  [171.0, 174.0, 174.0, 173.0],\n",
              "  [172.0, 175.0, 175.0, 174.0],\n",
              "  [168.0, 176.0, 176.0, 175.0]],\n",
              " 'ivl': [1,\n",
              "  1,\n",
              "  1,\n",
              "  1,\n",
              "  1,\n",
              "  1,\n",
              "  1,\n",
              "  1,\n",
              "  1,\n",
              "  1,\n",
              "  1,\n",
              "  1,\n",
              "  1,\n",
              "  1,\n",
              "  1,\n",
              "  1,\n",
              "  1,\n",
              "  1,\n",
              "  1,\n",
              "  1,\n",
              "  1,\n",
              "  1,\n",
              "  1,\n",
              "  1,\n",
              "  1,\n",
              "  1,\n",
              "  1,\n",
              "  1,\n",
              "  1,\n",
              "  1,\n",
              "  1,\n",
              "  1,\n",
              "  1,\n",
              "  1,\n",
              "  1,\n",
              "  1,\n",
              "  1,\n",
              "  1,\n",
              "  1,\n",
              "  1,\n",
              "  1,\n",
              "  1,\n",
              "  2,\n",
              "  2,\n",
              "  2,\n",
              "  2,\n",
              "  2,\n",
              "  2,\n",
              "  2,\n",
              "  2,\n",
              "  2,\n",
              "  2,\n",
              "  2,\n",
              "  2,\n",
              "  2,\n",
              "  2,\n",
              "  2,\n",
              "  2,\n",
              "  2,\n",
              "  2,\n",
              "  2,\n",
              "  2,\n",
              "  2,\n",
              "  2,\n",
              "  2,\n",
              "  2,\n",
              "  2,\n",
              "  2,\n",
              "  2,\n",
              "  2,\n",
              "  2,\n",
              "  2,\n",
              "  2,\n",
              "  2,\n",
              "  2,\n",
              "  2,\n",
              "  2,\n",
              "  2,\n",
              "  2,\n",
              "  2,\n",
              "  2,\n",
              "  2,\n",
              "  2,\n",
              "  2,\n",
              "  2,\n",
              "  2,\n",
              "  2,\n",
              "  2,\n",
              "  2,\n",
              "  2,\n",
              "  0,\n",
              "  0,\n",
              "  0,\n",
              "  0,\n",
              "  0,\n",
              "  0,\n",
              "  0,\n",
              "  0,\n",
              "  0,\n",
              "  0,\n",
              "  0,\n",
              "  0,\n",
              "  0,\n",
              "  0,\n",
              "  0,\n",
              "  0,\n",
              "  0,\n",
              "  0,\n",
              "  0,\n",
              "  0,\n",
              "  0,\n",
              "  0,\n",
              "  0,\n",
              "  0,\n",
              "  0,\n",
              "  0,\n",
              "  0,\n",
              "  0,\n",
              "  0,\n",
              "  0,\n",
              "  0,\n",
              "  0,\n",
              "  0,\n",
              "  0,\n",
              "  0,\n",
              "  0,\n",
              "  0,\n",
              "  0,\n",
              "  0,\n",
              "  0,\n",
              "  0,\n",
              "  0,\n",
              "  0,\n",
              "  0,\n",
              "  0,\n",
              "  0,\n",
              "  0,\n",
              "  0,\n",
              "  0,\n",
              "  0,\n",
              "  0,\n",
              "  0,\n",
              "  0,\n",
              "  0,\n",
              "  0,\n",
              "  0,\n",
              "  0,\n",
              "  0,\n",
              "  0,\n",
              "  0,\n",
              "  0,\n",
              "  0,\n",
              "  0,\n",
              "  0,\n",
              "  0,\n",
              "  0,\n",
              "  0,\n",
              "  0,\n",
              "  0,\n",
              "  0,\n",
              "  0,\n",
              "  0,\n",
              "  0,\n",
              "  0,\n",
              "  0,\n",
              "  0,\n",
              "  0,\n",
              "  0,\n",
              "  0,\n",
              "  0,\n",
              "  0,\n",
              "  0,\n",
              "  0,\n",
              "  0,\n",
              "  0,\n",
              "  0,\n",
              "  0,\n",
              "  0],\n",
              " 'leaves': [18,\n",
              "  3,\n",
              "  14,\n",
              "  17,\n",
              "  48,\n",
              "  11,\n",
              "  33,\n",
              "  45,\n",
              "  16,\n",
              "  53,\n",
              "  8,\n",
              "  39,\n",
              "  7,\n",
              "  15,\n",
              "  6,\n",
              "  46,\n",
              "  56,\n",
              "  31,\n",
              "  49,\n",
              "  5,\n",
              "  10,\n",
              "  52,\n",
              "  13,\n",
              "  58,\n",
              "  0,\n",
              "  42,\n",
              "  9,\n",
              "  47,\n",
              "  51,\n",
              "  20,\n",
              "  50,\n",
              "  54,\n",
              "  12,\n",
              "  57,\n",
              "  2,\n",
              "  30,\n",
              "  55,\n",
              "  19,\n",
              "  26,\n",
              "  28,\n",
              "  29,\n",
              "  40,\n",
              "  158,\n",
              "  159,\n",
              "  168,\n",
              "  150,\n",
              "  169,\n",
              "  155,\n",
              "  173,\n",
              "  177,\n",
              "  153,\n",
              "  149,\n",
              "  156,\n",
              "  151,\n",
              "  174,\n",
              "  167,\n",
              "  148,\n",
              "  164,\n",
              "  175,\n",
              "  176,\n",
              "  166,\n",
              "  172,\n",
              "  171,\n",
              "  157,\n",
              "  147,\n",
              "  165,\n",
              "  146,\n",
              "  136,\n",
              "  137,\n",
              "  143,\n",
              "  145,\n",
              "  163,\n",
              "  133,\n",
              "  141,\n",
              "  152,\n",
              "  144,\n",
              "  161,\n",
              "  135,\n",
              "  138,\n",
              "  160,\n",
              "  154,\n",
              "  162,\n",
              "  132,\n",
              "  142,\n",
              "  170,\n",
              "  134,\n",
              "  83,\n",
              "  140,\n",
              "  131,\n",
              "  139,\n",
              "  22,\n",
              "  73,\n",
              "  35,\n",
              "  1,\n",
              "  44,\n",
              "  95,\n",
              "  23,\n",
              "  24,\n",
              "  63,\n",
              "  109,\n",
              "  74,\n",
              "  66,\n",
              "  98,\n",
              "  71,\n",
              "  121,\n",
              "  81,\n",
              "  110,\n",
              "  69,\n",
              "  124,\n",
              "  85,\n",
              "  84,\n",
              "  99,\n",
              "  120,\n",
              "  100,\n",
              "  104,\n",
              "  67,\n",
              "  94,\n",
              "  93,\n",
              "  97,\n",
              "  43,\n",
              "  41,\n",
              "  4,\n",
              "  37,\n",
              "  34,\n",
              "  32,\n",
              "  27,\n",
              "  36,\n",
              "  38,\n",
              "  21,\n",
              "  25,\n",
              "  62,\n",
              "  123,\n",
              "  65,\n",
              "  78,\n",
              "  79,\n",
              "  126,\n",
              "  76,\n",
              "  102,\n",
              "  68,\n",
              "  130,\n",
              "  60,\n",
              "  92,\n",
              "  77,\n",
              "  129,\n",
              "  107,\n",
              "  112,\n",
              "  70,\n",
              "  61,\n",
              "  118,\n",
              "  80,\n",
              "  115,\n",
              "  101,\n",
              "  119,\n",
              "  106,\n",
              "  128,\n",
              "  82,\n",
              "  103,\n",
              "  113,\n",
              "  116,\n",
              "  87,\n",
              "  89,\n",
              "  108,\n",
              "  125,\n",
              "  111,\n",
              "  114,\n",
              "  117,\n",
              "  122,\n",
              "  72,\n",
              "  96,\n",
              "  127,\n",
              "  105,\n",
              "  90,\n",
              "  91,\n",
              "  88,\n",
              "  64,\n",
              "  86,\n",
              "  59,\n",
              "  75],\n",
              " 'color_list': ['C1',\n",
              "  'C1',\n",
              "  'C2',\n",
              "  'C2',\n",
              "  'C2',\n",
              "  'C3',\n",
              "  'C0',\n",
              "  'C0',\n",
              "  'C4',\n",
              "  'C4',\n",
              "  'C4',\n",
              "  'C5',\n",
              "  'C5',\n",
              "  'C5',\n",
              "  'C5',\n",
              "  'C0',\n",
              "  'C6',\n",
              "  'C6',\n",
              "  'C6',\n",
              "  'C0',\n",
              "  'C0',\n",
              "  'C7',\n",
              "  'C7',\n",
              "  'C7',\n",
              "  'C7',\n",
              "  'C7',\n",
              "  'C7',\n",
              "  'C8',\n",
              "  'C8',\n",
              "  'C8',\n",
              "  'C8',\n",
              "  'C8',\n",
              "  'C9',\n",
              "  'C9',\n",
              "  'C9',\n",
              "  'C9',\n",
              "  'C0',\n",
              "  'C0',\n",
              "  'C0',\n",
              "  'C0',\n",
              "  'C0',\n",
              "  'C1',\n",
              "  'C1',\n",
              "  'C0',\n",
              "  'C0',\n",
              "  'C2',\n",
              "  'C3',\n",
              "  'C3',\n",
              "  'C0',\n",
              "  'C0',\n",
              "  'C4',\n",
              "  'C4',\n",
              "  'C4',\n",
              "  'C4',\n",
              "  'C5',\n",
              "  'C5',\n",
              "  'C5',\n",
              "  'C0',\n",
              "  'C0',\n",
              "  'C6',\n",
              "  'C6',\n",
              "  'C6',\n",
              "  'C7',\n",
              "  'C0',\n",
              "  'C0',\n",
              "  'C8',\n",
              "  'C8',\n",
              "  'C9',\n",
              "  'C1',\n",
              "  'C1',\n",
              "  'C0',\n",
              "  'C0',\n",
              "  'C2',\n",
              "  'C2',\n",
              "  'C2',\n",
              "  'C2',\n",
              "  'C2',\n",
              "  'C2',\n",
              "  'C3',\n",
              "  'C3',\n",
              "  'C3',\n",
              "  'C3',\n",
              "  'C0',\n",
              "  'C0',\n",
              "  'C0',\n",
              "  'C0',\n",
              "  'C0',\n",
              "  'C0',\n",
              "  'C4',\n",
              "  'C5',\n",
              "  'C5',\n",
              "  'C6',\n",
              "  'C6',\n",
              "  'C0',\n",
              "  'C0',\n",
              "  'C7',\n",
              "  'C8',\n",
              "  'C8',\n",
              "  'C8',\n",
              "  'C8',\n",
              "  'C0',\n",
              "  'C9',\n",
              "  'C9',\n",
              "  'C9',\n",
              "  'C1',\n",
              "  'C1',\n",
              "  'C1',\n",
              "  'C1',\n",
              "  'C1',\n",
              "  'C1',\n",
              "  'C1',\n",
              "  'C1',\n",
              "  'C1',\n",
              "  'C0',\n",
              "  'C0',\n",
              "  'C2',\n",
              "  'C2',\n",
              "  'C2',\n",
              "  'C3',\n",
              "  'C3',\n",
              "  'C3',\n",
              "  'C4',\n",
              "  'C4',\n",
              "  'C0',\n",
              "  'C0',\n",
              "  'C5',\n",
              "  'C6',\n",
              "  'C7',\n",
              "  'C7',\n",
              "  'C7',\n",
              "  'C0',\n",
              "  'C0',\n",
              "  'C0',\n",
              "  'C0',\n",
              "  'C0',\n",
              "  'C8',\n",
              "  'C9',\n",
              "  'C9',\n",
              "  'C9',\n",
              "  'C9',\n",
              "  'C9',\n",
              "  'C1',\n",
              "  'C0',\n",
              "  'C0',\n",
              "  'C0',\n",
              "  'C0',\n",
              "  'C2',\n",
              "  'C2',\n",
              "  'C2',\n",
              "  'C2',\n",
              "  'C2',\n",
              "  'C2',\n",
              "  'C3',\n",
              "  'C3',\n",
              "  'C4',\n",
              "  'C4',\n",
              "  'C4',\n",
              "  'C4',\n",
              "  'C0',\n",
              "  'C0',\n",
              "  'C5',\n",
              "  'C0',\n",
              "  'C6',\n",
              "  'C6',\n",
              "  'C6',\n",
              "  'C7',\n",
              "  'C7',\n",
              "  'C7',\n",
              "  'C7',\n",
              "  'C0',\n",
              "  'C0',\n",
              "  'C0',\n",
              "  'C0',\n",
              "  'C0',\n",
              "  'C0',\n",
              "  'C0',\n",
              "  'C0'],\n",
              " 'leaves_color_list': ['C1',\n",
              "  'C1',\n",
              "  'C1',\n",
              "  'C2',\n",
              "  'C2',\n",
              "  'C2',\n",
              "  'C2',\n",
              "  'C0',\n",
              "  'C3',\n",
              "  'C3',\n",
              "  'C4',\n",
              "  'C4',\n",
              "  'C4',\n",
              "  'C4',\n",
              "  'C5',\n",
              "  'C5',\n",
              "  'C5',\n",
              "  'C5',\n",
              "  'C5',\n",
              "  'C0',\n",
              "  'C6',\n",
              "  'C6',\n",
              "  'C6',\n",
              "  'C6',\n",
              "  'C7',\n",
              "  'C7',\n",
              "  'C7',\n",
              "  'C7',\n",
              "  'C7',\n",
              "  'C7',\n",
              "  'C7',\n",
              "  'C8',\n",
              "  'C8',\n",
              "  'C8',\n",
              "  'C8',\n",
              "  'C8',\n",
              "  'C8',\n",
              "  'C9',\n",
              "  'C9',\n",
              "  'C9',\n",
              "  'C9',\n",
              "  'C9',\n",
              "  'C0',\n",
              "  'C0',\n",
              "  'C1',\n",
              "  'C1',\n",
              "  'C1',\n",
              "  'C0',\n",
              "  'C2',\n",
              "  'C2',\n",
              "  'C3',\n",
              "  'C3',\n",
              "  'C3',\n",
              "  'C4',\n",
              "  'C4',\n",
              "  'C4',\n",
              "  'C4',\n",
              "  'C4',\n",
              "  'C5',\n",
              "  'C5',\n",
              "  'C5',\n",
              "  'C5',\n",
              "  'C6',\n",
              "  'C6',\n",
              "  'C6',\n",
              "  'C6',\n",
              "  'C0',\n",
              "  'C7',\n",
              "  'C7',\n",
              "  'C8',\n",
              "  'C8',\n",
              "  'C8',\n",
              "  'C9',\n",
              "  'C9',\n",
              "  'C1',\n",
              "  'C1',\n",
              "  'C1',\n",
              "  'C2',\n",
              "  'C2',\n",
              "  'C2',\n",
              "  'C2',\n",
              "  'C2',\n",
              "  'C2',\n",
              "  'C2',\n",
              "  'C0',\n",
              "  'C3',\n",
              "  'C3',\n",
              "  'C3',\n",
              "  'C3',\n",
              "  'C3',\n",
              "  'C4',\n",
              "  'C4',\n",
              "  'C5',\n",
              "  'C5',\n",
              "  'C5',\n",
              "  'C6',\n",
              "  'C6',\n",
              "  'C6',\n",
              "  'C7',\n",
              "  'C7',\n",
              "  'C8',\n",
              "  'C8',\n",
              "  'C8',\n",
              "  'C8',\n",
              "  'C8',\n",
              "  'C9',\n",
              "  'C9',\n",
              "  'C9',\n",
              "  'C9',\n",
              "  'C1',\n",
              "  'C1',\n",
              "  'C1',\n",
              "  'C1',\n",
              "  'C1',\n",
              "  'C1',\n",
              "  'C1',\n",
              "  'C1',\n",
              "  'C1',\n",
              "  'C1',\n",
              "  'C2',\n",
              "  'C2',\n",
              "  'C2',\n",
              "  'C2',\n",
              "  'C3',\n",
              "  'C3',\n",
              "  'C3',\n",
              "  'C3',\n",
              "  'C4',\n",
              "  'C4',\n",
              "  'C4',\n",
              "  'C5',\n",
              "  'C5',\n",
              "  'C6',\n",
              "  'C6',\n",
              "  'C7',\n",
              "  'C7',\n",
              "  'C7',\n",
              "  'C7',\n",
              "  'C8',\n",
              "  'C8',\n",
              "  'C9',\n",
              "  'C9',\n",
              "  'C9',\n",
              "  'C9',\n",
              "  'C9',\n",
              "  'C9',\n",
              "  'C0',\n",
              "  'C1',\n",
              "  'C1',\n",
              "  'C0',\n",
              "  'C0',\n",
              "  'C2',\n",
              "  'C2',\n",
              "  'C2',\n",
              "  'C2',\n",
              "  'C2',\n",
              "  'C2',\n",
              "  'C2',\n",
              "  'C3',\n",
              "  'C3',\n",
              "  'C3',\n",
              "  'C4',\n",
              "  'C4',\n",
              "  'C4',\n",
              "  'C4',\n",
              "  'C4',\n",
              "  'C0',\n",
              "  'C5',\n",
              "  'C5',\n",
              "  'C6',\n",
              "  'C6',\n",
              "  'C6',\n",
              "  'C6',\n",
              "  'C7',\n",
              "  'C7',\n",
              "  'C7',\n",
              "  'C7',\n",
              "  'C7']}"
            ]
          },
          "metadata": {},
          "execution_count": 25
        },
        {
          "output_type": "display_data",
          "data": {
            "text/plain": [
              "<Figure size 640x480 with 1 Axes>"
            ],
            "image/png": "[encoded data removed]"
          },
          "metadata": {}
        }
      ]
    },
    {
      "cell_type": "code",
      "source": [
        "# 가장 좋은 클러스터를 형성하는 클러스터의 수를 찾아보자\n",
        "\n",
        "from sklearn.metrics import silhouette_score\n",
        "\n",
        "best_n = -1\n",
        "best_score = -1\n",
        "\n",
        "for n_cluster in range(2,11):\n",
        "  kmeans = KMeans(n_clusters = n_cluster)\n",
        "  kmeans.fit(data)\n",
        "  cluster = kmeans.predict(data)\n",
        "\n",
        "  #실루엣 계수\n",
        "  score = silhouette_score(data, cluster)\n",
        "\n",
        "  print('Cluster count:{} Silhouette Score:{:.2f}'.format(n_cluster, score))\n",
        "\n",
        "# 높은값이 좋은거  3 이 0.57 이므로 높다\n",
        "  if score > best_score:\n",
        "    best_n = n_cluster\n",
        "    best_score = score\n",
        "\n",
        "print('\\n---------------------------------------------------------------\\n')\n",
        "print('Best n_cluster: {} Silhoutette Score: {:.2f}'.format(best_n, best_score))\n",
        "\n"
      ],
      "metadata": {
        "colab": {
          "base_uri": "https://localhost:8080/"
        },
        "id": "Lj5_Qd_l8C_I",
        "outputId": "2c8e826c-a39b-4acc-9d97-61dbd1069f27"
      },
      "execution_count": null,
      "outputs": [
        {
          "output_type": "stream",
          "name": "stdout",
          "text": [
            "Cluster count:2 Silhouette Score:0.49\n",
            "Cluster count:3 Silhouette Score:0.57\n",
            "Cluster count:4 Silhouette Score:0.49\n",
            "Cluster count:5 Silhouette Score:0.46\n",
            "Cluster count:6 Silhouette Score:0.42\n",
            "Cluster count:7 Silhouette Score:0.39\n",
            "Cluster count:8 Silhouette Score:0.41\n",
            "Cluster count:9 Silhouette Score:0.38\n",
            "Cluster count:10 Silhouette Score:0.39\n",
            "\n",
            "---------------------------------------------------------------\n",
            "\n",
            "Best n_cluster: 3 Silhoutette Score: 0.57\n"
          ]
        }
      ]
    },
    {
      "cell_type": "code",
      "source": [],
      "metadata": {
        "id": "-gRoHimJ8C85"
      },
      "execution_count": null,
      "outputs": []
    },
    {
      "cell_type": "code",
      "source": [],
      "metadata": {
        "id": "9dzOsw0x8C6q"
      },
      "execution_count": null,
      "outputs": []
    },
    {
      "cell_type": "code",
      "source": [],
      "metadata": {
        "id": "RxGTCdMk8C4h"
      },
      "execution_count": null,
      "outputs": []
    },
    {
      "cell_type": "code",
      "source": [],
      "metadata": {
        "id": "0SI_8ni-8C2a"
      },
      "execution_count": null,
      "outputs": []
    },
    {
      "cell_type": "code",
      "source": [],
      "metadata": {
        "id": "BMY55aPG8C0a"
      },
      "execution_count": null,
      "outputs": []
    },
    {
      "cell_type": "code",
      "source": [],
      "metadata": {
        "id": "2WzpezWD8CyH"
      },
      "execution_count": null,
      "outputs": []
    },
    {
      "cell_type": "code",
      "source": [],
      "metadata": {
        "id": "dCiEcRMx8CwA"
      },
      "execution_count": null,
      "outputs": []
    },
    {
      "cell_type": "code",
      "source": [],
      "metadata": {
        "id": "MWRVX6JZ8Ctq"
      },
      "execution_count": null,
      "outputs": []
    },
    {
      "cell_type": "code",
      "source": [],
      "metadata": {
        "id": "IuuoeoI48Crk"
      },
      "execution_count": null,
      "outputs": []
    },
    {
      "cell_type": "code",
      "source": [],
      "metadata": {
        "id": "aw6D2Unj8CpR"
      },
      "execution_count": null,
      "outputs": []
    },
    {
      "cell_type": "code",
      "source": [],
      "metadata": {
        "id": "Mo4GglUu8CnJ"
      },
      "execution_count": null,
      "outputs": []
    },
    {
      "cell_type": "code",
      "source": [],
      "metadata": {
        "id": "wI4exMXY8Ck1"
      },
      "execution_count": null,
      "outputs": []
    },
    {
      "cell_type": "code",
      "source": [],
      "metadata": {
        "id": "Cq52E5n88Ci4"
      },
      "execution_count": null,
      "outputs": []
    },
    {
      "cell_type": "code",
      "source": [],
      "metadata": {
        "id": "IsX72PrU8Cgp"
      },
      "execution_count": null,
      "outputs": []
    },
    {
      "cell_type": "code",
      "source": [],
      "metadata": {
        "id": "X9vXYYTt8CeZ"
      },
      "execution_count": null,
      "outputs": []
    },
    {
      "cell_type": "code",
      "source": [],
      "metadata": {
        "id": "1lyqxFjO8CcP"
      },
      "execution_count": null,
      "outputs": []
    },
    {
      "cell_type": "code",
      "source": [],
      "metadata": {
        "id": "F4ry8pCJ8CaK"
      },
      "execution_count": null,
      "outputs": []
    },
    {
      "cell_type": "code",
      "source": [],
      "metadata": {
        "id": "A8Y0rTbs8CYE"
      },
      "execution_count": null,
      "outputs": []
    },
    {
      "cell_type": "code",
      "source": [],
      "metadata": {
        "id": "Ju78rPQX8CV5"
      },
      "execution_count": null,
      "outputs": []
    },
    {
      "cell_type": "code",
      "source": [],
      "metadata": {
        "id": "9ZzSSe-B35oT"
      },
      "execution_count": null,
      "outputs": []
    },
    {
      "cell_type": "code",
      "source": [],
      "metadata": {
        "id": "nW4My2-r35l2"
      },
      "execution_count": null,
      "outputs": []
    },
    {
      "cell_type": "code",
      "source": [],
      "metadata": {
        "id": "FcZPIEQN35jk"
      },
      "execution_count": null,
      "outputs": []
    },
    {
      "cell_type": "code",
      "source": [],
      "metadata": {
        "id": "jglRc3Jr35hi"
      },
      "execution_count": null,
      "outputs": []
    },
    {
      "cell_type": "code",
      "source": [],
      "metadata": {
        "id": "S-p0z2CB35fO"
      },
      "execution_count": null,
      "outputs": []
    },
    {
      "cell_type": "code",
      "source": [],
      "metadata": {
        "id": "C1wWsqv635c0"
      },
      "execution_count": null,
      "outputs": []
    },
    {
      "cell_type": "code",
      "source": [],
      "metadata": {
        "id": "fJ7PdEpQ35a4"
      },
      "execution_count": null,
      "outputs": []
    },
    {
      "cell_type": "code",
      "source": [],
      "metadata": {
        "id": "agoiTcki35Yl"
      },
      "execution_count": null,
      "outputs": []
    },
    {
      "cell_type": "code",
      "source": [],
      "metadata": {
        "id": "zaqNLm4X35WV"
      },
      "execution_count": null,
      "outputs": []
    },
    {
      "cell_type": "code",
      "source": [],
      "metadata": {
        "id": "LkoDZf_035UE"
      },
      "execution_count": null,
      "outputs": []
    },
    {
      "cell_type": "code",
      "source": [],
      "metadata": {
        "id": "yUTfWlVS35SB"
      },
      "execution_count": null,
      "outputs": []
    },
    {
      "cell_type": "code",
      "source": [],
      "metadata": {
        "id": "qdJOkhDn35P0"
      },
      "execution_count": null,
      "outputs": []
    },
    {
      "cell_type": "code",
      "source": [],
      "metadata": {
        "id": "oC3q3Cgu35Nk"
      },
      "execution_count": null,
      "outputs": []
    },
    {
      "cell_type": "code",
      "source": [],
      "metadata": {
        "id": "p8f-Tf9J35Lj"
      },
      "execution_count": null,
      "outputs": []
    },
    {
      "cell_type": "code",
      "source": [],
      "metadata": {
        "id": "-Ygird9auvsS"
      },
      "execution_count": null,
      "outputs": []
    },
    {
      "cell_type": "code",
      "source": [],
      "metadata": {
        "id": "7eKkjN6euvo1"
      },
      "execution_count": null,
      "outputs": []
    },
    {
      "cell_type": "code",
      "source": [],
      "metadata": {
        "id": "1AHGTNlduvmU"
      },
      "execution_count": null,
      "outputs": []
    },
    {
      "cell_type": "code",
      "source": [],
      "metadata": {
        "id": "cIFNnFCruvj9"
      },
      "execution_count": null,
      "outputs": []
    },
    {
      "cell_type": "code",
      "source": [],
      "metadata": {
        "id": "MrS_Tw9Uuvh3"
      },
      "execution_count": null,
      "outputs": []
    },
    {
      "cell_type": "code",
      "source": [],
      "metadata": {
        "id": "W60J3b8KuvfR"
      },
      "execution_count": null,
      "outputs": []
    },
    {
      "cell_type": "code",
      "source": [],
      "metadata": {
        "id": "y1n3HhGiuvct"
      },
      "execution_count": null,
      "outputs": []
    },
    {
      "cell_type": "code",
      "source": [],
      "metadata": {
        "id": "LEv6K9hVuvaV"
      },
      "execution_count": null,
      "outputs": []
    },
    {
      "cell_type": "code",
      "source": [],
      "metadata": {
        "id": "OSKT6O8vuvXx"
      },
      "execution_count": null,
      "outputs": []
    },
    {
      "cell_type": "code",
      "source": [],
      "metadata": {
        "id": "l0Iw32z5uvVU"
      },
      "execution_count": null,
      "outputs": []
    },
    {
      "cell_type": "code",
      "source": [],
      "metadata": {
        "id": "ZGxdAILouvSv"
      },
      "execution_count": null,
      "outputs": []
    },
    {
      "cell_type": "code",
      "source": [],
      "metadata": {
        "id": "k3EiRJjouvQO"
      },
      "execution_count": null,
      "outputs": []
    },
    {
      "cell_type": "code",
      "source": [],
      "metadata": {
        "id": "sPfEPI8GuvNq"
      },
      "execution_count": null,
      "outputs": []
    },
    {
      "cell_type": "code",
      "source": [],
      "metadata": {
        "id": "ZHL-JeEEuvLH"
      },
      "execution_count": null,
      "outputs": []
    },
    {
      "cell_type": "code",
      "source": [],
      "metadata": {
        "id": "QrM3000BuvI0"
      },
      "execution_count": null,
      "outputs": []
    },
    {
      "cell_type": "code",
      "source": [],
      "metadata": {
        "id": "X2f0jpHTuvGS"
      },
      "execution_count": null,
      "outputs": []
    },
    {
      "cell_type": "code",
      "source": [],
      "metadata": {
        "id": "Pjv6UxqsuvD6"
      },
      "execution_count": null,
      "outputs": []
    },
    {
      "cell_type": "code",
      "source": [],
      "metadata": {
        "id": "9TK-M1vVuvBf"
      },
      "execution_count": null,
      "outputs": []
    },
    {
      "cell_type": "code",
      "source": [],
      "metadata": {
        "id": "ZXK1Vuwkuu_A"
      },
      "execution_count": null,
      "outputs": []
    },
    {
      "cell_type": "code",
      "source": [],
      "metadata": {
        "id": "_A86Ad-5uu8o"
      },
      "execution_count": null,
      "outputs": []
    },
    {
      "cell_type": "code",
      "source": [],
      "metadata": {
        "id": "nP7BxjERuu6S"
      },
      "execution_count": null,
      "outputs": []
    },
    {
      "cell_type": "code",
      "source": [],
      "metadata": {
        "id": "-uYMsQuauu35"
      },
      "execution_count": null,
      "outputs": []
    },
    {
      "cell_type": "code",
      "source": [],
      "metadata": {
        "id": "i_EZj_rEuu1f"
      },
      "execution_count": null,
      "outputs": []
    },
    {
      "cell_type": "code",
      "source": [],
      "metadata": {
        "id": "tVx2pj4muuzO"
      },
      "execution_count": null,
      "outputs": []
    },
    {
      "cell_type": "code",
      "source": [],
      "metadata": {
        "id": "4HAVDD0buuw5"
      },
      "execution_count": null,
      "outputs": []
    },
    {
      "cell_type": "code",
      "source": [],
      "metadata": {
        "id": "5BsMlGk0uuuo"
      },
      "execution_count": null,
      "outputs": []
    },
    {
      "cell_type": "code",
      "source": [],
      "metadata": {
        "id": "QwvSO7xfuusY"
      },
      "execution_count": null,
      "outputs": []
    },
    {
      "cell_type": "code",
      "source": [],
      "metadata": {
        "id": "LKysC6VruuqQ"
      },
      "execution_count": null,
      "outputs": []
    },
    {
      "cell_type": "code",
      "source": [],
      "metadata": {
        "id": "e_8nsGd4qUKh"
      },
      "execution_count": null,
      "outputs": []
    },
    {
      "cell_type": "code",
      "source": [],
      "metadata": {
        "id": "roSw9KHuqUHA"
      },
      "execution_count": null,
      "outputs": []
    },
    {
      "cell_type": "code",
      "source": [],
      "metadata": {
        "id": "MfRT3aR3qUEb"
      },
      "execution_count": null,
      "outputs": []
    },
    {
      "cell_type": "code",
      "source": [],
      "metadata": {
        "id": "sN5ire6TqUCH"
      },
      "execution_count": null,
      "outputs": []
    },
    {
      "cell_type": "code",
      "source": [],
      "metadata": {
        "id": "EGd241LrqT_2"
      },
      "execution_count": null,
      "outputs": []
    },
    {
      "cell_type": "code",
      "source": [],
      "metadata": {
        "id": "MggM2cBmqT9Y"
      },
      "execution_count": null,
      "outputs": []
    },
    {
      "cell_type": "code",
      "source": [],
      "metadata": {
        "id": "LPbJx62CqT66"
      },
      "execution_count": null,
      "outputs": []
    },
    {
      "cell_type": "code",
      "source": [],
      "metadata": {
        "id": "z0itw-xtqT4d"
      },
      "execution_count": null,
      "outputs": []
    },
    {
      "cell_type": "code",
      "source": [],
      "metadata": {
        "id": "gB7oGAJTqT2F"
      },
      "execution_count": null,
      "outputs": []
    },
    {
      "cell_type": "code",
      "source": [],
      "metadata": {
        "id": "Q3RcLlUKqTzn"
      },
      "execution_count": null,
      "outputs": []
    },
    {
      "cell_type": "code",
      "source": [],
      "metadata": {
        "id": "Kf7b6uKZqTxJ"
      },
      "execution_count": null,
      "outputs": []
    },
    {
      "cell_type": "code",
      "source": [],
      "metadata": {
        "id": "uP2TBGDRqTut"
      },
      "execution_count": null,
      "outputs": []
    },
    {
      "cell_type": "code",
      "source": [],
      "metadata": {
        "id": "SIZqjvwGqTsH"
      },
      "execution_count": null,
      "outputs": []
    },
    {
      "cell_type": "code",
      "source": [],
      "metadata": {
        "id": "MVaZ7D7MqTpv"
      },
      "execution_count": null,
      "outputs": []
    },
    {
      "cell_type": "code",
      "source": [],
      "metadata": {
        "id": "fvEMepRgqTnU"
      },
      "execution_count": null,
      "outputs": []
    },
    {
      "cell_type": "code",
      "source": [],
      "metadata": {
        "id": "s7cnx9roqTk9"
      },
      "execution_count": null,
      "outputs": []
    },
    {
      "cell_type": "code",
      "source": [],
      "metadata": {
        "id": "cozmxp_BqTiY"
      },
      "execution_count": null,
      "outputs": []
    },
    {
      "cell_type": "code",
      "source": [],
      "metadata": {
        "id": "WQgnZHnCqTf5"
      },
      "execution_count": null,
      "outputs": []
    },
    {
      "cell_type": "code",
      "source": [],
      "metadata": {
        "id": "k1isxjnoqTde"
      },
      "execution_count": null,
      "outputs": []
    },
    {
      "cell_type": "code",
      "source": [],
      "metadata": {
        "id": "O1nmYob2qTbI"
      },
      "execution_count": null,
      "outputs": []
    },
    {
      "cell_type": "code",
      "source": [],
      "metadata": {
        "id": "tfAaD8PNqTYh"
      },
      "execution_count": null,
      "outputs": []
    },
    {
      "cell_type": "code",
      "source": [],
      "metadata": {
        "id": "r5ccsRRqqTWC"
      },
      "execution_count": null,
      "outputs": []
    },
    {
      "cell_type": "code",
      "source": [],
      "metadata": {
        "id": "o0q9QlhLqTTm"
      },
      "execution_count": null,
      "outputs": []
    },
    {
      "cell_type": "code",
      "source": [],
      "metadata": {
        "id": "U_Yp01gRqTRR"
      },
      "execution_count": null,
      "outputs": []
    },
    {
      "cell_type": "code",
      "source": [],
      "metadata": {
        "id": "lqZemOkjqTOx"
      },
      "execution_count": null,
      "outputs": []
    },
    {
      "cell_type": "code",
      "source": [],
      "metadata": {
        "id": "uqP2EppeqTML"
      },
      "execution_count": null,
      "outputs": []
    },
    {
      "cell_type": "code",
      "source": [],
      "metadata": {
        "id": "36cAEW8RqTJ9"
      },
      "execution_count": null,
      "outputs": []
    },
    {
      "cell_type": "code",
      "source": [],
      "metadata": {
        "id": "GXGZQujxqTFQ"
      },
      "execution_count": null,
      "outputs": []
    },
    {
      "cell_type": "code",
      "source": [],
      "metadata": {
        "id": "fdZ2Q0q6qTCi"
      },
      "execution_count": null,
      "outputs": []
    },
    {
      "cell_type": "code",
      "source": [],
      "metadata": {
        "id": "eeYPROrBqTAF"
      },
      "execution_count": null,
      "outputs": []
    },
    {
      "cell_type": "code",
      "source": [],
      "metadata": {
        "id": "LQKxj7RaqS9m"
      },
      "execution_count": null,
      "outputs": []
    },
    {
      "cell_type": "code",
      "source": [],
      "metadata": {
        "id": "3kBtext3qS7X"
      },
      "execution_count": null,
      "outputs": []
    },
    {
      "cell_type": "code",
      "source": [],
      "metadata": {
        "id": "ePk3Ccs2qS4G"
      },
      "execution_count": null,
      "outputs": []
    },
    {
      "cell_type": "code",
      "source": [],
      "metadata": {
        "id": "31l7uzCSqS0k"
      },
      "execution_count": null,
      "outputs": []
    },
    {
      "cell_type": "code",
      "source": [],
      "metadata": {
        "id": "SFMTzj1SqSyK"
      },
      "execution_count": null,
      "outputs": []
    },
    {
      "cell_type": "code",
      "source": [],
      "metadata": {
        "id": "8_QDVh1RqSv0"
      },
      "execution_count": null,
      "outputs": []
    },
    {
      "cell_type": "code",
      "source": [],
      "metadata": {
        "id": "4aVHhb0TqStl"
      },
      "execution_count": null,
      "outputs": []
    },
    {
      "cell_type": "code",
      "source": [],
      "metadata": {
        "id": "2HvGC5YJqSrH"
      },
      "execution_count": null,
      "outputs": []
    },
    {
      "cell_type": "code",
      "source": [],
      "metadata": {
        "id": "fK0yI-AmqSor"
      },
      "execution_count": null,
      "outputs": []
    }
  ]
}