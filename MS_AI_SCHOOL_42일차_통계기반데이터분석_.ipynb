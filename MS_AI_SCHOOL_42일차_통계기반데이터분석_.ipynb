{
  "nbformat": 4,
  "nbformat_minor": 0,
  "metadata": {
    "colab": {
      "provenance": [],
      "authorship_tag": "ABX9TyP1yKPBI8qAtTAWgQq4AONK",
      "include_colab_link": true
    },
    "kernelspec": {
      "name": "python3",
      "display_name": "Python 3"
    },
    "language_info": {
      "name": "python"
    }
  },
  "cells": [
    {
      "cell_type": "markdown",
      "metadata": {
        "id": "view-in-github",
        "colab_type": "text"
      },
      "source": [
        "<a href=\"https://colab.research.google.com/github/dlvvkfl88/MSAISCHOOL/blob/main/MS_AI_SCHOOL_42%EC%9D%BC%EC%B0%A8_%ED%86%B5%EA%B3%84%EA%B8%B0%EB%B0%98%EB%8D%B0%EC%9D%B4%ED%84%B0%EB%B6%84%EC%84%9D_.ipynb\" target=\"_parent\"><img src=\"https://colab.research.google.com/assets/colab-badge.svg\" alt=\"Open In Colab\"/></a>"
      ]
    },
    {
      "cell_type": "code",
      "source": [
        "import numpy as np\n",
        "import pandas as pd\n",
        "import matplotlib.pyplot as plt\n",
        "from statsmodels.tsa.arima.model import ARIMA\n",
        "#시계열 데이터 생성\n",
        "np.random.seed(0)\n",
        "n = 100 #데이터 포인트 수\n",
        "ar_params = [0.7] #자기회귀 계수\n",
        "ma_params = [0.4,-0.2] #이동평균 계수\n",
        "\n",
        "\n",
        "residuals= np.random.normal(0, 1, n) # *\n",
        "\n",
        "\n",
        "#ARMA (1, 2)\n",
        "data = [0,0]\n",
        "for i in range (2, n):\n",
        "  ar_term = ar_params[0] * data[i-1]\n",
        "  ma_term = ma_params[0] * residuals[i-1] + ma_params[1]* residuals[i-2] \n",
        "  data.append(ar_term + ma_term + residuals[i])\n",
        "#데이터프레임 생성\n",
        "\n",
        "df = pd.DataFrame({'Value': data})\n",
        "\n",
        "print(df)\n"
      ],
      "metadata": {
        "colab": {
          "base_uri": "https://localhost:8080/"
        },
        "id": "M6hSEao0Rydl",
        "outputId": "bd5267a8-3e01-4fcb-a23f-47e40c2d5cb9"
      },
      "execution_count": null,
      "outputs": [
        {
          "output_type": "stream",
          "name": "stdout",
          "text": [
            "       Value\n",
            "0   0.000000\n",
            "1   0.000000\n",
            "2   0.785990\n",
            "3   3.102550\n",
            "4   4.739953\n",
            "..       ...\n",
            "95  2.160229\n",
            "96  1.734016\n",
            "97  2.862567\n",
            "98  2.842957\n",
            "99  2.085650\n",
            "\n",
            "[100 rows x 1 columns]\n"
          ]
        }
      ]
    },
    {
      "cell_type": "code",
      "source": [],
      "metadata": {
        "id": "0fHH7PswRyf2"
      },
      "execution_count": null,
      "outputs": []
    },
    {
      "cell_type": "code",
      "source": [
        "model = ARIMA(df['Value'], order=(1,0,2))\n",
        "results = model.fit()"
      ],
      "metadata": {
        "id": "ENdx_CwMRykU"
      },
      "execution_count": null,
      "outputs": []
    },
    {
      "cell_type": "code",
      "source": [
        "print(results.summary())"
      ],
      "metadata": {
        "colab": {
          "base_uri": "https://localhost:8080/"
        },
        "id": "R7lqIC3KRymd",
        "outputId": "605bfb5c-258d-45f4-abb4-ad25a182d383"
      },
      "execution_count": null,
      "outputs": [
        {
          "output_type": "stream",
          "name": "stdout",
          "text": [
            "                               SARIMAX Results                                \n",
            "==============================================================================\n",
            "Dep. Variable:                  Value   No. Observations:                  100\n",
            "Model:                 ARIMA(1, 0, 2)   Log Likelihood                -140.937\n",
            "Date:                Thu, 01 Jun 2023   AIC                            291.874\n",
            "Time:                        00:24:15   BIC                            304.900\n",
            "Sample:                             0   HQIC                           297.146\n",
            "                                - 100                                         \n",
            "Covariance Type:                  opg                                         \n",
            "==============================================================================\n",
            "                 coef    std err          z      P>|z|      [0.025      0.975]\n",
            "------------------------------------------------------------------------------\n",
            "const          0.1564      0.510      0.307      0.759      -0.842       1.155\n",
            "ar.L1          0.7647      0.129      5.934      0.000       0.512       1.017\n",
            "ma.L1          0.3757      0.158      2.382      0.017       0.067       0.685\n",
            "ma.L2         -0.1727      0.175     -0.986      0.324      -0.516       0.171\n",
            "sigma2         0.9663      0.151      6.394      0.000       0.670       1.263\n",
            "===================================================================================\n",
            "Ljung-Box (L1) (Q):                   0.01   Jarque-Bera (JB):                 0.19\n",
            "Prob(Q):                              0.92   Prob(JB):                         0.91\n",
            "Heteroskedasticity (H):               0.70   Skew:                             0.03\n",
            "Prob(H) (two-sided):                  0.31   Kurtosis:                         2.80\n",
            "===================================================================================\n",
            "\n",
            "Warnings:\n",
            "[1] Covariance matrix calculated using the outer product of gradients (complex-step).\n"
          ]
        }
      ]
    },
    {
      "cell_type": "code",
      "source": [
        "#잔차 시계열 그래프 출력\n",
        "\n",
        "plt.plot(results.resid) \n",
        "plt.xlabel('Time') \n",
        "plt.ylabel('Residuals')\n",
        "plt.show()"
      ],
      "metadata": {
        "colab": {
          "base_uri": "https://localhost:8080/",
          "height": 449
        },
        "id": "TEZaZ_LMRyqC",
        "outputId": "a49dba35-b898-4a92-cace-cabb46fe5df0"
      },
      "execution_count": null,
      "outputs": [
        {
          "output_type": "display_data",
          "data": {
            "text/plain": [
              "<Figure size 640x480 with 1 Axes>"
            ],
            "image/png": "[encoded data removed]"
          },
          "metadata": {}
        }
      ]
    },
    {
      "cell_type": "code",
      "source": [
        "best_aic = np.inf\n",
        "best_order = None"
      ],
      "metadata": {
        "id": "x4o9QFTaWJfu"
      },
      "execution_count": null,
      "outputs": []
    },
    {
      "cell_type": "code",
      "source": [
        "for p in range(3):\n",
        "  for d in range(2):\n",
        "    for q in range(3):\n",
        "      order = (p,d,q)\n",
        "      try:\n",
        "        model = ARIMA(data, order=order)\n",
        "        results = model.fit()\n",
        "        aic = results.aic\n",
        "        if aic < best_aic:\n",
        "          best_aic = aic\n",
        "          best_order = order\n",
        "      except:\n",
        "        continue\n"
      ],
      "metadata": {
        "colab": {
          "base_uri": "https://localhost:8080/"
        },
        "id": "YyRv23rzWXVN",
        "outputId": "5c2e3d6b-e7a5-4e30-e5aa-749ec3d19908"
      },
      "execution_count": null,
      "outputs": [
        {
          "output_type": "stream",
          "name": "stderr",
          "text": [
            "/usr/local/lib/python3.10/dist-packages/statsmodels/tsa/statespace/sarimax.py:978: UserWarning: Non-invertible starting MA parameters found. Using zeros as starting parameters.\n",
            "  warn('Non-invertible starting MA parameters found.'\n",
            "/usr/local/lib/python3.10/dist-packages/statsmodels/tsa/statespace/sarimax.py:966: UserWarning: Non-stationary starting autoregressive parameters found. Using zeros as starting parameters.\n",
            "  warn('Non-stationary starting autoregressive parameters'\n"
          ]
        }
      ]
    },
    {
      "cell_type": "code",
      "source": [
        "print(\"Best AIC:\", best_aic)\n",
        "print(\"Best Order:\", best_order)"
      ],
      "metadata": {
        "colab": {
          "base_uri": "https://localhost:8080/"
        },
        "id": "vJNppN1pWXZr",
        "outputId": "be92279f-ed75-44e1-d306-34b44d771b28"
      },
      "execution_count": null,
      "outputs": [
        {
          "output_type": "stream",
          "name": "stdout",
          "text": [
            "Best AIC: 286.49379664077424\n",
            "Best Order: (1, 1, 2)\n"
          ]
        }
      ]
    },
    {
      "cell_type": "code",
      "source": [],
      "metadata": {
        "id": "JakELTjYXme0"
      },
      "execution_count": null,
      "outputs": []
    },
    {
      "cell_type": "code",
      "source": [],
      "metadata": {
        "id": "oE0Jk4UnXmbO"
      },
      "execution_count": null,
      "outputs": []
    },
    {
      "cell_type": "code",
      "source": [],
      "metadata": {
        "id": "flEKlIZ9XmY6"
      },
      "execution_count": null,
      "outputs": []
    },
    {
      "cell_type": "code",
      "source": [],
      "metadata": {
        "id": "qIqCf9fzXmW0"
      },
      "execution_count": null,
      "outputs": []
    },
    {
      "cell_type": "code",
      "source": [
        "import numpy as np\n",
        "import pandas as pd\n",
        "import matplotlib.pyplot as plt\n",
        "from statsmodels.tsa.statespace.sarimax import SARIMAX\n",
        "from statsmodels.graphics.tsaplots import plot_acf , plot_pacf\n",
        " "
      ],
      "metadata": {
        "id": "LCjAq8xNXmU6"
      },
      "execution_count": 29,
      "outputs": []
    },
    {
      "cell_type": "code",
      "source": [
        "np.random.seed(10)\n",
        "n = 100\n",
        "data = np.random.normal(0,1,n)\n",
        "dates = pd.date_range(start='2022-01-01', periods=n, freq='M')"
      ],
      "metadata": {
        "id": "R65IanzvXmSp"
      },
      "execution_count": null,
      "outputs": []
    },
    {
      "cell_type": "code",
      "source": [
        "df = pd.DataFrame({'Value':data}, index=dates)"
      ],
      "metadata": {
        "id": "2BMDSrjZXmQZ"
      },
      "execution_count": null,
      "outputs": []
    },
    {
      "cell_type": "code",
      "source": [
        "print(df)"
      ],
      "metadata": {
        "colab": {
          "base_uri": "https://localhost:8080/"
        },
        "id": "Rr4y9EEXXmOJ",
        "outputId": "bc032ed4-130f-4985-9925-476b710211bf"
      },
      "execution_count": null,
      "outputs": [
        {
          "output_type": "stream",
          "name": "stdout",
          "text": [
            "               Value\n",
            "2022-01-31  1.331587\n",
            "2022-02-28  0.715279\n",
            "2022-03-31 -1.545400\n",
            "2022-04-30 -0.008384\n",
            "2022-05-31  0.621336\n",
            "...              ...\n",
            "2029-12-31  0.918269\n",
            "2030-01-31 -0.482093\n",
            "2030-02-28  0.089588\n",
            "2030-03-31  0.826999\n",
            "2030-04-30 -1.954512\n",
            "\n",
            "[100 rows x 1 columns]\n"
          ]
        }
      ]
    },
    {
      "cell_type": "code",
      "source": [
        "plt.plot(df)\n",
        "plt.xlabel('date')\n",
        "plt.ylabel('value')\n",
        "plt.show()"
      ],
      "metadata": {
        "colab": {
          "base_uri": "https://localhost:8080/",
          "height": 449
        },
        "id": "azATPW0cXmL2",
        "outputId": "d31284a8-2e2c-4f29-fe6c-ed5537598b55"
      },
      "execution_count": null,
      "outputs": [
        {
          "output_type": "display_data",
          "data": {
            "text/plain": [
              "<Figure size 640x480 with 1 Axes>"
            ],
            "image/png": "[encoded data removed]"
          },
          "metadata": {}
        }
      ]
    },
    {
      "cell_type": "code",
      "source": [
        "model = SARIMAX(df, order =(1,1,1), seasonal_order = (1,1,1,12))\n",
        "results = model.fit()"
      ],
      "metadata": {
        "id": "tX7kbLQaXmJq"
      },
      "execution_count": null,
      "outputs": []
    },
    {
      "cell_type": "code",
      "source": [
        "forecast = results.get_forecast(steps=12)\n",
        "print(forecast)"
      ],
      "metadata": {
        "colab": {
          "base_uri": "https://localhost:8080/"
        },
        "id": "gBLjwIjHXmHY",
        "outputId": "48370f60-7126-4b2e-a280-0d6dae5b53f2"
      },
      "execution_count": null,
      "outputs": [
        {
          "output_type": "stream",
          "name": "stdout",
          "text": [
            "<statsmodels.tsa.statespace.mlemodel.PredictionResultsWrapper object at 0x7fc03ed76650>\n"
          ]
        }
      ]
    },
    {
      "cell_type": "code",
      "source": [
        "pred = results.predict(start='2022-01-31', end='2030-04-30')"
      ],
      "metadata": {
        "id": "meQ17UPqXliD"
      },
      "execution_count": null,
      "outputs": []
    },
    {
      "cell_type": "code",
      "source": [
        "plt.plot(data, label='Actual')\n",
        "plt.plot(pred, label='SARIMA')\n",
        "plt.legend()\n",
        "plt.show()"
      ],
      "metadata": {
        "colab": {
          "base_uri": "https://localhost:8080/",
          "height": 430
        },
        "id": "JysQQuSfWXeO",
        "outputId": "71932141-66dc-441e-876c-a1af4e0b1e8c"
      },
      "execution_count": null,
      "outputs": [
        {
          "output_type": "display_data",
          "data": {
            "text/plain": [
              "<Figure size 640x480 with 1 Axes>"
            ],
            "image/png": "[encoded data removed]"
          },
          "metadata": {}
        }
      ]
    },
    {
      "cell_type": "code",
      "source": [
        "# 예시 데이터 생성\n",
        "x = np.array([1,2,3,4,5])\n",
        "y = np.array([2,4,6,8,10])\n",
        "z = np.array([3,6,9,12,15])\n",
        "\n",
        "# 공분산 계산 \n",
        "cov_matrix = np.cov([x,y,z])\n",
        "print(\"Covariance Matrix:\")\n",
        "print(cov_matrix)"
      ],
      "metadata": {
        "id": "q8TbWXvSXlmY",
        "colab": {
          "base_uri": "https://localhost:8080/"
        },
        "outputId": "af092ae5-386a-4dbc-ea61-ff9a855da215"
      },
      "execution_count": 2,
      "outputs": [
        {
          "output_type": "stream",
          "name": "stdout",
          "text": [
            "Covariance Matrix:\n",
            "[[ 2.5  5.   7.5]\n",
            " [ 5.  10.  15. ]\n",
            " [ 7.5 15.  22.5]]\n"
          ]
        }
      ]
    },
    {
      "cell_type": "code",
      "source": [
        "# 상관 행렬 계산\n",
        "cor_matrix = np.corrcoef([x,y,z])\n",
        "print(\"\\nCorrelation Matrix:\")\n",
        "print(cor_matrix)"
      ],
      "metadata": {
        "id": "kyeiYU2-WXip",
        "colab": {
          "base_uri": "https://localhost:8080/"
        },
        "outputId": "2e5a987a-6632-4279-916c-745d1d199901"
      },
      "execution_count": 3,
      "outputs": [
        {
          "output_type": "stream",
          "name": "stdout",
          "text": [
            "\n",
            "Correlation Matrix:\n",
            "[[1. 1. 1.]\n",
            " [1. 1. 1.]\n",
            " [1. 1. 1.]]\n"
          ]
        }
      ]
    },
    {
      "cell_type": "code",
      "source": [
        "# 예시 데이터 생성\n",
        "x1 = np.array([1,2,3,4,5])\n",
        "x2 = np.array([2,4,6,8,10])\n",
        "x3 = np.array([3,6,9,12,15])\n",
        "\n",
        "# 데이터 행렬 생성\n",
        "data = np.vstack([x1,x2,x3]).T\n",
        "\n",
        "# 상관 행렬 계산\n",
        "cor_matrix = np.corrcoef(data, rowvar=False)\n",
        "# 각 변수들 간의 상관 계수 추력\n",
        "print(\"Correlation Coefficients:\")\n",
        "print(cor_matrix)\n",
        "\n",
        "# 다중공선성 판단 \n",
        "threshold =0.7 # 상관계수 임계값 성정\n",
        "\n",
        "print(\"\\nVarialbes with high multicollinearity:\")\n",
        "for i in range(cor_matrix.shape[0]):\n",
        "  for j in range(i+1, cor_matrix.shape[1]):\n",
        "    if abs(cor_matrix[i,j]) > threshold:\n",
        "      print(f\"Variable {i+1} and Variable {j+1} \")"
      ],
      "metadata": {
        "id": "d3aF6j6LWXnJ",
        "colab": {
          "base_uri": "https://localhost:8080/"
        },
        "outputId": "9876142a-a61c-4e42-e846-0f1445e065bc"
      },
      "execution_count": 5,
      "outputs": [
        {
          "output_type": "stream",
          "name": "stdout",
          "text": [
            "Correlation Coefficients:\n",
            "[[1. 1. 1.]\n",
            " [1. 1. 1.]\n",
            " [1. 1. 1.]]\n",
            "\n",
            "Varialbes with high multicollinearity:\n",
            "Variable 1 and Variable 2 \n",
            "Variable 1 and Variable 3 \n",
            "Variable 2 and Variable 3 \n"
          ]
        }
      ]
    },
    {
      "cell_type": "code",
      "source": [
        "import seaborn as sns\n"
      ],
      "metadata": {
        "id": "QAIOMxDsWXrw"
      },
      "execution_count": 6,
      "outputs": []
    },
    {
      "cell_type": "code",
      "source": [
        "x1 = np.random.normal(0,1,100)\n",
        "x2 = np.random.normal(0,1,100)\n",
        "x3 = np.random.normal(0,1,100)\n",
        "\n",
        "data = np.vstack([x1,x2,x3]).T # 데이터 행렬 생생\n",
        "\n",
        "# 상관 행렬 계산 \n",
        "cor_matrix = np.corrcoef(data, rowvar=False)\n",
        "\n",
        "# 히트맵 상관 행렬 시각화\n",
        "plt.figure(figsize=(8,6))\n",
        "sns.heatmap(cor_matrix, annot =True, cmap='coolwarm')\n",
        "plt.title('Corrlation Matrix')\n",
        "plt.show()"
      ],
      "metadata": {
        "id": "YUqNRGw1WXxy",
        "colab": {
          "base_uri": "https://localhost:8080/",
          "height": 545
        },
        "outputId": "ca0a229f-26df-48bf-d3d4-b2e02ba28160"
      },
      "execution_count": 7,
      "outputs": [
        {
          "output_type": "display_data",
          "data": {
            "text/plain": [
              "<Figure size 800x600 with 2 Axes>"
            ],
            "image/png": "[encoded data removed]"
          },
          "metadata": {}
        }
      ]
    },
    {
      "cell_type": "code",
      "source": [
        "# 상관 계수의 절댁삾이 일정 임계값 이상인 변수 선택\n",
        "\n",
        "threshold =0.3"
      ],
      "metadata": {
        "id": "-v8uXFDNLxz9"
      },
      "execution_count": 8,
      "outputs": []
    },
    {
      "cell_type": "code",
      "source": [
        "selected_vars = []\n",
        "for i in range(cor_matrix.shape[0]):\n",
        "  for j in range(i+1, cor_matrix.shape[1]):\n",
        "    if abs(cor_matrix[i,j]) > threshold:\n",
        "      selected_vars.extend([i.j])\n",
        "\n",
        "# 선택된 변수들로 차원 축소된 데이터 생성\n",
        "if selected_vars:\n",
        "  reduced_data = data[:, list(set(selected_vars))]\n",
        "\n",
        "\n",
        "  # 차원 축소된 데이터 시각화\n",
        "  plet.figure(figsize=(8,6))\n",
        "  plt.scatter(reduced_data[:,0], reduced_data[:,1])\n",
        "  plt.xlabel('Reduced Varibale 1')\n",
        "  plt.ylabel('Reduced Varibale 2')\n",
        "  plt.title('Dimensionality Reduced Data')\n",
        "  plt.show()\n",
        "else:\n",
        "  print(\"데이터셋에서 선택된 변수가 없어 차원 축소가 이루어지지 않았음\")\n",
        "\n"
      ],
      "metadata": {
        "colab": {
          "base_uri": "https://localhost:8080/"
        },
        "id": "ERw6SufNLxyQ",
        "outputId": "6e18b9c2-1244-4e73-8d32-c3b20c950721"
      },
      "execution_count": 12,
      "outputs": [
        {
          "output_type": "stream",
          "name": "stdout",
          "text": [
            "데이터셋에서 선택된 변수가 없어 차원 축소가 이루어지지 않았음\n"
          ]
        }
      ]
    },
    {
      "cell_type": "code",
      "source": [
        "import seaborn as sns\n",
        "tips= sns.load_dataset('tips')\n"
      ],
      "metadata": {
        "id": "wnAqhAc9Lxv-"
      },
      "execution_count": 28,
      "outputs": []
    },
    {
      "cell_type": "code",
      "source": [
        "corr = tips['total_bill'].corr(tips['tip'], method='pearson')\n",
        "print('Pearson correlation coefficient:', corr)"
      ],
      "metadata": {
        "colab": {
          "base_uri": "https://localhost:8080/"
        },
        "id": "ju7QPnJILxuN",
        "outputId": "2a17c704-971d-4b4e-b27a-898fcf9b61bc"
      },
      "execution_count": 17,
      "outputs": [
        {
          "output_type": "stream",
          "name": "stdout",
          "text": [
            "Pearson correlation coefficient: 0.6757341092113641\n"
          ]
        }
      ]
    },
    {
      "cell_type": "code",
      "source": [
        "print(type(tips))"
      ],
      "metadata": {
        "colab": {
          "base_uri": "https://localhost:8080/"
        },
        "id": "XeDTj-9qLxsE",
        "outputId": "8bcc4824-4993-4d51-fe44-cf1eea5c77c5"
      },
      "execution_count": 18,
      "outputs": [
        {
          "output_type": "stream",
          "name": "stdout",
          "text": [
            "<class 'pandas.core.frame.DataFrame'>\n"
          ]
        }
      ]
    },
    {
      "cell_type": "code",
      "source": [
        "corr= tips.corr()\n",
        "print(corr)"
      ],
      "metadata": {
        "colab": {
          "base_uri": "https://localhost:8080/"
        },
        "id": "4zvhqu0kLxqd",
        "outputId": "81bd36ad-d8df-4f7c-a7c7-fb4fad4bcc4e"
      },
      "execution_count": 20,
      "outputs": [
        {
          "output_type": "stream",
          "name": "stdout",
          "text": [
            "            total_bill       tip      size\n",
            "total_bill    1.000000  0.675734  0.598315\n",
            "tip           0.675734  1.000000  0.489299\n",
            "size          0.598315  0.489299  1.000000\n"
          ]
        },
        {
          "output_type": "stream",
          "name": "stderr",
          "text": [
            "<ipython-input-20-c9fafeaffbda>:1: FutureWarning: The default value of numeric_only in DataFrame.corr is deprecated. In a future version, it will default to False. Select only valid columns or specify the value of numeric_only to silence this warning.\n",
            "  corr= tips.corr()\n"
          ]
        }
      ]
    },
    {
      "cell_type": "code",
      "source": [],
      "metadata": {
        "id": "0DvBrEriLxoO"
      },
      "execution_count": null,
      "outputs": []
    },
    {
      "cell_type": "code",
      "source": [],
      "metadata": {
        "id": "2eAvYJy4Lxlz"
      },
      "execution_count": null,
      "outputs": []
    },
    {
      "cell_type": "code",
      "source": [],
      "metadata": {
        "id": "DL6DjEMrLxjs"
      },
      "execution_count": null,
      "outputs": []
    },
    {
      "cell_type": "code",
      "source": [
        "import numpy as np\n",
        "import pandas as pd\n",
        "\n",
        "np.random.seed(42)\n",
        "math_scores = np.random.normal(loc=70, scale=10, size=(300,))\n",
        "english_scores = np.random.normal(loc=80, scale=8, size=(300,))\n",
        "korean_scores = np.random.normal(loc=75, scale=12, size=(300,))"
      ],
      "metadata": {
        "id": "IUYqRUUqLxfu"
      },
      "execution_count": 21,
      "outputs": []
    },
    {
      "cell_type": "code",
      "source": [
        "grades = np.repeat([1,2,3], 100)\n"
      ],
      "metadata": {
        "colab": {
          "base_uri": "https://localhost:8080/"
        },
        "id": "KB-CO5ITLxdj",
        "outputId": "499b0701-e2cf-4147-93ff-a94816de3724"
      },
      "execution_count": 22,
      "outputs": [
        {
          "output_type": "execute_result",
          "data": {
            "text/plain": [
              "array([1, 1, 1, 1, 1, 1, 1, 1, 1, 1, 1, 1, 1, 1, 1, 1, 1, 1, 1, 1, 1, 1,\n",
              "       1, 1, 1, 1, 1, 1, 1, 1, 1, 1, 1, 1, 1, 1, 1, 1, 1, 1, 1, 1, 1, 1,\n",
              "       1, 1, 1, 1, 1, 1, 1, 1, 1, 1, 1, 1, 1, 1, 1, 1, 1, 1, 1, 1, 1, 1,\n",
              "       1, 1, 1, 1, 1, 1, 1, 1, 1, 1, 1, 1, 1, 1, 1, 1, 1, 1, 1, 1, 1, 1,\n",
              "       1, 1, 1, 1, 1, 1, 1, 1, 1, 1, 1, 1, 2, 2, 2, 2, 2, 2, 2, 2, 2, 2,\n",
              "       2, 2, 2, 2, 2, 2, 2, 2, 2, 2, 2, 2, 2, 2, 2, 2, 2, 2, 2, 2, 2, 2,\n",
              "       2, 2, 2, 2, 2, 2, 2, 2, 2, 2, 2, 2, 2, 2, 2, 2, 2, 2, 2, 2, 2, 2,\n",
              "       2, 2, 2, 2, 2, 2, 2, 2, 2, 2, 2, 2, 2, 2, 2, 2, 2, 2, 2, 2, 2, 2,\n",
              "       2, 2, 2, 2, 2, 2, 2, 2, 2, 2, 2, 2, 2, 2, 2, 2, 2, 2, 2, 2, 2, 2,\n",
              "       2, 2, 3, 3, 3, 3, 3, 3, 3, 3, 3, 3, 3, 3, 3, 3, 3, 3, 3, 3, 3, 3,\n",
              "       3, 3, 3, 3, 3, 3, 3, 3, 3, 3, 3, 3, 3, 3, 3, 3, 3, 3, 3, 3, 3, 3,\n",
              "       3, 3, 3, 3, 3, 3, 3, 3, 3, 3, 3, 3, 3, 3, 3, 3, 3, 3, 3, 3, 3, 3,\n",
              "       3, 3, 3, 3, 3, 3, 3, 3, 3, 3, 3, 3, 3, 3, 3, 3, 3, 3, 3, 3, 3, 3,\n",
              "       3, 3, 3, 3, 3, 3, 3, 3, 3, 3, 3, 3, 3, 3])"
            ]
          },
          "metadata": {},
          "execution_count": 22
        }
      ]
    },
    {
      "cell_type": "code",
      "source": [
        "df = pd.DataFrame({\n",
        "    'Grade':grades,\n",
        "    'Math':math_scores,\n",
        "    'English':english_scores,\n",
        "    'Korea':korean_scores\n",
        "})"
      ],
      "metadata": {
        "id": "GQLmXEnILxbv"
      },
      "execution_count": 23,
      "outputs": []
    },
    {
      "cell_type": "code",
      "source": [
        "df.to_csv('/content/sample_data/studen_score.csv', index=False)"
      ],
      "metadata": {
        "id": "qpnwZilaLxZx"
      },
      "execution_count": 24,
      "outputs": []
    },
    {
      "cell_type": "code",
      "source": [
        "df = pd.to_csv('/content/sample_data/studen_score.csv')\n",
        "df"
      ],
      "metadata": {
        "colab": {
          "base_uri": "https://localhost:8080/",
          "height": 322
        },
        "id": "gfVqI0CnLxYC",
        "outputId": "a71e0f1c-2601-4c3a-8da9-0fab6d8e4af9"
      },
      "execution_count": 30,
      "outputs": [
        {
          "output_type": "error",
          "ename": "AttributeError",
          "evalue": "ignored",
          "traceback": [
            "\u001b[0;31m---------------------------------------------------------------------------\u001b[0m",
            "\u001b[0;31mAttributeError\u001b[0m                            Traceback (most recent call last)",
            "\u001b[0;32m<ipython-input-30-d63dc4254f3d>\u001b[0m in \u001b[0;36m<cell line: 1>\u001b[0;34m()\u001b[0m\n\u001b[0;32m----> 1\u001b[0;31m \u001b[0mdf\u001b[0m \u001b[0;34m=\u001b[0m \u001b[0mpd\u001b[0m\u001b[0;34m.\u001b[0m\u001b[0mto_csv\u001b[0m\u001b[0;34m(\u001b[0m\u001b[0;34m'/content/sample_data/studen_score.csv'\u001b[0m\u001b[0;34m)\u001b[0m\u001b[0;34m\u001b[0m\u001b[0;34m\u001b[0m\u001b[0m\n\u001b[0m\u001b[1;32m      2\u001b[0m \u001b[0mdf\u001b[0m\u001b[0;34m\u001b[0m\u001b[0;34m\u001b[0m\u001b[0m\n",
            "\u001b[0;32m/usr/local/lib/python3.10/dist-packages/pandas/__init__.py\u001b[0m in \u001b[0;36m__getattr__\u001b[0;34m(name)\u001b[0m\n\u001b[1;32m    262\u001b[0m         \u001b[0;32mreturn\u001b[0m \u001b[0m_SparseArray\u001b[0m\u001b[0;34m\u001b[0m\u001b[0;34m\u001b[0m\u001b[0m\n\u001b[1;32m    263\u001b[0m \u001b[0;34m\u001b[0m\u001b[0m\n\u001b[0;32m--> 264\u001b[0;31m     \u001b[0;32mraise\u001b[0m \u001b[0mAttributeError\u001b[0m\u001b[0;34m(\u001b[0m\u001b[0;34mf\"module 'pandas' has no attribute '{name}'\"\u001b[0m\u001b[0;34m)\u001b[0m\u001b[0;34m\u001b[0m\u001b[0;34m\u001b[0m\u001b[0m\n\u001b[0m\u001b[1;32m    265\u001b[0m \u001b[0;34m\u001b[0m\u001b[0m\n\u001b[1;32m    266\u001b[0m \u001b[0;34m\u001b[0m\u001b[0m\n",
            "\u001b[0;31mAttributeError\u001b[0m: module 'pandas' has no attribute 'to_csv'"
          ]
        }
      ]
    },
    {
      "cell_type": "code",
      "source": [
        "import seaborn as sns\n",
        "import matplotlib.pyplot as plt\n",
        "import pandas as pd\n",
        "import numpy as np"
      ],
      "metadata": {
        "id": "sohmhzM6fbCB"
      },
      "execution_count": 32,
      "outputs": []
    },
    {
      "cell_type": "code",
      "source": [
        "plt.sns(df['Math'], bins=10)\n",
        "plt.show()"
      ],
      "metadata": {
        "colab": {
          "base_uri": "https://localhost:8080/",
          "height": 193
        },
        "id": "iKNGQuvkLxVq",
        "outputId": "c9095eda-96d7-42f5-aa56-17bc9f9343ee"
      },
      "execution_count": 33,
      "outputs": [
        {
          "output_type": "error",
          "ename": "AttributeError",
          "evalue": "ignored",
          "traceback": [
            "\u001b[0;31m---------------------------------------------------------------------------\u001b[0m",
            "\u001b[0;31mAttributeError\u001b[0m                            Traceback (most recent call last)",
            "\u001b[0;32m<ipython-input-33-dcf053ab7332>\u001b[0m in \u001b[0;36m<cell line: 1>\u001b[0;34m()\u001b[0m\n\u001b[0;32m----> 1\u001b[0;31m \u001b[0mplt\u001b[0m\u001b[0;34m.\u001b[0m\u001b[0msns\u001b[0m\u001b[0;34m(\u001b[0m\u001b[0mdf\u001b[0m\u001b[0;34m[\u001b[0m\u001b[0;34m'Math'\u001b[0m\u001b[0;34m]\u001b[0m\u001b[0;34m,\u001b[0m \u001b[0mbins\u001b[0m\u001b[0;34m=\u001b[0m\u001b[0;36m10\u001b[0m\u001b[0;34m)\u001b[0m\u001b[0;34m\u001b[0m\u001b[0;34m\u001b[0m\u001b[0m\n\u001b[0m\u001b[1;32m      2\u001b[0m \u001b[0mplt\u001b[0m\u001b[0;34m.\u001b[0m\u001b[0mshow\u001b[0m\u001b[0;34m(\u001b[0m\u001b[0;34m)\u001b[0m\u001b[0;34m\u001b[0m\u001b[0;34m\u001b[0m\u001b[0m\n",
            "\u001b[0;31mAttributeError\u001b[0m: module 'matplotlib.pyplot' has no attribute 'sns'"
          ]
        }
      ]
    },
    {
      "cell_type": "code",
      "source": [
        "corr = df.corr()\n",
        "import seaborn as sns\n"
      ],
      "metadata": {
        "id": "CAgvKLsULxTj"
      },
      "execution_count": 34,
      "outputs": []
    },
    {
      "cell_type": "code",
      "source": [
        "sns.heatmap(corr, annot= True)\n",
        "plt.show()"
      ],
      "metadata": {
        "colab": {
          "base_uri": "https://localhost:8080/",
          "height": 435
        },
        "id": "DRjOBrj7LxRj",
        "outputId": "39d88607-cde2-4ed6-ce54-897ccf053244"
      },
      "execution_count": 35,
      "outputs": [
        {
          "output_type": "display_data",
          "data": {
            "text/plain": [
              "<Figure size 640x480 with 2 Axes>"
            ],
            "image/png": "[encoded data removed]"
          },
          "metadata": {}
        }
      ]
    },
    {
      "cell_type": "markdown",
      "source": [
        "## 주성분 분석 (PCA)개요"
      ],
      "metadata": {
        "id": "qPEaOIP7izUR"
      }
    },
    {
      "cell_type": "code",
      "source": [
        "import numpy as np\n",
        "from sklearn.decomposition import PCA\n",
        "import matplotlib.pyplot as plt"
      ],
      "metadata": {
        "id": "BbRNdKMjfp6F"
      },
      "execution_count": 36,
      "outputs": []
    },
    {
      "cell_type": "code",
      "source": [
        "x = np.random.randn(100,3)\n"
      ],
      "metadata": {
        "colab": {
          "base_uri": "https://localhost:8080/"
        },
        "id": "7YsIC08ciy3s",
        "outputId": "2b448bed-07ba-4850-f3e0-2be7dd95db90"
      },
      "execution_count": 37,
      "outputs": [
        {
          "output_type": "execute_result",
          "data": {
            "text/plain": [
              "array([[ 0.36867331, -0.39333881,  0.02874482],\n",
              "       [ 1.27845186,  0.19109907,  0.04643655],\n",
              "       [-1.35985614,  0.74625357,  0.64548418],\n",
              "       [ 2.16325472, -0.30777823,  0.21915033],\n",
              "       [ 0.24938368,  1.57745328, -0.09529553],\n",
              "       [ 0.27902153,  0.60789651,  0.18660912],\n",
              "       [-0.44643361,  0.19408999,  1.07363175],\n",
              "       [-1.0265153 ,  0.13296967, -0.70012081],\n",
              "       [ 1.19504663, -1.5231869 , -0.55892185],\n",
              "       [ 0.37721188,  1.56552403, -0.06575026],\n",
              "       [-0.55519953,  1.88115707, -1.4480139 ],\n",
              "       [-2.19880596,  0.44001445, -0.50205422],\n",
              "       [-1.02123282,  0.70835645,  0.24380071],\n",
              "       [-0.56407863, -1.2803044 ,  0.87245733],\n",
              "       [ 0.65020118, -0.09917586,  1.846637  ],\n",
              "       [-1.07008477, -1.52552517, -0.69190807],\n",
              "       [-0.04558602,  0.24333945, -0.24123606],\n",
              "       [ 0.3520554 , -1.25153942,  1.4437646 ],\n",
              "       [-0.08215118,  1.11729583,  0.34272535],\n",
              "       [ 0.45675322,  0.56976728,  0.44770856],\n",
              "       [ 0.64272276,  1.32915253,  0.19652117],\n",
              "       [ 0.70900376, -0.08973569,  1.44011722],\n",
              "       [-0.6763923 ,  1.80094043, -0.04015795],\n",
              "       [-1.4307751 ,  0.12810441, -0.68105166],\n",
              "       [ 0.84064355, -0.65262398, -0.44618343],\n",
              "       [-1.88954073, -0.45230632, -2.42387933],\n",
              "       [-1.58390282,  0.76041466,  0.78580016],\n",
              "       [ 0.42545756, -0.96697614, -0.04771136],\n",
              "       [-0.00360254, -1.15836469,  1.5033983 ],\n",
              "       [ 0.87736229, -0.22096417,  0.02688584],\n",
              "       [ 0.20838281, -2.04173487, -0.24717738],\n",
              "       [-0.68198425, -1.00162001, -0.28110029],\n",
              "       [ 1.79768653,  0.64084286, -0.57117899],\n",
              "       [ 0.57258278,  1.39935544,  0.92463368],\n",
              "       [ 0.05963037, -0.64693678,  0.69822331],\n",
              "       [ 0.39348539,  0.89519322,  0.6351718 ],\n",
              "       [ 1.04955272, -0.53523521,  1.31739407],\n",
              "       [ 0.1975996 ,  2.07526087, -0.68918782],\n",
              "       [ 1.7359638 ,  0.19791078, -0.651418  ],\n",
              "       [-0.48388583, -0.32034731,  0.42416595],\n",
              "       [ 0.52283549, -0.5737    , -0.02435459],\n",
              "       [ 2.14227036,  1.72754317,  0.43632367],\n",
              "       [ 0.03800348,  0.12003133,  0.61351797],\n",
              "       [-1.02279257, -0.25737654, -1.66858407],\n",
              "       [ 0.39922312,  0.64719594, -0.48318646],\n",
              "       [ 1.57398676, -1.22576566, -1.46437488],\n",
              "       [ 0.22445182,  1.0470983 ,  1.68392769],\n",
              "       [-0.45888426,  1.07868083, -0.03850847],\n",
              "       [-0.1726273 ,  0.88365994,  0.65232288],\n",
              "       [-1.57639216,  1.47654035,  1.38009135],\n",
              "       [-0.6255627 ,  0.39580353,  0.49403019],\n",
              "       [ 0.26067377, -0.55030515, -0.67162337],\n",
              "       [-0.02555407,  1.17272902,  0.54360015],\n",
              "       [-0.37061433,  0.77169871, -2.84854262],\n",
              "       [ 1.1487657 , -1.73971378, -0.36244094],\n",
              "       [-1.11966989, -1.29468148,  1.16082679],\n",
              "       [-0.4677012 ,  0.34650388, -0.04692058],\n",
              "       [ 0.47704083,  0.07682189, -1.28299222],\n",
              "       [ 0.99626682, -0.49375658, -1.5565819 ],\n",
              "       [-0.42811516,  1.50075979,  0.85022174],\n",
              "       [-0.34865213, -0.3492577 , -0.32163505],\n",
              "       [ 2.07674798,  0.38193545,  0.43004165],\n",
              "       [ 1.03028345,  0.23878916, -0.25904215],\n",
              "       [-0.19634985, -0.07160126, -0.03722224],\n",
              "       [ 0.72762954,  0.05194589,  0.73264008],\n",
              "       [-0.08071658,  0.07863519, -1.99820068],\n",
              "       [ 0.91632767,  0.34648848,  0.99801011],\n",
              "       [-2.89625538,  2.0883747 , -0.13958963],\n",
              "       [ 1.10818282, -1.03990593,  0.61277391],\n",
              "       [-1.05341556, -0.62376896,  1.91403135],\n",
              "       [-0.1906824 ,  0.21743287,  0.87006773],\n",
              "       [ 0.49568189,  0.15041891,  0.364961  ],\n",
              "       [ 2.40341559, -0.0576188 ,  0.20109905],\n",
              "       [ 1.0506544 ,  1.10552593,  1.18703031],\n",
              "       [ 0.63873022, -1.14300491,  1.63343153],\n",
              "       [-1.14634539,  0.30263547, -0.75427585],\n",
              "       [-0.06413835,  0.32876241,  0.32135722],\n",
              "       [ 0.42192075,  1.61371127,  0.4535343 ],\n",
              "       [-0.24415664,  0.96408717,  1.18947049],\n",
              "       [-1.22760782,  0.59740007,  0.70117274],\n",
              "       [-0.2975635 ,  1.37570681, -0.15005559],\n",
              "       [ 0.12557645, -0.17307182,  0.01557905],\n",
              "       [-1.09627509, -1.44005088,  1.59450506],\n",
              "       [-0.84696135, -0.99139235, -2.15339011],\n",
              "       [-0.63896175, -1.32308979,  1.64201516],\n",
              "       [ 1.00981709, -0.68815035,  2.25243581],\n",
              "       [ 0.98176549, -0.32483138, -2.49940571],\n",
              "       [ 2.29094257, -1.38957247, -1.64539875],\n",
              "       [ 1.02257043,  2.43975241,  1.38427282],\n",
              "       [ 0.56390912,  0.59475434,  0.85341556],\n",
              "       [ 0.75892859,  0.28119142,  0.1042011 ],\n",
              "       [-0.06259313, -0.75396459, -0.28067508],\n",
              "       [-1.69295681, -0.09833963, -0.98859111],\n",
              "       [-1.10358932,  0.17989415,  1.39200229],\n",
              "       [ 0.91831661, -1.5705006 , -0.98962814],\n",
              "       [ 0.94077119, -0.98248739, -0.22463315],\n",
              "       [ 0.5500521 , -0.96834445,  0.10537551],\n",
              "       [-1.33402549, -0.60136764,  0.31978193],\n",
              "       [-1.59299373,  0.44047474, -0.0196378 ],\n",
              "       [ 0.55248995,  0.22391413,  1.36414043]])"
            ]
          },
          "metadata": {},
          "execution_count": 37
        }
      ]
    },
    {
      "cell_type": "code",
      "source": [
        "pca = PCA(n_components=3)\n",
        "pca.fit(x)"
      ],
      "metadata": {
        "colab": {
          "base_uri": "https://localhost:8080/",
          "height": 75
        },
        "id": "1-BwNSGEiy10",
        "outputId": "f0500060-1e09-4479-ad1c-be9fe9244183"
      },
      "execution_count": 38,
      "outputs": [
        {
          "output_type": "execute_result",
          "data": {
            "text/plain": [
              "PCA(n_components=3)"
            ],
            "text/html": [
              "<style>#sk-container-id-1 {color: black;background-color: white;}#sk-container-id-1 pre{padding: 0;}#sk-container-id-1 div.sk-toggleable {background-color: white;}#sk-container-id-1 label.sk-toggleable__label {cursor: pointer;display: block;width: 100%;margin-bottom: 0;padding: 0.3em;box-sizing: border-box;text-align: center;}#sk-container-id-1 label.sk-toggleable__label-arrow:before {content: \"▸\";float: left;margin-right: 0.25em;color: #696969;}#sk-container-id-1 label.sk-toggleable__label-arrow:hover:before {color: black;}#sk-container-id-1 div.sk-estimator:hover label.sk-toggleable__label-arrow:before {color: black;}#sk-container-id-1 div.sk-toggleable__content {max-height: 0;max-width: 0;overflow: hidden;text-align: left;background-color: #f0f8ff;}#sk-container-id-1 div.sk-toggleable__content pre {margin: 0.2em;color: black;border-radius: 0.25em;background-color: #f0f8ff;}#sk-container-id-1 input.sk-toggleable__control:checked~div.sk-toggleable__content {max-height: 200px;max-width: 100%;overflow: auto;}#sk-container-id-1 input.sk-toggleable__control:checked~label.sk-toggleable__label-arrow:before {content: \"▾\";}#sk-container-id-1 div.sk-estimator input.sk-toggleable__control:checked~label.sk-toggleable__label {background-color: #d4ebff;}#sk-container-id-1 div.sk-label input.sk-toggleable__control:checked~label.sk-toggleable__label {background-color: #d4ebff;}#sk-container-id-1 input.sk-hidden--visually {border: 0;clip: rect(1px 1px 1px 1px);clip: rect(1px, 1px, 1px, 1px);height: 1px;margin: -1px;overflow: hidden;padding: 0;position: absolute;width: 1px;}#sk-container-id-1 div.sk-estimator {font-family: monospace;background-color: #f0f8ff;border: 1px dotted black;border-radius: 0.25em;box-sizing: border-box;margin-bottom: 0.5em;}#sk-container-id-1 div.sk-estimator:hover {background-color: #d4ebff;}#sk-container-id-1 div.sk-parallel-item::after {content: \"\";width: 100%;border-bottom: 1px solid gray;flex-grow: 1;}#sk-container-id-1 div.sk-label:hover label.sk-toggleable__label {background-color: #d4ebff;}#sk-container-id-1 div.sk-serial::before {content: \"\";position: absolute;border-left: 1px solid gray;box-sizing: border-box;top: 0;bottom: 0;left: 50%;z-index: 0;}#sk-container-id-1 div.sk-serial {display: flex;flex-direction: column;align-items: center;background-color: white;padding-right: 0.2em;padding-left: 0.2em;position: relative;}#sk-container-id-1 div.sk-item {position: relative;z-index: 1;}#sk-container-id-1 div.sk-parallel {display: flex;align-items: stretch;justify-content: center;background-color: white;position: relative;}#sk-container-id-1 div.sk-item::before, #sk-container-id-1 div.sk-parallel-item::before {content: \"\";position: absolute;border-left: 1px solid gray;box-sizing: border-box;top: 0;bottom: 0;left: 50%;z-index: -1;}#sk-container-id-1 div.sk-parallel-item {display: flex;flex-direction: column;z-index: 1;position: relative;background-color: white;}#sk-container-id-1 div.sk-parallel-item:first-child::after {align-self: flex-end;width: 50%;}#sk-container-id-1 div.sk-parallel-item:last-child::after {align-self: flex-start;width: 50%;}#sk-container-id-1 div.sk-parallel-item:only-child::after {width: 0;}#sk-container-id-1 div.sk-dashed-wrapped {border: 1px dashed gray;margin: 0 0.4em 0.5em 0.4em;box-sizing: border-box;padding-bottom: 0.4em;background-color: white;}#sk-container-id-1 div.sk-label label {font-family: monospace;font-weight: bold;display: inline-block;line-height: 1.2em;}#sk-container-id-1 div.sk-label-container {text-align: center;}#sk-container-id-1 div.sk-container {/* jupyter's `normalize.less` sets `[hidden] { display: none; }` but bootstrap.min.css set `[hidden] { display: none !important; }` so we also need the `!important` here to be able to override the default hidden behavior on the sphinx rendered scikit-learn.org. See: https://github.com/scikit-learn/scikit-learn/issues/21755 */display: inline-block !important;position: relative;}#sk-container-id-1 div.sk-text-repr-fallback {display: none;}</style><div id=\"sk-container-id-1\" class=\"sk-top-container\"><div class=\"sk-text-repr-fallback\"><pre>PCA(n_components=3)</pre><b>In a Jupyter environment, please rerun this cell to show the HTML representation or trust the notebook. <br />On GitHub, the HTML representation is unable to render, please try loading this page with nbviewer.org.</b></div><div class=\"sk-container\" hidden><div class=\"sk-item\"><div class=\"sk-estimator sk-toggleable\"><input class=\"sk-toggleable__control sk-hidden--visually\" id=\"sk-estimator-id-1\" type=\"checkbox\" checked><label for=\"sk-estimator-id-1\" class=\"sk-toggleable__label sk-toggleable__label-arrow\">PCA</label><div class=\"sk-toggleable__content\"><pre>PCA(n_components=3)</pre></div></div></div></div></div>"
            ]
          },
          "metadata": {},
          "execution_count": 38
        }
      ]
    },
    {
      "cell_type": "code",
      "source": [
        "transformed_data = pca.transform(x)"
      ],
      "metadata": {
        "id": "tRDcytmCiyzl"
      },
      "execution_count": 39,
      "outputs": []
    },
    {
      "cell_type": "code",
      "source": [
        "explained_var_ratio = pca.explained_variance_ratio_\n",
        "print(f\"주성분 설명력:{explained_var_ratio}\")"
      ],
      "metadata": {
        "colab": {
          "base_uri": "https://localhost:8080/"
        },
        "id": "RKHBWWwViyxi",
        "outputId": "9cc5f3b0-20f2-49b4-92e6-cd185a950d51"
      },
      "execution_count": 40,
      "outputs": [
        {
          "output_type": "stream",
          "name": "stdout",
          "text": [
            "주성분 설명력:[0.37755191 0.34786489 0.27458321]\n"
          ]
        }
      ]
    },
    {
      "cell_type": "code",
      "source": [
        "components = pca.components_\n"
      ],
      "metadata": {
        "id": "mg8-bBUNiyvb"
      },
      "execution_count": 41,
      "outputs": []
    },
    {
      "cell_type": "code",
      "source": [
        "print(\"주성분의 가중치\\n\",components)"
      ],
      "metadata": {
        "colab": {
          "base_uri": "https://localhost:8080/"
        },
        "id": "97dT2pLDiytS",
        "outputId": "c0bf68e6-7b7e-469d-897c-b1675096d9a9"
      },
      "execution_count": 42,
      "outputs": [
        {
          "output_type": "stream",
          "name": "stdout",
          "text": [
            "주성분의 가중치\n",
            " [[-0.74556682  0.60512237  0.27920787]\n",
            " [-0.44614352 -0.1419778  -0.8836279 ]\n",
            " [-0.49506168 -0.78337043  0.37582536]]\n"
          ]
        }
      ]
    },
    {
      "cell_type": "code",
      "source": [
        "# 변환된 데이터 시각화\n",
        "\n",
        "plt.scatter(transformed_data[:,0],transformed_data[:,1])\n",
        "plt.title('PCA results')\n",
        "plt.show()"
      ],
      "metadata": {
        "colab": {
          "base_uri": "https://localhost:8080/",
          "height": 452
        },
        "id": "uFXffX_qiyrO",
        "outputId": "32bb95bd-579d-4e5c-e9a4-102eb1cbb241"
      },
      "execution_count": 43,
      "outputs": [
        {
          "output_type": "display_data",
          "data": {
            "text/plain": [
              "<Figure size 640x480 with 1 Axes>"
            ],
            "image/png": "[encoded data removed]"
          },
          "metadata": {}
        }
      ]
    },
    {
      "cell_type": "code",
      "source": [],
      "metadata": {
        "id": "GqKiVnpZiyo2"
      },
      "execution_count": null,
      "outputs": []
    },
    {
      "cell_type": "code",
      "source": [],
      "metadata": {
        "id": "7UzjoIHNiymt"
      },
      "execution_count": null,
      "outputs": []
    },
    {
      "cell_type": "code",
      "source": [],
      "metadata": {
        "id": "hhXxxumZiyko"
      },
      "execution_count": null,
      "outputs": []
    },
    {
      "cell_type": "code",
      "source": [],
      "metadata": {
        "id": "JRKWBd-uiyid"
      },
      "execution_count": null,
      "outputs": []
    },
    {
      "cell_type": "code",
      "source": [],
      "metadata": {
        "id": "655I7-xtiygX"
      },
      "execution_count": null,
      "outputs": []
    },
    {
      "cell_type": "code",
      "source": [],
      "metadata": {
        "id": "TPjejKdEiyeO"
      },
      "execution_count": null,
      "outputs": []
    },
    {
      "cell_type": "code",
      "source": [],
      "metadata": {
        "id": "32byEQv2iycU"
      },
      "execution_count": null,
      "outputs": []
    },
    {
      "cell_type": "code",
      "source": [],
      "metadata": {
        "id": "FQVcPTP1iyaP"
      },
      "execution_count": null,
      "outputs": []
    },
    {
      "cell_type": "code",
      "source": [],
      "metadata": {
        "id": "eUxDfLcxiyYg"
      },
      "execution_count": null,
      "outputs": []
    },
    {
      "cell_type": "code",
      "source": [],
      "metadata": {
        "id": "E6HmB7TGiyV8"
      },
      "execution_count": null,
      "outputs": []
    },
    {
      "cell_type": "code",
      "source": [],
      "metadata": {
        "id": "co5Y2p9eiyUC"
      },
      "execution_count": null,
      "outputs": []
    },
    {
      "cell_type": "code",
      "source": [],
      "metadata": {
        "id": "ca2WcqMYiySC"
      },
      "execution_count": null,
      "outputs": []
    }
  ]
}