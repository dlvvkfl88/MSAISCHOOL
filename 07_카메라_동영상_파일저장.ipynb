{
  "cells": [
    {
      "cell_type": "markdown",
      "metadata": {
        "id": "view-in-github",
        "colab_type": "text"
      },
      "source": [
        "<a href=\"https://colab.research.google.com/github/dlvvkfl88/MSAISCHOOL/blob/main/07_%EC%B9%B4%EB%A9%94%EB%9D%BC_%EB%8F%99%EC%98%81%EC%83%81_%ED%8C%8C%EC%9D%BC%EC%A0%80%EC%9E%A5.ipynb\" target=\"_parent\"><img src=\"https://colab.research.google.com/assets/colab-badge.svg\" alt=\"Open In Colab\"/></a>"
      ]
    },
    {
      "cell_type": "markdown",
      "id": "d4e07b4b",
      "metadata": {
        "id": "d4e07b4b"
      },
      "source": [
        "<img src='https://img1.daumcdn.net/thumb/R1280x0/?scode=mtistory2&fname=https%3A%2F%2Fblog.kakaocdn.net%2Fdn%2FbiylTS%2FbtqJCRT7wXq%2FXqMagdcYK6mmDquuekPP10%2Fimg.png'>"
      ]
    },
    {
      "cell_type": "markdown",
      "id": "52822832",
      "metadata": {
        "id": "52822832"
      },
      "source": [
        "[명령어 설명]\n",
        "\n",
        "cv2.VideoWriter(filename, fourcc, fps, frameSize, isColor=None) -> retval\n",
        "\n",
        "\n",
        " 저장하고 싶은 영상의 속성값을 지정해줘야 합니다.\n",
        "\n",
        "\n",
        "\n",
        "• filename : 비디오 파일 이름 (e.g. 'video.mp4')\n",
        "\n",
        "• fourcc : fourcc (e.g. cv2.VideoWriter_fourcc(*'DIVX'))\n",
        "\n",
        "• fps : 초당 프레임 수 (e.g. 30)\n",
        "\n",
        "• frameSize : 프레임 크기. (width, height) 튜플.\n",
        "\n",
        "• isColor : 컬러 영상이면 True, 그렇지않으면 False. 기본값은 True입니다.\n",
        "\n",
        "• retval : cv2.VideoWriter 객체"
      ]
    },
    {
      "cell_type": "code",
      "execution_count": null,
      "id": "371a8a5a",
      "metadata": {
        "id": "371a8a5a"
      },
      "outputs": [],
      "source": [
        "import cv2\n",
        "import numpy as np"
      ]
    },
    {
      "cell_type": "code",
      "execution_count": null,
      "id": "063c9bdd",
      "metadata": {
        "id": "063c9bdd",
        "outputId": "596ac294-bb9e-4984-efe9-0615422e0304"
      },
      "outputs": [
        {
          "data": {
            "text/plain": [
              "-1"
            ]
          },
          "execution_count": 10,
          "metadata": {},
          "output_type": "execute_result"
        }
      ],
      "source": [
        "cap = cv2.VideoCapture(0)\n",
        "\n",
        "if cap.isOpened() == False:\n",
        "    print(\"카메라를 열 수 없습니다.\")\n",
        "    exit(1)\n",
        "\n",
        "# 캡처된 이미지의 크기를 확인하기 위해 이미지 1장을 캡처합니다.\n",
        "ret, img_frame = cap.read()\n",
        "if ret == False:\n",
        "    print(\"캡쳐 실패\")\n",
        "    exit(1)\n",
        "\n",
        "codec= cv2.VideoWriter_fourcc( *'MJPG')\n",
        "fps = 30\n",
        "h,w = img_frame.shape[:2]\n",
        "\n",
        "writer = cv2.VideoWriter( 'output.avi', codec, fps, (w,h) )\n",
        "if writer.isOpened() == False:\n",
        "    print( '동영상 준비 실패')\n",
        "    exit(1)\n",
        "\n",
        "while True:\n",
        "    ret, img_frame = cap.read()\n",
        "    if ret==False:\n",
        "        print('캡쳐실패')\n",
        "        break\n",
        "\n",
        "    img_frame = cv2.flip( img_frame, 1 ) # 0상하반전 1 좌우반전\n",
        "    writer.write( img_frame )\n",
        "\n",
        "    cv2.imshow( 'cap', img_frame)\n",
        "\n",
        "    key = cv2.waitKey(30)\n",
        "    if key==27:\n",
        "        break\n",
        "\n",
        "cap.release()\n",
        "writer.release();\n",
        "cv2.destroyAllWindows()\n",
        "cv2.waitKey(1)\n"
      ]
    },
    {
      "cell_type": "code",
      "execution_count": null,
      "id": "22d6edb8",
      "metadata": {
        "id": "22d6edb8"
      },
      "outputs": [],
      "source": []
    }
  ],
  "metadata": {
    "kernelspec": {
      "display_name": "Python 3 (ipykernel)",
      "language": "python",
      "name": "python3"
    },
    "language_info": {
      "codemirror_mode": {
        "name": "ipython",
        "version": 3
      },
      "file_extension": ".py",
      "mimetype": "text/x-python",
      "name": "python",
      "nbconvert_exporter": "python",
      "pygments_lexer": "ipython3",
      "version": "3.10.9"
    },
    "colab": {
      "provenance": [],
      "include_colab_link": true
    }
  },
  "nbformat": 4,
  "nbformat_minor": 5
}