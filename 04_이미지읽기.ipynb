{
  "cells": [
    {
      "cell_type": "markdown",
      "metadata": {
        "id": "view-in-github",
        "colab_type": "text"
      },
      "source": [
        "<a href=\"https://colab.research.google.com/github/dlvvkfl88/MSAISCHOOL/blob/main/04_%EC%9D%B4%EB%AF%B8%EC%A7%80%EC%9D%BD%EA%B8%B0.ipynb\" target=\"_parent\"><img src=\"https://colab.research.google.com/assets/colab-badge.svg\" alt=\"Open In Colab\"/></a>"
      ]
    },
    {
      "cell_type": "code",
      "execution_count": null,
      "id": "2f1af700",
      "metadata": {
        "collapsed": true,
        "id": "2f1af700",
        "outputId": "f4491fff-222a-46c6-9caa-f2b03d741447"
      },
      "outputs": [
        {
          "name": "stdout",
          "output_type": "stream",
          "text": [
            "Requirement already satisfied: opencv-python in c:\\programdata\\anaconda3\\lib\\site-packages (4.7.0.72)\n",
            "Requirement already satisfied: numpy>=1.17.3 in c:\\programdata\\anaconda3\\lib\\site-packages (from opencv-python) (1.23.5)\n"
          ]
        },
        {
          "name": "stderr",
          "output_type": "stream",
          "text": [
            "WARNING: Ignoring invalid distribution -pencv-python (c:\\programdata\\anaconda3\\lib\\site-packages)\n",
            "WARNING: Ignoring invalid distribution -pencv-python (c:\\programdata\\anaconda3\\lib\\site-packages)\n",
            "WARNING: Ignoring invalid distribution -pencv-python (c:\\programdata\\anaconda3\\lib\\site-packages)\n",
            "WARNING: Ignoring invalid distribution -pencv-python (c:\\programdata\\anaconda3\\lib\\site-packages)\n",
            "WARNING: Ignoring invalid distribution -pencv-python (c:\\programdata\\anaconda3\\lib\\site-packages)\n",
            "WARNING: Ignoring invalid distribution -pencv-python (c:\\programdata\\anaconda3\\lib\\site-packages)\n"
          ]
        }
      ],
      "source": [
        "!pip install opencv-python"
      ]
    },
    {
      "cell_type": "markdown",
      "id": "c5fa3be6",
      "metadata": {
        "id": "c5fa3be6"
      },
      "source": [
        "https://opencv-python.readthedocs.io/en/latest/index.html"
      ]
    },
    {
      "cell_type": "markdown",
      "id": "8fcae1dc",
      "metadata": {
        "id": "8fcae1dc"
      },
      "source": [
        "https://docs.opencv.org/4.x/d6/d00/tutorial_py_root.html"
      ]
    },
    {
      "cell_type": "code",
      "execution_count": null,
      "id": "ce4eee20",
      "metadata": {
        "id": "ce4eee20"
      },
      "outputs": [],
      "source": [
        "import cv2\n",
        "import numpy as np\n",
        "import sys\n",
        "np.set_printoptions(threshold=sys.maxsize)"
      ]
    },
    {
      "cell_type": "markdown",
      "id": "aeeeba3b",
      "metadata": {
        "id": "aeeeba3b"
      },
      "source": [
        "<img src='https://www.newiki.net/w/images/thumb/c/c8/RGB_colour_model.svg/450px-RGB_colour_model.svg.png'>"
      ]
    },
    {
      "cell_type": "code",
      "execution_count": null,
      "id": "2303925c",
      "metadata": {
        "id": "2303925c"
      },
      "outputs": [],
      "source": [
        "img = np.zeros( (480,640,3), np.uint8)#[height, width, depth] # BGR 순서\n",
        "cv2.imshow('img', img )\n",
        "cv2.waitKey(0) # 키보드 클릭을 대기\n",
        "cv2.destroyAllWindows()"
      ]
    },
    {
      "cell_type": "code",
      "execution_count": null,
      "id": "1d51a1c5",
      "metadata": {
        "id": "1d51a1c5"
      },
      "outputs": [],
      "source": [
        "img = np.zeros( (480,640,3), np.uint8)\n",
        "# img[100:200, 200:300] = (255,255,255)\n",
        "# img[100:200, 200:300] = (255,0,0)\n",
        "img[100:200, 200:300] = (0,0,255)\n",
        "cv2.imshow('img', img )\n",
        "cv2.waitKey(0) # 키보드 클릭을 대기\n",
        "cv2.destroyAllWindows()"
      ]
    },
    {
      "cell_type": "markdown",
      "id": "da0abc2e",
      "metadata": {
        "id": "da0abc2e"
      },
      "source": [
        "cv2.imread('이미지 파일명', 옵션)\n",
        "\n",
        "옵션\n",
        "\n",
        "- cv2.IMREAD_COLOR:컬러이미지, 투명영역은 무시\n",
        "- cv2.IMREAD_GRAYSCALE :흑백이미지\n",
        "- cv2.IMREAD_UNCHANGED:투명영역포함"
      ]
    },
    {
      "cell_type": "markdown",
      "id": "b1e5805b",
      "metadata": {
        "id": "b1e5805b"
      },
      "source": [
        "waitKey() 함수\n",
        "키 입력을 기다리는 대기 함수\n",
        "\n",
        "인자 값으로 0 : 무한 대기 / ms(밀리세컨) 단위의 시간을 입력하면 해당 시간만큼 대기 (1000ms = 1초)\n",
        "\n",
        "waitKey의 리턴 값은 키보드로 입력한 키와 동일한 아스키코드 값"
      ]
    },
    {
      "cell_type": "markdown",
      "id": "71c71ff0",
      "metadata": {
        "id": "71c71ff0"
      },
      "source": [
        "<img src='https://img1.daumcdn.net/thumb/R1280x0/?scode=mtistory2&fname=https%3A%2F%2Fblog.kakaocdn.net%2Fdn%2FqOPNt%2FbtrAdcY26CF%2FKsn1qKzUqEaCql1Cbk6GG0%2Fimg.png'>"
      ]
    },
    {
      "cell_type": "code",
      "execution_count": null,
      "id": "f7abe683",
      "metadata": {
        "id": "f7abe683",
        "outputId": "cb3395ce-55cf-48d1-deab-1324b675976e"
      },
      "outputs": [
        {
          "name": "stdout",
          "output_type": "stream",
          "text": [
            "(81, 303, 3)\n",
            "97\n"
          ]
        }
      ],
      "source": [
        "img_color = cv2.imread( 'image/rgb.png')\n",
        "# print( img_color )\n",
        "print( img_color.shape)\n",
        "cv2.imshow('color', img_color )\n",
        "# cv2.waitKey(0) # 키보드 클릭을 대기\n",
        "# cv2.waitKey(2000) # 키보드 클릭을 대기\n",
        "ret = cv2.waitKey(0) # 키보드 클릭을 대기\n",
        "print( ret )\n",
        "cv2.destroyAllWindows()"
      ]
    },
    {
      "cell_type": "code",
      "execution_count": null,
      "id": "0eb62e52",
      "metadata": {
        "id": "0eb62e52",
        "outputId": "c1cb14d7-6cec-4e11-9013-f2845a518fd1"
      },
      "outputs": [
        {
          "data": {
            "text/plain": [
              "40"
            ]
          },
          "execution_count": 23,
          "metadata": {},
          "output_type": "execute_result"
        }
      ],
      "source": [
        "81//2"
      ]
    },
    {
      "cell_type": "code",
      "execution_count": null,
      "id": "affcdbb5",
      "metadata": {
        "id": "affcdbb5",
        "outputId": "0dc13167-e15a-401c-8551-f26ae0c3c332"
      },
      "outputs": [
        {
          "name": "stdout",
          "output_type": "stream",
          "text": [
            "(948, 1434, 3)\n"
          ]
        }
      ],
      "source": [
        "img=cv2.imread('image/soccer.jpg')\n",
        "print( img.shape)\n",
        "cv2.imshow('soccer', img )\n",
        "cv2.imshow( 'height half', img[ 0:img.shape[0]//2, :,:] )\n",
        "cv2.waitKey(0)\n",
        "cv2.destroyAllWindows()"
      ]
    },
    {
      "cell_type": "code",
      "execution_count": null,
      "id": "1b50ac92",
      "metadata": {
        "id": "1b50ac92"
      },
      "outputs": [],
      "source": []
    }
  ],
  "metadata": {
    "kernelspec": {
      "display_name": "Python 3 (ipykernel)",
      "language": "python",
      "name": "python3"
    },
    "language_info": {
      "codemirror_mode": {
        "name": "ipython",
        "version": 3
      },
      "file_extension": ".py",
      "mimetype": "text/x-python",
      "name": "python",
      "nbconvert_exporter": "python",
      "pygments_lexer": "ipython3",
      "version": "3.9.7"
    },
    "colab": {
      "provenance": [],
      "include_colab_link": true
    }
  },
  "nbformat": 4,
  "nbformat_minor": 5
}